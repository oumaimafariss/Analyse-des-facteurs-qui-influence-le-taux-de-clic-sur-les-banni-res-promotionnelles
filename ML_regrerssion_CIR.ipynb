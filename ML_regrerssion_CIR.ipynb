{
 "cells": [
  {
   "cell_type": "markdown",
   "source": "",
   "metadata": {
    "formattedRanges": [],
    "is_collapsed": false,
    "tags": [],
    "cell_id": "0bd7d907-efb6-4f8b-b214-df66757b2c98",
    "deepnote_cell_type": "text-cell-p"
   }
  },
  {
   "cell_type": "code",
   "metadata": {
    "tags": [],
    "deepnote_to_be_reexecuted": false,
    "source_hash": "b454ce01",
    "execution_start": 1661037880370,
    "execution_millis": 6,
    "cell_id": "00001-3994f24d-ba9c-4a56-8bc8-caf870fe9658",
    "deepnote_cell_type": "code",
    "deepnote_cell_height": 130
   },
   "source": "import pandas as pd\nimport numpy as np\nimport seaborn as sns\n",
   "execution_count": 26,
   "outputs": []
  },
  {
   "cell_type": "code",
   "source": "data = pd.read_csv ('/work/Circuit.csv')\ndata",
   "metadata": {
    "tags": [],
    "deepnote_to_be_reexecuted": false,
    "source_hash": "1262ed15",
    "execution_start": 1661038098093,
    "execution_millis": 34,
    "deepnote_table_state": {
     "pageSize": 10,
     "pageIndex": 1,
     "filters": [],
     "sortBy": []
    },
    "deepnote_table_loading": false,
    "cell_id": "00002-81ac9608-e4ce-456e-ac4e-d084250095a1",
    "deepnote_cell_type": "code",
    "deepnote_cell_height": 634
   },
   "execution_count": 48,
   "outputs": [
    {
     "output_type": "execute_result",
     "execution_count": 48,
     "data": {
      "application/vnd.deepnote.dataframe.v3+json": {
       "column_count": 11,
       "row_count": 856,
       "columns": [
        {
         "name": "date",
         "dtype": "object",
         "stats": {
          "unique_count": 343,
          "nan_count": 0,
          "categories": [
           {
            "name": "2022-02-18",
            "count": 6
           },
           {
            "name": "2022-02-12",
            "count": 5
           },
           {
            "name": "341 others",
            "count": 845
           }
          ]
         }
        },
        {
         "name": "promotion_name",
         "dtype": "object",
         "stats": {
          "unique_count": 125,
          "nan_count": 0,
          "categories": [
           {
            "name": "Réservez Primo Hiver",
            "count": 46
           },
           {
            "name": "Réservez Primo Eté 2022",
            "count": 40
           },
           {
            "name": "123 others",
            "count": 770
           }
          ]
         }
        },
        {
         "name": "promoPosition",
         "dtype": "object",
         "stats": {
          "unique_count": 6,
          "nan_count": 0,
          "categories": [
           {
            "name": "Home Cir - meilleurs offres grande-1",
            "count": 315
           },
           {
            "name": "Home Cir - meilleurs offres grande-2",
            "count": 300
           },
           {
            "name": "4 others",
            "count": 241
           }
          ]
         }
        },
        {
         "name": "pagetype",
         "dtype": "object",
         "stats": {
          "unique_count": 1,
          "nan_count": 0,
          "categories": [
           {
            "name": "HomePage",
            "count": 856
           }
          ]
         }
        },
        {
         "name": "contentgroup_1",
         "dtype": "object",
         "stats": {
          "unique_count": 1,
          "nan_count": 0,
          "categories": [
           {
            "name": "Home",
            "count": 856
           }
          ]
         }
        },
        {
         "name": "contentgroup_2",
         "dtype": "object",
         "stats": {
          "unique_count": 1,
          "nan_count": 0,
          "categories": [
           {
            "name": "Circuit",
            "count": 856
           }
          ]
         }
        },
        {
         "name": "views",
         "dtype": "int64",
         "stats": {
          "unique_count": 421,
          "nan_count": 0,
          "min": "296",
          "max": "4237",
          "histogram": [
           {
            "bin_start": 296,
            "bin_end": 690.1,
            "count": 105
           },
           {
            "bin_start": 690.1,
            "bin_end": 1084.2,
            "count": 177
           },
           {
            "bin_start": 1084.2,
            "bin_end": 1478.3000000000002,
            "count": 101
           },
           {
            "bin_start": 1478.3000000000002,
            "bin_end": 1872.4,
            "count": 156
           },
           {
            "bin_start": 1872.4,
            "bin_end": 2266.5,
            "count": 156
           },
           {
            "bin_start": 2266.5,
            "bin_end": 2660.6000000000004,
            "count": 92
           },
           {
            "bin_start": 2660.6000000000004,
            "bin_end": 3054.7000000000003,
            "count": 31
           },
           {
            "bin_start": 3054.7000000000003,
            "bin_end": 3448.8,
            "count": 17
           },
           {
            "bin_start": 3448.8,
            "bin_end": 3842.9,
            "count": 13
           },
           {
            "bin_start": 3842.9,
            "bin_end": 4237,
            "count": 8
           }
          ]
         }
        },
        {
         "name": "clicks",
         "dtype": "int64",
         "stats": {
          "unique_count": 109,
          "nan_count": 0,
          "min": "21",
          "max": "201",
          "histogram": [
           {
            "bin_start": 21,
            "bin_end": 39,
            "count": 418
           },
           {
            "bin_start": 39,
            "bin_end": 57,
            "count": 203
           },
           {
            "bin_start": 57,
            "bin_end": 75,
            "count": 111
           },
           {
            "bin_start": 75,
            "bin_end": 93,
            "count": 63
           },
           {
            "bin_start": 93,
            "bin_end": 111,
            "count": 35
           },
           {
            "bin_start": 111,
            "bin_end": 129,
            "count": 11
           },
           {
            "bin_start": 129,
            "bin_end": 147,
            "count": 7
           },
           {
            "bin_start": 147,
            "bin_end": 165,
            "count": 6
           },
           {
            "bin_start": 165,
            "bin_end": 183,
            "count": 0
           },
           {
            "bin_start": 183,
            "bin_end": 201,
            "count": 2
           }
          ]
         }
        },
        {
         "name": "position",
         "dtype": "int64",
         "stats": {
          "unique_count": 5,
          "nan_count": 0,
          "min": "1",
          "max": "5",
          "histogram": [
           {
            "bin_start": 1,
            "bin_end": 1.4,
            "count": 315
           },
           {
            "bin_start": 1.4,
            "bin_end": 1.8,
            "count": 0
           },
           {
            "bin_start": 1.8,
            "bin_end": 2.2,
            "count": 301
           },
           {
            "bin_start": 2.2,
            "bin_end": 2.6,
            "count": 0
           },
           {
            "bin_start": 2.6,
            "bin_end": 3,
            "count": 0
           },
           {
            "bin_start": 3,
            "bin_end": 3.4000000000000004,
            "count": 206
           },
           {
            "bin_start": 3.4000000000000004,
            "bin_end": 3.8000000000000003,
            "count": 0
           },
           {
            "bin_start": 3.8000000000000003,
            "bin_end": 4.2,
            "count": 29
           },
           {
            "bin_start": 4.2,
            "bin_end": 4.6,
            "count": 0
           },
           {
            "bin_start": 4.6,
            "bin_end": 5,
            "count": 5
           }
          ]
         }
        },
        {
         "name": "CTR",
         "dtype": "float64",
         "stats": {
          "unique_count": 421,
          "nan_count": 0,
          "min": "0.58",
          "max": "11.86",
          "histogram": [
           {
            "bin_start": 0.58,
            "bin_end": 1.7079999999999997,
            "count": 100
           },
           {
            "bin_start": 1.7079999999999997,
            "bin_end": 2.836,
            "count": 258
           },
           {
            "bin_start": 2.836,
            "bin_end": 3.9639999999999995,
            "count": 248
           },
           {
            "bin_start": 3.9639999999999995,
            "bin_end": 5.092,
            "count": 152
           },
           {
            "bin_start": 5.092,
            "bin_end": 6.22,
            "count": 64
           },
           {
            "bin_start": 6.22,
            "bin_end": 7.347999999999999,
            "count": 26
           },
           {
            "bin_start": 7.347999999999999,
            "bin_end": 8.475999999999999,
            "count": 6
           },
           {
            "bin_start": 8.475999999999999,
            "bin_end": 9.604,
            "count": 0
           },
           {
            "bin_start": 9.604,
            "bin_end": 10.732,
            "count": 1
           },
           {
            "bin_start": 10.732,
            "bin_end": 11.86,
            "count": 1
           }
          ]
         }
        },
        {
         "name": "Type",
         "dtype": "object",
         "stats": {
          "unique_count": 5,
          "nan_count": 0,
          "categories": [
           {
            "name": "Autre",
            "count": 623
           },
           {
            "name": "Promotions",
            "count": 115
           },
           {
            "name": "3 others",
            "count": 118
           }
          ]
         }
        },
        {
         "name": "_deepnote_index_column",
         "dtype": "int64"
        }
       ],
       "rows": [
        {
         "date": "2022-07-09",
         "promotion_name": "Réservez Primo Hiver 2022-23",
         "promoPosition": "Home Cir - meilleurs offres grande-1",
         "pagetype": "HomePage",
         "contentgroup_1": "Home",
         "contentgroup_2": "Circuit",
         "views": 896,
         "clicks": 23,
         "position": 1,
         "CTR": 2.57,
         "Type": "Promotions",
         "_deepnote_index_column": 10
        },
        {
         "date": "2022-07-09",
         "promotion_name": "Circuits Nouvelles Frontières|Pour vos envies de découverte ! à partir de 611€",
         "promoPosition": "Home Cir - meilleurs offres grande-2",
         "pagetype": "HomePage",
         "contentgroup_1": "Home",
         "contentgroup_2": "Circuit",
         "views": 896,
         "clicks": 47,
         "position": 2,
         "CTR": 5.25,
         "Type": "Autre",
         "_deepnote_index_column": 11
        },
        {
         "date": "2022-07-08",
         "promotion_name": "Réservez Primo Hiver 2022-23",
         "promoPosition": "Home Cir - meilleurs offres grande-1",
         "pagetype": "HomePage",
         "contentgroup_1": "Home",
         "contentgroup_2": "Circuit",
         "views": 872,
         "clicks": 31,
         "position": 1,
         "CTR": 3.56,
         "Type": "Promotions",
         "_deepnote_index_column": 12
        },
        {
         "date": "2022-07-08",
         "promotion_name": "Circuits Nouvelles Frontières|Pour vos envies de découverte ! à partir de 611€",
         "promoPosition": "Home Cir - meilleurs offres grande-2",
         "pagetype": "HomePage",
         "contentgroup_1": "Home",
         "contentgroup_2": "Circuit",
         "views": 872,
         "clicks": 45,
         "position": 2,
         "CTR": 5.16,
         "Type": "Autre",
         "_deepnote_index_column": 13
        },
        {
         "date": "2022-07-07",
         "promotion_name": "Circuits Nouvelles Frontières|Pour vos envies de découverte ! à partir de 611€",
         "promoPosition": "Home Cir - meilleurs offres grande-2",
         "pagetype": "HomePage",
         "contentgroup_1": "Home",
         "contentgroup_2": "Circuit",
         "views": 1323,
         "clicks": 34,
         "position": 2,
         "CTR": 2.57,
         "Type": "Autre",
         "_deepnote_index_column": 14
        },
        {
         "date": "2022-07-07",
         "promotion_name": "Réservez Primo Hiver 2022-23",
         "promoPosition": "Home Cir - meilleurs offres grande-1",
         "pagetype": "HomePage",
         "contentgroup_1": "Home",
         "contentgroup_2": "Circuit",
         "views": 1542,
         "clicks": 21,
         "position": 1,
         "CTR": 1.36,
         "Type": "Promotions",
         "_deepnote_index_column": 15
        },
        {
         "date": "2022-07-06",
         "promotion_name": "Circuits Nouvelles Frontières|Pour vos envies de découverte ! à partir de 589€",
         "promoPosition": "Home Cir - meilleurs offres grande-2",
         "pagetype": "HomePage",
         "contentgroup_1": "Home",
         "contentgroup_2": "Circuit",
         "views": 1161,
         "clicks": 35,
         "position": 2,
         "CTR": 3.01,
         "Type": "Autre",
         "_deepnote_index_column": 16
        },
        {
         "date": "2022-07-06",
         "promotion_name": "Réservez Primo Hiver 2022-23",
         "promoPosition": "Home Cir - meilleurs offres grande-1",
         "pagetype": "HomePage",
         "contentgroup_1": "Home",
         "contentgroup_2": "Circuit",
         "views": 1477,
         "clicks": 34,
         "position": 1,
         "CTR": 2.3,
         "Type": "Promotions",
         "_deepnote_index_column": 17
        },
        {
         "date": "2022-07-05",
         "promotion_name": "Circuits Nouvelles Frontières|Pour vos envies de découverte ! à partir de 589€",
         "promoPosition": "Home Cir - meilleurs offres grande-2",
         "pagetype": "HomePage",
         "contentgroup_1": "Home",
         "contentgroup_2": "Circuit",
         "views": 1599,
         "clicks": 59,
         "position": 2,
         "CTR": 3.69,
         "Type": "Autre",
         "_deepnote_index_column": 18
        },
        {
         "date": "2022-07-05",
         "promotion_name": "Réservez Primo Hiver 2022-23",
         "promoPosition": "Home Cir - meilleurs offres grande-1",
         "pagetype": "HomePage",
         "contentgroup_1": "Home",
         "contentgroup_2": "Circuit",
         "views": 1599,
         "clicks": 26,
         "position": 1,
         "CTR": 1.63,
         "Type": "Promotions",
         "_deepnote_index_column": 19
        }
       ]
      },
      "text/plain": "           date                                     promotion_name  \\\n0    2022-07-14                       Réservez Primo Hiver 2022-23   \n1    2022-07-14  Circuits Nouvelles Frontières|Pour vos envies ...   \n2    2022-07-13  Circuits Nouvelles Frontières|Pour vos envies ...   \n3    2022-07-13                       Réservez Primo Hiver 2022-23   \n4    2022-07-12                       Réservez Primo Hiver 2022-23   \n..          ...                                                ...   \n851  2021-07-02                               Réservez Primo Hiver   \n852  2021-07-01  Nos Autotours|Partez en vacances en toute libe...   \n853  2021-07-01                               Réservez Primo Hiver   \n854  2021-07-01  Ouverture des ventes|Nos Circuits Best-sellers...   \n855  2021-07-01  France|Nos plus belles régions françaises à pa...   \n\n                             promoPosition  pagetype contentgroup_1  \\\n0     Home Cir - meilleurs offres grande-1  HomePage           Home   \n1     Home Cir - meilleurs offres grande-2  HomePage           Home   \n2     Home Cir - meilleurs offres grande-2  HomePage           Home   \n3     Home Cir - meilleurs offres grande-1  HomePage           Home   \n4     Home Cir - meilleurs offres grande-1  HomePage           Home   \n..                                     ...       ...            ...   \n851   Home Cir - meilleurs offres grande-1  HomePage           Home   \n852   Home Cir - meilleurs offres grande-2  HomePage           Home   \n853   Home Cir - meilleurs offres grande-1  HomePage           Home   \n854   Home Cir - meilleurs offres grande-1  HomePage           Home   \n855  Home Cir - meilleurs offres petites-3  HomePage           Home   \n\n    contentgroup_2  views  clicks  position   CTR        Type  \n0          Circuit    837      38         1  4.54  Promotions  \n1          Circuit    837      42         2  5.02       Autre  \n2          Circuit    783      29         2  3.70       Autre  \n3          Circuit    785      22         1  2.80  Promotions  \n4          Circuit    950      30         1  3.16  Promotions  \n..             ...    ...     ...       ...   ...         ...  \n851        Circuit    611      31         1  5.07  Promotions  \n852        Circuit    903      28         2  3.10       Autre  \n853        Circuit    506      36         1  7.11  Promotions  \n854        Circuit    397      33         1  8.31       Autre  \n855        Circuit    903      22         3  2.44       Autre  \n\n[856 rows x 11 columns]",
      "text/html": "<div>\n<style scoped>\n    .dataframe tbody tr th:only-of-type {\n        vertical-align: middle;\n    }\n\n    .dataframe tbody tr th {\n        vertical-align: top;\n    }\n\n    .dataframe thead th {\n        text-align: right;\n    }\n</style>\n<table border=\"1\" class=\"dataframe\">\n  <thead>\n    <tr style=\"text-align: right;\">\n      <th></th>\n      <th>date</th>\n      <th>promotion_name</th>\n      <th>promoPosition</th>\n      <th>pagetype</th>\n      <th>contentgroup_1</th>\n      <th>contentgroup_2</th>\n      <th>views</th>\n      <th>clicks</th>\n      <th>position</th>\n      <th>CTR</th>\n      <th>Type</th>\n    </tr>\n  </thead>\n  <tbody>\n    <tr>\n      <th>0</th>\n      <td>2022-07-14</td>\n      <td>Réservez Primo Hiver 2022-23</td>\n      <td>Home Cir - meilleurs offres grande-1</td>\n      <td>HomePage</td>\n      <td>Home</td>\n      <td>Circuit</td>\n      <td>837</td>\n      <td>38</td>\n      <td>1</td>\n      <td>4.54</td>\n      <td>Promotions</td>\n    </tr>\n    <tr>\n      <th>1</th>\n      <td>2022-07-14</td>\n      <td>Circuits Nouvelles Frontières|Pour vos envies ...</td>\n      <td>Home Cir - meilleurs offres grande-2</td>\n      <td>HomePage</td>\n      <td>Home</td>\n      <td>Circuit</td>\n      <td>837</td>\n      <td>42</td>\n      <td>2</td>\n      <td>5.02</td>\n      <td>Autre</td>\n    </tr>\n    <tr>\n      <th>2</th>\n      <td>2022-07-13</td>\n      <td>Circuits Nouvelles Frontières|Pour vos envies ...</td>\n      <td>Home Cir - meilleurs offres grande-2</td>\n      <td>HomePage</td>\n      <td>Home</td>\n      <td>Circuit</td>\n      <td>783</td>\n      <td>29</td>\n      <td>2</td>\n      <td>3.70</td>\n      <td>Autre</td>\n    </tr>\n    <tr>\n      <th>3</th>\n      <td>2022-07-13</td>\n      <td>Réservez Primo Hiver 2022-23</td>\n      <td>Home Cir - meilleurs offres grande-1</td>\n      <td>HomePage</td>\n      <td>Home</td>\n      <td>Circuit</td>\n      <td>785</td>\n      <td>22</td>\n      <td>1</td>\n      <td>2.80</td>\n      <td>Promotions</td>\n    </tr>\n    <tr>\n      <th>4</th>\n      <td>2022-07-12</td>\n      <td>Réservez Primo Hiver 2022-23</td>\n      <td>Home Cir - meilleurs offres grande-1</td>\n      <td>HomePage</td>\n      <td>Home</td>\n      <td>Circuit</td>\n      <td>950</td>\n      <td>30</td>\n      <td>1</td>\n      <td>3.16</td>\n      <td>Promotions</td>\n    </tr>\n    <tr>\n      <th>...</th>\n      <td>...</td>\n      <td>...</td>\n      <td>...</td>\n      <td>...</td>\n      <td>...</td>\n      <td>...</td>\n      <td>...</td>\n      <td>...</td>\n      <td>...</td>\n      <td>...</td>\n      <td>...</td>\n    </tr>\n    <tr>\n      <th>851</th>\n      <td>2021-07-02</td>\n      <td>Réservez Primo Hiver</td>\n      <td>Home Cir - meilleurs offres grande-1</td>\n      <td>HomePage</td>\n      <td>Home</td>\n      <td>Circuit</td>\n      <td>611</td>\n      <td>31</td>\n      <td>1</td>\n      <td>5.07</td>\n      <td>Promotions</td>\n    </tr>\n    <tr>\n      <th>852</th>\n      <td>2021-07-01</td>\n      <td>Nos Autotours|Partez en vacances en toute libe...</td>\n      <td>Home Cir - meilleurs offres grande-2</td>\n      <td>HomePage</td>\n      <td>Home</td>\n      <td>Circuit</td>\n      <td>903</td>\n      <td>28</td>\n      <td>2</td>\n      <td>3.10</td>\n      <td>Autre</td>\n    </tr>\n    <tr>\n      <th>853</th>\n      <td>2021-07-01</td>\n      <td>Réservez Primo Hiver</td>\n      <td>Home Cir - meilleurs offres grande-1</td>\n      <td>HomePage</td>\n      <td>Home</td>\n      <td>Circuit</td>\n      <td>506</td>\n      <td>36</td>\n      <td>1</td>\n      <td>7.11</td>\n      <td>Promotions</td>\n    </tr>\n    <tr>\n      <th>854</th>\n      <td>2021-07-01</td>\n      <td>Ouverture des ventes|Nos Circuits Best-sellers...</td>\n      <td>Home Cir - meilleurs offres grande-1</td>\n      <td>HomePage</td>\n      <td>Home</td>\n      <td>Circuit</td>\n      <td>397</td>\n      <td>33</td>\n      <td>1</td>\n      <td>8.31</td>\n      <td>Autre</td>\n    </tr>\n    <tr>\n      <th>855</th>\n      <td>2021-07-01</td>\n      <td>France|Nos plus belles régions françaises à pa...</td>\n      <td>Home Cir - meilleurs offres petites-3</td>\n      <td>HomePage</td>\n      <td>Home</td>\n      <td>Circuit</td>\n      <td>903</td>\n      <td>22</td>\n      <td>3</td>\n      <td>2.44</td>\n      <td>Autre</td>\n    </tr>\n  </tbody>\n</table>\n<p>856 rows × 11 columns</p>\n</div>"
     },
     "metadata": {}
    }
   ]
  },
  {
   "cell_type": "code",
   "metadata": {
    "tags": [],
    "deepnote_to_be_reexecuted": false,
    "source_hash": "b1b65030",
    "execution_start": 1661038101990,
    "execution_millis": 1,
    "cell_id": "00003-96de3125-0249-4a1f-a157-fb9aadbe9112",
    "deepnote_cell_type": "code",
    "deepnote_cell_height": 117
   },
   "source": "data['position'] = data['position'].replace({1:'position1',2:'position2',3:'position3',4:'Position4',5:'position5',6:'position6'})\n\n",
   "execution_count": 49,
   "outputs": []
  },
  {
   "cell_type": "code",
   "metadata": {
    "tags": [],
    "deepnote_to_be_reexecuted": false,
    "source_hash": "f1e9afea",
    "execution_start": 1661037903826,
    "execution_millis": 35,
    "cell_id": "00004-3c462c71-7e87-4068-90c7-0848ff693e79",
    "deepnote_cell_type": "code",
    "deepnote_cell_height": 131.375,
    "deepnote_output_heights": [
     39.375
    ]
   },
   "source": "data['Type'].unique()",
   "execution_count": 29,
   "outputs": [
    {
     "output_type": "execute_result",
     "execution_count": 29,
     "data": {
      "text/plain": "array(['Promotions', 'Autre', 'Crazy', 'Bons Plans', 'Vente flash'],\n      dtype=object)"
     },
     "metadata": {}
    }
   ]
  },
  {
   "cell_type": "code",
   "metadata": {
    "tags": [],
    "deepnote_to_be_reexecuted": false,
    "source_hash": "37f5e321",
    "execution_start": 1661038105591,
    "execution_millis": 29,
    "cell_id": "00005-d5806185-5277-42e2-95e7-4ad735974b66",
    "deepnote_cell_type": "code",
    "deepnote_cell_height": 613
   },
   "source": "data=data.drop(columns=['promotion_name','pagetype','contentgroup_1','contentgroup_2','views','clicks'])\ndata",
   "execution_count": 50,
   "outputs": [
    {
     "output_type": "execute_result",
     "execution_count": 50,
     "data": {
      "application/vnd.deepnote.dataframe.v3+json": {
       "column_count": 5,
       "row_count": 856,
       "columns": [
        {
         "name": "date",
         "dtype": "object",
         "stats": {
          "unique_count": 343,
          "nan_count": 0,
          "categories": [
           {
            "name": "2022-02-18",
            "count": 6
           },
           {
            "name": "2022-02-12",
            "count": 5
           },
           {
            "name": "341 others",
            "count": 845
           }
          ]
         }
        },
        {
         "name": "promoPosition",
         "dtype": "object",
         "stats": {
          "unique_count": 6,
          "nan_count": 0,
          "categories": [
           {
            "name": "Home Cir - meilleurs offres grande-1",
            "count": 315
           },
           {
            "name": "Home Cir - meilleurs offres grande-2",
            "count": 300
           },
           {
            "name": "4 others",
            "count": 241
           }
          ]
         }
        },
        {
         "name": "position",
         "dtype": "object",
         "stats": {
          "unique_count": 5,
          "nan_count": 0,
          "categories": [
           {
            "name": "position1",
            "count": 315
           },
           {
            "name": "position2",
            "count": 301
           },
           {
            "name": "3 others",
            "count": 240
           }
          ]
         }
        },
        {
         "name": "CTR",
         "dtype": "float64",
         "stats": {
          "unique_count": 421,
          "nan_count": 0,
          "min": "0.58",
          "max": "11.86",
          "histogram": [
           {
            "bin_start": 0.58,
            "bin_end": 1.7079999999999997,
            "count": 100
           },
           {
            "bin_start": 1.7079999999999997,
            "bin_end": 2.836,
            "count": 258
           },
           {
            "bin_start": 2.836,
            "bin_end": 3.9639999999999995,
            "count": 248
           },
           {
            "bin_start": 3.9639999999999995,
            "bin_end": 5.092,
            "count": 152
           },
           {
            "bin_start": 5.092,
            "bin_end": 6.22,
            "count": 64
           },
           {
            "bin_start": 6.22,
            "bin_end": 7.347999999999999,
            "count": 26
           },
           {
            "bin_start": 7.347999999999999,
            "bin_end": 8.475999999999999,
            "count": 6
           },
           {
            "bin_start": 8.475999999999999,
            "bin_end": 9.604,
            "count": 0
           },
           {
            "bin_start": 9.604,
            "bin_end": 10.732,
            "count": 1
           },
           {
            "bin_start": 10.732,
            "bin_end": 11.86,
            "count": 1
           }
          ]
         }
        },
        {
         "name": "Type",
         "dtype": "object",
         "stats": {
          "unique_count": 5,
          "nan_count": 0,
          "categories": [
           {
            "name": "Autre",
            "count": 623
           },
           {
            "name": "Promotions",
            "count": 115
           },
           {
            "name": "3 others",
            "count": 118
           }
          ]
         }
        },
        {
         "name": "_deepnote_index_column",
         "dtype": "int64"
        }
       ],
       "rows": [
        {
         "date": "2022-07-14",
         "promoPosition": "Home Cir - meilleurs offres grande-1",
         "position": "position1",
         "CTR": 4.54,
         "Type": "Promotions",
         "_deepnote_index_column": 0
        },
        {
         "date": "2022-07-14",
         "promoPosition": "Home Cir - meilleurs offres grande-2",
         "position": "position2",
         "CTR": 5.02,
         "Type": "Autre",
         "_deepnote_index_column": 1
        },
        {
         "date": "2022-07-13",
         "promoPosition": "Home Cir - meilleurs offres grande-2",
         "position": "position2",
         "CTR": 3.7,
         "Type": "Autre",
         "_deepnote_index_column": 2
        },
        {
         "date": "2022-07-13",
         "promoPosition": "Home Cir - meilleurs offres grande-1",
         "position": "position1",
         "CTR": 2.8,
         "Type": "Promotions",
         "_deepnote_index_column": 3
        },
        {
         "date": "2022-07-12",
         "promoPosition": "Home Cir - meilleurs offres grande-1",
         "position": "position1",
         "CTR": 3.16,
         "Type": "Promotions",
         "_deepnote_index_column": 4
        },
        {
         "date": "2022-07-12",
         "promoPosition": "Home Cir - meilleurs offres grande-2",
         "position": "position2",
         "CTR": 5.28,
         "Type": "Autre",
         "_deepnote_index_column": 5
        },
        {
         "date": "2022-07-11",
         "promoPosition": "Home Cir - meilleurs offres grande-1",
         "position": "position1",
         "CTR": 2.79,
         "Type": "Promotions",
         "_deepnote_index_column": 6
        },
        {
         "date": "2022-07-11",
         "promoPosition": "Home Cir - meilleurs offres grande-2",
         "position": "position2",
         "CTR": 3.8,
         "Type": "Autre",
         "_deepnote_index_column": 7
        },
        {
         "date": "2022-07-10",
         "promoPosition": "Home Cir - meilleurs offres grande-2",
         "position": "position2",
         "CTR": 4.16,
         "Type": "Autre",
         "_deepnote_index_column": 8
        },
        {
         "date": "2022-07-10",
         "promoPosition": "Home Cir - meilleurs offres grande-1",
         "position": "position1",
         "CTR": 2.29,
         "Type": "Promotions",
         "_deepnote_index_column": 9
        }
       ]
      },
      "text/plain": "           date                          promoPosition   position   CTR  \\\n0    2022-07-14   Home Cir - meilleurs offres grande-1  position1  4.54   \n1    2022-07-14   Home Cir - meilleurs offres grande-2  position2  5.02   \n2    2022-07-13   Home Cir - meilleurs offres grande-2  position2  3.70   \n3    2022-07-13   Home Cir - meilleurs offres grande-1  position1  2.80   \n4    2022-07-12   Home Cir - meilleurs offres grande-1  position1  3.16   \n..          ...                                    ...        ...   ...   \n851  2021-07-02   Home Cir - meilleurs offres grande-1  position1  5.07   \n852  2021-07-01   Home Cir - meilleurs offres grande-2  position2  3.10   \n853  2021-07-01   Home Cir - meilleurs offres grande-1  position1  7.11   \n854  2021-07-01   Home Cir - meilleurs offres grande-1  position1  8.31   \n855  2021-07-01  Home Cir - meilleurs offres petites-3  position3  2.44   \n\n           Type  \n0    Promotions  \n1         Autre  \n2         Autre  \n3    Promotions  \n4    Promotions  \n..          ...  \n851  Promotions  \n852       Autre  \n853  Promotions  \n854       Autre  \n855       Autre  \n\n[856 rows x 5 columns]",
      "text/html": "<div>\n<style scoped>\n    .dataframe tbody tr th:only-of-type {\n        vertical-align: middle;\n    }\n\n    .dataframe tbody tr th {\n        vertical-align: top;\n    }\n\n    .dataframe thead th {\n        text-align: right;\n    }\n</style>\n<table border=\"1\" class=\"dataframe\">\n  <thead>\n    <tr style=\"text-align: right;\">\n      <th></th>\n      <th>date</th>\n      <th>promoPosition</th>\n      <th>position</th>\n      <th>CTR</th>\n      <th>Type</th>\n    </tr>\n  </thead>\n  <tbody>\n    <tr>\n      <th>0</th>\n      <td>2022-07-14</td>\n      <td>Home Cir - meilleurs offres grande-1</td>\n      <td>position1</td>\n      <td>4.54</td>\n      <td>Promotions</td>\n    </tr>\n    <tr>\n      <th>1</th>\n      <td>2022-07-14</td>\n      <td>Home Cir - meilleurs offres grande-2</td>\n      <td>position2</td>\n      <td>5.02</td>\n      <td>Autre</td>\n    </tr>\n    <tr>\n      <th>2</th>\n      <td>2022-07-13</td>\n      <td>Home Cir - meilleurs offres grande-2</td>\n      <td>position2</td>\n      <td>3.70</td>\n      <td>Autre</td>\n    </tr>\n    <tr>\n      <th>3</th>\n      <td>2022-07-13</td>\n      <td>Home Cir - meilleurs offres grande-1</td>\n      <td>position1</td>\n      <td>2.80</td>\n      <td>Promotions</td>\n    </tr>\n    <tr>\n      <th>4</th>\n      <td>2022-07-12</td>\n      <td>Home Cir - meilleurs offres grande-1</td>\n      <td>position1</td>\n      <td>3.16</td>\n      <td>Promotions</td>\n    </tr>\n    <tr>\n      <th>...</th>\n      <td>...</td>\n      <td>...</td>\n      <td>...</td>\n      <td>...</td>\n      <td>...</td>\n    </tr>\n    <tr>\n      <th>851</th>\n      <td>2021-07-02</td>\n      <td>Home Cir - meilleurs offres grande-1</td>\n      <td>position1</td>\n      <td>5.07</td>\n      <td>Promotions</td>\n    </tr>\n    <tr>\n      <th>852</th>\n      <td>2021-07-01</td>\n      <td>Home Cir - meilleurs offres grande-2</td>\n      <td>position2</td>\n      <td>3.10</td>\n      <td>Autre</td>\n    </tr>\n    <tr>\n      <th>853</th>\n      <td>2021-07-01</td>\n      <td>Home Cir - meilleurs offres grande-1</td>\n      <td>position1</td>\n      <td>7.11</td>\n      <td>Promotions</td>\n    </tr>\n    <tr>\n      <th>854</th>\n      <td>2021-07-01</td>\n      <td>Home Cir - meilleurs offres grande-1</td>\n      <td>position1</td>\n      <td>8.31</td>\n      <td>Autre</td>\n    </tr>\n    <tr>\n      <th>855</th>\n      <td>2021-07-01</td>\n      <td>Home Cir - meilleurs offres petites-3</td>\n      <td>position3</td>\n      <td>2.44</td>\n      <td>Autre</td>\n    </tr>\n  </tbody>\n</table>\n<p>856 rows × 5 columns</p>\n</div>"
     },
     "metadata": {}
    }
   ]
  },
  {
   "cell_type": "code",
   "metadata": {
    "tags": [],
    "deepnote_to_be_reexecuted": false,
    "source_hash": "fd3afbaf",
    "execution_start": 1661038109429,
    "execution_millis": 789,
    "cell_id": "00007-0792ce27-2a57-4b1e-9c1d-1cecfc1c4d69",
    "deepnote_cell_type": "code",
    "deepnote_cell_height": 613
   },
   "source": "data['log_CTR']=data['CTR'].apply(lambda x : np.log(x))\ndata",
   "execution_count": 51,
   "outputs": [
    {
     "output_type": "execute_result",
     "execution_count": 51,
     "data": {
      "application/vnd.deepnote.dataframe.v3+json": {
       "column_count": 6,
       "row_count": 856,
       "columns": [
        {
         "name": "date",
         "dtype": "object",
         "stats": {
          "unique_count": 343,
          "nan_count": 0,
          "categories": [
           {
            "name": "2022-02-18",
            "count": 6
           },
           {
            "name": "2022-02-12",
            "count": 5
           },
           {
            "name": "341 others",
            "count": 845
           }
          ]
         }
        },
        {
         "name": "promoPosition",
         "dtype": "object",
         "stats": {
          "unique_count": 6,
          "nan_count": 0,
          "categories": [
           {
            "name": "Home Cir - meilleurs offres grande-1",
            "count": 315
           },
           {
            "name": "Home Cir - meilleurs offres grande-2",
            "count": 300
           },
           {
            "name": "4 others",
            "count": 241
           }
          ]
         }
        },
        {
         "name": "position",
         "dtype": "object",
         "stats": {
          "unique_count": 5,
          "nan_count": 0,
          "categories": [
           {
            "name": "position1",
            "count": 315
           },
           {
            "name": "position2",
            "count": 301
           },
           {
            "name": "3 others",
            "count": 240
           }
          ]
         }
        },
        {
         "name": "CTR",
         "dtype": "float64",
         "stats": {
          "unique_count": 421,
          "nan_count": 0,
          "min": "0.58",
          "max": "11.86",
          "histogram": [
           {
            "bin_start": 0.58,
            "bin_end": 1.7079999999999997,
            "count": 100
           },
           {
            "bin_start": 1.7079999999999997,
            "bin_end": 2.836,
            "count": 258
           },
           {
            "bin_start": 2.836,
            "bin_end": 3.9639999999999995,
            "count": 248
           },
           {
            "bin_start": 3.9639999999999995,
            "bin_end": 5.092,
            "count": 152
           },
           {
            "bin_start": 5.092,
            "bin_end": 6.22,
            "count": 64
           },
           {
            "bin_start": 6.22,
            "bin_end": 7.347999999999999,
            "count": 26
           },
           {
            "bin_start": 7.347999999999999,
            "bin_end": 8.475999999999999,
            "count": 6
           },
           {
            "bin_start": 8.475999999999999,
            "bin_end": 9.604,
            "count": 0
           },
           {
            "bin_start": 9.604,
            "bin_end": 10.732,
            "count": 1
           },
           {
            "bin_start": 10.732,
            "bin_end": 11.86,
            "count": 1
           }
          ]
         }
        },
        {
         "name": "Type",
         "dtype": "object",
         "stats": {
          "unique_count": 5,
          "nan_count": 0,
          "categories": [
           {
            "name": "Autre",
            "count": 623
           },
           {
            "name": "Promotions",
            "count": 115
           },
           {
            "name": "3 others",
            "count": 118
           }
          ]
         }
        },
        {
         "name": "log_CTR",
         "dtype": "float64",
         "stats": {
          "unique_count": 421,
          "nan_count": 0,
          "min": "-0.544727175441672",
          "max": "2.4731713935695794",
          "histogram": [
           {
            "bin_start": -0.544727175441672,
            "bin_end": -0.2429373185405469,
            "count": 4
           },
           {
            "bin_start": -0.2429373185405469,
            "bin_end": 0.058852538360578244,
            "count": 23
           },
           {
            "bin_start": 0.058852538360578244,
            "bin_end": 0.3606423952617034,
            "count": 35
           },
           {
            "bin_start": 0.3606423952617034,
            "bin_end": 0.6624322521628285,
            "count": 80
           },
           {
            "bin_start": 0.6624322521628285,
            "bin_end": 0.9642221090639536,
            "count": 170
           },
           {
            "bin_start": 0.9642221090639536,
            "bin_end": 1.2660119659650788,
            "count": 202
           },
           {
            "bin_start": 1.2660119659650788,
            "bin_end": 1.567801822866204,
            "count": 213
           },
           {
            "bin_start": 1.567801822866204,
            "bin_end": 1.869591679767329,
            "count": 103
           },
           {
            "bin_start": 1.869591679767329,
            "bin_end": 2.171381536668454,
            "count": 24
           },
           {
            "bin_start": 2.171381536668454,
            "bin_end": 2.4731713935695794,
            "count": 2
           }
          ]
         }
        },
        {
         "name": "_deepnote_index_column",
         "dtype": "int64"
        }
       ],
       "rows": [
        {
         "date": "2022-07-14",
         "promoPosition": "Home Cir - meilleurs offres grande-1",
         "position": "position1",
         "CTR": 4.54,
         "Type": "Promotions",
         "log_CTR": 1.5129270120532565,
         "_deepnote_index_column": 0
        },
        {
         "date": "2022-07-14",
         "promoPosition": "Home Cir - meilleurs offres grande-2",
         "position": "position2",
         "CTR": 5.02,
         "Type": "Autre",
         "log_CTR": 1.6134299337036377,
         "_deepnote_index_column": 1
        },
        {
         "date": "2022-07-13",
         "promoPosition": "Home Cir - meilleurs offres grande-2",
         "position": "position2",
         "CTR": 3.7,
         "Type": "Autre",
         "log_CTR": 1.3083328196501787,
         "_deepnote_index_column": 2
        },
        {
         "date": "2022-07-13",
         "promoPosition": "Home Cir - meilleurs offres grande-1",
         "position": "position1",
         "CTR": 2.8,
         "Type": "Promotions",
         "log_CTR": 1.0296194171811581,
         "_deepnote_index_column": 3
        },
        {
         "date": "2022-07-12",
         "promoPosition": "Home Cir - meilleurs offres grande-1",
         "position": "position1",
         "CTR": 3.16,
         "Type": "Promotions",
         "log_CTR": 1.1505720275988207,
         "_deepnote_index_column": 4
        },
        {
         "date": "2022-07-12",
         "promoPosition": "Home Cir - meilleurs offres grande-2",
         "position": "position2",
         "CTR": 5.28,
         "Type": "Autre",
         "log_CTR": 1.66392609771817,
         "_deepnote_index_column": 5
        },
        {
         "date": "2022-07-11",
         "promoPosition": "Home Cir - meilleurs offres grande-1",
         "position": "position1",
         "CTR": 2.79,
         "Type": "Promotions",
         "log_CTR": 1.0260415958332743,
         "_deepnote_index_column": 6
        },
        {
         "date": "2022-07-11",
         "promoPosition": "Home Cir - meilleurs offres grande-2",
         "position": "position2",
         "CTR": 3.8,
         "Type": "Autre",
         "log_CTR": 1.33500106673234,
         "_deepnote_index_column": 7
        },
        {
         "date": "2022-07-10",
         "promoPosition": "Home Cir - meilleurs offres grande-2",
         "position": "position2",
         "CTR": 4.16,
         "Type": "Autre",
         "log_CTR": 1.425515074273172,
         "_deepnote_index_column": 8
        },
        {
         "date": "2022-07-10",
         "promoPosition": "Home Cir - meilleurs offres grande-1",
         "position": "position1",
         "CTR": 2.29,
         "Type": "Promotions",
         "log_CTR": 0.8285518175661483,
         "_deepnote_index_column": 9
        }
       ]
      },
      "text/plain": "           date                          promoPosition   position   CTR  \\\n0    2022-07-14   Home Cir - meilleurs offres grande-1  position1  4.54   \n1    2022-07-14   Home Cir - meilleurs offres grande-2  position2  5.02   \n2    2022-07-13   Home Cir - meilleurs offres grande-2  position2  3.70   \n3    2022-07-13   Home Cir - meilleurs offres grande-1  position1  2.80   \n4    2022-07-12   Home Cir - meilleurs offres grande-1  position1  3.16   \n..          ...                                    ...        ...   ...   \n851  2021-07-02   Home Cir - meilleurs offres grande-1  position1  5.07   \n852  2021-07-01   Home Cir - meilleurs offres grande-2  position2  3.10   \n853  2021-07-01   Home Cir - meilleurs offres grande-1  position1  7.11   \n854  2021-07-01   Home Cir - meilleurs offres grande-1  position1  8.31   \n855  2021-07-01  Home Cir - meilleurs offres petites-3  position3  2.44   \n\n           Type   log_CTR  \n0    Promotions  1.512927  \n1         Autre  1.613430  \n2         Autre  1.308333  \n3    Promotions  1.029619  \n4    Promotions  1.150572  \n..          ...       ...  \n851  Promotions  1.623341  \n852       Autre  1.131402  \n853  Promotions  1.961502  \n854       Autre  2.117460  \n855       Autre  0.891998  \n\n[856 rows x 6 columns]",
      "text/html": "<div>\n<style scoped>\n    .dataframe tbody tr th:only-of-type {\n        vertical-align: middle;\n    }\n\n    .dataframe tbody tr th {\n        vertical-align: top;\n    }\n\n    .dataframe thead th {\n        text-align: right;\n    }\n</style>\n<table border=\"1\" class=\"dataframe\">\n  <thead>\n    <tr style=\"text-align: right;\">\n      <th></th>\n      <th>date</th>\n      <th>promoPosition</th>\n      <th>position</th>\n      <th>CTR</th>\n      <th>Type</th>\n      <th>log_CTR</th>\n    </tr>\n  </thead>\n  <tbody>\n    <tr>\n      <th>0</th>\n      <td>2022-07-14</td>\n      <td>Home Cir - meilleurs offres grande-1</td>\n      <td>position1</td>\n      <td>4.54</td>\n      <td>Promotions</td>\n      <td>1.512927</td>\n    </tr>\n    <tr>\n      <th>1</th>\n      <td>2022-07-14</td>\n      <td>Home Cir - meilleurs offres grande-2</td>\n      <td>position2</td>\n      <td>5.02</td>\n      <td>Autre</td>\n      <td>1.613430</td>\n    </tr>\n    <tr>\n      <th>2</th>\n      <td>2022-07-13</td>\n      <td>Home Cir - meilleurs offres grande-2</td>\n      <td>position2</td>\n      <td>3.70</td>\n      <td>Autre</td>\n      <td>1.308333</td>\n    </tr>\n    <tr>\n      <th>3</th>\n      <td>2022-07-13</td>\n      <td>Home Cir - meilleurs offres grande-1</td>\n      <td>position1</td>\n      <td>2.80</td>\n      <td>Promotions</td>\n      <td>1.029619</td>\n    </tr>\n    <tr>\n      <th>4</th>\n      <td>2022-07-12</td>\n      <td>Home Cir - meilleurs offres grande-1</td>\n      <td>position1</td>\n      <td>3.16</td>\n      <td>Promotions</td>\n      <td>1.150572</td>\n    </tr>\n    <tr>\n      <th>...</th>\n      <td>...</td>\n      <td>...</td>\n      <td>...</td>\n      <td>...</td>\n      <td>...</td>\n      <td>...</td>\n    </tr>\n    <tr>\n      <th>851</th>\n      <td>2021-07-02</td>\n      <td>Home Cir - meilleurs offres grande-1</td>\n      <td>position1</td>\n      <td>5.07</td>\n      <td>Promotions</td>\n      <td>1.623341</td>\n    </tr>\n    <tr>\n      <th>852</th>\n      <td>2021-07-01</td>\n      <td>Home Cir - meilleurs offres grande-2</td>\n      <td>position2</td>\n      <td>3.10</td>\n      <td>Autre</td>\n      <td>1.131402</td>\n    </tr>\n    <tr>\n      <th>853</th>\n      <td>2021-07-01</td>\n      <td>Home Cir - meilleurs offres grande-1</td>\n      <td>position1</td>\n      <td>7.11</td>\n      <td>Promotions</td>\n      <td>1.961502</td>\n    </tr>\n    <tr>\n      <th>854</th>\n      <td>2021-07-01</td>\n      <td>Home Cir - meilleurs offres grande-1</td>\n      <td>position1</td>\n      <td>8.31</td>\n      <td>Autre</td>\n      <td>2.117460</td>\n    </tr>\n    <tr>\n      <th>855</th>\n      <td>2021-07-01</td>\n      <td>Home Cir - meilleurs offres petites-3</td>\n      <td>position3</td>\n      <td>2.44</td>\n      <td>Autre</td>\n      <td>0.891998</td>\n    </tr>\n  </tbody>\n</table>\n<p>856 rows × 6 columns</p>\n</div>"
     },
     "metadata": {}
    }
   ]
  },
  {
   "cell_type": "code",
   "metadata": {
    "tags": [],
    "deepnote_to_be_reexecuted": false,
    "source_hash": "2a5755b9",
    "execution_start": 1660998059520,
    "execution_millis": 381,
    "cell_id": "00008-345a672a-a8f6-4c53-a341-afff328e0b4a",
    "deepnote_cell_type": "code",
    "deepnote_cell_height": 360.4375,
    "deepnote_output_heights": [
     250.4375
    ]
   },
   "source": "data['promoPosition'].value_counts()\n",
   "execution_count": null,
   "outputs": [
    {
     "output_type": "execute_result",
     "execution_count": 75,
     "data": {
      "text/plain": "Home CM – bonnes affaires grandes-1    422\nHome CM – bonnes affaires grandes-2    413\nHome CM – bonnes affaires petites-3    381\nBon Plan-1                             193\nBon Plan-2                             186\nBon Plan-3                             151\nHome CM – bonnes affaires petites-4    123\nHome CM – bonnes affaires petites-5     90\nBon Plan-6                              58\nBon Plan-4                              51\nBon Plan-5                              45\nHome CM – bonnes affaires petites-2      2\nName: promoPosition, dtype: int64"
     },
     "metadata": {}
    }
   ]
  },
  {
   "cell_type": "code",
   "metadata": {
    "tags": [],
    "deepnote_to_be_reexecuted": false,
    "source_hash": "a6af6ad",
    "execution_start": 1661038117467,
    "execution_millis": 60,
    "cell_id": "00009-71f3b470-cfa6-4033-89f7-4dfa91311d0d",
    "deepnote_cell_type": "code",
    "deepnote_cell_height": 706
   },
   "source": "#feature engineering\ndata.date=pd.to_datetime(data.date,errors='coerce')\ndata['jour']=data.date.dt.day_name()\ndata['mois']=data.date.dt.month_name()\ndata=data.rename(columns={'Type':'type_banniere'})\ndata",
   "execution_count": 52,
   "outputs": [
    {
     "output_type": "execute_result",
     "execution_count": 52,
     "data": {
      "application/vnd.deepnote.dataframe.v3+json": {
       "column_count": 8,
       "row_count": 856,
       "columns": [
        {
         "name": "date",
         "dtype": "datetime64[ns]",
         "stats": {
          "unique_count": 343,
          "nan_count": 0,
          "min": "2021-07-01 00:00:00",
          "max": "2022-07-14 00:00:00",
          "histogram": [
           {
            "bin_start": 1625097600000000000,
            "bin_end": 1628363520000000000,
            "count": 52
           },
           {
            "bin_start": 1628363520000000000,
            "bin_end": 1631629440000000000,
            "count": 52
           },
           {
            "bin_start": 1631629440000000000,
            "bin_end": 1634895360000000000,
            "count": 90
           },
           {
            "bin_start": 1634895360000000000,
            "bin_end": 1638161280000000000,
            "count": 71
           },
           {
            "bin_start": 1638161280000000000,
            "bin_end": 1641427200000000000,
            "count": 43
           },
           {
            "bin_start": 1641427200000000000,
            "bin_end": 1644693120000000000,
            "count": 113
           },
           {
            "bin_start": 1644693120000000000,
            "bin_end": 1647959040000000000,
            "count": 128
           },
           {
            "bin_start": 1647959040000000000,
            "bin_end": 1651224960000000000,
            "count": 118
           },
           {
            "bin_start": 1651224960000000000,
            "bin_end": 1654490880000000000,
            "count": 94
           },
           {
            "bin_start": 1654490880000000000,
            "bin_end": 1657756800000000000,
            "count": 95
           }
          ]
         }
        },
        {
         "name": "promoPosition",
         "dtype": "object",
         "stats": {
          "unique_count": 6,
          "nan_count": 0,
          "categories": [
           {
            "name": "Home Cir - meilleurs offres grande-1",
            "count": 315
           },
           {
            "name": "Home Cir - meilleurs offres grande-2",
            "count": 300
           },
           {
            "name": "4 others",
            "count": 241
           }
          ]
         }
        },
        {
         "name": "position",
         "dtype": "object",
         "stats": {
          "unique_count": 5,
          "nan_count": 0,
          "categories": [
           {
            "name": "position1",
            "count": 315
           },
           {
            "name": "position2",
            "count": 301
           },
           {
            "name": "3 others",
            "count": 240
           }
          ]
         }
        },
        {
         "name": "CTR",
         "dtype": "float64",
         "stats": {
          "unique_count": 421,
          "nan_count": 0,
          "min": "0.58",
          "max": "11.86",
          "histogram": [
           {
            "bin_start": 0.58,
            "bin_end": 1.7079999999999997,
            "count": 100
           },
           {
            "bin_start": 1.7079999999999997,
            "bin_end": 2.836,
            "count": 258
           },
           {
            "bin_start": 2.836,
            "bin_end": 3.9639999999999995,
            "count": 248
           },
           {
            "bin_start": 3.9639999999999995,
            "bin_end": 5.092,
            "count": 152
           },
           {
            "bin_start": 5.092,
            "bin_end": 6.22,
            "count": 64
           },
           {
            "bin_start": 6.22,
            "bin_end": 7.347999999999999,
            "count": 26
           },
           {
            "bin_start": 7.347999999999999,
            "bin_end": 8.475999999999999,
            "count": 6
           },
           {
            "bin_start": 8.475999999999999,
            "bin_end": 9.604,
            "count": 0
           },
           {
            "bin_start": 9.604,
            "bin_end": 10.732,
            "count": 1
           },
           {
            "bin_start": 10.732,
            "bin_end": 11.86,
            "count": 1
           }
          ]
         }
        },
        {
         "name": "type_banniere",
         "dtype": "object",
         "stats": {
          "unique_count": 5,
          "nan_count": 0,
          "categories": [
           {
            "name": "Autre",
            "count": 623
           },
           {
            "name": "Promotions",
            "count": 115
           },
           {
            "name": "3 others",
            "count": 118
           }
          ]
         }
        },
        {
         "name": "log_CTR",
         "dtype": "float64",
         "stats": {
          "unique_count": 421,
          "nan_count": 0,
          "min": "-0.544727175441672",
          "max": "2.4731713935695794",
          "histogram": [
           {
            "bin_start": -0.544727175441672,
            "bin_end": -0.2429373185405469,
            "count": 4
           },
           {
            "bin_start": -0.2429373185405469,
            "bin_end": 0.058852538360578244,
            "count": 23
           },
           {
            "bin_start": 0.058852538360578244,
            "bin_end": 0.3606423952617034,
            "count": 35
           },
           {
            "bin_start": 0.3606423952617034,
            "bin_end": 0.6624322521628285,
            "count": 80
           },
           {
            "bin_start": 0.6624322521628285,
            "bin_end": 0.9642221090639536,
            "count": 170
           },
           {
            "bin_start": 0.9642221090639536,
            "bin_end": 1.2660119659650788,
            "count": 202
           },
           {
            "bin_start": 1.2660119659650788,
            "bin_end": 1.567801822866204,
            "count": 213
           },
           {
            "bin_start": 1.567801822866204,
            "bin_end": 1.869591679767329,
            "count": 103
           },
           {
            "bin_start": 1.869591679767329,
            "bin_end": 2.171381536668454,
            "count": 24
           },
           {
            "bin_start": 2.171381536668454,
            "bin_end": 2.4731713935695794,
            "count": 2
           }
          ]
         }
        },
        {
         "name": "jour",
         "dtype": "object",
         "stats": {
          "unique_count": 7,
          "nan_count": 0,
          "categories": [
           {
            "name": "Sunday",
            "count": 146
           },
           {
            "name": "Saturday",
            "count": 133
           },
           {
            "name": "5 others",
            "count": 577
           }
          ]
         }
        },
        {
         "name": "mois",
         "dtype": "object",
         "stats": {
          "unique_count": 12,
          "nan_count": 0,
          "categories": [
           {
            "name": "February",
            "count": 103
           },
           {
            "name": "March",
            "count": 96
           },
           {
            "name": "10 others",
            "count": 657
           }
          ]
         }
        },
        {
         "name": "_deepnote_index_column",
         "dtype": "int64"
        }
       ],
       "rows": [
        {
         "date": "2022-07-14T00:00:00Z",
         "promoPosition": "Home Cir - meilleurs offres grande-1",
         "position": "position1",
         "CTR": 4.54,
         "type_banniere": "Promotions",
         "log_CTR": 1.5129270120532565,
         "jour": "Thursday",
         "mois": "July",
         "_deepnote_index_column": 0
        },
        {
         "date": "2022-07-14T00:00:00Z",
         "promoPosition": "Home Cir - meilleurs offres grande-2",
         "position": "position2",
         "CTR": 5.02,
         "type_banniere": "Autre",
         "log_CTR": 1.6134299337036377,
         "jour": "Thursday",
         "mois": "July",
         "_deepnote_index_column": 1
        },
        {
         "date": "2022-07-13T00:00:00Z",
         "promoPosition": "Home Cir - meilleurs offres grande-2",
         "position": "position2",
         "CTR": 3.7,
         "type_banniere": "Autre",
         "log_CTR": 1.3083328196501787,
         "jour": "Wednesday",
         "mois": "July",
         "_deepnote_index_column": 2
        },
        {
         "date": "2022-07-13T00:00:00Z",
         "promoPosition": "Home Cir - meilleurs offres grande-1",
         "position": "position1",
         "CTR": 2.8,
         "type_banniere": "Promotions",
         "log_CTR": 1.0296194171811581,
         "jour": "Wednesday",
         "mois": "July",
         "_deepnote_index_column": 3
        },
        {
         "date": "2022-07-12T00:00:00Z",
         "promoPosition": "Home Cir - meilleurs offres grande-1",
         "position": "position1",
         "CTR": 3.16,
         "type_banniere": "Promotions",
         "log_CTR": 1.1505720275988207,
         "jour": "Tuesday",
         "mois": "July",
         "_deepnote_index_column": 4
        },
        {
         "date": "2022-07-12T00:00:00Z",
         "promoPosition": "Home Cir - meilleurs offres grande-2",
         "position": "position2",
         "CTR": 5.28,
         "type_banniere": "Autre",
         "log_CTR": 1.66392609771817,
         "jour": "Tuesday",
         "mois": "July",
         "_deepnote_index_column": 5
        },
        {
         "date": "2022-07-11T00:00:00Z",
         "promoPosition": "Home Cir - meilleurs offres grande-1",
         "position": "position1",
         "CTR": 2.79,
         "type_banniere": "Promotions",
         "log_CTR": 1.0260415958332743,
         "jour": "Monday",
         "mois": "July",
         "_deepnote_index_column": 6
        },
        {
         "date": "2022-07-11T00:00:00Z",
         "promoPosition": "Home Cir - meilleurs offres grande-2",
         "position": "position2",
         "CTR": 3.8,
         "type_banniere": "Autre",
         "log_CTR": 1.33500106673234,
         "jour": "Monday",
         "mois": "July",
         "_deepnote_index_column": 7
        },
        {
         "date": "2022-07-10T00:00:00Z",
         "promoPosition": "Home Cir - meilleurs offres grande-2",
         "position": "position2",
         "CTR": 4.16,
         "type_banniere": "Autre",
         "log_CTR": 1.425515074273172,
         "jour": "Sunday",
         "mois": "July",
         "_deepnote_index_column": 8
        },
        {
         "date": "2022-07-10T00:00:00Z",
         "promoPosition": "Home Cir - meilleurs offres grande-1",
         "position": "position1",
         "CTR": 2.29,
         "type_banniere": "Promotions",
         "log_CTR": 0.8285518175661483,
         "jour": "Sunday",
         "mois": "July",
         "_deepnote_index_column": 9
        }
       ]
      },
      "text/plain": "          date                          promoPosition   position   CTR  \\\n0   2022-07-14   Home Cir - meilleurs offres grande-1  position1  4.54   \n1   2022-07-14   Home Cir - meilleurs offres grande-2  position2  5.02   \n2   2022-07-13   Home Cir - meilleurs offres grande-2  position2  3.70   \n3   2022-07-13   Home Cir - meilleurs offres grande-1  position1  2.80   \n4   2022-07-12   Home Cir - meilleurs offres grande-1  position1  3.16   \n..         ...                                    ...        ...   ...   \n851 2021-07-02   Home Cir - meilleurs offres grande-1  position1  5.07   \n852 2021-07-01   Home Cir - meilleurs offres grande-2  position2  3.10   \n853 2021-07-01   Home Cir - meilleurs offres grande-1  position1  7.11   \n854 2021-07-01   Home Cir - meilleurs offres grande-1  position1  8.31   \n855 2021-07-01  Home Cir - meilleurs offres petites-3  position3  2.44   \n\n    type_banniere   log_CTR       jour  mois  \n0      Promotions  1.512927   Thursday  July  \n1           Autre  1.613430   Thursday  July  \n2           Autre  1.308333  Wednesday  July  \n3      Promotions  1.029619  Wednesday  July  \n4      Promotions  1.150572    Tuesday  July  \n..            ...       ...        ...   ...  \n851    Promotions  1.623341     Friday  July  \n852         Autre  1.131402   Thursday  July  \n853    Promotions  1.961502   Thursday  July  \n854         Autre  2.117460   Thursday  July  \n855         Autre  0.891998   Thursday  July  \n\n[856 rows x 8 columns]",
      "text/html": "<div>\n<style scoped>\n    .dataframe tbody tr th:only-of-type {\n        vertical-align: middle;\n    }\n\n    .dataframe tbody tr th {\n        vertical-align: top;\n    }\n\n    .dataframe thead th {\n        text-align: right;\n    }\n</style>\n<table border=\"1\" class=\"dataframe\">\n  <thead>\n    <tr style=\"text-align: right;\">\n      <th></th>\n      <th>date</th>\n      <th>promoPosition</th>\n      <th>position</th>\n      <th>CTR</th>\n      <th>type_banniere</th>\n      <th>log_CTR</th>\n      <th>jour</th>\n      <th>mois</th>\n    </tr>\n  </thead>\n  <tbody>\n    <tr>\n      <th>0</th>\n      <td>2022-07-14</td>\n      <td>Home Cir - meilleurs offres grande-1</td>\n      <td>position1</td>\n      <td>4.54</td>\n      <td>Promotions</td>\n      <td>1.512927</td>\n      <td>Thursday</td>\n      <td>July</td>\n    </tr>\n    <tr>\n      <th>1</th>\n      <td>2022-07-14</td>\n      <td>Home Cir - meilleurs offres grande-2</td>\n      <td>position2</td>\n      <td>5.02</td>\n      <td>Autre</td>\n      <td>1.613430</td>\n      <td>Thursday</td>\n      <td>July</td>\n    </tr>\n    <tr>\n      <th>2</th>\n      <td>2022-07-13</td>\n      <td>Home Cir - meilleurs offres grande-2</td>\n      <td>position2</td>\n      <td>3.70</td>\n      <td>Autre</td>\n      <td>1.308333</td>\n      <td>Wednesday</td>\n      <td>July</td>\n    </tr>\n    <tr>\n      <th>3</th>\n      <td>2022-07-13</td>\n      <td>Home Cir - meilleurs offres grande-1</td>\n      <td>position1</td>\n      <td>2.80</td>\n      <td>Promotions</td>\n      <td>1.029619</td>\n      <td>Wednesday</td>\n      <td>July</td>\n    </tr>\n    <tr>\n      <th>4</th>\n      <td>2022-07-12</td>\n      <td>Home Cir - meilleurs offres grande-1</td>\n      <td>position1</td>\n      <td>3.16</td>\n      <td>Promotions</td>\n      <td>1.150572</td>\n      <td>Tuesday</td>\n      <td>July</td>\n    </tr>\n    <tr>\n      <th>...</th>\n      <td>...</td>\n      <td>...</td>\n      <td>...</td>\n      <td>...</td>\n      <td>...</td>\n      <td>...</td>\n      <td>...</td>\n      <td>...</td>\n    </tr>\n    <tr>\n      <th>851</th>\n      <td>2021-07-02</td>\n      <td>Home Cir - meilleurs offres grande-1</td>\n      <td>position1</td>\n      <td>5.07</td>\n      <td>Promotions</td>\n      <td>1.623341</td>\n      <td>Friday</td>\n      <td>July</td>\n    </tr>\n    <tr>\n      <th>852</th>\n      <td>2021-07-01</td>\n      <td>Home Cir - meilleurs offres grande-2</td>\n      <td>position2</td>\n      <td>3.10</td>\n      <td>Autre</td>\n      <td>1.131402</td>\n      <td>Thursday</td>\n      <td>July</td>\n    </tr>\n    <tr>\n      <th>853</th>\n      <td>2021-07-01</td>\n      <td>Home Cir - meilleurs offres grande-1</td>\n      <td>position1</td>\n      <td>7.11</td>\n      <td>Promotions</td>\n      <td>1.961502</td>\n      <td>Thursday</td>\n      <td>July</td>\n    </tr>\n    <tr>\n      <th>854</th>\n      <td>2021-07-01</td>\n      <td>Home Cir - meilleurs offres grande-1</td>\n      <td>position1</td>\n      <td>8.31</td>\n      <td>Autre</td>\n      <td>2.117460</td>\n      <td>Thursday</td>\n      <td>July</td>\n    </tr>\n    <tr>\n      <th>855</th>\n      <td>2021-07-01</td>\n      <td>Home Cir - meilleurs offres petites-3</td>\n      <td>position3</td>\n      <td>2.44</td>\n      <td>Autre</td>\n      <td>0.891998</td>\n      <td>Thursday</td>\n      <td>July</td>\n    </tr>\n  </tbody>\n</table>\n<p>856 rows × 8 columns</p>\n</div>"
     },
     "metadata": {}
    }
   ]
  },
  {
   "cell_type": "code",
   "metadata": {
    "tags": [],
    "cell_id": "00010-163b647e-9a8c-4d2a-afc1-4a49a82d214a",
    "deepnote_to_be_reexecuted": false,
    "source_hash": "6a77453d",
    "execution_start": 1661037942708,
    "execution_millis": 2,
    "deepnote_cell_type": "code",
    "deepnote_cell_height": 76
   },
   "source": "import matplotlib.pyplot as plt",
   "execution_count": 33,
   "outputs": []
  },
  {
   "cell_type": "code",
   "metadata": {
    "tags": [],
    "deepnote_to_be_reexecuted": false,
    "source_hash": "2236f94e",
    "execution_start": 1661038124519,
    "execution_millis": 519,
    "cell_id": "00012-3e3d60fa-b311-47df-ac38-07fed746473f",
    "deepnote_cell_type": "code",
    "deepnote_cell_height": 588.1875,
    "deepnote_output_heights": [
     20.1875,
     427
    ]
   },
   "source": "plt.figure(figsize=(12,7))\nsns.boxplot(y='CTR',x='type_banniere',data=data)",
   "execution_count": 53,
   "outputs": [
    {
     "output_type": "execute_result",
     "execution_count": 53,
     "data": {
      "text/plain": "<AxesSubplot:xlabel='type_banniere', ylabel='CTR'>"
     },
     "metadata": {}
    },
    {
     "data": {
      "text/plain": "<Figure size 864x504 with 1 Axes>",
      "image/png": "[encoded data removed]"
     },
     "metadata": {
      "needs_background": "light",
      "image/png": {
       "width": 717,
       "height": 426
      }
     },
     "output_type": "display_data"
    }
   ]
  },
  {
   "cell_type": "code",
   "metadata": {
    "tags": [],
    "deepnote_to_be_reexecuted": false,
    "source_hash": "f1c3ca60",
    "execution_start": 1661037955384,
    "execution_millis": 306,
    "cell_id": "00013-20380659-a6d5-4d9a-8fe6-1be51157e316",
    "deepnote_cell_type": "code",
    "deepnote_cell_height": 587.1875,
    "deepnote_output_heights": [
     20.1875,
     426
    ]
   },
   "source": "plt.figure(figsize=(12,7))\nsns.boxplot(y='CTR',x='jour',data=data)",
   "execution_count": 35,
   "outputs": [
    {
     "output_type": "execute_result",
     "execution_count": 35,
     "data": {
      "text/plain": "<AxesSubplot:xlabel='jour', ylabel='CTR'>"
     },
     "metadata": {}
    },
    {
     "data": {
      "text/plain": "<Figure size 864x504 with 1 Axes>",
      "image/png": "[encoded data removed]"
     },
     "metadata": {
      "needs_background": "light",
      "image/png": {
       "width": 717,
       "height": 425
      }
     },
     "output_type": "display_data"
    }
   ]
  },
  {
   "cell_type": "code",
   "metadata": {
    "tags": [],
    "deepnote_to_be_reexecuted": false,
    "source_hash": "d7a609bd",
    "execution_start": 1661037961417,
    "execution_millis": 363,
    "cell_id": "00014-a20a2989-b198-4591-8f83-53502bc6c8ae",
    "deepnote_cell_type": "code",
    "deepnote_cell_height": 587.1875,
    "deepnote_output_heights": [
     20.1875,
     426
    ]
   },
   "source": "plt.figure(figsize=(12,7))\nsns.boxplot(y='CTR',x='mois',data=data)",
   "execution_count": 36,
   "outputs": [
    {
     "output_type": "execute_result",
     "execution_count": 36,
     "data": {
      "text/plain": "<AxesSubplot:xlabel='mois', ylabel='CTR'>"
     },
     "metadata": {}
    },
    {
     "data": {
      "text/plain": "<Figure size 864x504 with 1 Axes>",
      "image/png": "[encoded data removed]"
     },
     "metadata": {
      "needs_background": "light",
      "image/png": {
       "width": 717,
       "height": 425
      }
     },
     "output_type": "display_data"
    }
   ]
  },
  {
   "cell_type": "code",
   "metadata": {
    "tags": [],
    "deepnote_to_be_reexecuted": false,
    "source_hash": "b3680e37",
    "execution_start": 1661037967013,
    "execution_millis": 227,
    "cell_id": "00015-81019f6a-bae7-4cbc-a7f4-2ea6daf2e97d",
    "deepnote_cell_type": "code",
    "deepnote_cell_height": 587.1875,
    "deepnote_output_heights": [
     20.1875,
     426
    ]
   },
   "source": "plt.figure(figsize=(12,7))\nsns.boxplot(y='CTR',x='position',data=data)",
   "execution_count": 37,
   "outputs": [
    {
     "output_type": "execute_result",
     "execution_count": 37,
     "data": {
      "text/plain": "<AxesSubplot:xlabel='position', ylabel='CTR'>"
     },
     "metadata": {}
    },
    {
     "data": {
      "text/plain": "<Figure size 864x504 with 1 Axes>",
      "image/png": "[encoded data removed]"
     },
     "metadata": {
      "needs_background": "light",
      "image/png": {
       "width": 717,
       "height": 425
      }
     },
     "output_type": "display_data"
    }
   ]
  },
  {
   "cell_type": "code",
   "metadata": {
    "tags": [],
    "deepnote_to_be_reexecuted": false,
    "source_hash": "40fea923",
    "execution_start": 1661037971793,
    "execution_millis": 1,
    "cell_id": "00016-3283e1fc-dd7e-4a26-9c2b-297571ed6410",
    "deepnote_cell_type": "code",
    "deepnote_cell_height": 94
   },
   "source": "data=data.drop(columns=['date','promoPosition'])\n",
   "execution_count": 38,
   "outputs": []
  },
  {
   "cell_type": "code",
   "metadata": {
    "tags": [],
    "deepnote_to_be_reexecuted": false,
    "source_hash": "ef9fac04",
    "execution_start": 1661037974733,
    "execution_millis": 133,
    "cell_id": "00017-a94bb77c-191c-45a6-bc05-461c9f357120",
    "deepnote_cell_type": "code",
    "deepnote_cell_height": 613
   },
   "source": "data\n",
   "execution_count": 39,
   "outputs": [
    {
     "output_type": "execute_result",
     "execution_count": 39,
     "data": {
      "application/vnd.deepnote.dataframe.v3+json": {
       "column_count": 6,
       "row_count": 856,
       "columns": [
        {
         "name": "position",
         "dtype": "object",
         "stats": {
          "unique_count": 5,
          "nan_count": 0,
          "categories": [
           {
            "name": "position1",
            "count": 315
           },
           {
            "name": "position2",
            "count": 301
           },
           {
            "name": "3 others",
            "count": 240
           }
          ]
         }
        },
        {
         "name": "CTR",
         "dtype": "float64",
         "stats": {
          "unique_count": 421,
          "nan_count": 0,
          "min": "0.58",
          "max": "11.86",
          "histogram": [
           {
            "bin_start": 0.58,
            "bin_end": 1.7079999999999997,
            "count": 100
           },
           {
            "bin_start": 1.7079999999999997,
            "bin_end": 2.836,
            "count": 258
           },
           {
            "bin_start": 2.836,
            "bin_end": 3.9639999999999995,
            "count": 248
           },
           {
            "bin_start": 3.9639999999999995,
            "bin_end": 5.092,
            "count": 152
           },
           {
            "bin_start": 5.092,
            "bin_end": 6.22,
            "count": 64
           },
           {
            "bin_start": 6.22,
            "bin_end": 7.347999999999999,
            "count": 26
           },
           {
            "bin_start": 7.347999999999999,
            "bin_end": 8.475999999999999,
            "count": 6
           },
           {
            "bin_start": 8.475999999999999,
            "bin_end": 9.604,
            "count": 0
           },
           {
            "bin_start": 9.604,
            "bin_end": 10.732,
            "count": 1
           },
           {
            "bin_start": 10.732,
            "bin_end": 11.86,
            "count": 1
           }
          ]
         }
        },
        {
         "name": "type_banniere",
         "dtype": "object",
         "stats": {
          "unique_count": 5,
          "nan_count": 0,
          "categories": [
           {
            "name": "Autre",
            "count": 623
           },
           {
            "name": "Promotions",
            "count": 115
           },
           {
            "name": "3 others",
            "count": 118
           }
          ]
         }
        },
        {
         "name": "log_CTR",
         "dtype": "float64",
         "stats": {
          "unique_count": 421,
          "nan_count": 0,
          "min": "-0.544727175441672",
          "max": "2.4731713935695794",
          "histogram": [
           {
            "bin_start": -0.544727175441672,
            "bin_end": -0.2429373185405469,
            "count": 4
           },
           {
            "bin_start": -0.2429373185405469,
            "bin_end": 0.058852538360578244,
            "count": 23
           },
           {
            "bin_start": 0.058852538360578244,
            "bin_end": 0.3606423952617034,
            "count": 35
           },
           {
            "bin_start": 0.3606423952617034,
            "bin_end": 0.6624322521628285,
            "count": 80
           },
           {
            "bin_start": 0.6624322521628285,
            "bin_end": 0.9642221090639536,
            "count": 170
           },
           {
            "bin_start": 0.9642221090639536,
            "bin_end": 1.2660119659650788,
            "count": 202
           },
           {
            "bin_start": 1.2660119659650788,
            "bin_end": 1.567801822866204,
            "count": 213
           },
           {
            "bin_start": 1.567801822866204,
            "bin_end": 1.869591679767329,
            "count": 103
           },
           {
            "bin_start": 1.869591679767329,
            "bin_end": 2.171381536668454,
            "count": 24
           },
           {
            "bin_start": 2.171381536668454,
            "bin_end": 2.4731713935695794,
            "count": 2
           }
          ]
         }
        },
        {
         "name": "jour",
         "dtype": "object",
         "stats": {
          "unique_count": 7,
          "nan_count": 0,
          "categories": [
           {
            "name": "Sunday",
            "count": 146
           },
           {
            "name": "Saturday",
            "count": 133
           },
           {
            "name": "5 others",
            "count": 577
           }
          ]
         }
        },
        {
         "name": "mois",
         "dtype": "object",
         "stats": {
          "unique_count": 12,
          "nan_count": 0,
          "categories": [
           {
            "name": "February",
            "count": 103
           },
           {
            "name": "March",
            "count": 96
           },
           {
            "name": "10 others",
            "count": 657
           }
          ]
         }
        },
        {
         "name": "_deepnote_index_column",
         "dtype": "int64"
        }
       ],
       "rows": [
        {
         "position": "position1",
         "CTR": 4.54,
         "type_banniere": "Promotions",
         "log_CTR": 1.5129270120532565,
         "jour": "Thursday",
         "mois": "July",
         "_deepnote_index_column": 0
        },
        {
         "position": "position2",
         "CTR": 5.02,
         "type_banniere": "Autre",
         "log_CTR": 1.6134299337036377,
         "jour": "Thursday",
         "mois": "July",
         "_deepnote_index_column": 1
        },
        {
         "position": "position2",
         "CTR": 3.7,
         "type_banniere": "Autre",
         "log_CTR": 1.3083328196501787,
         "jour": "Wednesday",
         "mois": "July",
         "_deepnote_index_column": 2
        },
        {
         "position": "position1",
         "CTR": 2.8,
         "type_banniere": "Promotions",
         "log_CTR": 1.0296194171811581,
         "jour": "Wednesday",
         "mois": "July",
         "_deepnote_index_column": 3
        },
        {
         "position": "position1",
         "CTR": 3.16,
         "type_banniere": "Promotions",
         "log_CTR": 1.1505720275988207,
         "jour": "Tuesday",
         "mois": "July",
         "_deepnote_index_column": 4
        },
        {
         "position": "position2",
         "CTR": 5.28,
         "type_banniere": "Autre",
         "log_CTR": 1.66392609771817,
         "jour": "Tuesday",
         "mois": "July",
         "_deepnote_index_column": 5
        },
        {
         "position": "position1",
         "CTR": 2.79,
         "type_banniere": "Promotions",
         "log_CTR": 1.0260415958332743,
         "jour": "Monday",
         "mois": "July",
         "_deepnote_index_column": 6
        },
        {
         "position": "position2",
         "CTR": 3.8,
         "type_banniere": "Autre",
         "log_CTR": 1.33500106673234,
         "jour": "Monday",
         "mois": "July",
         "_deepnote_index_column": 7
        },
        {
         "position": "position2",
         "CTR": 4.16,
         "type_banniere": "Autre",
         "log_CTR": 1.425515074273172,
         "jour": "Sunday",
         "mois": "July",
         "_deepnote_index_column": 8
        },
        {
         "position": "position1",
         "CTR": 2.29,
         "type_banniere": "Promotions",
         "log_CTR": 0.8285518175661483,
         "jour": "Sunday",
         "mois": "July",
         "_deepnote_index_column": 9
        }
       ]
      },
      "text/plain": "      position   CTR type_banniere   log_CTR       jour  mois\n0    position1  4.54    Promotions  1.512927   Thursday  July\n1    position2  5.02         Autre  1.613430   Thursday  July\n2    position2  3.70         Autre  1.308333  Wednesday  July\n3    position1  2.80    Promotions  1.029619  Wednesday  July\n4    position1  3.16    Promotions  1.150572    Tuesday  July\n..         ...   ...           ...       ...        ...   ...\n851  position1  5.07    Promotions  1.623341     Friday  July\n852  position2  3.10         Autre  1.131402   Thursday  July\n853  position1  7.11    Promotions  1.961502   Thursday  July\n854  position1  8.31         Autre  2.117460   Thursday  July\n855  position3  2.44         Autre  0.891998   Thursday  July\n\n[856 rows x 6 columns]",
      "text/html": "<div>\n<style scoped>\n    .dataframe tbody tr th:only-of-type {\n        vertical-align: middle;\n    }\n\n    .dataframe tbody tr th {\n        vertical-align: top;\n    }\n\n    .dataframe thead th {\n        text-align: right;\n    }\n</style>\n<table border=\"1\" class=\"dataframe\">\n  <thead>\n    <tr style=\"text-align: right;\">\n      <th></th>\n      <th>position</th>\n      <th>CTR</th>\n      <th>type_banniere</th>\n      <th>log_CTR</th>\n      <th>jour</th>\n      <th>mois</th>\n    </tr>\n  </thead>\n  <tbody>\n    <tr>\n      <th>0</th>\n      <td>position1</td>\n      <td>4.54</td>\n      <td>Promotions</td>\n      <td>1.512927</td>\n      <td>Thursday</td>\n      <td>July</td>\n    </tr>\n    <tr>\n      <th>1</th>\n      <td>position2</td>\n      <td>5.02</td>\n      <td>Autre</td>\n      <td>1.613430</td>\n      <td>Thursday</td>\n      <td>July</td>\n    </tr>\n    <tr>\n      <th>2</th>\n      <td>position2</td>\n      <td>3.70</td>\n      <td>Autre</td>\n      <td>1.308333</td>\n      <td>Wednesday</td>\n      <td>July</td>\n    </tr>\n    <tr>\n      <th>3</th>\n      <td>position1</td>\n      <td>2.80</td>\n      <td>Promotions</td>\n      <td>1.029619</td>\n      <td>Wednesday</td>\n      <td>July</td>\n    </tr>\n    <tr>\n      <th>4</th>\n      <td>position1</td>\n      <td>3.16</td>\n      <td>Promotions</td>\n      <td>1.150572</td>\n      <td>Tuesday</td>\n      <td>July</td>\n    </tr>\n    <tr>\n      <th>...</th>\n      <td>...</td>\n      <td>...</td>\n      <td>...</td>\n      <td>...</td>\n      <td>...</td>\n      <td>...</td>\n    </tr>\n    <tr>\n      <th>851</th>\n      <td>position1</td>\n      <td>5.07</td>\n      <td>Promotions</td>\n      <td>1.623341</td>\n      <td>Friday</td>\n      <td>July</td>\n    </tr>\n    <tr>\n      <th>852</th>\n      <td>position2</td>\n      <td>3.10</td>\n      <td>Autre</td>\n      <td>1.131402</td>\n      <td>Thursday</td>\n      <td>July</td>\n    </tr>\n    <tr>\n      <th>853</th>\n      <td>position1</td>\n      <td>7.11</td>\n      <td>Promotions</td>\n      <td>1.961502</td>\n      <td>Thursday</td>\n      <td>July</td>\n    </tr>\n    <tr>\n      <th>854</th>\n      <td>position1</td>\n      <td>8.31</td>\n      <td>Autre</td>\n      <td>2.117460</td>\n      <td>Thursday</td>\n      <td>July</td>\n    </tr>\n    <tr>\n      <th>855</th>\n      <td>position3</td>\n      <td>2.44</td>\n      <td>Autre</td>\n      <td>0.891998</td>\n      <td>Thursday</td>\n      <td>July</td>\n    </tr>\n  </tbody>\n</table>\n<p>856 rows × 6 columns</p>\n</div>"
     },
     "metadata": {}
    }
   ]
  },
  {
   "cell_type": "code",
   "metadata": {
    "tags": [],
    "deepnote_to_be_reexecuted": false,
    "source_hash": "c70742ad",
    "execution_start": 1661038011197,
    "execution_millis": 8,
    "cell_id": "00018-4cc22272-be16-493e-b020-034f44778c9d",
    "deepnote_cell_type": "code",
    "deepnote_cell_height": 227.3125,
    "deepnote_output_heights": [
     135.3125
    ]
   },
   "source": "data.isna().sum()",
   "execution_count": 41,
   "outputs": [
    {
     "output_type": "execute_result",
     "execution_count": 41,
     "data": {
      "text/plain": "position         0\nCTR              0\ntype_banniere    0\nlog_CTR          0\njour             0\nmois             0\ndtype: int64"
     },
     "metadata": {}
    }
   ]
  },
  {
   "cell_type": "code",
   "metadata": {
    "tags": [],
    "deepnote_to_be_reexecuted": false,
    "source_hash": "19a7affd",
    "execution_start": 1661038144140,
    "execution_millis": 77,
    "cell_id": "00019-61969bba-4fe4-44eb-94ed-4835c853dd8b",
    "deepnote_cell_type": "code",
    "deepnote_cell_height": 652
   },
   "source": "list_features=['position','type_banniere', 'mois']\nX_cat = pd.get_dummies(data[list_features],drop_first = 1)\nX_cat",
   "execution_count": 54,
   "outputs": [
    {
     "output_type": "execute_result",
     "execution_count": 54,
     "data": {
      "application/vnd.deepnote.dataframe.v3+json": {
       "column_count": 19,
       "row_count": 856,
       "columns": [
        {
         "name": "position_position1",
         "dtype": "uint8",
         "stats": {
          "unique_count": 2,
          "nan_count": 0,
          "min": "0",
          "max": "1",
          "histogram": [
           {
            "bin_start": 0,
            "bin_end": 0.1,
            "count": 541
           },
           {
            "bin_start": 0.1,
            "bin_end": 0.2,
            "count": 0
           },
           {
            "bin_start": 0.2,
            "bin_end": 0.30000000000000004,
            "count": 0
           },
           {
            "bin_start": 0.30000000000000004,
            "bin_end": 0.4,
            "count": 0
           },
           {
            "bin_start": 0.4,
            "bin_end": 0.5,
            "count": 0
           },
           {
            "bin_start": 0.5,
            "bin_end": 0.6000000000000001,
            "count": 0
           },
           {
            "bin_start": 0.6000000000000001,
            "bin_end": 0.7000000000000001,
            "count": 0
           },
           {
            "bin_start": 0.7000000000000001,
            "bin_end": 0.8,
            "count": 0
           },
           {
            "bin_start": 0.8,
            "bin_end": 0.9,
            "count": 0
           },
           {
            "bin_start": 0.9,
            "bin_end": 1,
            "count": 315
           }
          ]
         }
        },
        {
         "name": "position_position2",
         "dtype": "uint8",
         "stats": {
          "unique_count": 2,
          "nan_count": 0,
          "min": "0",
          "max": "1",
          "histogram": [
           {
            "bin_start": 0,
            "bin_end": 0.1,
            "count": 555
           },
           {
            "bin_start": 0.1,
            "bin_end": 0.2,
            "count": 0
           },
           {
            "bin_start": 0.2,
            "bin_end": 0.30000000000000004,
            "count": 0
           },
           {
            "bin_start": 0.30000000000000004,
            "bin_end": 0.4,
            "count": 0
           },
           {
            "bin_start": 0.4,
            "bin_end": 0.5,
            "count": 0
           },
           {
            "bin_start": 0.5,
            "bin_end": 0.6000000000000001,
            "count": 0
           },
           {
            "bin_start": 0.6000000000000001,
            "bin_end": 0.7000000000000001,
            "count": 0
           },
           {
            "bin_start": 0.7000000000000001,
            "bin_end": 0.8,
            "count": 0
           },
           {
            "bin_start": 0.8,
            "bin_end": 0.9,
            "count": 0
           },
           {
            "bin_start": 0.9,
            "bin_end": 1,
            "count": 301
           }
          ]
         }
        },
        {
         "name": "position_position3",
         "dtype": "uint8",
         "stats": {
          "unique_count": 2,
          "nan_count": 0,
          "min": "0",
          "max": "1",
          "histogram": [
           {
            "bin_start": 0,
            "bin_end": 0.1,
            "count": 650
           },
           {
            "bin_start": 0.1,
            "bin_end": 0.2,
            "count": 0
           },
           {
            "bin_start": 0.2,
            "bin_end": 0.30000000000000004,
            "count": 0
           },
           {
            "bin_start": 0.30000000000000004,
            "bin_end": 0.4,
            "count": 0
           },
           {
            "bin_start": 0.4,
            "bin_end": 0.5,
            "count": 0
           },
           {
            "bin_start": 0.5,
            "bin_end": 0.6000000000000001,
            "count": 0
           },
           {
            "bin_start": 0.6000000000000001,
            "bin_end": 0.7000000000000001,
            "count": 0
           },
           {
            "bin_start": 0.7000000000000001,
            "bin_end": 0.8,
            "count": 0
           },
           {
            "bin_start": 0.8,
            "bin_end": 0.9,
            "count": 0
           },
           {
            "bin_start": 0.9,
            "bin_end": 1,
            "count": 206
           }
          ]
         }
        },
        {
         "name": "position_position5",
         "dtype": "uint8",
         "stats": {
          "unique_count": 2,
          "nan_count": 0,
          "min": "0",
          "max": "1",
          "histogram": [
           {
            "bin_start": 0,
            "bin_end": 0.1,
            "count": 851
           },
           {
            "bin_start": 0.1,
            "bin_end": 0.2,
            "count": 0
           },
           {
            "bin_start": 0.2,
            "bin_end": 0.30000000000000004,
            "count": 0
           },
           {
            "bin_start": 0.30000000000000004,
            "bin_end": 0.4,
            "count": 0
           },
           {
            "bin_start": 0.4,
            "bin_end": 0.5,
            "count": 0
           },
           {
            "bin_start": 0.5,
            "bin_end": 0.6000000000000001,
            "count": 0
           },
           {
            "bin_start": 0.6000000000000001,
            "bin_end": 0.7000000000000001,
            "count": 0
           },
           {
            "bin_start": 0.7000000000000001,
            "bin_end": 0.8,
            "count": 0
           },
           {
            "bin_start": 0.8,
            "bin_end": 0.9,
            "count": 0
           },
           {
            "bin_start": 0.9,
            "bin_end": 1,
            "count": 5
           }
          ]
         }
        },
        {
         "name": "type_banniere_Bons Plans",
         "dtype": "uint8",
         "stats": {
          "unique_count": 2,
          "nan_count": 0,
          "min": "0",
          "max": "1",
          "histogram": [
           {
            "bin_start": 0,
            "bin_end": 0.1,
            "count": 789
           },
           {
            "bin_start": 0.1,
            "bin_end": 0.2,
            "count": 0
           },
           {
            "bin_start": 0.2,
            "bin_end": 0.30000000000000004,
            "count": 0
           },
           {
            "bin_start": 0.30000000000000004,
            "bin_end": 0.4,
            "count": 0
           },
           {
            "bin_start": 0.4,
            "bin_end": 0.5,
            "count": 0
           },
           {
            "bin_start": 0.5,
            "bin_end": 0.6000000000000001,
            "count": 0
           },
           {
            "bin_start": 0.6000000000000001,
            "bin_end": 0.7000000000000001,
            "count": 0
           },
           {
            "bin_start": 0.7000000000000001,
            "bin_end": 0.8,
            "count": 0
           },
           {
            "bin_start": 0.8,
            "bin_end": 0.9,
            "count": 0
           },
           {
            "bin_start": 0.9,
            "bin_end": 1,
            "count": 67
           }
          ]
         }
        },
        {
         "name": "type_banniere_Crazy",
         "dtype": "uint8",
         "stats": {
          "unique_count": 2,
          "nan_count": 0,
          "min": "0",
          "max": "1",
          "histogram": [
           {
            "bin_start": 0,
            "bin_end": 0.1,
            "count": 806
           },
           {
            "bin_start": 0.1,
            "bin_end": 0.2,
            "count": 0
           },
           {
            "bin_start": 0.2,
            "bin_end": 0.30000000000000004,
            "count": 0
           },
           {
            "bin_start": 0.30000000000000004,
            "bin_end": 0.4,
            "count": 0
           },
           {
            "bin_start": 0.4,
            "bin_end": 0.5,
            "count": 0
           },
           {
            "bin_start": 0.5,
            "bin_end": 0.6000000000000001,
            "count": 0
           },
           {
            "bin_start": 0.6000000000000001,
            "bin_end": 0.7000000000000001,
            "count": 0
           },
           {
            "bin_start": 0.7000000000000001,
            "bin_end": 0.8,
            "count": 0
           },
           {
            "bin_start": 0.8,
            "bin_end": 0.9,
            "count": 0
           },
           {
            "bin_start": 0.9,
            "bin_end": 1,
            "count": 50
           }
          ]
         }
        },
        {
         "name": "type_banniere_Promotions",
         "dtype": "uint8",
         "stats": {
          "unique_count": 2,
          "nan_count": 0,
          "min": "0",
          "max": "1",
          "histogram": [
           {
            "bin_start": 0,
            "bin_end": 0.1,
            "count": 741
           },
           {
            "bin_start": 0.1,
            "bin_end": 0.2,
            "count": 0
           },
           {
            "bin_start": 0.2,
            "bin_end": 0.30000000000000004,
            "count": 0
           },
           {
            "bin_start": 0.30000000000000004,
            "bin_end": 0.4,
            "count": 0
           },
           {
            "bin_start": 0.4,
            "bin_end": 0.5,
            "count": 0
           },
           {
            "bin_start": 0.5,
            "bin_end": 0.6000000000000001,
            "count": 0
           },
           {
            "bin_start": 0.6000000000000001,
            "bin_end": 0.7000000000000001,
            "count": 0
           },
           {
            "bin_start": 0.7000000000000001,
            "bin_end": 0.8,
            "count": 0
           },
           {
            "bin_start": 0.8,
            "bin_end": 0.9,
            "count": 0
           },
           {
            "bin_start": 0.9,
            "bin_end": 1,
            "count": 115
           }
          ]
         }
        },
        {
         "name": "type_banniere_Vente flash",
         "dtype": "uint8",
         "stats": {
          "unique_count": 2,
          "nan_count": 0,
          "min": "0",
          "max": "1",
          "histogram": [
           {
            "bin_start": 0,
            "bin_end": 0.1,
            "count": 855
           },
           {
            "bin_start": 0.1,
            "bin_end": 0.2,
            "count": 0
           },
           {
            "bin_start": 0.2,
            "bin_end": 0.30000000000000004,
            "count": 0
           },
           {
            "bin_start": 0.30000000000000004,
            "bin_end": 0.4,
            "count": 0
           },
           {
            "bin_start": 0.4,
            "bin_end": 0.5,
            "count": 0
           },
           {
            "bin_start": 0.5,
            "bin_end": 0.6000000000000001,
            "count": 0
           },
           {
            "bin_start": 0.6000000000000001,
            "bin_end": 0.7000000000000001,
            "count": 0
           },
           {
            "bin_start": 0.7000000000000001,
            "bin_end": 0.8,
            "count": 0
           },
           {
            "bin_start": 0.8,
            "bin_end": 0.9,
            "count": 0
           },
           {
            "bin_start": 0.9,
            "bin_end": 1,
            "count": 1
           }
          ]
         }
        },
        {
         "name": "mois_August",
         "dtype": "uint8",
         "stats": {
          "unique_count": 2,
          "nan_count": 0,
          "min": "0",
          "max": "1",
          "histogram": [
           {
            "bin_start": 0,
            "bin_end": 0.1,
            "count": 809
           },
           {
            "bin_start": 0.1,
            "bin_end": 0.2,
            "count": 0
           },
           {
            "bin_start": 0.2,
            "bin_end": 0.30000000000000004,
            "count": 0
           },
           {
            "bin_start": 0.30000000000000004,
            "bin_end": 0.4,
            "count": 0
           },
           {
            "bin_start": 0.4,
            "bin_end": 0.5,
            "count": 0
           },
           {
            "bin_start": 0.5,
            "bin_end": 0.6000000000000001,
            "count": 0
           },
           {
            "bin_start": 0.6000000000000001,
            "bin_end": 0.7000000000000001,
            "count": 0
           },
           {
            "bin_start": 0.7000000000000001,
            "bin_end": 0.8,
            "count": 0
           },
           {
            "bin_start": 0.8,
            "bin_end": 0.9,
            "count": 0
           },
           {
            "bin_start": 0.9,
            "bin_end": 1,
            "count": 47
           }
          ]
         }
        },
        {
         "name": "mois_December",
         "dtype": "uint8",
         "stats": {
          "unique_count": 2,
          "nan_count": 0,
          "min": "0",
          "max": "1",
          "histogram": [
           {
            "bin_start": 0,
            "bin_end": 0.1,
            "count": 827
           },
           {
            "bin_start": 0.1,
            "bin_end": 0.2,
            "count": 0
           },
           {
            "bin_start": 0.2,
            "bin_end": 0.30000000000000004,
            "count": 0
           },
           {
            "bin_start": 0.30000000000000004,
            "bin_end": 0.4,
            "count": 0
           },
           {
            "bin_start": 0.4,
            "bin_end": 0.5,
            "count": 0
           },
           {
            "bin_start": 0.5,
            "bin_end": 0.6000000000000001,
            "count": 0
           },
           {
            "bin_start": 0.6000000000000001,
            "bin_end": 0.7000000000000001,
            "count": 0
           },
           {
            "bin_start": 0.7000000000000001,
            "bin_end": 0.8,
            "count": 0
           },
           {
            "bin_start": 0.8,
            "bin_end": 0.9,
            "count": 0
           },
           {
            "bin_start": 0.9,
            "bin_end": 1,
            "count": 29
           }
          ]
         }
        },
        {
         "name": "mois_February",
         "dtype": "uint8",
         "stats": {
          "unique_count": 2,
          "nan_count": 0,
          "min": "0",
          "max": "1",
          "histogram": [
           {
            "bin_start": 0,
            "bin_end": 0.1,
            "count": 753
           },
           {
            "bin_start": 0.1,
            "bin_end": 0.2,
            "count": 0
           },
           {
            "bin_start": 0.2,
            "bin_end": 0.30000000000000004,
            "count": 0
           },
           {
            "bin_start": 0.30000000000000004,
            "bin_end": 0.4,
            "count": 0
           },
           {
            "bin_start": 0.4,
            "bin_end": 0.5,
            "count": 0
           },
           {
            "bin_start": 0.5,
            "bin_end": 0.6000000000000001,
            "count": 0
           },
           {
            "bin_start": 0.6000000000000001,
            "bin_end": 0.7000000000000001,
            "count": 0
           },
           {
            "bin_start": 0.7000000000000001,
            "bin_end": 0.8,
            "count": 0
           },
           {
            "bin_start": 0.8,
            "bin_end": 0.9,
            "count": 0
           },
           {
            "bin_start": 0.9,
            "bin_end": 1,
            "count": 103
           }
          ]
         }
        },
        {
         "name": "mois_January",
         "dtype": "uint8",
         "stats": {
          "unique_count": 2,
          "nan_count": 0,
          "min": "0",
          "max": "1",
          "histogram": [
           {
            "bin_start": 0,
            "bin_end": 0.1,
            "count": 772
           },
           {
            "bin_start": 0.1,
            "bin_end": 0.2,
            "count": 0
           },
           {
            "bin_start": 0.2,
            "bin_end": 0.30000000000000004,
            "count": 0
           },
           {
            "bin_start": 0.30000000000000004,
            "bin_end": 0.4,
            "count": 0
           },
           {
            "bin_start": 0.4,
            "bin_end": 0.5,
            "count": 0
           },
           {
            "bin_start": 0.5,
            "bin_end": 0.6000000000000001,
            "count": 0
           },
           {
            "bin_start": 0.6000000000000001,
            "bin_end": 0.7000000000000001,
            "count": 0
           },
           {
            "bin_start": 0.7000000000000001,
            "bin_end": 0.8,
            "count": 0
           },
           {
            "bin_start": 0.8,
            "bin_end": 0.9,
            "count": 0
           },
           {
            "bin_start": 0.9,
            "bin_end": 1,
            "count": 84
           }
          ]
         }
        },
        {
         "name": "mois_July",
         "dtype": "uint8",
         "stats": {
          "unique_count": 2,
          "nan_count": 0,
          "min": "0",
          "max": "1",
          "histogram": [
           {
            "bin_start": 0,
            "bin_end": 0.1,
            "count": 784
           },
           {
            "bin_start": 0.1,
            "bin_end": 0.2,
            "count": 0
           },
           {
            "bin_start": 0.2,
            "bin_end": 0.30000000000000004,
            "count": 0
           },
           {
            "bin_start": 0.30000000000000004,
            "bin_end": 0.4,
            "count": 0
           },
           {
            "bin_start": 0.4,
            "bin_end": 0.5,
            "count": 0
           },
           {
            "bin_start": 0.5,
            "bin_end": 0.6000000000000001,
            "count": 0
           },
           {
            "bin_start": 0.6000000000000001,
            "bin_end": 0.7000000000000001,
            "count": 0
           },
           {
            "bin_start": 0.7000000000000001,
            "bin_end": 0.8,
            "count": 0
           },
           {
            "bin_start": 0.8,
            "bin_end": 0.9,
            "count": 0
           },
           {
            "bin_start": 0.9,
            "bin_end": 1,
            "count": 72
           }
          ]
         }
        },
        {
         "name": "mois_June",
         "dtype": "uint8",
         "stats": {
          "unique_count": 2,
          "nan_count": 0,
          "min": "0",
          "max": "1",
          "histogram": [
           {
            "bin_start": 0,
            "bin_end": 0.1,
            "count": 772
           },
           {
            "bin_start": 0.1,
            "bin_end": 0.2,
            "count": 0
           },
           {
            "bin_start": 0.2,
            "bin_end": 0.30000000000000004,
            "count": 0
           },
           {
            "bin_start": 0.30000000000000004,
            "bin_end": 0.4,
            "count": 0
           },
           {
            "bin_start": 0.4,
            "bin_end": 0.5,
            "count": 0
           },
           {
            "bin_start": 0.5,
            "bin_end": 0.6000000000000001,
            "count": 0
           },
           {
            "bin_start": 0.6000000000000001,
            "bin_end": 0.7000000000000001,
            "count": 0
           },
           {
            "bin_start": 0.7000000000000001,
            "bin_end": 0.8,
            "count": 0
           },
           {
            "bin_start": 0.8,
            "bin_end": 0.9,
            "count": 0
           },
           {
            "bin_start": 0.9,
            "bin_end": 1,
            "count": 84
           }
          ]
         }
        },
        {
         "name": "mois_March",
         "dtype": "uint8",
         "stats": {
          "unique_count": 2,
          "nan_count": 0,
          "min": "0",
          "max": "1",
          "histogram": [
           {
            "bin_start": 0,
            "bin_end": 0.1,
            "count": 760
           },
           {
            "bin_start": 0.1,
            "bin_end": 0.2,
            "count": 0
           },
           {
            "bin_start": 0.2,
            "bin_end": 0.30000000000000004,
            "count": 0
           },
           {
            "bin_start": 0.30000000000000004,
            "bin_end": 0.4,
            "count": 0
           },
           {
            "bin_start": 0.4,
            "bin_end": 0.5,
            "count": 0
           },
           {
            "bin_start": 0.5,
            "bin_end": 0.6000000000000001,
            "count": 0
           },
           {
            "bin_start": 0.6000000000000001,
            "bin_end": 0.7000000000000001,
            "count": 0
           },
           {
            "bin_start": 0.7000000000000001,
            "bin_end": 0.8,
            "count": 0
           },
           {
            "bin_start": 0.8,
            "bin_end": 0.9,
            "count": 0
           },
           {
            "bin_start": 0.9,
            "bin_end": 1,
            "count": 96
           }
          ]
         }
        },
        {
         "name": "mois_May",
         "dtype": "uint8",
         "stats": {
          "unique_count": 2,
          "nan_count": 0,
          "min": "0",
          "max": "1",
          "histogram": [
           {
            "bin_start": 0,
            "bin_end": 0.1,
            "count": 785
           },
           {
            "bin_start": 0.1,
            "bin_end": 0.2,
            "count": 0
           },
           {
            "bin_start": 0.2,
            "bin_end": 0.30000000000000004,
            "count": 0
           },
           {
            "bin_start": 0.30000000000000004,
            "bin_end": 0.4,
            "count": 0
           },
           {
            "bin_start": 0.4,
            "bin_end": 0.5,
            "count": 0
           },
           {
            "bin_start": 0.5,
            "bin_end": 0.6000000000000001,
            "count": 0
           },
           {
            "bin_start": 0.6000000000000001,
            "bin_end": 0.7000000000000001,
            "count": 0
           },
           {
            "bin_start": 0.7000000000000001,
            "bin_end": 0.8,
            "count": 0
           },
           {
            "bin_start": 0.8,
            "bin_end": 0.9,
            "count": 0
           },
           {
            "bin_start": 0.9,
            "bin_end": 1,
            "count": 71
           }
          ]
         }
        },
        {
         "name": "mois_November",
         "dtype": "uint8",
         "stats": {
          "unique_count": 2,
          "nan_count": 0,
          "min": "0",
          "max": "1",
          "histogram": [
           {
            "bin_start": 0,
            "bin_end": 0.1,
            "count": 807
           },
           {
            "bin_start": 0.1,
            "bin_end": 0.2,
            "count": 0
           },
           {
            "bin_start": 0.2,
            "bin_end": 0.30000000000000004,
            "count": 0
           },
           {
            "bin_start": 0.30000000000000004,
            "bin_end": 0.4,
            "count": 0
           },
           {
            "bin_start": 0.4,
            "bin_end": 0.5,
            "count": 0
           },
           {
            "bin_start": 0.5,
            "bin_end": 0.6000000000000001,
            "count": 0
           },
           {
            "bin_start": 0.6000000000000001,
            "bin_end": 0.7000000000000001,
            "count": 0
           },
           {
            "bin_start": 0.7000000000000001,
            "bin_end": 0.8,
            "count": 0
           },
           {
            "bin_start": 0.8,
            "bin_end": 0.9,
            "count": 0
           },
           {
            "bin_start": 0.9,
            "bin_end": 1,
            "count": 49
           }
          ]
         }
        },
        {
         "name": "mois_October",
         "dtype": "uint8",
         "stats": {
          "unique_count": 2,
          "nan_count": 0,
          "min": "0",
          "max": "1",
          "histogram": [
           {
            "bin_start": 0,
            "bin_end": 0.1,
            "count": 780
           },
           {
            "bin_start": 0.1,
            "bin_end": 0.2,
            "count": 0
           },
           {
            "bin_start": 0.2,
            "bin_end": 0.30000000000000004,
            "count": 0
           },
           {
            "bin_start": 0.30000000000000004,
            "bin_end": 0.4,
            "count": 0
           },
           {
            "bin_start": 0.4,
            "bin_end": 0.5,
            "count": 0
           },
           {
            "bin_start": 0.5,
            "bin_end": 0.6000000000000001,
            "count": 0
           },
           {
            "bin_start": 0.6000000000000001,
            "bin_end": 0.7000000000000001,
            "count": 0
           },
           {
            "bin_start": 0.7000000000000001,
            "bin_end": 0.8,
            "count": 0
           },
           {
            "bin_start": 0.8,
            "bin_end": 0.9,
            "count": 0
           },
           {
            "bin_start": 0.9,
            "bin_end": 1,
            "count": 76
           }
          ]
         }
        },
        {
         "name": "mois_September",
         "dtype": "uint8",
         "stats": {
          "unique_count": 2,
          "nan_count": 0,
          "min": "0",
          "max": "1",
          "histogram": [
           {
            "bin_start": 0,
            "bin_end": 0.1,
            "count": 804
           },
           {
            "bin_start": 0.1,
            "bin_end": 0.2,
            "count": 0
           },
           {
            "bin_start": 0.2,
            "bin_end": 0.30000000000000004,
            "count": 0
           },
           {
            "bin_start": 0.30000000000000004,
            "bin_end": 0.4,
            "count": 0
           },
           {
            "bin_start": 0.4,
            "bin_end": 0.5,
            "count": 0
           },
           {
            "bin_start": 0.5,
            "bin_end": 0.6000000000000001,
            "count": 0
           },
           {
            "bin_start": 0.6000000000000001,
            "bin_end": 0.7000000000000001,
            "count": 0
           },
           {
            "bin_start": 0.7000000000000001,
            "bin_end": 0.8,
            "count": 0
           },
           {
            "bin_start": 0.8,
            "bin_end": 0.9,
            "count": 0
           },
           {
            "bin_start": 0.9,
            "bin_end": 1,
            "count": 52
           }
          ]
         }
        },
        {
         "name": "_deepnote_index_column",
         "dtype": "int64"
        }
       ],
       "rows": [
        {
         "position_position1": 1,
         "position_position2": 0,
         "position_position3": 0,
         "position_position5": 0,
         "type_banniere_Bons Plans": 0,
         "type_banniere_Crazy": 0,
         "type_banniere_Promotions": 1,
         "type_banniere_Vente flash": 0,
         "mois_August": 0,
         "mois_December": 0,
         "mois_February": 0,
         "mois_January": 0,
         "mois_July": 1,
         "mois_June": 0,
         "mois_March": 0,
         "mois_May": 0,
         "mois_November": 0,
         "mois_October": 0,
         "mois_September": 0,
         "_deepnote_index_column": 0
        },
        {
         "position_position1": 0,
         "position_position2": 1,
         "position_position3": 0,
         "position_position5": 0,
         "type_banniere_Bons Plans": 0,
         "type_banniere_Crazy": 0,
         "type_banniere_Promotions": 0,
         "type_banniere_Vente flash": 0,
         "mois_August": 0,
         "mois_December": 0,
         "mois_February": 0,
         "mois_January": 0,
         "mois_July": 1,
         "mois_June": 0,
         "mois_March": 0,
         "mois_May": 0,
         "mois_November": 0,
         "mois_October": 0,
         "mois_September": 0,
         "_deepnote_index_column": 1
        },
        {
         "position_position1": 0,
         "position_position2": 1,
         "position_position3": 0,
         "position_position5": 0,
         "type_banniere_Bons Plans": 0,
         "type_banniere_Crazy": 0,
         "type_banniere_Promotions": 0,
         "type_banniere_Vente flash": 0,
         "mois_August": 0,
         "mois_December": 0,
         "mois_February": 0,
         "mois_January": 0,
         "mois_July": 1,
         "mois_June": 0,
         "mois_March": 0,
         "mois_May": 0,
         "mois_November": 0,
         "mois_October": 0,
         "mois_September": 0,
         "_deepnote_index_column": 2
        },
        {
         "position_position1": 1,
         "position_position2": 0,
         "position_position3": 0,
         "position_position5": 0,
         "type_banniere_Bons Plans": 0,
         "type_banniere_Crazy": 0,
         "type_banniere_Promotions": 1,
         "type_banniere_Vente flash": 0,
         "mois_August": 0,
         "mois_December": 0,
         "mois_February": 0,
         "mois_January": 0,
         "mois_July": 1,
         "mois_June": 0,
         "mois_March": 0,
         "mois_May": 0,
         "mois_November": 0,
         "mois_October": 0,
         "mois_September": 0,
         "_deepnote_index_column": 3
        },
        {
         "position_position1": 1,
         "position_position2": 0,
         "position_position3": 0,
         "position_position5": 0,
         "type_banniere_Bons Plans": 0,
         "type_banniere_Crazy": 0,
         "type_banniere_Promotions": 1,
         "type_banniere_Vente flash": 0,
         "mois_August": 0,
         "mois_December": 0,
         "mois_February": 0,
         "mois_January": 0,
         "mois_July": 1,
         "mois_June": 0,
         "mois_March": 0,
         "mois_May": 0,
         "mois_November": 0,
         "mois_October": 0,
         "mois_September": 0,
         "_deepnote_index_column": 4
        },
        {
         "position_position1": 0,
         "position_position2": 1,
         "position_position3": 0,
         "position_position5": 0,
         "type_banniere_Bons Plans": 0,
         "type_banniere_Crazy": 0,
         "type_banniere_Promotions": 0,
         "type_banniere_Vente flash": 0,
         "mois_August": 0,
         "mois_December": 0,
         "mois_February": 0,
         "mois_January": 0,
         "mois_July": 1,
         "mois_June": 0,
         "mois_March": 0,
         "mois_May": 0,
         "mois_November": 0,
         "mois_October": 0,
         "mois_September": 0,
         "_deepnote_index_column": 5
        },
        {
         "position_position1": 1,
         "position_position2": 0,
         "position_position3": 0,
         "position_position5": 0,
         "type_banniere_Bons Plans": 0,
         "type_banniere_Crazy": 0,
         "type_banniere_Promotions": 1,
         "type_banniere_Vente flash": 0,
         "mois_August": 0,
         "mois_December": 0,
         "mois_February": 0,
         "mois_January": 0,
         "mois_July": 1,
         "mois_June": 0,
         "mois_March": 0,
         "mois_May": 0,
         "mois_November": 0,
         "mois_October": 0,
         "mois_September": 0,
         "_deepnote_index_column": 6
        },
        {
         "position_position1": 0,
         "position_position2": 1,
         "position_position3": 0,
         "position_position5": 0,
         "type_banniere_Bons Plans": 0,
         "type_banniere_Crazy": 0,
         "type_banniere_Promotions": 0,
         "type_banniere_Vente flash": 0,
         "mois_August": 0,
         "mois_December": 0,
         "mois_February": 0,
         "mois_January": 0,
         "mois_July": 1,
         "mois_June": 0,
         "mois_March": 0,
         "mois_May": 0,
         "mois_November": 0,
         "mois_October": 0,
         "mois_September": 0,
         "_deepnote_index_column": 7
        },
        {
         "position_position1": 0,
         "position_position2": 1,
         "position_position3": 0,
         "position_position5": 0,
         "type_banniere_Bons Plans": 0,
         "type_banniere_Crazy": 0,
         "type_banniere_Promotions": 0,
         "type_banniere_Vente flash": 0,
         "mois_August": 0,
         "mois_December": 0,
         "mois_February": 0,
         "mois_January": 0,
         "mois_July": 1,
         "mois_June": 0,
         "mois_March": 0,
         "mois_May": 0,
         "mois_November": 0,
         "mois_October": 0,
         "mois_September": 0,
         "_deepnote_index_column": 8
        },
        {
         "position_position1": 1,
         "position_position2": 0,
         "position_position3": 0,
         "position_position5": 0,
         "type_banniere_Bons Plans": 0,
         "type_banniere_Crazy": 0,
         "type_banniere_Promotions": 1,
         "type_banniere_Vente flash": 0,
         "mois_August": 0,
         "mois_December": 0,
         "mois_February": 0,
         "mois_January": 0,
         "mois_July": 1,
         "mois_June": 0,
         "mois_March": 0,
         "mois_May": 0,
         "mois_November": 0,
         "mois_October": 0,
         "mois_September": 0,
         "_deepnote_index_column": 9
        }
       ]
      },
      "text/plain": "     position_position1  position_position2  position_position3  \\\n0                     1                   0                   0   \n1                     0                   1                   0   \n2                     0                   1                   0   \n3                     1                   0                   0   \n4                     1                   0                   0   \n..                  ...                 ...                 ...   \n851                   1                   0                   0   \n852                   0                   1                   0   \n853                   1                   0                   0   \n854                   1                   0                   0   \n855                   0                   0                   1   \n\n     position_position5  type_banniere_Bons Plans  type_banniere_Crazy  \\\n0                     0                         0                    0   \n1                     0                         0                    0   \n2                     0                         0                    0   \n3                     0                         0                    0   \n4                     0                         0                    0   \n..                  ...                       ...                  ...   \n851                   0                         0                    0   \n852                   0                         0                    0   \n853                   0                         0                    0   \n854                   0                         0                    0   \n855                   0                         0                    0   \n\n     type_banniere_Promotions  type_banniere_Vente flash  mois_August  \\\n0                           1                          0            0   \n1                           0                          0            0   \n2                           0                          0            0   \n3                           1                          0            0   \n4                           1                          0            0   \n..                        ...                        ...          ...   \n851                         1                          0            0   \n852                         0                          0            0   \n853                         1                          0            0   \n854                         0                          0            0   \n855                         0                          0            0   \n\n     mois_December  mois_February  mois_January  mois_July  mois_June  \\\n0                0              0             0          1          0   \n1                0              0             0          1          0   \n2                0              0             0          1          0   \n3                0              0             0          1          0   \n4                0              0             0          1          0   \n..             ...            ...           ...        ...        ...   \n851              0              0             0          1          0   \n852              0              0             0          1          0   \n853              0              0             0          1          0   \n854              0              0             0          1          0   \n855              0              0             0          1          0   \n\n     mois_March  mois_May  mois_November  mois_October  mois_September  \n0             0         0              0             0               0  \n1             0         0              0             0               0  \n2             0         0              0             0               0  \n3             0         0              0             0               0  \n4             0         0              0             0               0  \n..          ...       ...            ...           ...             ...  \n851           0         0              0             0               0  \n852           0         0              0             0               0  \n853           0         0              0             0               0  \n854           0         0              0             0               0  \n855           0         0              0             0               0  \n\n[856 rows x 19 columns]",
      "text/html": "<div>\n<style scoped>\n    .dataframe tbody tr th:only-of-type {\n        vertical-align: middle;\n    }\n\n    .dataframe tbody tr th {\n        vertical-align: top;\n    }\n\n    .dataframe thead th {\n        text-align: right;\n    }\n</style>\n<table border=\"1\" class=\"dataframe\">\n  <thead>\n    <tr style=\"text-align: right;\">\n      <th></th>\n      <th>position_position1</th>\n      <th>position_position2</th>\n      <th>position_position3</th>\n      <th>position_position5</th>\n      <th>type_banniere_Bons Plans</th>\n      <th>type_banniere_Crazy</th>\n      <th>type_banniere_Promotions</th>\n      <th>type_banniere_Vente flash</th>\n      <th>mois_August</th>\n      <th>mois_December</th>\n      <th>mois_February</th>\n      <th>mois_January</th>\n      <th>mois_July</th>\n      <th>mois_June</th>\n      <th>mois_March</th>\n      <th>mois_May</th>\n      <th>mois_November</th>\n      <th>mois_October</th>\n      <th>mois_September</th>\n    </tr>\n  </thead>\n  <tbody>\n    <tr>\n      <th>0</th>\n      <td>1</td>\n      <td>0</td>\n      <td>0</td>\n      <td>0</td>\n      <td>0</td>\n      <td>0</td>\n      <td>1</td>\n      <td>0</td>\n      <td>0</td>\n      <td>0</td>\n      <td>0</td>\n      <td>0</td>\n      <td>1</td>\n      <td>0</td>\n      <td>0</td>\n      <td>0</td>\n      <td>0</td>\n      <td>0</td>\n      <td>0</td>\n    </tr>\n    <tr>\n      <th>1</th>\n      <td>0</td>\n      <td>1</td>\n      <td>0</td>\n      <td>0</td>\n      <td>0</td>\n      <td>0</td>\n      <td>0</td>\n      <td>0</td>\n      <td>0</td>\n      <td>0</td>\n      <td>0</td>\n      <td>0</td>\n      <td>1</td>\n      <td>0</td>\n      <td>0</td>\n      <td>0</td>\n      <td>0</td>\n      <td>0</td>\n      <td>0</td>\n    </tr>\n    <tr>\n      <th>2</th>\n      <td>0</td>\n      <td>1</td>\n      <td>0</td>\n      <td>0</td>\n      <td>0</td>\n      <td>0</td>\n      <td>0</td>\n      <td>0</td>\n      <td>0</td>\n      <td>0</td>\n      <td>0</td>\n      <td>0</td>\n      <td>1</td>\n      <td>0</td>\n      <td>0</td>\n      <td>0</td>\n      <td>0</td>\n      <td>0</td>\n      <td>0</td>\n    </tr>\n    <tr>\n      <th>3</th>\n      <td>1</td>\n      <td>0</td>\n      <td>0</td>\n      <td>0</td>\n      <td>0</td>\n      <td>0</td>\n      <td>1</td>\n      <td>0</td>\n      <td>0</td>\n      <td>0</td>\n      <td>0</td>\n      <td>0</td>\n      <td>1</td>\n      <td>0</td>\n      <td>0</td>\n      <td>0</td>\n      <td>0</td>\n      <td>0</td>\n      <td>0</td>\n    </tr>\n    <tr>\n      <th>4</th>\n      <td>1</td>\n      <td>0</td>\n      <td>0</td>\n      <td>0</td>\n      <td>0</td>\n      <td>0</td>\n      <td>1</td>\n      <td>0</td>\n      <td>0</td>\n      <td>0</td>\n      <td>0</td>\n      <td>0</td>\n      <td>1</td>\n      <td>0</td>\n      <td>0</td>\n      <td>0</td>\n      <td>0</td>\n      <td>0</td>\n      <td>0</td>\n    </tr>\n    <tr>\n      <th>...</th>\n      <td>...</td>\n      <td>...</td>\n      <td>...</td>\n      <td>...</td>\n      <td>...</td>\n      <td>...</td>\n      <td>...</td>\n      <td>...</td>\n      <td>...</td>\n      <td>...</td>\n      <td>...</td>\n      <td>...</td>\n      <td>...</td>\n      <td>...</td>\n      <td>...</td>\n      <td>...</td>\n      <td>...</td>\n      <td>...</td>\n      <td>...</td>\n    </tr>\n    <tr>\n      <th>851</th>\n      <td>1</td>\n      <td>0</td>\n      <td>0</td>\n      <td>0</td>\n      <td>0</td>\n      <td>0</td>\n      <td>1</td>\n      <td>0</td>\n      <td>0</td>\n      <td>0</td>\n      <td>0</td>\n      <td>0</td>\n      <td>1</td>\n      <td>0</td>\n      <td>0</td>\n      <td>0</td>\n      <td>0</td>\n      <td>0</td>\n      <td>0</td>\n    </tr>\n    <tr>\n      <th>852</th>\n      <td>0</td>\n      <td>1</td>\n      <td>0</td>\n      <td>0</td>\n      <td>0</td>\n      <td>0</td>\n      <td>0</td>\n      <td>0</td>\n      <td>0</td>\n      <td>0</td>\n      <td>0</td>\n      <td>0</td>\n      <td>1</td>\n      <td>0</td>\n      <td>0</td>\n      <td>0</td>\n      <td>0</td>\n      <td>0</td>\n      <td>0</td>\n    </tr>\n    <tr>\n      <th>853</th>\n      <td>1</td>\n      <td>0</td>\n      <td>0</td>\n      <td>0</td>\n      <td>0</td>\n      <td>0</td>\n      <td>1</td>\n      <td>0</td>\n      <td>0</td>\n      <td>0</td>\n      <td>0</td>\n      <td>0</td>\n      <td>1</td>\n      <td>0</td>\n      <td>0</td>\n      <td>0</td>\n      <td>0</td>\n      <td>0</td>\n      <td>0</td>\n    </tr>\n    <tr>\n      <th>854</th>\n      <td>1</td>\n      <td>0</td>\n      <td>0</td>\n      <td>0</td>\n      <td>0</td>\n      <td>0</td>\n      <td>0</td>\n      <td>0</td>\n      <td>0</td>\n      <td>0</td>\n      <td>0</td>\n      <td>0</td>\n      <td>1</td>\n      <td>0</td>\n      <td>0</td>\n      <td>0</td>\n      <td>0</td>\n      <td>0</td>\n      <td>0</td>\n    </tr>\n    <tr>\n      <th>855</th>\n      <td>0</td>\n      <td>0</td>\n      <td>1</td>\n      <td>0</td>\n      <td>0</td>\n      <td>0</td>\n      <td>0</td>\n      <td>0</td>\n      <td>0</td>\n      <td>0</td>\n      <td>0</td>\n      <td>0</td>\n      <td>1</td>\n      <td>0</td>\n      <td>0</td>\n      <td>0</td>\n      <td>0</td>\n      <td>0</td>\n      <td>0</td>\n    </tr>\n  </tbody>\n</table>\n<p>856 rows × 19 columns</p>\n</div>"
     },
     "metadata": {}
    }
   ]
  },
  {
   "cell_type": "code",
   "source": "\ndatafs=pd.concat([X_cat,data['log_CTR']], axis=1)\n\ndatafs",
   "metadata": {
    "tags": [],
    "deepnote_to_be_reexecuted": false,
    "source_hash": "5a20092e",
    "execution_start": 1661038325105,
    "execution_millis": 13,
    "cell_id": "00020-db3b6095-8ae2-42f3-8737-120be7cfc55d",
    "deepnote_cell_type": "code",
    "deepnote_cell_height": 670
   },
   "execution_count": 79,
   "outputs": [
    {
     "output_type": "execute_result",
     "execution_count": 79,
     "data": {
      "application/vnd.deepnote.dataframe.v3+json": {
       "column_count": 20,
       "row_count": 856,
       "columns": [
        {
         "name": "position1",
         "dtype": "uint8",
         "stats": {
          "unique_count": 2,
          "nan_count": 0,
          "min": "0",
          "max": "1",
          "histogram": [
           {
            "bin_start": 0,
            "bin_end": 0.1,
            "count": 541
           },
           {
            "bin_start": 0.1,
            "bin_end": 0.2,
            "count": 0
           },
           {
            "bin_start": 0.2,
            "bin_end": 0.30000000000000004,
            "count": 0
           },
           {
            "bin_start": 0.30000000000000004,
            "bin_end": 0.4,
            "count": 0
           },
           {
            "bin_start": 0.4,
            "bin_end": 0.5,
            "count": 0
           },
           {
            "bin_start": 0.5,
            "bin_end": 0.6000000000000001,
            "count": 0
           },
           {
            "bin_start": 0.6000000000000001,
            "bin_end": 0.7000000000000001,
            "count": 0
           },
           {
            "bin_start": 0.7000000000000001,
            "bin_end": 0.8,
            "count": 0
           },
           {
            "bin_start": 0.8,
            "bin_end": 0.9,
            "count": 0
           },
           {
            "bin_start": 0.9,
            "bin_end": 1,
            "count": 315
           }
          ]
         }
        },
        {
         "name": "position2",
         "dtype": "uint8",
         "stats": {
          "unique_count": 2,
          "nan_count": 0,
          "min": "0",
          "max": "1",
          "histogram": [
           {
            "bin_start": 0,
            "bin_end": 0.1,
            "count": 555
           },
           {
            "bin_start": 0.1,
            "bin_end": 0.2,
            "count": 0
           },
           {
            "bin_start": 0.2,
            "bin_end": 0.30000000000000004,
            "count": 0
           },
           {
            "bin_start": 0.30000000000000004,
            "bin_end": 0.4,
            "count": 0
           },
           {
            "bin_start": 0.4,
            "bin_end": 0.5,
            "count": 0
           },
           {
            "bin_start": 0.5,
            "bin_end": 0.6000000000000001,
            "count": 0
           },
           {
            "bin_start": 0.6000000000000001,
            "bin_end": 0.7000000000000001,
            "count": 0
           },
           {
            "bin_start": 0.7000000000000001,
            "bin_end": 0.8,
            "count": 0
           },
           {
            "bin_start": 0.8,
            "bin_end": 0.9,
            "count": 0
           },
           {
            "bin_start": 0.9,
            "bin_end": 1,
            "count": 301
           }
          ]
         }
        },
        {
         "name": "position3",
         "dtype": "uint8",
         "stats": {
          "unique_count": 2,
          "nan_count": 0,
          "min": "0",
          "max": "1",
          "histogram": [
           {
            "bin_start": 0,
            "bin_end": 0.1,
            "count": 650
           },
           {
            "bin_start": 0.1,
            "bin_end": 0.2,
            "count": 0
           },
           {
            "bin_start": 0.2,
            "bin_end": 0.30000000000000004,
            "count": 0
           },
           {
            "bin_start": 0.30000000000000004,
            "bin_end": 0.4,
            "count": 0
           },
           {
            "bin_start": 0.4,
            "bin_end": 0.5,
            "count": 0
           },
           {
            "bin_start": 0.5,
            "bin_end": 0.6000000000000001,
            "count": 0
           },
           {
            "bin_start": 0.6000000000000001,
            "bin_end": 0.7000000000000001,
            "count": 0
           },
           {
            "bin_start": 0.7000000000000001,
            "bin_end": 0.8,
            "count": 0
           },
           {
            "bin_start": 0.8,
            "bin_end": 0.9,
            "count": 0
           },
           {
            "bin_start": 0.9,
            "bin_end": 1,
            "count": 206
           }
          ]
         }
        },
        {
         "name": "position5",
         "dtype": "uint8",
         "stats": {
          "unique_count": 2,
          "nan_count": 0,
          "min": "0",
          "max": "1",
          "histogram": [
           {
            "bin_start": 0,
            "bin_end": 0.1,
            "count": 851
           },
           {
            "bin_start": 0.1,
            "bin_end": 0.2,
            "count": 0
           },
           {
            "bin_start": 0.2,
            "bin_end": 0.30000000000000004,
            "count": 0
           },
           {
            "bin_start": 0.30000000000000004,
            "bin_end": 0.4,
            "count": 0
           },
           {
            "bin_start": 0.4,
            "bin_end": 0.5,
            "count": 0
           },
           {
            "bin_start": 0.5,
            "bin_end": 0.6000000000000001,
            "count": 0
           },
           {
            "bin_start": 0.6000000000000001,
            "bin_end": 0.7000000000000001,
            "count": 0
           },
           {
            "bin_start": 0.7000000000000001,
            "bin_end": 0.8,
            "count": 0
           },
           {
            "bin_start": 0.8,
            "bin_end": 0.9,
            "count": 0
           },
           {
            "bin_start": 0.9,
            "bin_end": 1,
            "count": 5
           }
          ]
         }
        },
        {
         "name": "Bons plan",
         "dtype": "uint8",
         "stats": {
          "unique_count": 2,
          "nan_count": 0,
          "min": "0",
          "max": "1",
          "histogram": [
           {
            "bin_start": 0,
            "bin_end": 0.1,
            "count": 789
           },
           {
            "bin_start": 0.1,
            "bin_end": 0.2,
            "count": 0
           },
           {
            "bin_start": 0.2,
            "bin_end": 0.30000000000000004,
            "count": 0
           },
           {
            "bin_start": 0.30000000000000004,
            "bin_end": 0.4,
            "count": 0
           },
           {
            "bin_start": 0.4,
            "bin_end": 0.5,
            "count": 0
           },
           {
            "bin_start": 0.5,
            "bin_end": 0.6000000000000001,
            "count": 0
           },
           {
            "bin_start": 0.6000000000000001,
            "bin_end": 0.7000000000000001,
            "count": 0
           },
           {
            "bin_start": 0.7000000000000001,
            "bin_end": 0.8,
            "count": 0
           },
           {
            "bin_start": 0.8,
            "bin_end": 0.9,
            "count": 0
           },
           {
            "bin_start": 0.9,
            "bin_end": 1,
            "count": 67
           }
          ]
         }
        },
        {
         "name": "Crazy",
         "dtype": "uint8",
         "stats": {
          "unique_count": 2,
          "nan_count": 0,
          "min": "0",
          "max": "1",
          "histogram": [
           {
            "bin_start": 0,
            "bin_end": 0.1,
            "count": 806
           },
           {
            "bin_start": 0.1,
            "bin_end": 0.2,
            "count": 0
           },
           {
            "bin_start": 0.2,
            "bin_end": 0.30000000000000004,
            "count": 0
           },
           {
            "bin_start": 0.30000000000000004,
            "bin_end": 0.4,
            "count": 0
           },
           {
            "bin_start": 0.4,
            "bin_end": 0.5,
            "count": 0
           },
           {
            "bin_start": 0.5,
            "bin_end": 0.6000000000000001,
            "count": 0
           },
           {
            "bin_start": 0.6000000000000001,
            "bin_end": 0.7000000000000001,
            "count": 0
           },
           {
            "bin_start": 0.7000000000000001,
            "bin_end": 0.8,
            "count": 0
           },
           {
            "bin_start": 0.8,
            "bin_end": 0.9,
            "count": 0
           },
           {
            "bin_start": 0.9,
            "bin_end": 1,
            "count": 50
           }
          ]
         }
        },
        {
         "name": "Promotions",
         "dtype": "uint8",
         "stats": {
          "unique_count": 2,
          "nan_count": 0,
          "min": "0",
          "max": "1",
          "histogram": [
           {
            "bin_start": 0,
            "bin_end": 0.1,
            "count": 741
           },
           {
            "bin_start": 0.1,
            "bin_end": 0.2,
            "count": 0
           },
           {
            "bin_start": 0.2,
            "bin_end": 0.30000000000000004,
            "count": 0
           },
           {
            "bin_start": 0.30000000000000004,
            "bin_end": 0.4,
            "count": 0
           },
           {
            "bin_start": 0.4,
            "bin_end": 0.5,
            "count": 0
           },
           {
            "bin_start": 0.5,
            "bin_end": 0.6000000000000001,
            "count": 0
           },
           {
            "bin_start": 0.6000000000000001,
            "bin_end": 0.7000000000000001,
            "count": 0
           },
           {
            "bin_start": 0.7000000000000001,
            "bin_end": 0.8,
            "count": 0
           },
           {
            "bin_start": 0.8,
            "bin_end": 0.9,
            "count": 0
           },
           {
            "bin_start": 0.9,
            "bin_end": 1,
            "count": 115
           }
          ]
         }
        },
        {
         "name": "type_banniere_Vente flash",
         "dtype": "uint8",
         "stats": {
          "unique_count": 2,
          "nan_count": 0,
          "min": "0",
          "max": "1",
          "histogram": [
           {
            "bin_start": 0,
            "bin_end": 0.1,
            "count": 855
           },
           {
            "bin_start": 0.1,
            "bin_end": 0.2,
            "count": 0
           },
           {
            "bin_start": 0.2,
            "bin_end": 0.30000000000000004,
            "count": 0
           },
           {
            "bin_start": 0.30000000000000004,
            "bin_end": 0.4,
            "count": 0
           },
           {
            "bin_start": 0.4,
            "bin_end": 0.5,
            "count": 0
           },
           {
            "bin_start": 0.5,
            "bin_end": 0.6000000000000001,
            "count": 0
           },
           {
            "bin_start": 0.6000000000000001,
            "bin_end": 0.7000000000000001,
            "count": 0
           },
           {
            "bin_start": 0.7000000000000001,
            "bin_end": 0.8,
            "count": 0
           },
           {
            "bin_start": 0.8,
            "bin_end": 0.9,
            "count": 0
           },
           {
            "bin_start": 0.9,
            "bin_end": 1,
            "count": 1
           }
          ]
         }
        },
        {
         "name": "August",
         "dtype": "uint8",
         "stats": {
          "unique_count": 2,
          "nan_count": 0,
          "min": "0",
          "max": "1",
          "histogram": [
           {
            "bin_start": 0,
            "bin_end": 0.1,
            "count": 809
           },
           {
            "bin_start": 0.1,
            "bin_end": 0.2,
            "count": 0
           },
           {
            "bin_start": 0.2,
            "bin_end": 0.30000000000000004,
            "count": 0
           },
           {
            "bin_start": 0.30000000000000004,
            "bin_end": 0.4,
            "count": 0
           },
           {
            "bin_start": 0.4,
            "bin_end": 0.5,
            "count": 0
           },
           {
            "bin_start": 0.5,
            "bin_end": 0.6000000000000001,
            "count": 0
           },
           {
            "bin_start": 0.6000000000000001,
            "bin_end": 0.7000000000000001,
            "count": 0
           },
           {
            "bin_start": 0.7000000000000001,
            "bin_end": 0.8,
            "count": 0
           },
           {
            "bin_start": 0.8,
            "bin_end": 0.9,
            "count": 0
           },
           {
            "bin_start": 0.9,
            "bin_end": 1,
            "count": 47
           }
          ]
         }
        },
        {
         "name": "December",
         "dtype": "uint8",
         "stats": {
          "unique_count": 2,
          "nan_count": 0,
          "min": "0",
          "max": "1",
          "histogram": [
           {
            "bin_start": 0,
            "bin_end": 0.1,
            "count": 827
           },
           {
            "bin_start": 0.1,
            "bin_end": 0.2,
            "count": 0
           },
           {
            "bin_start": 0.2,
            "bin_end": 0.30000000000000004,
            "count": 0
           },
           {
            "bin_start": 0.30000000000000004,
            "bin_end": 0.4,
            "count": 0
           },
           {
            "bin_start": 0.4,
            "bin_end": 0.5,
            "count": 0
           },
           {
            "bin_start": 0.5,
            "bin_end": 0.6000000000000001,
            "count": 0
           },
           {
            "bin_start": 0.6000000000000001,
            "bin_end": 0.7000000000000001,
            "count": 0
           },
           {
            "bin_start": 0.7000000000000001,
            "bin_end": 0.8,
            "count": 0
           },
           {
            "bin_start": 0.8,
            "bin_end": 0.9,
            "count": 0
           },
           {
            "bin_start": 0.9,
            "bin_end": 1,
            "count": 29
           }
          ]
         }
        },
        {
         "name": "February",
         "dtype": "uint8",
         "stats": {
          "unique_count": 2,
          "nan_count": 0,
          "min": "0",
          "max": "1",
          "histogram": [
           {
            "bin_start": 0,
            "bin_end": 0.1,
            "count": 753
           },
           {
            "bin_start": 0.1,
            "bin_end": 0.2,
            "count": 0
           },
           {
            "bin_start": 0.2,
            "bin_end": 0.30000000000000004,
            "count": 0
           },
           {
            "bin_start": 0.30000000000000004,
            "bin_end": 0.4,
            "count": 0
           },
           {
            "bin_start": 0.4,
            "bin_end": 0.5,
            "count": 0
           },
           {
            "bin_start": 0.5,
            "bin_end": 0.6000000000000001,
            "count": 0
           },
           {
            "bin_start": 0.6000000000000001,
            "bin_end": 0.7000000000000001,
            "count": 0
           },
           {
            "bin_start": 0.7000000000000001,
            "bin_end": 0.8,
            "count": 0
           },
           {
            "bin_start": 0.8,
            "bin_end": 0.9,
            "count": 0
           },
           {
            "bin_start": 0.9,
            "bin_end": 1,
            "count": 103
           }
          ]
         }
        },
        {
         "name": "January",
         "dtype": "uint8",
         "stats": {
          "unique_count": 2,
          "nan_count": 0,
          "min": "0",
          "max": "1",
          "histogram": [
           {
            "bin_start": 0,
            "bin_end": 0.1,
            "count": 772
           },
           {
            "bin_start": 0.1,
            "bin_end": 0.2,
            "count": 0
           },
           {
            "bin_start": 0.2,
            "bin_end": 0.30000000000000004,
            "count": 0
           },
           {
            "bin_start": 0.30000000000000004,
            "bin_end": 0.4,
            "count": 0
           },
           {
            "bin_start": 0.4,
            "bin_end": 0.5,
            "count": 0
           },
           {
            "bin_start": 0.5,
            "bin_end": 0.6000000000000001,
            "count": 0
           },
           {
            "bin_start": 0.6000000000000001,
            "bin_end": 0.7000000000000001,
            "count": 0
           },
           {
            "bin_start": 0.7000000000000001,
            "bin_end": 0.8,
            "count": 0
           },
           {
            "bin_start": 0.8,
            "bin_end": 0.9,
            "count": 0
           },
           {
            "bin_start": 0.9,
            "bin_end": 1,
            "count": 84
           }
          ]
         }
        },
        {
         "name": "July",
         "dtype": "uint8",
         "stats": {
          "unique_count": 2,
          "nan_count": 0,
          "min": "0",
          "max": "1",
          "histogram": [
           {
            "bin_start": 0,
            "bin_end": 0.1,
            "count": 784
           },
           {
            "bin_start": 0.1,
            "bin_end": 0.2,
            "count": 0
           },
           {
            "bin_start": 0.2,
            "bin_end": 0.30000000000000004,
            "count": 0
           },
           {
            "bin_start": 0.30000000000000004,
            "bin_end": 0.4,
            "count": 0
           },
           {
            "bin_start": 0.4,
            "bin_end": 0.5,
            "count": 0
           },
           {
            "bin_start": 0.5,
            "bin_end": 0.6000000000000001,
            "count": 0
           },
           {
            "bin_start": 0.6000000000000001,
            "bin_end": 0.7000000000000001,
            "count": 0
           },
           {
            "bin_start": 0.7000000000000001,
            "bin_end": 0.8,
            "count": 0
           },
           {
            "bin_start": 0.8,
            "bin_end": 0.9,
            "count": 0
           },
           {
            "bin_start": 0.9,
            "bin_end": 1,
            "count": 72
           }
          ]
         }
        },
        {
         "name": "June",
         "dtype": "uint8",
         "stats": {
          "unique_count": 2,
          "nan_count": 0,
          "min": "0",
          "max": "1",
          "histogram": [
           {
            "bin_start": 0,
            "bin_end": 0.1,
            "count": 772
           },
           {
            "bin_start": 0.1,
            "bin_end": 0.2,
            "count": 0
           },
           {
            "bin_start": 0.2,
            "bin_end": 0.30000000000000004,
            "count": 0
           },
           {
            "bin_start": 0.30000000000000004,
            "bin_end": 0.4,
            "count": 0
           },
           {
            "bin_start": 0.4,
            "bin_end": 0.5,
            "count": 0
           },
           {
            "bin_start": 0.5,
            "bin_end": 0.6000000000000001,
            "count": 0
           },
           {
            "bin_start": 0.6000000000000001,
            "bin_end": 0.7000000000000001,
            "count": 0
           },
           {
            "bin_start": 0.7000000000000001,
            "bin_end": 0.8,
            "count": 0
           },
           {
            "bin_start": 0.8,
            "bin_end": 0.9,
            "count": 0
           },
           {
            "bin_start": 0.9,
            "bin_end": 1,
            "count": 84
           }
          ]
         }
        },
        {
         "name": "March",
         "dtype": "uint8",
         "stats": {
          "unique_count": 2,
          "nan_count": 0,
          "min": "0",
          "max": "1",
          "histogram": [
           {
            "bin_start": 0,
            "bin_end": 0.1,
            "count": 760
           },
           {
            "bin_start": 0.1,
            "bin_end": 0.2,
            "count": 0
           },
           {
            "bin_start": 0.2,
            "bin_end": 0.30000000000000004,
            "count": 0
           },
           {
            "bin_start": 0.30000000000000004,
            "bin_end": 0.4,
            "count": 0
           },
           {
            "bin_start": 0.4,
            "bin_end": 0.5,
            "count": 0
           },
           {
            "bin_start": 0.5,
            "bin_end": 0.6000000000000001,
            "count": 0
           },
           {
            "bin_start": 0.6000000000000001,
            "bin_end": 0.7000000000000001,
            "count": 0
           },
           {
            "bin_start": 0.7000000000000001,
            "bin_end": 0.8,
            "count": 0
           },
           {
            "bin_start": 0.8,
            "bin_end": 0.9,
            "count": 0
           },
           {
            "bin_start": 0.9,
            "bin_end": 1,
            "count": 96
           }
          ]
         }
        },
        {
         "name": "May",
         "dtype": "uint8",
         "stats": {
          "unique_count": 2,
          "nan_count": 0,
          "min": "0",
          "max": "1",
          "histogram": [
           {
            "bin_start": 0,
            "bin_end": 0.1,
            "count": 785
           },
           {
            "bin_start": 0.1,
            "bin_end": 0.2,
            "count": 0
           },
           {
            "bin_start": 0.2,
            "bin_end": 0.30000000000000004,
            "count": 0
           },
           {
            "bin_start": 0.30000000000000004,
            "bin_end": 0.4,
            "count": 0
           },
           {
            "bin_start": 0.4,
            "bin_end": 0.5,
            "count": 0
           },
           {
            "bin_start": 0.5,
            "bin_end": 0.6000000000000001,
            "count": 0
           },
           {
            "bin_start": 0.6000000000000001,
            "bin_end": 0.7000000000000001,
            "count": 0
           },
           {
            "bin_start": 0.7000000000000001,
            "bin_end": 0.8,
            "count": 0
           },
           {
            "bin_start": 0.8,
            "bin_end": 0.9,
            "count": 0
           },
           {
            "bin_start": 0.9,
            "bin_end": 1,
            "count": 71
           }
          ]
         }
        },
        {
         "name": "November",
         "dtype": "uint8",
         "stats": {
          "unique_count": 2,
          "nan_count": 0,
          "min": "0",
          "max": "1",
          "histogram": [
           {
            "bin_start": 0,
            "bin_end": 0.1,
            "count": 807
           },
           {
            "bin_start": 0.1,
            "bin_end": 0.2,
            "count": 0
           },
           {
            "bin_start": 0.2,
            "bin_end": 0.30000000000000004,
            "count": 0
           },
           {
            "bin_start": 0.30000000000000004,
            "bin_end": 0.4,
            "count": 0
           },
           {
            "bin_start": 0.4,
            "bin_end": 0.5,
            "count": 0
           },
           {
            "bin_start": 0.5,
            "bin_end": 0.6000000000000001,
            "count": 0
           },
           {
            "bin_start": 0.6000000000000001,
            "bin_end": 0.7000000000000001,
            "count": 0
           },
           {
            "bin_start": 0.7000000000000001,
            "bin_end": 0.8,
            "count": 0
           },
           {
            "bin_start": 0.8,
            "bin_end": 0.9,
            "count": 0
           },
           {
            "bin_start": 0.9,
            "bin_end": 1,
            "count": 49
           }
          ]
         }
        },
        {
         "name": "October",
         "dtype": "uint8",
         "stats": {
          "unique_count": 2,
          "nan_count": 0,
          "min": "0",
          "max": "1",
          "histogram": [
           {
            "bin_start": 0,
            "bin_end": 0.1,
            "count": 780
           },
           {
            "bin_start": 0.1,
            "bin_end": 0.2,
            "count": 0
           },
           {
            "bin_start": 0.2,
            "bin_end": 0.30000000000000004,
            "count": 0
           },
           {
            "bin_start": 0.30000000000000004,
            "bin_end": 0.4,
            "count": 0
           },
           {
            "bin_start": 0.4,
            "bin_end": 0.5,
            "count": 0
           },
           {
            "bin_start": 0.5,
            "bin_end": 0.6000000000000001,
            "count": 0
           },
           {
            "bin_start": 0.6000000000000001,
            "bin_end": 0.7000000000000001,
            "count": 0
           },
           {
            "bin_start": 0.7000000000000001,
            "bin_end": 0.8,
            "count": 0
           },
           {
            "bin_start": 0.8,
            "bin_end": 0.9,
            "count": 0
           },
           {
            "bin_start": 0.9,
            "bin_end": 1,
            "count": 76
           }
          ]
         }
        },
        {
         "name": "September",
         "dtype": "uint8",
         "stats": {
          "unique_count": 2,
          "nan_count": 0,
          "min": "0",
          "max": "1",
          "histogram": [
           {
            "bin_start": 0,
            "bin_end": 0.1,
            "count": 804
           },
           {
            "bin_start": 0.1,
            "bin_end": 0.2,
            "count": 0
           },
           {
            "bin_start": 0.2,
            "bin_end": 0.30000000000000004,
            "count": 0
           },
           {
            "bin_start": 0.30000000000000004,
            "bin_end": 0.4,
            "count": 0
           },
           {
            "bin_start": 0.4,
            "bin_end": 0.5,
            "count": 0
           },
           {
            "bin_start": 0.5,
            "bin_end": 0.6000000000000001,
            "count": 0
           },
           {
            "bin_start": 0.6000000000000001,
            "bin_end": 0.7000000000000001,
            "count": 0
           },
           {
            "bin_start": 0.7000000000000001,
            "bin_end": 0.8,
            "count": 0
           },
           {
            "bin_start": 0.8,
            "bin_end": 0.9,
            "count": 0
           },
           {
            "bin_start": 0.9,
            "bin_end": 1,
            "count": 52
           }
          ]
         }
        },
        {
         "name": "log_CTR",
         "dtype": "float64",
         "stats": {
          "unique_count": 421,
          "nan_count": 0,
          "min": "-0.544727175441672",
          "max": "2.4731713935695794",
          "histogram": [
           {
            "bin_start": -0.544727175441672,
            "bin_end": -0.2429373185405469,
            "count": 4
           },
           {
            "bin_start": -0.2429373185405469,
            "bin_end": 0.058852538360578244,
            "count": 23
           },
           {
            "bin_start": 0.058852538360578244,
            "bin_end": 0.3606423952617034,
            "count": 35
           },
           {
            "bin_start": 0.3606423952617034,
            "bin_end": 0.6624322521628285,
            "count": 80
           },
           {
            "bin_start": 0.6624322521628285,
            "bin_end": 0.9642221090639536,
            "count": 170
           },
           {
            "bin_start": 0.9642221090639536,
            "bin_end": 1.2660119659650788,
            "count": 202
           },
           {
            "bin_start": 1.2660119659650788,
            "bin_end": 1.567801822866204,
            "count": 213
           },
           {
            "bin_start": 1.567801822866204,
            "bin_end": 1.869591679767329,
            "count": 103
           },
           {
            "bin_start": 1.869591679767329,
            "bin_end": 2.171381536668454,
            "count": 24
           },
           {
            "bin_start": 2.171381536668454,
            "bin_end": 2.4731713935695794,
            "count": 2
           }
          ]
         }
        },
        {
         "name": "_deepnote_index_column",
         "dtype": "int64"
        }
       ],
       "rows": [
        {
         "position1": 1,
         "position2": 0,
         "position3": 0,
         "position5": 0,
         "Bons plan": 0,
         "Crazy": 0,
         "Promotions": 1,
         "type_banniere_Vente flash": 0,
         "August": 0,
         "December": 0,
         "February": 0,
         "January": 0,
         "July": 1,
         "June": 0,
         "March": 0,
         "May": 0,
         "November": 0,
         "October": 0,
         "September": 0,
         "log_CTR": 1.5129270120532565,
         "_deepnote_index_column": 0
        },
        {
         "position1": 0,
         "position2": 1,
         "position3": 0,
         "position5": 0,
         "Bons plan": 0,
         "Crazy": 0,
         "Promotions": 0,
         "type_banniere_Vente flash": 0,
         "August": 0,
         "December": 0,
         "February": 0,
         "January": 0,
         "July": 1,
         "June": 0,
         "March": 0,
         "May": 0,
         "November": 0,
         "October": 0,
         "September": 0,
         "log_CTR": 1.6134299337036377,
         "_deepnote_index_column": 1
        },
        {
         "position1": 0,
         "position2": 1,
         "position3": 0,
         "position5": 0,
         "Bons plan": 0,
         "Crazy": 0,
         "Promotions": 0,
         "type_banniere_Vente flash": 0,
         "August": 0,
         "December": 0,
         "February": 0,
         "January": 0,
         "July": 1,
         "June": 0,
         "March": 0,
         "May": 0,
         "November": 0,
         "October": 0,
         "September": 0,
         "log_CTR": 1.3083328196501787,
         "_deepnote_index_column": 2
        },
        {
         "position1": 1,
         "position2": 0,
         "position3": 0,
         "position5": 0,
         "Bons plan": 0,
         "Crazy": 0,
         "Promotions": 1,
         "type_banniere_Vente flash": 0,
         "August": 0,
         "December": 0,
         "February": 0,
         "January": 0,
         "July": 1,
         "June": 0,
         "March": 0,
         "May": 0,
         "November": 0,
         "October": 0,
         "September": 0,
         "log_CTR": 1.0296194171811581,
         "_deepnote_index_column": 3
        },
        {
         "position1": 1,
         "position2": 0,
         "position3": 0,
         "position5": 0,
         "Bons plan": 0,
         "Crazy": 0,
         "Promotions": 1,
         "type_banniere_Vente flash": 0,
         "August": 0,
         "December": 0,
         "February": 0,
         "January": 0,
         "July": 1,
         "June": 0,
         "March": 0,
         "May": 0,
         "November": 0,
         "October": 0,
         "September": 0,
         "log_CTR": 1.1505720275988207,
         "_deepnote_index_column": 4
        },
        {
         "position1": 0,
         "position2": 1,
         "position3": 0,
         "position5": 0,
         "Bons plan": 0,
         "Crazy": 0,
         "Promotions": 0,
         "type_banniere_Vente flash": 0,
         "August": 0,
         "December": 0,
         "February": 0,
         "January": 0,
         "July": 1,
         "June": 0,
         "March": 0,
         "May": 0,
         "November": 0,
         "October": 0,
         "September": 0,
         "log_CTR": 1.66392609771817,
         "_deepnote_index_column": 5
        },
        {
         "position1": 1,
         "position2": 0,
         "position3": 0,
         "position5": 0,
         "Bons plan": 0,
         "Crazy": 0,
         "Promotions": 1,
         "type_banniere_Vente flash": 0,
         "August": 0,
         "December": 0,
         "February": 0,
         "January": 0,
         "July": 1,
         "June": 0,
         "March": 0,
         "May": 0,
         "November": 0,
         "October": 0,
         "September": 0,
         "log_CTR": 1.0260415958332743,
         "_deepnote_index_column": 6
        },
        {
         "position1": 0,
         "position2": 1,
         "position3": 0,
         "position5": 0,
         "Bons plan": 0,
         "Crazy": 0,
         "Promotions": 0,
         "type_banniere_Vente flash": 0,
         "August": 0,
         "December": 0,
         "February": 0,
         "January": 0,
         "July": 1,
         "June": 0,
         "March": 0,
         "May": 0,
         "November": 0,
         "October": 0,
         "September": 0,
         "log_CTR": 1.33500106673234,
         "_deepnote_index_column": 7
        },
        {
         "position1": 0,
         "position2": 1,
         "position3": 0,
         "position5": 0,
         "Bons plan": 0,
         "Crazy": 0,
         "Promotions": 0,
         "type_banniere_Vente flash": 0,
         "August": 0,
         "December": 0,
         "February": 0,
         "January": 0,
         "July": 1,
         "June": 0,
         "March": 0,
         "May": 0,
         "November": 0,
         "October": 0,
         "September": 0,
         "log_CTR": 1.425515074273172,
         "_deepnote_index_column": 8
        },
        {
         "position1": 1,
         "position2": 0,
         "position3": 0,
         "position5": 0,
         "Bons plan": 0,
         "Crazy": 0,
         "Promotions": 1,
         "type_banniere_Vente flash": 0,
         "August": 0,
         "December": 0,
         "February": 0,
         "January": 0,
         "July": 1,
         "June": 0,
         "March": 0,
         "May": 0,
         "November": 0,
         "October": 0,
         "September": 0,
         "log_CTR": 0.8285518175661483,
         "_deepnote_index_column": 9
        }
       ]
      },
      "text/plain": "     position1  position2  position3  position5  Bons plan  Crazy  Promotions  \\\n0            1          0          0          0          0      0           1   \n1            0          1          0          0          0      0           0   \n2            0          1          0          0          0      0           0   \n3            1          0          0          0          0      0           1   \n4            1          0          0          0          0      0           1   \n..         ...        ...        ...        ...        ...    ...         ...   \n851          1          0          0          0          0      0           1   \n852          0          1          0          0          0      0           0   \n853          1          0          0          0          0      0           1   \n854          1          0          0          0          0      0           0   \n855          0          0          1          0          0      0           0   \n\n     type_banniere_Vente flash  August  December  February  January  July  \\\n0                            0       0         0         0        0     1   \n1                            0       0         0         0        0     1   \n2                            0       0         0         0        0     1   \n3                            0       0         0         0        0     1   \n4                            0       0         0         0        0     1   \n..                         ...     ...       ...       ...      ...   ...   \n851                          0       0         0         0        0     1   \n852                          0       0         0         0        0     1   \n853                          0       0         0         0        0     1   \n854                          0       0         0         0        0     1   \n855                          0       0         0         0        0     1   \n\n     June  March  May  November  October  September   log_CTR  \n0       0      0    0         0        0          0  1.512927  \n1       0      0    0         0        0          0  1.613430  \n2       0      0    0         0        0          0  1.308333  \n3       0      0    0         0        0          0  1.029619  \n4       0      0    0         0        0          0  1.150572  \n..    ...    ...  ...       ...      ...        ...       ...  \n851     0      0    0         0        0          0  1.623341  \n852     0      0    0         0        0          0  1.131402  \n853     0      0    0         0        0          0  1.961502  \n854     0      0    0         0        0          0  2.117460  \n855     0      0    0         0        0          0  0.891998  \n\n[856 rows x 20 columns]",
      "text/html": "<div>\n<style scoped>\n    .dataframe tbody tr th:only-of-type {\n        vertical-align: middle;\n    }\n\n    .dataframe tbody tr th {\n        vertical-align: top;\n    }\n\n    .dataframe thead th {\n        text-align: right;\n    }\n</style>\n<table border=\"1\" class=\"dataframe\">\n  <thead>\n    <tr style=\"text-align: right;\">\n      <th></th>\n      <th>position1</th>\n      <th>position2</th>\n      <th>position3</th>\n      <th>position5</th>\n      <th>Bons plan</th>\n      <th>Crazy</th>\n      <th>Promotions</th>\n      <th>type_banniere_Vente flash</th>\n      <th>August</th>\n      <th>December</th>\n      <th>February</th>\n      <th>January</th>\n      <th>July</th>\n      <th>June</th>\n      <th>March</th>\n      <th>May</th>\n      <th>November</th>\n      <th>October</th>\n      <th>September</th>\n      <th>log_CTR</th>\n    </tr>\n  </thead>\n  <tbody>\n    <tr>\n      <th>0</th>\n      <td>1</td>\n      <td>0</td>\n      <td>0</td>\n      <td>0</td>\n      <td>0</td>\n      <td>0</td>\n      <td>1</td>\n      <td>0</td>\n      <td>0</td>\n      <td>0</td>\n      <td>0</td>\n      <td>0</td>\n      <td>1</td>\n      <td>0</td>\n      <td>0</td>\n      <td>0</td>\n      <td>0</td>\n      <td>0</td>\n      <td>0</td>\n      <td>1.512927</td>\n    </tr>\n    <tr>\n      <th>1</th>\n      <td>0</td>\n      <td>1</td>\n      <td>0</td>\n      <td>0</td>\n      <td>0</td>\n      <td>0</td>\n      <td>0</td>\n      <td>0</td>\n      <td>0</td>\n      <td>0</td>\n      <td>0</td>\n      <td>0</td>\n      <td>1</td>\n      <td>0</td>\n      <td>0</td>\n      <td>0</td>\n      <td>0</td>\n      <td>0</td>\n      <td>0</td>\n      <td>1.613430</td>\n    </tr>\n    <tr>\n      <th>2</th>\n      <td>0</td>\n      <td>1</td>\n      <td>0</td>\n      <td>0</td>\n      <td>0</td>\n      <td>0</td>\n      <td>0</td>\n      <td>0</td>\n      <td>0</td>\n      <td>0</td>\n      <td>0</td>\n      <td>0</td>\n      <td>1</td>\n      <td>0</td>\n      <td>0</td>\n      <td>0</td>\n      <td>0</td>\n      <td>0</td>\n      <td>0</td>\n      <td>1.308333</td>\n    </tr>\n    <tr>\n      <th>3</th>\n      <td>1</td>\n      <td>0</td>\n      <td>0</td>\n      <td>0</td>\n      <td>0</td>\n      <td>0</td>\n      <td>1</td>\n      <td>0</td>\n      <td>0</td>\n      <td>0</td>\n      <td>0</td>\n      <td>0</td>\n      <td>1</td>\n      <td>0</td>\n      <td>0</td>\n      <td>0</td>\n      <td>0</td>\n      <td>0</td>\n      <td>0</td>\n      <td>1.029619</td>\n    </tr>\n    <tr>\n      <th>4</th>\n      <td>1</td>\n      <td>0</td>\n      <td>0</td>\n      <td>0</td>\n      <td>0</td>\n      <td>0</td>\n      <td>1</td>\n      <td>0</td>\n      <td>0</td>\n      <td>0</td>\n      <td>0</td>\n      <td>0</td>\n      <td>1</td>\n      <td>0</td>\n      <td>0</td>\n      <td>0</td>\n      <td>0</td>\n      <td>0</td>\n      <td>0</td>\n      <td>1.150572</td>\n    </tr>\n    <tr>\n      <th>...</th>\n      <td>...</td>\n      <td>...</td>\n      <td>...</td>\n      <td>...</td>\n      <td>...</td>\n      <td>...</td>\n      <td>...</td>\n      <td>...</td>\n      <td>...</td>\n      <td>...</td>\n      <td>...</td>\n      <td>...</td>\n      <td>...</td>\n      <td>...</td>\n      <td>...</td>\n      <td>...</td>\n      <td>...</td>\n      <td>...</td>\n      <td>...</td>\n      <td>...</td>\n    </tr>\n    <tr>\n      <th>851</th>\n      <td>1</td>\n      <td>0</td>\n      <td>0</td>\n      <td>0</td>\n      <td>0</td>\n      <td>0</td>\n      <td>1</td>\n      <td>0</td>\n      <td>0</td>\n      <td>0</td>\n      <td>0</td>\n      <td>0</td>\n      <td>1</td>\n      <td>0</td>\n      <td>0</td>\n      <td>0</td>\n      <td>0</td>\n      <td>0</td>\n      <td>0</td>\n      <td>1.623341</td>\n    </tr>\n    <tr>\n      <th>852</th>\n      <td>0</td>\n      <td>1</td>\n      <td>0</td>\n      <td>0</td>\n      <td>0</td>\n      <td>0</td>\n      <td>0</td>\n      <td>0</td>\n      <td>0</td>\n      <td>0</td>\n      <td>0</td>\n      <td>0</td>\n      <td>1</td>\n      <td>0</td>\n      <td>0</td>\n      <td>0</td>\n      <td>0</td>\n      <td>0</td>\n      <td>0</td>\n      <td>1.131402</td>\n    </tr>\n    <tr>\n      <th>853</th>\n      <td>1</td>\n      <td>0</td>\n      <td>0</td>\n      <td>0</td>\n      <td>0</td>\n      <td>0</td>\n      <td>1</td>\n      <td>0</td>\n      <td>0</td>\n      <td>0</td>\n      <td>0</td>\n      <td>0</td>\n      <td>1</td>\n      <td>0</td>\n      <td>0</td>\n      <td>0</td>\n      <td>0</td>\n      <td>0</td>\n      <td>0</td>\n      <td>1.961502</td>\n    </tr>\n    <tr>\n      <th>854</th>\n      <td>1</td>\n      <td>0</td>\n      <td>0</td>\n      <td>0</td>\n      <td>0</td>\n      <td>0</td>\n      <td>0</td>\n      <td>0</td>\n      <td>0</td>\n      <td>0</td>\n      <td>0</td>\n      <td>0</td>\n      <td>1</td>\n      <td>0</td>\n      <td>0</td>\n      <td>0</td>\n      <td>0</td>\n      <td>0</td>\n      <td>0</td>\n      <td>2.117460</td>\n    </tr>\n    <tr>\n      <th>855</th>\n      <td>0</td>\n      <td>0</td>\n      <td>1</td>\n      <td>0</td>\n      <td>0</td>\n      <td>0</td>\n      <td>0</td>\n      <td>0</td>\n      <td>0</td>\n      <td>0</td>\n      <td>0</td>\n      <td>0</td>\n      <td>1</td>\n      <td>0</td>\n      <td>0</td>\n      <td>0</td>\n      <td>0</td>\n      <td>0</td>\n      <td>0</td>\n      <td>0.891998</td>\n    </tr>\n  </tbody>\n</table>\n<p>856 rows × 20 columns</p>\n</div>"
     },
     "metadata": {}
    }
   ]
  },
  {
   "cell_type": "code",
   "metadata": {
    "tags": [],
    "deepnote_to_be_reexecuted": false,
    "source_hash": "ff31036d",
    "execution_start": 1661038328858,
    "execution_millis": 2,
    "cell_id": "00021-45bad840-0d16-4f7d-a867-29d153dd8141",
    "deepnote_cell_type": "code",
    "deepnote_cell_height": 904
   },
   "source": "X_cat=X_cat.rename(columns={\n#'promoPosition_Bon Plan-1':'bon_plan1',\n#'promoPosition_Bon Plan-2':'bon_plan2',\n#'promoPosition_Bon Plan-3':'bon_plan3',\n#'promoPosition_Bon Plan-4':'bon_plan4',\n#'promoPosition_Bon Plan-5':'bon_plan5',\n#'promoPosition_Bon Plan-6':'bon_plan6',\n\n#'promoPosition_Home CM – bonnes affaires grandes-1':'CM–bon_affai_grandes-1',\n#'promoPosition_Home CM – bonnes affaires grandes-2':'CM–bon_affai_grandes-2',\n#'promoPosition_Home CM – bonnes affaires petites-2':'CM–bon_affai_petites-2',\n#'promoPosition_Home CM – bonnes affaires petites-3':'CM–bon_affai_petites-3',\n#'promoPosition_Home CM – bonnes affaires petites-4':'CM–bon_affai_petites-4',\n#'promoPosition_Home CM – bonnes affaires petites-5':'CM–bon_affai_petites-5',\n'position_position1':'position1',\n'position_position2':'position2',\n'position_position3':'position3',\n'position_position4':'position4',\n'position_position5':'position5',\n'position_position6':'position6',\n\n'type_banniere_Autre':'Autre',\n'type_banniere_Bons Plans':'Bons plan',\n'type_banniere_Crazy':'Crazy',\n'type_banniere_Foliday':'Foliday',\n'type_banniere_Promotions':'Promotions',\n'type_banniere_Sejour tout compris':'Sejour tout compris',\n\n'jour_Friday':'Friday',\n'jour_Monday':'Monday',\n'jour_Saturday':'Saturday',\n'jour_Sunday':'Sunday',\n'jour_Thursday':'Thursday',\n'jour_Tuesday':'Tuesday',\n'jour_Wednesday':'Wednesday',\n'mois_April':'April',\n'mois_August':'August',\n'mois_December':'December',\n'mois_February':'February',\n'mois_January':'January',\n'mois_July':'July',\n'mois_June':'June',\n'mois_March':'March',\n'mois_May':'May',\n'mois_November':'November',\n'mois_October':'October',\n'mois_September':'September'})",
   "execution_count": 80,
   "outputs": []
  },
  {
   "cell_type": "code",
   "metadata": {
    "tags": [],
    "deepnote_to_be_reexecuted": false,
    "source_hash": "7ddd465a",
    "execution_start": 1661038332385,
    "execution_millis": 47,
    "cell_id": "00022-e78eac97-a2d0-43e1-8e23-6d0aa41cf4db",
    "deepnote_cell_type": "code",
    "deepnote_cell_height": 652
   },
   "source": "x=X_cat\nx\n",
   "execution_count": 81,
   "outputs": [
    {
     "output_type": "execute_result",
     "execution_count": 81,
     "data": {
      "application/vnd.deepnote.dataframe.v3+json": {
       "column_count": 19,
       "row_count": 856,
       "columns": [
        {
         "name": "position1",
         "dtype": "uint8",
         "stats": {
          "unique_count": 2,
          "nan_count": 0,
          "min": "0",
          "max": "1",
          "histogram": [
           {
            "bin_start": 0,
            "bin_end": 0.1,
            "count": 541
           },
           {
            "bin_start": 0.1,
            "bin_end": 0.2,
            "count": 0
           },
           {
            "bin_start": 0.2,
            "bin_end": 0.30000000000000004,
            "count": 0
           },
           {
            "bin_start": 0.30000000000000004,
            "bin_end": 0.4,
            "count": 0
           },
           {
            "bin_start": 0.4,
            "bin_end": 0.5,
            "count": 0
           },
           {
            "bin_start": 0.5,
            "bin_end": 0.6000000000000001,
            "count": 0
           },
           {
            "bin_start": 0.6000000000000001,
            "bin_end": 0.7000000000000001,
            "count": 0
           },
           {
            "bin_start": 0.7000000000000001,
            "bin_end": 0.8,
            "count": 0
           },
           {
            "bin_start": 0.8,
            "bin_end": 0.9,
            "count": 0
           },
           {
            "bin_start": 0.9,
            "bin_end": 1,
            "count": 315
           }
          ]
         }
        },
        {
         "name": "position2",
         "dtype": "uint8",
         "stats": {
          "unique_count": 2,
          "nan_count": 0,
          "min": "0",
          "max": "1",
          "histogram": [
           {
            "bin_start": 0,
            "bin_end": 0.1,
            "count": 555
           },
           {
            "bin_start": 0.1,
            "bin_end": 0.2,
            "count": 0
           },
           {
            "bin_start": 0.2,
            "bin_end": 0.30000000000000004,
            "count": 0
           },
           {
            "bin_start": 0.30000000000000004,
            "bin_end": 0.4,
            "count": 0
           },
           {
            "bin_start": 0.4,
            "bin_end": 0.5,
            "count": 0
           },
           {
            "bin_start": 0.5,
            "bin_end": 0.6000000000000001,
            "count": 0
           },
           {
            "bin_start": 0.6000000000000001,
            "bin_end": 0.7000000000000001,
            "count": 0
           },
           {
            "bin_start": 0.7000000000000001,
            "bin_end": 0.8,
            "count": 0
           },
           {
            "bin_start": 0.8,
            "bin_end": 0.9,
            "count": 0
           },
           {
            "bin_start": 0.9,
            "bin_end": 1,
            "count": 301
           }
          ]
         }
        },
        {
         "name": "position3",
         "dtype": "uint8",
         "stats": {
          "unique_count": 2,
          "nan_count": 0,
          "min": "0",
          "max": "1",
          "histogram": [
           {
            "bin_start": 0,
            "bin_end": 0.1,
            "count": 650
           },
           {
            "bin_start": 0.1,
            "bin_end": 0.2,
            "count": 0
           },
           {
            "bin_start": 0.2,
            "bin_end": 0.30000000000000004,
            "count": 0
           },
           {
            "bin_start": 0.30000000000000004,
            "bin_end": 0.4,
            "count": 0
           },
           {
            "bin_start": 0.4,
            "bin_end": 0.5,
            "count": 0
           },
           {
            "bin_start": 0.5,
            "bin_end": 0.6000000000000001,
            "count": 0
           },
           {
            "bin_start": 0.6000000000000001,
            "bin_end": 0.7000000000000001,
            "count": 0
           },
           {
            "bin_start": 0.7000000000000001,
            "bin_end": 0.8,
            "count": 0
           },
           {
            "bin_start": 0.8,
            "bin_end": 0.9,
            "count": 0
           },
           {
            "bin_start": 0.9,
            "bin_end": 1,
            "count": 206
           }
          ]
         }
        },
        {
         "name": "position5",
         "dtype": "uint8",
         "stats": {
          "unique_count": 2,
          "nan_count": 0,
          "min": "0",
          "max": "1",
          "histogram": [
           {
            "bin_start": 0,
            "bin_end": 0.1,
            "count": 851
           },
           {
            "bin_start": 0.1,
            "bin_end": 0.2,
            "count": 0
           },
           {
            "bin_start": 0.2,
            "bin_end": 0.30000000000000004,
            "count": 0
           },
           {
            "bin_start": 0.30000000000000004,
            "bin_end": 0.4,
            "count": 0
           },
           {
            "bin_start": 0.4,
            "bin_end": 0.5,
            "count": 0
           },
           {
            "bin_start": 0.5,
            "bin_end": 0.6000000000000001,
            "count": 0
           },
           {
            "bin_start": 0.6000000000000001,
            "bin_end": 0.7000000000000001,
            "count": 0
           },
           {
            "bin_start": 0.7000000000000001,
            "bin_end": 0.8,
            "count": 0
           },
           {
            "bin_start": 0.8,
            "bin_end": 0.9,
            "count": 0
           },
           {
            "bin_start": 0.9,
            "bin_end": 1,
            "count": 5
           }
          ]
         }
        },
        {
         "name": "Bons plan",
         "dtype": "uint8",
         "stats": {
          "unique_count": 2,
          "nan_count": 0,
          "min": "0",
          "max": "1",
          "histogram": [
           {
            "bin_start": 0,
            "bin_end": 0.1,
            "count": 789
           },
           {
            "bin_start": 0.1,
            "bin_end": 0.2,
            "count": 0
           },
           {
            "bin_start": 0.2,
            "bin_end": 0.30000000000000004,
            "count": 0
           },
           {
            "bin_start": 0.30000000000000004,
            "bin_end": 0.4,
            "count": 0
           },
           {
            "bin_start": 0.4,
            "bin_end": 0.5,
            "count": 0
           },
           {
            "bin_start": 0.5,
            "bin_end": 0.6000000000000001,
            "count": 0
           },
           {
            "bin_start": 0.6000000000000001,
            "bin_end": 0.7000000000000001,
            "count": 0
           },
           {
            "bin_start": 0.7000000000000001,
            "bin_end": 0.8,
            "count": 0
           },
           {
            "bin_start": 0.8,
            "bin_end": 0.9,
            "count": 0
           },
           {
            "bin_start": 0.9,
            "bin_end": 1,
            "count": 67
           }
          ]
         }
        },
        {
         "name": "Crazy",
         "dtype": "uint8",
         "stats": {
          "unique_count": 2,
          "nan_count": 0,
          "min": "0",
          "max": "1",
          "histogram": [
           {
            "bin_start": 0,
            "bin_end": 0.1,
            "count": 806
           },
           {
            "bin_start": 0.1,
            "bin_end": 0.2,
            "count": 0
           },
           {
            "bin_start": 0.2,
            "bin_end": 0.30000000000000004,
            "count": 0
           },
           {
            "bin_start": 0.30000000000000004,
            "bin_end": 0.4,
            "count": 0
           },
           {
            "bin_start": 0.4,
            "bin_end": 0.5,
            "count": 0
           },
           {
            "bin_start": 0.5,
            "bin_end": 0.6000000000000001,
            "count": 0
           },
           {
            "bin_start": 0.6000000000000001,
            "bin_end": 0.7000000000000001,
            "count": 0
           },
           {
            "bin_start": 0.7000000000000001,
            "bin_end": 0.8,
            "count": 0
           },
           {
            "bin_start": 0.8,
            "bin_end": 0.9,
            "count": 0
           },
           {
            "bin_start": 0.9,
            "bin_end": 1,
            "count": 50
           }
          ]
         }
        },
        {
         "name": "Promotions",
         "dtype": "uint8",
         "stats": {
          "unique_count": 2,
          "nan_count": 0,
          "min": "0",
          "max": "1",
          "histogram": [
           {
            "bin_start": 0,
            "bin_end": 0.1,
            "count": 741
           },
           {
            "bin_start": 0.1,
            "bin_end": 0.2,
            "count": 0
           },
           {
            "bin_start": 0.2,
            "bin_end": 0.30000000000000004,
            "count": 0
           },
           {
            "bin_start": 0.30000000000000004,
            "bin_end": 0.4,
            "count": 0
           },
           {
            "bin_start": 0.4,
            "bin_end": 0.5,
            "count": 0
           },
           {
            "bin_start": 0.5,
            "bin_end": 0.6000000000000001,
            "count": 0
           },
           {
            "bin_start": 0.6000000000000001,
            "bin_end": 0.7000000000000001,
            "count": 0
           },
           {
            "bin_start": 0.7000000000000001,
            "bin_end": 0.8,
            "count": 0
           },
           {
            "bin_start": 0.8,
            "bin_end": 0.9,
            "count": 0
           },
           {
            "bin_start": 0.9,
            "bin_end": 1,
            "count": 115
           }
          ]
         }
        },
        {
         "name": "type_banniere_Vente flash",
         "dtype": "uint8",
         "stats": {
          "unique_count": 2,
          "nan_count": 0,
          "min": "0",
          "max": "1",
          "histogram": [
           {
            "bin_start": 0,
            "bin_end": 0.1,
            "count": 855
           },
           {
            "bin_start": 0.1,
            "bin_end": 0.2,
            "count": 0
           },
           {
            "bin_start": 0.2,
            "bin_end": 0.30000000000000004,
            "count": 0
           },
           {
            "bin_start": 0.30000000000000004,
            "bin_end": 0.4,
            "count": 0
           },
           {
            "bin_start": 0.4,
            "bin_end": 0.5,
            "count": 0
           },
           {
            "bin_start": 0.5,
            "bin_end": 0.6000000000000001,
            "count": 0
           },
           {
            "bin_start": 0.6000000000000001,
            "bin_end": 0.7000000000000001,
            "count": 0
           },
           {
            "bin_start": 0.7000000000000001,
            "bin_end": 0.8,
            "count": 0
           },
           {
            "bin_start": 0.8,
            "bin_end": 0.9,
            "count": 0
           },
           {
            "bin_start": 0.9,
            "bin_end": 1,
            "count": 1
           }
          ]
         }
        },
        {
         "name": "August",
         "dtype": "uint8",
         "stats": {
          "unique_count": 2,
          "nan_count": 0,
          "min": "0",
          "max": "1",
          "histogram": [
           {
            "bin_start": 0,
            "bin_end": 0.1,
            "count": 809
           },
           {
            "bin_start": 0.1,
            "bin_end": 0.2,
            "count": 0
           },
           {
            "bin_start": 0.2,
            "bin_end": 0.30000000000000004,
            "count": 0
           },
           {
            "bin_start": 0.30000000000000004,
            "bin_end": 0.4,
            "count": 0
           },
           {
            "bin_start": 0.4,
            "bin_end": 0.5,
            "count": 0
           },
           {
            "bin_start": 0.5,
            "bin_end": 0.6000000000000001,
            "count": 0
           },
           {
            "bin_start": 0.6000000000000001,
            "bin_end": 0.7000000000000001,
            "count": 0
           },
           {
            "bin_start": 0.7000000000000001,
            "bin_end": 0.8,
            "count": 0
           },
           {
            "bin_start": 0.8,
            "bin_end": 0.9,
            "count": 0
           },
           {
            "bin_start": 0.9,
            "bin_end": 1,
            "count": 47
           }
          ]
         }
        },
        {
         "name": "December",
         "dtype": "uint8",
         "stats": {
          "unique_count": 2,
          "nan_count": 0,
          "min": "0",
          "max": "1",
          "histogram": [
           {
            "bin_start": 0,
            "bin_end": 0.1,
            "count": 827
           },
           {
            "bin_start": 0.1,
            "bin_end": 0.2,
            "count": 0
           },
           {
            "bin_start": 0.2,
            "bin_end": 0.30000000000000004,
            "count": 0
           },
           {
            "bin_start": 0.30000000000000004,
            "bin_end": 0.4,
            "count": 0
           },
           {
            "bin_start": 0.4,
            "bin_end": 0.5,
            "count": 0
           },
           {
            "bin_start": 0.5,
            "bin_end": 0.6000000000000001,
            "count": 0
           },
           {
            "bin_start": 0.6000000000000001,
            "bin_end": 0.7000000000000001,
            "count": 0
           },
           {
            "bin_start": 0.7000000000000001,
            "bin_end": 0.8,
            "count": 0
           },
           {
            "bin_start": 0.8,
            "bin_end": 0.9,
            "count": 0
           },
           {
            "bin_start": 0.9,
            "bin_end": 1,
            "count": 29
           }
          ]
         }
        },
        {
         "name": "February",
         "dtype": "uint8",
         "stats": {
          "unique_count": 2,
          "nan_count": 0,
          "min": "0",
          "max": "1",
          "histogram": [
           {
            "bin_start": 0,
            "bin_end": 0.1,
            "count": 753
           },
           {
            "bin_start": 0.1,
            "bin_end": 0.2,
            "count": 0
           },
           {
            "bin_start": 0.2,
            "bin_end": 0.30000000000000004,
            "count": 0
           },
           {
            "bin_start": 0.30000000000000004,
            "bin_end": 0.4,
            "count": 0
           },
           {
            "bin_start": 0.4,
            "bin_end": 0.5,
            "count": 0
           },
           {
            "bin_start": 0.5,
            "bin_end": 0.6000000000000001,
            "count": 0
           },
           {
            "bin_start": 0.6000000000000001,
            "bin_end": 0.7000000000000001,
            "count": 0
           },
           {
            "bin_start": 0.7000000000000001,
            "bin_end": 0.8,
            "count": 0
           },
           {
            "bin_start": 0.8,
            "bin_end": 0.9,
            "count": 0
           },
           {
            "bin_start": 0.9,
            "bin_end": 1,
            "count": 103
           }
          ]
         }
        },
        {
         "name": "January",
         "dtype": "uint8",
         "stats": {
          "unique_count": 2,
          "nan_count": 0,
          "min": "0",
          "max": "1",
          "histogram": [
           {
            "bin_start": 0,
            "bin_end": 0.1,
            "count": 772
           },
           {
            "bin_start": 0.1,
            "bin_end": 0.2,
            "count": 0
           },
           {
            "bin_start": 0.2,
            "bin_end": 0.30000000000000004,
            "count": 0
           },
           {
            "bin_start": 0.30000000000000004,
            "bin_end": 0.4,
            "count": 0
           },
           {
            "bin_start": 0.4,
            "bin_end": 0.5,
            "count": 0
           },
           {
            "bin_start": 0.5,
            "bin_end": 0.6000000000000001,
            "count": 0
           },
           {
            "bin_start": 0.6000000000000001,
            "bin_end": 0.7000000000000001,
            "count": 0
           },
           {
            "bin_start": 0.7000000000000001,
            "bin_end": 0.8,
            "count": 0
           },
           {
            "bin_start": 0.8,
            "bin_end": 0.9,
            "count": 0
           },
           {
            "bin_start": 0.9,
            "bin_end": 1,
            "count": 84
           }
          ]
         }
        },
        {
         "name": "July",
         "dtype": "uint8",
         "stats": {
          "unique_count": 2,
          "nan_count": 0,
          "min": "0",
          "max": "1",
          "histogram": [
           {
            "bin_start": 0,
            "bin_end": 0.1,
            "count": 784
           },
           {
            "bin_start": 0.1,
            "bin_end": 0.2,
            "count": 0
           },
           {
            "bin_start": 0.2,
            "bin_end": 0.30000000000000004,
            "count": 0
           },
           {
            "bin_start": 0.30000000000000004,
            "bin_end": 0.4,
            "count": 0
           },
           {
            "bin_start": 0.4,
            "bin_end": 0.5,
            "count": 0
           },
           {
            "bin_start": 0.5,
            "bin_end": 0.6000000000000001,
            "count": 0
           },
           {
            "bin_start": 0.6000000000000001,
            "bin_end": 0.7000000000000001,
            "count": 0
           },
           {
            "bin_start": 0.7000000000000001,
            "bin_end": 0.8,
            "count": 0
           },
           {
            "bin_start": 0.8,
            "bin_end": 0.9,
            "count": 0
           },
           {
            "bin_start": 0.9,
            "bin_end": 1,
            "count": 72
           }
          ]
         }
        },
        {
         "name": "June",
         "dtype": "uint8",
         "stats": {
          "unique_count": 2,
          "nan_count": 0,
          "min": "0",
          "max": "1",
          "histogram": [
           {
            "bin_start": 0,
            "bin_end": 0.1,
            "count": 772
           },
           {
            "bin_start": 0.1,
            "bin_end": 0.2,
            "count": 0
           },
           {
            "bin_start": 0.2,
            "bin_end": 0.30000000000000004,
            "count": 0
           },
           {
            "bin_start": 0.30000000000000004,
            "bin_end": 0.4,
            "count": 0
           },
           {
            "bin_start": 0.4,
            "bin_end": 0.5,
            "count": 0
           },
           {
            "bin_start": 0.5,
            "bin_end": 0.6000000000000001,
            "count": 0
           },
           {
            "bin_start": 0.6000000000000001,
            "bin_end": 0.7000000000000001,
            "count": 0
           },
           {
            "bin_start": 0.7000000000000001,
            "bin_end": 0.8,
            "count": 0
           },
           {
            "bin_start": 0.8,
            "bin_end": 0.9,
            "count": 0
           },
           {
            "bin_start": 0.9,
            "bin_end": 1,
            "count": 84
           }
          ]
         }
        },
        {
         "name": "March",
         "dtype": "uint8",
         "stats": {
          "unique_count": 2,
          "nan_count": 0,
          "min": "0",
          "max": "1",
          "histogram": [
           {
            "bin_start": 0,
            "bin_end": 0.1,
            "count": 760
           },
           {
            "bin_start": 0.1,
            "bin_end": 0.2,
            "count": 0
           },
           {
            "bin_start": 0.2,
            "bin_end": 0.30000000000000004,
            "count": 0
           },
           {
            "bin_start": 0.30000000000000004,
            "bin_end": 0.4,
            "count": 0
           },
           {
            "bin_start": 0.4,
            "bin_end": 0.5,
            "count": 0
           },
           {
            "bin_start": 0.5,
            "bin_end": 0.6000000000000001,
            "count": 0
           },
           {
            "bin_start": 0.6000000000000001,
            "bin_end": 0.7000000000000001,
            "count": 0
           },
           {
            "bin_start": 0.7000000000000001,
            "bin_end": 0.8,
            "count": 0
           },
           {
            "bin_start": 0.8,
            "bin_end": 0.9,
            "count": 0
           },
           {
            "bin_start": 0.9,
            "bin_end": 1,
            "count": 96
           }
          ]
         }
        },
        {
         "name": "May",
         "dtype": "uint8",
         "stats": {
          "unique_count": 2,
          "nan_count": 0,
          "min": "0",
          "max": "1",
          "histogram": [
           {
            "bin_start": 0,
            "bin_end": 0.1,
            "count": 785
           },
           {
            "bin_start": 0.1,
            "bin_end": 0.2,
            "count": 0
           },
           {
            "bin_start": 0.2,
            "bin_end": 0.30000000000000004,
            "count": 0
           },
           {
            "bin_start": 0.30000000000000004,
            "bin_end": 0.4,
            "count": 0
           },
           {
            "bin_start": 0.4,
            "bin_end": 0.5,
            "count": 0
           },
           {
            "bin_start": 0.5,
            "bin_end": 0.6000000000000001,
            "count": 0
           },
           {
            "bin_start": 0.6000000000000001,
            "bin_end": 0.7000000000000001,
            "count": 0
           },
           {
            "bin_start": 0.7000000000000001,
            "bin_end": 0.8,
            "count": 0
           },
           {
            "bin_start": 0.8,
            "bin_end": 0.9,
            "count": 0
           },
           {
            "bin_start": 0.9,
            "bin_end": 1,
            "count": 71
           }
          ]
         }
        },
        {
         "name": "November",
         "dtype": "uint8",
         "stats": {
          "unique_count": 2,
          "nan_count": 0,
          "min": "0",
          "max": "1",
          "histogram": [
           {
            "bin_start": 0,
            "bin_end": 0.1,
            "count": 807
           },
           {
            "bin_start": 0.1,
            "bin_end": 0.2,
            "count": 0
           },
           {
            "bin_start": 0.2,
            "bin_end": 0.30000000000000004,
            "count": 0
           },
           {
            "bin_start": 0.30000000000000004,
            "bin_end": 0.4,
            "count": 0
           },
           {
            "bin_start": 0.4,
            "bin_end": 0.5,
            "count": 0
           },
           {
            "bin_start": 0.5,
            "bin_end": 0.6000000000000001,
            "count": 0
           },
           {
            "bin_start": 0.6000000000000001,
            "bin_end": 0.7000000000000001,
            "count": 0
           },
           {
            "bin_start": 0.7000000000000001,
            "bin_end": 0.8,
            "count": 0
           },
           {
            "bin_start": 0.8,
            "bin_end": 0.9,
            "count": 0
           },
           {
            "bin_start": 0.9,
            "bin_end": 1,
            "count": 49
           }
          ]
         }
        },
        {
         "name": "October",
         "dtype": "uint8",
         "stats": {
          "unique_count": 2,
          "nan_count": 0,
          "min": "0",
          "max": "1",
          "histogram": [
           {
            "bin_start": 0,
            "bin_end": 0.1,
            "count": 780
           },
           {
            "bin_start": 0.1,
            "bin_end": 0.2,
            "count": 0
           },
           {
            "bin_start": 0.2,
            "bin_end": 0.30000000000000004,
            "count": 0
           },
           {
            "bin_start": 0.30000000000000004,
            "bin_end": 0.4,
            "count": 0
           },
           {
            "bin_start": 0.4,
            "bin_end": 0.5,
            "count": 0
           },
           {
            "bin_start": 0.5,
            "bin_end": 0.6000000000000001,
            "count": 0
           },
           {
            "bin_start": 0.6000000000000001,
            "bin_end": 0.7000000000000001,
            "count": 0
           },
           {
            "bin_start": 0.7000000000000001,
            "bin_end": 0.8,
            "count": 0
           },
           {
            "bin_start": 0.8,
            "bin_end": 0.9,
            "count": 0
           },
           {
            "bin_start": 0.9,
            "bin_end": 1,
            "count": 76
           }
          ]
         }
        },
        {
         "name": "September",
         "dtype": "uint8",
         "stats": {
          "unique_count": 2,
          "nan_count": 0,
          "min": "0",
          "max": "1",
          "histogram": [
           {
            "bin_start": 0,
            "bin_end": 0.1,
            "count": 804
           },
           {
            "bin_start": 0.1,
            "bin_end": 0.2,
            "count": 0
           },
           {
            "bin_start": 0.2,
            "bin_end": 0.30000000000000004,
            "count": 0
           },
           {
            "bin_start": 0.30000000000000004,
            "bin_end": 0.4,
            "count": 0
           },
           {
            "bin_start": 0.4,
            "bin_end": 0.5,
            "count": 0
           },
           {
            "bin_start": 0.5,
            "bin_end": 0.6000000000000001,
            "count": 0
           },
           {
            "bin_start": 0.6000000000000001,
            "bin_end": 0.7000000000000001,
            "count": 0
           },
           {
            "bin_start": 0.7000000000000001,
            "bin_end": 0.8,
            "count": 0
           },
           {
            "bin_start": 0.8,
            "bin_end": 0.9,
            "count": 0
           },
           {
            "bin_start": 0.9,
            "bin_end": 1,
            "count": 52
           }
          ]
         }
        },
        {
         "name": "_deepnote_index_column",
         "dtype": "int64"
        }
       ],
       "rows": [
        {
         "position1": 1,
         "position2": 0,
         "position3": 0,
         "position5": 0,
         "Bons plan": 0,
         "Crazy": 0,
         "Promotions": 1,
         "type_banniere_Vente flash": 0,
         "August": 0,
         "December": 0,
         "February": 0,
         "January": 0,
         "July": 1,
         "June": 0,
         "March": 0,
         "May": 0,
         "November": 0,
         "October": 0,
         "September": 0,
         "_deepnote_index_column": 0
        },
        {
         "position1": 0,
         "position2": 1,
         "position3": 0,
         "position5": 0,
         "Bons plan": 0,
         "Crazy": 0,
         "Promotions": 0,
         "type_banniere_Vente flash": 0,
         "August": 0,
         "December": 0,
         "February": 0,
         "January": 0,
         "July": 1,
         "June": 0,
         "March": 0,
         "May": 0,
         "November": 0,
         "October": 0,
         "September": 0,
         "_deepnote_index_column": 1
        },
        {
         "position1": 0,
         "position2": 1,
         "position3": 0,
         "position5": 0,
         "Bons plan": 0,
         "Crazy": 0,
         "Promotions": 0,
         "type_banniere_Vente flash": 0,
         "August": 0,
         "December": 0,
         "February": 0,
         "January": 0,
         "July": 1,
         "June": 0,
         "March": 0,
         "May": 0,
         "November": 0,
         "October": 0,
         "September": 0,
         "_deepnote_index_column": 2
        },
        {
         "position1": 1,
         "position2": 0,
         "position3": 0,
         "position5": 0,
         "Bons plan": 0,
         "Crazy": 0,
         "Promotions": 1,
         "type_banniere_Vente flash": 0,
         "August": 0,
         "December": 0,
         "February": 0,
         "January": 0,
         "July": 1,
         "June": 0,
         "March": 0,
         "May": 0,
         "November": 0,
         "October": 0,
         "September": 0,
         "_deepnote_index_column": 3
        },
        {
         "position1": 1,
         "position2": 0,
         "position3": 0,
         "position5": 0,
         "Bons plan": 0,
         "Crazy": 0,
         "Promotions": 1,
         "type_banniere_Vente flash": 0,
         "August": 0,
         "December": 0,
         "February": 0,
         "January": 0,
         "July": 1,
         "June": 0,
         "March": 0,
         "May": 0,
         "November": 0,
         "October": 0,
         "September": 0,
         "_deepnote_index_column": 4
        },
        {
         "position1": 0,
         "position2": 1,
         "position3": 0,
         "position5": 0,
         "Bons plan": 0,
         "Crazy": 0,
         "Promotions": 0,
         "type_banniere_Vente flash": 0,
         "August": 0,
         "December": 0,
         "February": 0,
         "January": 0,
         "July": 1,
         "June": 0,
         "March": 0,
         "May": 0,
         "November": 0,
         "October": 0,
         "September": 0,
         "_deepnote_index_column": 5
        },
        {
         "position1": 1,
         "position2": 0,
         "position3": 0,
         "position5": 0,
         "Bons plan": 0,
         "Crazy": 0,
         "Promotions": 1,
         "type_banniere_Vente flash": 0,
         "August": 0,
         "December": 0,
         "February": 0,
         "January": 0,
         "July": 1,
         "June": 0,
         "March": 0,
         "May": 0,
         "November": 0,
         "October": 0,
         "September": 0,
         "_deepnote_index_column": 6
        },
        {
         "position1": 0,
         "position2": 1,
         "position3": 0,
         "position5": 0,
         "Bons plan": 0,
         "Crazy": 0,
         "Promotions": 0,
         "type_banniere_Vente flash": 0,
         "August": 0,
         "December": 0,
         "February": 0,
         "January": 0,
         "July": 1,
         "June": 0,
         "March": 0,
         "May": 0,
         "November": 0,
         "October": 0,
         "September": 0,
         "_deepnote_index_column": 7
        },
        {
         "position1": 0,
         "position2": 1,
         "position3": 0,
         "position5": 0,
         "Bons plan": 0,
         "Crazy": 0,
         "Promotions": 0,
         "type_banniere_Vente flash": 0,
         "August": 0,
         "December": 0,
         "February": 0,
         "January": 0,
         "July": 1,
         "June": 0,
         "March": 0,
         "May": 0,
         "November": 0,
         "October": 0,
         "September": 0,
         "_deepnote_index_column": 8
        },
        {
         "position1": 1,
         "position2": 0,
         "position3": 0,
         "position5": 0,
         "Bons plan": 0,
         "Crazy": 0,
         "Promotions": 1,
         "type_banniere_Vente flash": 0,
         "August": 0,
         "December": 0,
         "February": 0,
         "January": 0,
         "July": 1,
         "June": 0,
         "March": 0,
         "May": 0,
         "November": 0,
         "October": 0,
         "September": 0,
         "_deepnote_index_column": 9
        }
       ]
      },
      "text/plain": "     position1  position2  position3  position5  Bons plan  Crazy  Promotions  \\\n0            1          0          0          0          0      0           1   \n1            0          1          0          0          0      0           0   \n2            0          1          0          0          0      0           0   \n3            1          0          0          0          0      0           1   \n4            1          0          0          0          0      0           1   \n..         ...        ...        ...        ...        ...    ...         ...   \n851          1          0          0          0          0      0           1   \n852          0          1          0          0          0      0           0   \n853          1          0          0          0          0      0           1   \n854          1          0          0          0          0      0           0   \n855          0          0          1          0          0      0           0   \n\n     type_banniere_Vente flash  August  December  February  January  July  \\\n0                            0       0         0         0        0     1   \n1                            0       0         0         0        0     1   \n2                            0       0         0         0        0     1   \n3                            0       0         0         0        0     1   \n4                            0       0         0         0        0     1   \n..                         ...     ...       ...       ...      ...   ...   \n851                          0       0         0         0        0     1   \n852                          0       0         0         0        0     1   \n853                          0       0         0         0        0     1   \n854                          0       0         0         0        0     1   \n855                          0       0         0         0        0     1   \n\n     June  March  May  November  October  September  \n0       0      0    0         0        0          0  \n1       0      0    0         0        0          0  \n2       0      0    0         0        0          0  \n3       0      0    0         0        0          0  \n4       0      0    0         0        0          0  \n..    ...    ...  ...       ...      ...        ...  \n851     0      0    0         0        0          0  \n852     0      0    0         0        0          0  \n853     0      0    0         0        0          0  \n854     0      0    0         0        0          0  \n855     0      0    0         0        0          0  \n\n[856 rows x 19 columns]",
      "text/html": "<div>\n<style scoped>\n    .dataframe tbody tr th:only-of-type {\n        vertical-align: middle;\n    }\n\n    .dataframe tbody tr th {\n        vertical-align: top;\n    }\n\n    .dataframe thead th {\n        text-align: right;\n    }\n</style>\n<table border=\"1\" class=\"dataframe\">\n  <thead>\n    <tr style=\"text-align: right;\">\n      <th></th>\n      <th>position1</th>\n      <th>position2</th>\n      <th>position3</th>\n      <th>position5</th>\n      <th>Bons plan</th>\n      <th>Crazy</th>\n      <th>Promotions</th>\n      <th>type_banniere_Vente flash</th>\n      <th>August</th>\n      <th>December</th>\n      <th>February</th>\n      <th>January</th>\n      <th>July</th>\n      <th>June</th>\n      <th>March</th>\n      <th>May</th>\n      <th>November</th>\n      <th>October</th>\n      <th>September</th>\n    </tr>\n  </thead>\n  <tbody>\n    <tr>\n      <th>0</th>\n      <td>1</td>\n      <td>0</td>\n      <td>0</td>\n      <td>0</td>\n      <td>0</td>\n      <td>0</td>\n      <td>1</td>\n      <td>0</td>\n      <td>0</td>\n      <td>0</td>\n      <td>0</td>\n      <td>0</td>\n      <td>1</td>\n      <td>0</td>\n      <td>0</td>\n      <td>0</td>\n      <td>0</td>\n      <td>0</td>\n      <td>0</td>\n    </tr>\n    <tr>\n      <th>1</th>\n      <td>0</td>\n      <td>1</td>\n      <td>0</td>\n      <td>0</td>\n      <td>0</td>\n      <td>0</td>\n      <td>0</td>\n      <td>0</td>\n      <td>0</td>\n      <td>0</td>\n      <td>0</td>\n      <td>0</td>\n      <td>1</td>\n      <td>0</td>\n      <td>0</td>\n      <td>0</td>\n      <td>0</td>\n      <td>0</td>\n      <td>0</td>\n    </tr>\n    <tr>\n      <th>2</th>\n      <td>0</td>\n      <td>1</td>\n      <td>0</td>\n      <td>0</td>\n      <td>0</td>\n      <td>0</td>\n      <td>0</td>\n      <td>0</td>\n      <td>0</td>\n      <td>0</td>\n      <td>0</td>\n      <td>0</td>\n      <td>1</td>\n      <td>0</td>\n      <td>0</td>\n      <td>0</td>\n      <td>0</td>\n      <td>0</td>\n      <td>0</td>\n    </tr>\n    <tr>\n      <th>3</th>\n      <td>1</td>\n      <td>0</td>\n      <td>0</td>\n      <td>0</td>\n      <td>0</td>\n      <td>0</td>\n      <td>1</td>\n      <td>0</td>\n      <td>0</td>\n      <td>0</td>\n      <td>0</td>\n      <td>0</td>\n      <td>1</td>\n      <td>0</td>\n      <td>0</td>\n      <td>0</td>\n      <td>0</td>\n      <td>0</td>\n      <td>0</td>\n    </tr>\n    <tr>\n      <th>4</th>\n      <td>1</td>\n      <td>0</td>\n      <td>0</td>\n      <td>0</td>\n      <td>0</td>\n      <td>0</td>\n      <td>1</td>\n      <td>0</td>\n      <td>0</td>\n      <td>0</td>\n      <td>0</td>\n      <td>0</td>\n      <td>1</td>\n      <td>0</td>\n      <td>0</td>\n      <td>0</td>\n      <td>0</td>\n      <td>0</td>\n      <td>0</td>\n    </tr>\n    <tr>\n      <th>...</th>\n      <td>...</td>\n      <td>...</td>\n      <td>...</td>\n      <td>...</td>\n      <td>...</td>\n      <td>...</td>\n      <td>...</td>\n      <td>...</td>\n      <td>...</td>\n      <td>...</td>\n      <td>...</td>\n      <td>...</td>\n      <td>...</td>\n      <td>...</td>\n      <td>...</td>\n      <td>...</td>\n      <td>...</td>\n      <td>...</td>\n      <td>...</td>\n    </tr>\n    <tr>\n      <th>851</th>\n      <td>1</td>\n      <td>0</td>\n      <td>0</td>\n      <td>0</td>\n      <td>0</td>\n      <td>0</td>\n      <td>1</td>\n      <td>0</td>\n      <td>0</td>\n      <td>0</td>\n      <td>0</td>\n      <td>0</td>\n      <td>1</td>\n      <td>0</td>\n      <td>0</td>\n      <td>0</td>\n      <td>0</td>\n      <td>0</td>\n      <td>0</td>\n    </tr>\n    <tr>\n      <th>852</th>\n      <td>0</td>\n      <td>1</td>\n      <td>0</td>\n      <td>0</td>\n      <td>0</td>\n      <td>0</td>\n      <td>0</td>\n      <td>0</td>\n      <td>0</td>\n      <td>0</td>\n      <td>0</td>\n      <td>0</td>\n      <td>1</td>\n      <td>0</td>\n      <td>0</td>\n      <td>0</td>\n      <td>0</td>\n      <td>0</td>\n      <td>0</td>\n    </tr>\n    <tr>\n      <th>853</th>\n      <td>1</td>\n      <td>0</td>\n      <td>0</td>\n      <td>0</td>\n      <td>0</td>\n      <td>0</td>\n      <td>1</td>\n      <td>0</td>\n      <td>0</td>\n      <td>0</td>\n      <td>0</td>\n      <td>0</td>\n      <td>1</td>\n      <td>0</td>\n      <td>0</td>\n      <td>0</td>\n      <td>0</td>\n      <td>0</td>\n      <td>0</td>\n    </tr>\n    <tr>\n      <th>854</th>\n      <td>1</td>\n      <td>0</td>\n      <td>0</td>\n      <td>0</td>\n      <td>0</td>\n      <td>0</td>\n      <td>0</td>\n      <td>0</td>\n      <td>0</td>\n      <td>0</td>\n      <td>0</td>\n      <td>0</td>\n      <td>1</td>\n      <td>0</td>\n      <td>0</td>\n      <td>0</td>\n      <td>0</td>\n      <td>0</td>\n      <td>0</td>\n    </tr>\n    <tr>\n      <th>855</th>\n      <td>0</td>\n      <td>0</td>\n      <td>1</td>\n      <td>0</td>\n      <td>0</td>\n      <td>0</td>\n      <td>0</td>\n      <td>0</td>\n      <td>0</td>\n      <td>0</td>\n      <td>0</td>\n      <td>0</td>\n      <td>1</td>\n      <td>0</td>\n      <td>0</td>\n      <td>0</td>\n      <td>0</td>\n      <td>0</td>\n      <td>0</td>\n    </tr>\n  </tbody>\n</table>\n<p>856 rows × 19 columns</p>\n</div>"
     },
     "metadata": {}
    }
   ]
  },
  {
   "cell_type": "code",
   "metadata": {
    "tags": [],
    "deepnote_to_be_reexecuted": false,
    "source_hash": "1c5f725f",
    "execution_start": 1661038344206,
    "execution_millis": 11,
    "cell_id": "00023-b346f81d-67da-4ec7-976f-b97b82243719",
    "deepnote_cell_type": "code",
    "deepnote_cell_height": 419.75
   },
   "source": "X_train=X.loc[data.date<='2022-07-01']\ny_train= y.loc[data.date<='2022-07-01']\n\nX_test = X.loc[data.date>'2022-07-01']\ny_test = y.loc[data.date>'2022-07-01']\n\n# transform target variables\nfrom sklearn.preprocessing import MinMaxScaler\ntarget_scaler = MinMaxScaler()\n\n\nprint(\"X_train shape :\", X_train.shape)\nprint(\"X_test shape :\", X_test.shape)\nprint(\"y_train shape :\", y_train.shape)\nprint(\"y_test shape :\", y_test.shape)",
   "execution_count": 83,
   "outputs": [
    {
     "name": "stdout",
     "text": "X_train shape : (828, 19)\nX_test shape : (28, 19)\ny_train shape : (828,)\ny_test shape : (28,)\n",
     "output_type": "stream"
    }
   ]
  },
  {
   "cell_type": "markdown",
   "source": "# Other transformation",
   "metadata": {
    "formattedRanges": [],
    "is_collapsed": false,
    "tags": [],
    "cell_id": "00024-104ab5ca-66c6-42ff-83b2-924c0bd16a16",
    "deepnote_cell_type": "text-cell-h1"
   }
  },
  {
   "cell_type": "code",
   "metadata": {
    "tags": [],
    "deepnote_to_be_reexecuted": false,
    "source_hash": "9cdf842e",
    "execution_start": 1661038339425,
    "execution_millis": 1096,
    "cell_id": "00025-246a5a0e-bb97-4908-acee-46e8c7cc7f12",
    "deepnote_cell_type": "code",
    "deepnote_cell_height": 629.1875
   },
   "source": "# define the target transform wrapper   datafs\nfrom sklearn.compose import TransformedTargetRegressor\n\n# example of normalizing input and output variables for regression.\nfrom numpy import mean\nfrom numpy import absolute\nfrom numpy import loadtxt\nfrom sklearn.model_selection import cross_val_score\nfrom sklearn.model_selection import KFold\nfrom sklearn.pipeline import Pipeline\nfrom sklearn.linear_model import HuberRegressor\nfrom sklearn.preprocessing import MinMaxScaler\nfrom sklearn.compose import TransformedTargetRegressor\n# load data\ndataset = datafs\n# split into inputs and outputs\nX, y = dataset.iloc[:, :-1], dataset.iloc[:, -1]\ny=y.fillna(2.37)\n# prepare the model with input scaling\npipeline = Pipeline(steps=[('normalize', MinMaxScaler()), ('model', HuberRegressor())])\n# prepare the model with target scaling\nmodel = TransformedTargetRegressor(regressor=pipeline, transformer=MinMaxScaler())\n# evaluate model\ncv = KFold(n_splits=10, shuffle=True, random_state=1)\nscores = cross_val_score(model, X, y, scoring='neg_mean_absolute_error', cv=cv, n_jobs=-1)\n# convert scores to positive\nscores = absolute(scores)\n# summarize the result\ns_mean = mean(scores)\nprint('Mean MAE: %.3f' % (s_mean))",
   "execution_count": 82,
   "outputs": [
    {
     "name": "stdout",
     "text": "Mean MAE: 0.222\n",
     "output_type": "stream"
    }
   ]
  },
  {
   "cell_type": "code",
   "metadata": {
    "tags": [],
    "deepnote_to_be_reexecuted": false,
    "source_hash": "4cc5b43b",
    "execution_start": 1660935708229,
    "execution_millis": 18,
    "cell_id": "00026-83c57cae-905c-461c-8c89-e31505a9eb3a",
    "deepnote_cell_type": "code",
    "deepnote_cell_height": 76
   },
   "source": "",
   "execution_count": null,
   "outputs": []
  },
  {
   "cell_type": "code",
   "metadata": {
    "tags": [],
    "deepnote_to_be_reexecuted": false,
    "source_hash": "e579cd0f",
    "execution_start": 1661038175379,
    "execution_millis": 6987,
    "cell_id": "00027-9bc4eb52-311e-41ef-b6a3-100683db2d7a",
    "deepnote_cell_type": "code",
    "deepnote_cell_height": 472.375
   },
   "source": "!pip install statsmodels==0.13.2\n",
   "execution_count": 60,
   "outputs": [
    {
     "name": "stdout",
     "text": "Collecting statsmodels==0.13.2\n  Downloading statsmodels-0.13.2-cp39-cp39-manylinux_2_17_x86_64.manylinux2014_x86_64.whl (9.9 MB)\n\u001b[2K     \u001b[90m━━━━━━━━━━━━━━━━━━━━━━━━━━━━━━━━━━━━━━━━\u001b[0m \u001b[32m9.9/9.9 MB\u001b[0m \u001b[31m91.6 MB/s\u001b[0m eta \u001b[36m0:00:00\u001b[0m\n\u001b[?25hRequirement already satisfied: packaging>=21.3 in /shared-libs/python3.9/py-core/lib/python3.9/site-packages (from statsmodels==0.13.2) (21.3)\nRequirement already satisfied: pandas>=0.25 in /shared-libs/python3.9/py/lib/python3.9/site-packages (from statsmodels==0.13.2) (1.2.5)\nRequirement already satisfied: scipy>=1.3 in /shared-libs/python3.9/py/lib/python3.9/site-packages (from statsmodels==0.13.2) (1.9.0)\nCollecting patsy>=0.5.2\n  Downloading patsy-0.5.2-py2.py3-none-any.whl (233 kB)\n\u001b[2K     \u001b[90m━━━━━━━━━━━━━━━━━━━━━━━━━━━━━━━━━━━━━━\u001b[0m \u001b[32m233.7/233.7 KB\u001b[0m \u001b[31m37.2 MB/s\u001b[0m eta \u001b[36m0:00:00\u001b[0m\n\u001b[?25hRequirement already satisfied: numpy>=1.17 in /shared-libs/python3.9/py/lib/python3.9/site-packages (from statsmodels==0.13.2) (1.23.1)\nRequirement already satisfied: pyparsing!=3.0.5,>=2.0.2 in /shared-libs/python3.9/py-core/lib/python3.9/site-packages (from packaging>=21.3->statsmodels==0.13.2) (3.0.9)\nRequirement already satisfied: pytz>=2017.3 in /shared-libs/python3.9/py/lib/python3.9/site-packages (from pandas>=0.25->statsmodels==0.13.2) (2022.1)\nRequirement already satisfied: python-dateutil>=2.7.3 in /shared-libs/python3.9/py-core/lib/python3.9/site-packages (from pandas>=0.25->statsmodels==0.13.2) (2.8.2)\nRequirement already satisfied: six in /shared-libs/python3.9/py-core/lib/python3.9/site-packages (from patsy>=0.5.2->statsmodels==0.13.2) (1.16.0)\nInstalling collected packages: patsy, statsmodels\nSuccessfully installed patsy-0.5.2 statsmodels-0.13.2\n\u001b[33mWARNING: You are using pip version 22.0.4; however, version 22.2.2 is available.\nYou should consider upgrading via the '/root/venv/bin/python -m pip install --upgrade pip' command.\u001b[0m\u001b[33m\n\u001b[0m",
     "output_type": "stream"
    }
   ]
  },
  {
   "cell_type": "code",
   "metadata": {
    "tags": [],
    "deepnote_to_be_reexecuted": false,
    "source_hash": "1643ee0b",
    "execution_start": 1661038350080,
    "execution_millis": 27,
    "cell_id": "00028-aafd1604-9ace-426b-a739-fc589a7c825d",
    "deepnote_cell_type": "code",
    "deepnote_cell_height": 187.34375,
    "deepnote_output_heights": [
     59.34375
    ]
   },
   "source": "from sklearn.linear_model import LinearRegression\nmodel = LinearRegression()\nmodel.fit(X_train,y_train)",
   "execution_count": 84,
   "outputs": [
    {
     "output_type": "execute_result",
     "execution_count": 84,
     "data": {
      "text/plain": "LinearRegression()",
      "text/html": "<style>#sk-container-id-2 {color: black;background-color: white;}#sk-container-id-2 pre{padding: 0;}#sk-container-id-2 div.sk-toggleable {background-color: white;}#sk-container-id-2 label.sk-toggleable__label {cursor: pointer;display: block;width: 100%;margin-bottom: 0;padding: 0.3em;box-sizing: border-box;text-align: center;}#sk-container-id-2 label.sk-toggleable__label-arrow:before {content: \"▸\";float: left;margin-right: 0.25em;color: #696969;}#sk-container-id-2 label.sk-toggleable__label-arrow:hover:before {color: black;}#sk-container-id-2 div.sk-estimator:hover label.sk-toggleable__label-arrow:before {color: black;}#sk-container-id-2 div.sk-toggleable__content {max-height: 0;max-width: 0;overflow: hidden;text-align: left;background-color: #f0f8ff;}#sk-container-id-2 div.sk-toggleable__content pre {margin: 0.2em;color: black;border-radius: 0.25em;background-color: #f0f8ff;}#sk-container-id-2 input.sk-toggleable__control:checked~div.sk-toggleable__content {max-height: 200px;max-width: 100%;overflow: auto;}#sk-container-id-2 input.sk-toggleable__control:checked~label.sk-toggleable__label-arrow:before {content: \"▾\";}#sk-container-id-2 div.sk-estimator input.sk-toggleable__control:checked~label.sk-toggleable__label {background-color: #d4ebff;}#sk-container-id-2 div.sk-label input.sk-toggleable__control:checked~label.sk-toggleable__label {background-color: #d4ebff;}#sk-container-id-2 input.sk-hidden--visually {border: 0;clip: rect(1px 1px 1px 1px);clip: rect(1px, 1px, 1px, 1px);height: 1px;margin: -1px;overflow: hidden;padding: 0;position: absolute;width: 1px;}#sk-container-id-2 div.sk-estimator {font-family: monospace;background-color: #f0f8ff;border: 1px dotted black;border-radius: 0.25em;box-sizing: border-box;margin-bottom: 0.5em;}#sk-container-id-2 div.sk-estimator:hover {background-color: #d4ebff;}#sk-container-id-2 div.sk-parallel-item::after {content: \"\";width: 100%;border-bottom: 1px solid gray;flex-grow: 1;}#sk-container-id-2 div.sk-label:hover label.sk-toggleable__label {background-color: #d4ebff;}#sk-container-id-2 div.sk-serial::before {content: \"\";position: absolute;border-left: 1px solid gray;box-sizing: border-box;top: 0;bottom: 0;left: 50%;z-index: 0;}#sk-container-id-2 div.sk-serial {display: flex;flex-direction: column;align-items: center;background-color: white;padding-right: 0.2em;padding-left: 0.2em;position: relative;}#sk-container-id-2 div.sk-item {position: relative;z-index: 1;}#sk-container-id-2 div.sk-parallel {display: flex;align-items: stretch;justify-content: center;background-color: white;position: relative;}#sk-container-id-2 div.sk-item::before, #sk-container-id-2 div.sk-parallel-item::before {content: \"\";position: absolute;border-left: 1px solid gray;box-sizing: border-box;top: 0;bottom: 0;left: 50%;z-index: -1;}#sk-container-id-2 div.sk-parallel-item {display: flex;flex-direction: column;z-index: 1;position: relative;background-color: white;}#sk-container-id-2 div.sk-parallel-item:first-child::after {align-self: flex-end;width: 50%;}#sk-container-id-2 div.sk-parallel-item:last-child::after {align-self: flex-start;width: 50%;}#sk-container-id-2 div.sk-parallel-item:only-child::after {width: 0;}#sk-container-id-2 div.sk-dashed-wrapped {border: 1px dashed gray;margin: 0 0.4em 0.5em 0.4em;box-sizing: border-box;padding-bottom: 0.4em;background-color: white;}#sk-container-id-2 div.sk-label label {font-family: monospace;font-weight: bold;display: inline-block;line-height: 1.2em;}#sk-container-id-2 div.sk-label-container {text-align: center;}#sk-container-id-2 div.sk-container {/* jupyter's `normalize.less` sets `[hidden] { display: none; }` but bootstrap.min.css set `[hidden] { display: none !important; }` so we also need the `!important` here to be able to override the default hidden behavior on the sphinx rendered scikit-learn.org. See: https://github.com/scikit-learn/scikit-learn/issues/21755 */display: inline-block !important;position: relative;}#sk-container-id-2 div.sk-text-repr-fallback {display: none;}</style><div id=\"sk-container-id-2\" class=\"sk-top-container\"><div class=\"sk-text-repr-fallback\"><pre>LinearRegression()</pre><b>In a Jupyter environment, please rerun this cell to show the HTML representation or trust the notebook. <br />On GitHub, the HTML representation is unable to render, please try loading this page with nbviewer.org.</b></div><div class=\"sk-container\" hidden><div class=\"sk-item\"><div class=\"sk-estimator sk-toggleable\"><input class=\"sk-toggleable__control sk-hidden--visually\" id=\"sk-estimator-id-2\" type=\"checkbox\" checked><label for=\"sk-estimator-id-2\" class=\"sk-toggleable__label sk-toggleable__label-arrow\">LinearRegression</label><div class=\"sk-toggleable__content\"><pre>LinearRegression()</pre></div></div></div></div></div>"
     },
     "metadata": {}
    }
   ]
  },
  {
   "cell_type": "code",
   "metadata": {
    "tags": [],
    "deepnote_to_be_reexecuted": false,
    "source_hash": "d38a8d8a",
    "execution_start": 1661038353148,
    "execution_millis": 1,
    "cell_id": "00029-cb3689dc-6833-4997-b6c7-c446e9e58e6e",
    "deepnote_cell_type": "code",
    "deepnote_cell_height": 125.1875
   },
   "source": "#print the intercept\nprint(model.intercept_)",
   "execution_count": 85,
   "outputs": [
    {
     "name": "stdout",
     "text": "0.09795843777859203\n",
     "output_type": "stream"
    }
   ]
  },
  {
   "cell_type": "code",
   "metadata": {
    "tags": [],
    "deepnote_to_be_reexecuted": false,
    "source_hash": "dc49e44c",
    "execution_start": 1661038357009,
    "execution_millis": 48,
    "deepnote_table_state": {
     "pageSize": 10,
     "pageIndex": 0,
     "filters": [],
     "sortBy": []
    },
    "deepnote_table_loading": false,
    "cell_id": "00030-8b60809e-e8db-40b3-8d52-149777a8aa83",
    "deepnote_cell_type": "code",
    "deepnote_cell_height": 613
   },
   "source": "coeff_parameter = pd.DataFrame(model.coef_,x.columns,columns=['Coefficient'])\ncoeff_parameter",
   "execution_count": 86,
   "outputs": [
    {
     "output_type": "execute_result",
     "execution_count": 86,
     "data": {
      "application/vnd.deepnote.dataframe.v3+json": {
       "column_count": 1,
       "row_count": 19,
       "columns": [
        {
         "name": "Coefficient",
         "dtype": "float64",
         "stats": {
          "unique_count": 19,
          "nan_count": 0,
          "min": "-0.61805408414193",
          "max": "1.3403624618882404",
          "histogram": [
           {
            "bin_start": -0.61805408414193,
            "bin_end": -0.4222124295389129,
            "count": 1
           },
           {
            "bin_start": -0.4222124295389129,
            "bin_end": -0.2263707749358959,
            "count": 0
           },
           {
            "bin_start": -0.2263707749358959,
            "bin_end": -0.030529120332878912,
            "count": 4
           },
           {
            "bin_start": -0.030529120332878912,
            "bin_end": 0.16531253427013815,
            "count": 6
           },
           {
            "bin_start": 0.16531253427013815,
            "bin_end": 0.3611541888731552,
            "count": 2
           },
           {
            "bin_start": 0.3611541888731552,
            "bin_end": 0.5569958434761721,
            "count": 1
           },
           {
            "bin_start": 0.5569958434761721,
            "bin_end": 0.7528374980791892,
            "count": 3
           },
           {
            "bin_start": 0.7528374980791892,
            "bin_end": 0.9486791526822063,
            "count": 1
           },
           {
            "bin_start": 0.9486791526822063,
            "bin_end": 1.1445208072852233,
            "count": 0
           },
           {
            "bin_start": 1.1445208072852233,
            "bin_end": 1.3403624618882404,
            "count": 1
           }
          ]
         }
        },
        {
         "name": "_deepnote_index_column",
         "dtype": "object"
        }
       ],
       "rows": [
        {
         "Coefficient": 1.3403624618882404,
         "_deepnote_index_column": "position1"
        },
        {
         "Coefficient": 0.8719894473518859,
         "_deepnote_index_column": "position2"
        },
        {
         "Coefficient": 0.6305895760677109,
         "_deepnote_index_column": "position3"
        },
        {
         "Coefficient": -0.1137680273841351,
         "_deepnote_index_column": "position5"
        },
        {
         "Coefficient": 0.10572790457124594,
         "_deepnote_index_column": "Bons plan"
        },
        {
         "Coefficient": -0.12006821445519465,
         "_deepnote_index_column": "Crazy"
        },
        {
         "Coefficient": -0.61805408414193,
         "_deepnote_index_column": "Promotions"
        },
        {
         "Coefficient": 0.1470868715550914,
         "_deepnote_index_column": "type_banniere_Vente flash"
        },
        {
         "Coefficient": 0.6680584114428618,
         "_deepnote_index_column": "August"
        },
        {
         "Coefficient": 0.2932241421692536,
         "_deepnote_index_column": "December"
        }
       ]
      },
      "text/plain": "                           Coefficient\nposition1                     1.340362\nposition2                     0.871989\nposition3                     0.630590\nposition5                    -0.113768\nBons plan                     0.105728\nCrazy                        -0.120068\nPromotions                   -0.618054\ntype_banniere_Vente flash     0.147087\nAugust                        0.668058\nDecember                      0.293224\nFebruary                     -0.105124\nJanuary                       0.007517\nJuly                          0.621392\nJune                          0.012296\nMarch                         0.025726\nMay                          -0.027079\nNovember                     -0.034916\nOctober                       0.282824\nSeptember                     0.523608",
      "text/html": "<div>\n<style scoped>\n    .dataframe tbody tr th:only-of-type {\n        vertical-align: middle;\n    }\n\n    .dataframe tbody tr th {\n        vertical-align: top;\n    }\n\n    .dataframe thead th {\n        text-align: right;\n    }\n</style>\n<table border=\"1\" class=\"dataframe\">\n  <thead>\n    <tr style=\"text-align: right;\">\n      <th></th>\n      <th>Coefficient</th>\n    </tr>\n  </thead>\n  <tbody>\n    <tr>\n      <th>position1</th>\n      <td>1.340362</td>\n    </tr>\n    <tr>\n      <th>position2</th>\n      <td>0.871989</td>\n    </tr>\n    <tr>\n      <th>position3</th>\n      <td>0.630590</td>\n    </tr>\n    <tr>\n      <th>position5</th>\n      <td>-0.113768</td>\n    </tr>\n    <tr>\n      <th>Bons plan</th>\n      <td>0.105728</td>\n    </tr>\n    <tr>\n      <th>Crazy</th>\n      <td>-0.120068</td>\n    </tr>\n    <tr>\n      <th>Promotions</th>\n      <td>-0.618054</td>\n    </tr>\n    <tr>\n      <th>type_banniere_Vente flash</th>\n      <td>0.147087</td>\n    </tr>\n    <tr>\n      <th>August</th>\n      <td>0.668058</td>\n    </tr>\n    <tr>\n      <th>December</th>\n      <td>0.293224</td>\n    </tr>\n    <tr>\n      <th>February</th>\n      <td>-0.105124</td>\n    </tr>\n    <tr>\n      <th>January</th>\n      <td>0.007517</td>\n    </tr>\n    <tr>\n      <th>July</th>\n      <td>0.621392</td>\n    </tr>\n    <tr>\n      <th>June</th>\n      <td>0.012296</td>\n    </tr>\n    <tr>\n      <th>March</th>\n      <td>0.025726</td>\n    </tr>\n    <tr>\n      <th>May</th>\n      <td>-0.027079</td>\n    </tr>\n    <tr>\n      <th>November</th>\n      <td>-0.034916</td>\n    </tr>\n    <tr>\n      <th>October</th>\n      <td>0.282824</td>\n    </tr>\n    <tr>\n      <th>September</th>\n      <td>0.523608</td>\n    </tr>\n  </tbody>\n</table>\n</div>"
     },
     "metadata": {}
    }
   ]
  },
  {
   "cell_type": "code",
   "metadata": {
    "tags": [],
    "deepnote_to_be_reexecuted": false,
    "source_hash": "c899529d",
    "execution_start": 1661038360304,
    "execution_millis": 231,
    "cell_id": "00031-74db4eb4-3554-4e46-b9f2-77d22a208c84",
    "deepnote_cell_type": "code",
    "deepnote_cell_height": 226.125,
    "deepnote_output_heights": [
     116.125
    ]
   },
   "source": "predictions = model.predict(X_test)\npredictions",
   "execution_count": 87,
   "outputs": [
    {
     "output_type": "execute_result",
     "execution_count": 87,
     "data": {
      "text/plain": "array([1.44165858, 1.59133965, 1.59133965, 1.44165858, 1.44165858,\n       1.59133965, 1.44165858, 1.59133965, 1.59133965, 1.44165858,\n       1.44165858, 1.59133965, 1.44165858, 1.59133965, 1.59133965,\n       1.44165858, 1.59133965, 1.44165858, 1.59133965, 1.44165858,\n       1.44165858, 1.59133965, 1.59133965, 1.34993978, 1.44165858,\n       1.59133965, 1.44165858, 1.34993978])"
     },
     "metadata": {}
    }
   ]
  },
  {
   "cell_type": "code",
   "metadata": {
    "tags": [],
    "deepnote_to_be_reexecuted": false,
    "source_hash": "c1d7898a",
    "execution_start": 1661038365733,
    "execution_millis": 295,
    "cell_id": "00032-5820290f-8415-47ad-af09-daab3056c690",
    "deepnote_cell_type": "code",
    "deepnote_cell_height": 495.5625,
    "deepnote_output_heights": [
     null,
     20.1875,
     264
    ]
   },
   "source": "sns.regplot(y_test,predictions)\n",
   "execution_count": 88,
   "outputs": [
    {
     "name": "stderr",
     "text": "/shared-libs/python3.9/py/lib/python3.9/site-packages/seaborn/_decorators.py:36: FutureWarning: Pass the following variables as keyword args: x, y. From version 0.12, the only valid positional argument will be `data`, and passing other arguments without an explicit keyword will result in an error or misinterpretation.\n  warnings.warn(\n",
     "output_type": "stream"
    },
    {
     "output_type": "execute_result",
     "execution_count": 88,
     "data": {
      "text/plain": "<AxesSubplot:xlabel='log_CTR'>"
     },
     "metadata": {}
    },
    {
     "data": {
      "text/plain": "<Figure size 432x288 with 1 Axes>",
      "image/png": "[encoded data removed]"
     },
     "metadata": {
      "needs_background": "light",
      "image/png": {
       "width": 378,
       "height": 263
      }
     },
     "output_type": "display_data"
    }
   ]
  },
  {
   "cell_type": "code",
   "metadata": {
    "tags": [],
    "deepnote_to_be_reexecuted": false,
    "source_hash": "cbee9a94",
    "execution_start": 1661038372699,
    "execution_millis": 38,
    "cell_id": "00033-50c88cb0-34ea-4f2c-961c-afdb04cf1bde",
    "deepnote_cell_type": "code",
    "deepnote_cell_height": 768
   },
   "source": "import statsmodels.api as sm\nX_train_Sm= sm.add_constant(X_train)\nX_train_Sm= sm.add_constant(X_train)\nls=sm.OLS(y_train,X_train_Sm).fit()\nprint(ls.summary())",
   "execution_count": 89,
   "outputs": [
    {
     "name": "stdout",
     "text": "                            OLS Regression Results                            \n==============================================================================\nDep. Variable:                log_CTR   R-squared:                       0.672\nModel:                            OLS   Adj. R-squared:                  0.664\nMethod:                 Least Squares   F-statistic:                     87.07\nDate:                Sat, 20 Aug 2022   Prob (F-statistic):          1.42e-180\nTime:                        23:32:52   Log-Likelihood:                -90.365\nNo. Observations:                 828   AIC:                             220.7\nDf Residuals:                     808   BIC:                             315.1\nDf Model:                          19                                         \nCovariance Type:            nonrobust                                         \n=============================================================================================\n                                coef    std err          t      P>|t|      [0.025      0.975]\n---------------------------------------------------------------------------------------------\nconst                         0.0980      0.061      1.611      0.108      -0.021       0.217\nposition1                     1.3404      0.062     21.738      0.000       1.219       1.461\nposition2                     0.8720      0.056     15.658      0.000       0.763       0.981\nposition3                     0.6306      0.056     11.229      0.000       0.520       0.741\nposition5                    -0.1138      0.147     -0.775      0.439      -0.402       0.174\nBons plan                     0.1057      0.046      2.321      0.021       0.016       0.195\nCrazy                        -0.1201      0.059     -2.039      0.042      -0.236      -0.004\nPromotions                   -0.6181      0.047    -13.230      0.000      -0.710      -0.526\ntype_banniere_Vente flash     0.1471      0.308      0.478      0.633      -0.457       0.751\nAugust                        0.6681      0.051     13.209      0.000       0.569       0.767\nDecember                      0.2932      0.059      4.930      0.000       0.176       0.410\nFebruary                     -0.1051      0.042     -2.509      0.012      -0.187      -0.023\nJanuary                       0.0075      0.047      0.159      0.874      -0.086       0.101\nJuly                          0.6214      0.052     11.931      0.000       0.519       0.724\nJune                          0.0123      0.041      0.298      0.766      -0.069       0.093\nMarch                         0.0257      0.043      0.604      0.546      -0.058       0.109\nMay                          -0.0271      0.049     -0.551      0.582      -0.124       0.069\nNovember                     -0.0349      0.053     -0.656      0.512      -0.139       0.070\nOctober                       0.2828      0.042      6.674      0.000       0.200       0.366\nSeptember                     0.5236      0.051     10.329      0.000       0.424       0.623\n==============================================================================\nOmnibus:                       12.823   Durbin-Watson:                   1.969\nProb(Omnibus):                  0.002   Jarque-Bera (JB):               20.396\nSkew:                           0.086   Prob(JB):                     3.72e-05\nKurtosis:                       3.750   Cond. No.                         39.7\n==============================================================================\n\nNotes:\n[1] Standard Errors assume that the covariance matrix of the errors is correctly specified.\n",
     "output_type": "stream"
    }
   ]
  },
  {
   "cell_type": "code",
   "metadata": {
    "tags": [],
    "deepnote_to_be_reexecuted": false,
    "source_hash": "956994d6",
    "execution_start": 1661038379476,
    "execution_millis": 17,
    "cell_id": "00034-bf0a0785-f35d-4919-a0a3-c617aea073fb",
    "deepnote_cell_type": "code",
    "deepnote_cell_height": 179.1875
   },
   "source": "from statsmodels.stats.diagnostic import linear_rainbow\n\nFtest, pval = linear_rainbow(ls)\n\nprint(pval)",
   "execution_count": 90,
   "outputs": [
    {
     "name": "stdout",
     "text": "0.08704426077339679\n",
     "output_type": "stream"
    }
   ]
  },
  {
   "cell_type": "markdown",
   "source": "# Test d'homoscidasité",
   "metadata": {
    "formattedRanges": [],
    "is_collapsed": false,
    "tags": [],
    "cell_id": "00035-db7113a5-4fae-4844-9a64-a98eadb37713",
    "deepnote_cell_type": "text-cell-h1"
   }
  },
  {
   "cell_type": "code",
   "metadata": {
    "tags": [],
    "deepnote_to_be_reexecuted": false,
    "source_hash": "9a1591d4",
    "execution_start": 1661038386762,
    "execution_millis": 154451,
    "cell_id": "00036-2b6a0ace-b1a1-40dc-baf1-d9c1f3ab66c1",
    "deepnote_cell_type": "code",
    "deepnote_cell_height": 94
   },
   "source": "from statsmodels.compat import lzip\nimport statsmodels.stats.api as sms",
   "execution_count": 91,
   "outputs": []
  },
  {
   "cell_type": "code",
   "metadata": {
    "tags": [],
    "deepnote_to_be_reexecuted": false,
    "source_hash": "c8571290",
    "execution_start": 1661038235005,
    "execution_millis": 0,
    "cell_id": "00037-4b1f8d0e-c678-4542-a83b-5f6b3be5a68a",
    "deepnote_cell_type": "code",
    "deepnote_cell_height": 94
   },
   "source": "names = ['Lagrange multiplier statistic', 'p-value',\n        'f-value', 'f p-value']",
   "execution_count": 70,
   "outputs": []
  },
  {
   "cell_type": "code",
   "metadata": {
    "tags": [],
    "deepnote_to_be_reexecuted": false,
    "source_hash": "6989b032",
    "execution_start": 1661038390564,
    "execution_millis": 423,
    "cell_id": "00038-21c64fda-39e0-4768-adfb-413cc78182e2",
    "deepnote_cell_type": "code",
    "deepnote_cell_height": 385.75,
    "deepnote_output_heights": [
     77.75
    ]
   },
   "source": "#https://www.statology.org/breusch-pagan-test-python/\n\nfrom statsmodels.compat import lzip\nimport statsmodels.stats.api as sms\n\n#perform Bresuch-Pagan test\nnames = ['Lagrange multiplier statistic', 'p-value',\n        'f-value', 'f p-value']\ntest = sms.het_breuschpagan(ls.resid, ls.model.exog)\n\nlzip(names, test)\n\n",
   "execution_count": 92,
   "outputs": [
    {
     "output_type": "execute_result",
     "execution_count": 92,
     "data": {
      "text/plain": "[('Lagrange multiplier statistic', 54.22317319240317),\n ('p-value', 3.054424706511759e-05),\n ('f-value', 2.980073460975894),\n ('f p-value', 2.093198482878711e-05)]"
     },
     "metadata": {}
    }
   ]
  },
  {
   "cell_type": "markdown",
   "source": "### nous constatons qu'il y a une hétéroscédasticité -->ce critère n'est pas vérifier pour remédier à ce probleme nous allons Utiliser la régression pondérée",
   "metadata": {
    "formattedRanges": [],
    "is_collapsed": false,
    "tags": [],
    "cell_id": "00039-ec34ea2e-1f0a-413e-be0d-d9f51c9374be",
    "deepnote_cell_type": "text-cell-h3"
   }
  },
  {
   "cell_type": "code",
   "metadata": {
    "tags": [],
    "deepnote_to_be_reexecuted": false,
    "source_hash": "e8b2a89",
    "execution_start": 1661038407040,
    "execution_millis": 220,
    "cell_id": "00040-3c44b0fb-6339-4d01-ac3a-44d364208570",
    "deepnote_cell_type": "code",
    "deepnote_cell_height": 517,
    "deepnote_output_heights": [
     263
    ]
   },
   "source": "from math import *\nresidues = ls.resid_pearson\nresidues_std = residues/sqrt(sum(residues**2)/(len(residues)-1))\nplt.hist(residues_std)\n\nplt.ylabel('Count')\n\nplt.xlabel('Normalized residuals')\n\nplt.show()",
   "execution_count": 93,
   "outputs": [
    {
     "data": {
      "text/plain": "<Figure size 432x288 with 1 Axes>",
      "image/png": "[encoded data removed]"
     },
     "metadata": {
      "needs_background": "light",
      "image/png": {
       "width": 389,
       "height": 262
      }
     },
     "output_type": "display_data"
    }
   ]
  },
  {
   "cell_type": "code",
   "metadata": {
    "tags": [],
    "deepnote_to_be_reexecuted": false,
    "source_hash": "79a99abe",
    "execution_start": 1661038415562,
    "execution_millis": 489,
    "cell_id": "00041-4b56a5f6-36de-4dc9-b997-0f14c76ddac3",
    "deepnote_cell_type": "code",
    "deepnote_cell_height": 515,
    "deepnote_output_heights": [
     279
    ]
   },
   "source": "import scipy.stats as stats\n\n#\n\nfig = sm.qqplot(residues_std, stats.t, fit=True,line='45')\n\nplt.title(\"QQ plot\")\n\nplt.show()",
   "execution_count": 94,
   "outputs": [
    {
     "data": {
      "text/plain": "<Figure size 432x288 with 1 Axes>",
      "image/png": "[encoded data removed]"
     },
     "metadata": {
      "needs_background": "light",
      "image/png": {
       "width": 384,
       "height": 278
      }
     },
     "output_type": "display_data"
    }
   ]
  },
  {
   "cell_type": "markdown",
   "source": "# Test de shapiro wilk",
   "metadata": {
    "formattedRanges": [],
    "is_collapsed": false,
    "tags": [],
    "cell_id": "00042-691c3c9c-09c2-4200-908d-9e4a1d3d5805",
    "deepnote_cell_type": "text-cell-h1"
   }
  },
  {
   "cell_type": "code",
   "metadata": {
    "tags": [],
    "deepnote_to_be_reexecuted": false,
    "source_hash": "30d6d398",
    "execution_start": 1661038420139,
    "execution_millis": 154,
    "cell_id": "00043-f7e78fae-8186-4f9c-9a3c-0b3374faa3b5",
    "deepnote_cell_type": "code",
    "deepnote_cell_height": 254.5625,
    "deepnote_output_heights": [
     null,
     20.1875
    ]
   },
   "source": "from scipy.stats import shapiro\nstat, p = shapiro(datafs)\nstat\np\n",
   "execution_count": 95,
   "outputs": [
    {
     "name": "stderr",
     "text": "/shared-libs/python3.9/py/lib/python3.9/site-packages/scipy/stats/_morestats.py:1800: UserWarning: p-value may not be accurate for N > 5000.\n  warnings.warn(\"p-value may not be accurate for N > 5000.\")\n",
     "output_type": "stream"
    },
    {
     "output_type": "execute_result",
     "execution_count": 95,
     "data": {
      "text/plain": "0.0"
     },
     "metadata": {}
    }
   ]
  },
  {
   "cell_type": "code",
   "metadata": {
    "tags": [],
    "deepnote_to_be_reexecuted": false,
    "source_hash": "574b1bfc",
    "execution_start": 1661038424278,
    "execution_millis": 0,
    "cell_id": "00044-3440a3f8-61f9-4237-b366-dcd8b10c78ec",
    "deepnote_cell_type": "code",
    "deepnote_cell_height": 143.1875
   },
   "source": "from scipy.stats import jarque_bera\n\nx, pval = jarque_bera(residues_std) ; print(pval)",
   "execution_count": 96,
   "outputs": [
    {
     "name": "stdout",
     "text": "3.724247001801739e-05\n",
     "output_type": "stream"
    }
   ]
  },
  {
   "cell_type": "markdown",
   "source": "Nous remarquons que la normalité est vérifieé",
   "metadata": {
    "formattedRanges": [],
    "is_collapsed": false,
    "tags": [],
    "cell_id": "00045-4935b443-b598-452a-b258-22d7e157dfb7",
    "deepnote_cell_type": "text-cell-p"
   }
  },
  {
   "cell_type": "markdown",
   "source": "#  Contrôler l'indépendance des résidus",
   "metadata": {
    "formattedRanges": [],
    "is_collapsed": false,
    "tags": [],
    "cell_id": "00046-8034cd98-0c66-4aa9-bf57-edf4a9ad27e6",
    "deepnote_cell_type": "text-cell-h1"
   }
  },
  {
   "cell_type": "code",
   "metadata": {
    "tags": [],
    "deepnote_to_be_reexecuted": false,
    "source_hash": "15029d30",
    "execution_start": 1661038431880,
    "execution_millis": 353,
    "cell_id": "00047-e8f4268b-856c-41b0-ae7b-934c13bee488",
    "deepnote_cell_type": "code",
    "deepnote_cell_height": 689,
    "deepnote_output_heights": [
     265,
     265
    ]
   },
   "source": "from statsmodels.graphics.tsaplots import plot_acf\n\nplot_acf(residues)",
   "execution_count": 97,
   "outputs": [
    {
     "output_type": "execute_result",
     "execution_count": 97,
     "data": {
      "text/plain": "<Figure size 432x288 with 1 Axes>",
      "image/png": "[encoded data removed]"
     },
     "metadata": {
      "image/png": {
       "width": 386,
       "height": 264
      }
     }
    },
    {
     "data": {
      "text/plain": "<Figure size 432x288 with 1 Axes>",
      "image/png": "[encoded data removed]"
     },
     "metadata": {
      "needs_background": "light",
      "image/png": {
       "width": 386,
       "height": 264
      }
     },
     "output_type": "display_data"
    }
   ]
  },
  {
   "cell_type": "code",
   "metadata": {
    "tags": [],
    "deepnote_to_be_reexecuted": false,
    "source_hash": "b0698702",
    "execution_start": 1661038438054,
    "execution_millis": 9,
    "cell_id": "00048-fac42897-0395-4857-8781-71f7d5d7378c",
    "deepnote_cell_type": "code",
    "deepnote_cell_height": 166.1875,
    "deepnote_output_heights": [
     20.1875
    ]
   },
   "source": "  from statsmodels.stats.stattools import durbin_watson\n\n#perform Durbin-Watson test\ndurbin_watson(ls.resid)",
   "execution_count": 98,
   "outputs": [
    {
     "output_type": "execute_result",
     "execution_count": 98,
     "data": {
      "text/plain": "1.9688755436407965"
     },
     "metadata": {}
    }
   ]
  },
  {
   "cell_type": "markdown",
   "source": "La statistique de test est  de 2,12 . Étant donné que cela se situe dans la plage de 1,5 et 2,5, nous considérons que l'autocorrélation n'est pas problématique dans ce modèle de régression.",
   "metadata": {
    "formattedRanges": [],
    "is_collapsed": false,
    "tags": [],
    "cell_id": "00049-abd7b0a0-a58f-4126-8a01-80f03c4cbed9",
    "deepnote_cell_type": "text-cell-p"
   }
  },
  {
   "cell_type": "markdown",
   "source": "# Évaluer les points qui ont une grande influence sur la régression afin de les écarter s'il s'agit de points potentiellement aberrants.",
   "metadata": {
    "formattedRanges": [],
    "is_collapsed": false,
    "tags": [],
    "cell_id": "00050-b786eee8-5a96-4513-8993-94088f1175b1",
    "deepnote_cell_type": "text-cell-h1"
   }
  },
  {
   "cell_type": "code",
   "metadata": {
    "tags": [],
    "deepnote_to_be_reexecuted": false,
    "source_hash": "7812623d",
    "execution_start": 1661038444259,
    "execution_millis": 4330,
    "cell_id": "00051-77f272d3-1bc2-40c6-83fc-36c5ce319530",
    "deepnote_cell_type": "code",
    "deepnote_cell_height": 691.9375,
    "deepnote_output_heights": [
     20.1875,
     20.1875,
     null,
     286
    ]
   },
   "source": "from statsmodels.graphics.regressionplots import *\nplt.figure(figsize=(12,7))\n\ninfluence_plot(ls) # myreg doit être un model de statsmodels\n\nplt.xlim(0,0.06) # paramétrage manuel\n\nplt.show()",
   "execution_count": 99,
   "outputs": [
    {
     "name": "stderr",
     "text": "/root/venv/lib/python3.9/site-packages/statsmodels/stats/outliers_influence.py:696: RuntimeWarning: invalid value encountered in sqrt\n  return self.resid / sigma / np.sqrt(1 - hii)\n",
     "output_type": "stream"
    },
    {
     "data": {
      "text/plain": "<Figure size 864x504 with 0 Axes>"
     },
     "metadata": {},
     "output_type": "display_data"
    },
    {
     "name": "stderr",
     "text": "posx and posy should be finite values\nposx and posy should be finite values\n",
     "output_type": "stream"
    },
    {
     "data": {
      "text/plain": "<Figure size 432x288 with 1 Axes>",
      "image/png": "[encoded data removed]"
     },
     "metadata": {
      "needs_background": "light",
      "image/png": {
       "width": 416,
       "height": 285
      }
     },
     "output_type": "display_data"
    }
   ]
  },
  {
   "cell_type": "code",
   "metadata": {
    "tags": [],
    "cell_id": "00052-45770999-b7db-4cd7-8183-342e7ff0237a",
    "deepnote_cell_type": "code",
    "deepnote_cell_height": 84
   },
   "source": "CODE \n#https://sites.google.com/view/aide-python/statistiques/machine-learning-en-python/r%C3%A9gressions-lin%C3%A9aires-en-python",
   "execution_count": null,
   "outputs": []
  },
  {
   "cell_type": "code",
   "metadata": {
    "tags": [],
    "deepnote_to_be_reexecuted": false,
    "source_hash": "48f0191f",
    "execution_start": 1660948466092,
    "execution_millis": 304,
    "cell_id": "00053-bc167bc8-f023-4505-bed5-38cc50dbb561",
    "deepnote_cell_type": "code",
    "deepnote_cell_height": 130
   },
   "source": "from sklearn.metrics import mean_squared_error, mean_absolute_error, mean_absolute_percentage_error\nimport matplotlib.pyplot as plt\nfrom sklearn.ensemble import RandomForestRegressor\n",
   "execution_count": null,
   "outputs": []
  },
  {
   "cell_type": "code",
   "metadata": {
    "tags": [],
    "deepnote_to_be_reexecuted": false,
    "source_hash": "44d5ab39",
    "execution_start": 1661012203641,
    "execution_millis": 1608,
    "cell_id": "00054-a189682f-4b95-4c6b-ad70-1de0958c4be0",
    "deepnote_cell_type": "code",
    "deepnote_cell_height": 427.1875
   },
   "source": "\n# Get predictions\ny_train_pred = model.predict(X_train)\ny_test_pred = model.predict(X_test)\n\ndf_results_train = pd.DataFrame({'Actual': y_train , 'Predicted': y_train_pred})\ndf_results_test = pd.DataFrame({'Actual': y_test , 'Predicted': y_test_pred})\n# Prediction vs Actual plot\nsns.lmplot(x='Actual', y='Predicted', data=df_results_train, fit_reg=False, markers = \"x\")\nd_line= np.arange(df_results_train.min().min(), df_results_train.max().max())\nplt.plot(d_line, d_line, color='green', linestyle='--')\nplt.show()\n\n# Show Metrics\nprint(f\"MAE {mean_absolute_error(y_train, y_train_pred)}\")\nprint(f\"MAPE {mean_absolute_percentage_error(y_train, y_train_pred)}\")\nprint(f\"MSE :  {mean_squared_error(y_train, y_train_pred)}\")",
   "execution_count": null,
   "outputs": [
    {
     "output_type": "error",
     "ename": "NameError",
     "evalue": "name 'model' is not defined",
     "traceback": [
      "\u001b[0;31m---------------------------------------------------------------------------\u001b[0m",
      "\u001b[0;31mNameError\u001b[0m                                 Traceback (most recent call last)",
      "Input \u001b[0;32mIn [1]\u001b[0m, in \u001b[0;36m<cell line: 2>\u001b[0;34m()\u001b[0m\n\u001b[1;32m      1\u001b[0m \u001b[38;5;66;03m# Get predictions\u001b[39;00m\n\u001b[0;32m----> 2\u001b[0m y_train_pred \u001b[38;5;241m=\u001b[39m \u001b[43mmodel\u001b[49m\u001b[38;5;241m.\u001b[39mpredict(X_train)\n\u001b[1;32m      3\u001b[0m y_test_pred \u001b[38;5;241m=\u001b[39m model\u001b[38;5;241m.\u001b[39mpredict(X_test)\n\u001b[1;32m      5\u001b[0m df_results_train \u001b[38;5;241m=\u001b[39m pd\u001b[38;5;241m.\u001b[39mDataFrame({\u001b[38;5;124m'\u001b[39m\u001b[38;5;124mActual\u001b[39m\u001b[38;5;124m'\u001b[39m: y_train , \u001b[38;5;124m'\u001b[39m\u001b[38;5;124mPredicted\u001b[39m\u001b[38;5;124m'\u001b[39m: y_train_pred})\n",
      "\u001b[0;31mNameError\u001b[0m: name 'model' is not defined"
     ]
    }
   ]
  },
  {
   "cell_type": "code",
   "metadata": {
    "tags": [],
    "deepnote_to_be_reexecuted": false,
    "source_hash": "4678e787",
    "execution_start": 1660948484755,
    "execution_millis": 1370,
    "cell_id": "00055-c9ddb001-c2f3-4fc8-9ec7-7b91ac2950ff",
    "deepnote_cell_type": "code",
    "deepnote_cell_height": 873.5625,
    "deepnote_output_heights": [
     353
    ]
   },
   "source": "reg = RandomForestRegressor()\nreg.fit(X_train, y_train)\n\n# Get predictions\ny_train_pred = reg.predict(X_train)\ny_test_pred = reg.predict(X_test)\n\ndf_results_train = pd.DataFrame({'Actual': y_train , 'Predicted': y_train_pred})\ndf_results_test = pd.DataFrame({'Actual': y_test , 'Predicted': y_test_pred})\n# Prediction vs Actual plot\nsns.lmplot(x='Actual', y='Predicted', data=df_results_train, fit_reg=False, markers = \"x\")\nd_line= np.arange(df_results_train.min().min(), df_results_train.max().max())\nplt.plot(d_line, d_line, color='green', linestyle='--')\nplt.show()\n\n# Show Metrics\nprint(f\"MAE {mean_absolute_error(y_train, y_train_pred)}\")\nprint(f\"MAPE {mean_absolute_percentage_error(y_train, y_train_pred)}\")\nprint(f\"MSE :  {mean_squared_error(y_train, y_train_pred)}\")\n",
   "execution_count": null,
   "outputs": [
    {
     "data": {
      "text/plain": "<Figure size 360x360 with 1 Axes>",
      "image/png": "[encoded data removed]"
     },
     "metadata": {
      "needs_background": "light",
      "image/png": {
       "width": 352,
       "height": 352
      }
     },
     "output_type": "display_data"
    },
    {
     "name": "stdout",
     "text": "MAE 0.20464799030842556\nMAPE 5168811435868.321\nMSE :  0.07161249569941197\n",
     "output_type": "stream"
    }
   ]
  },
  {
   "cell_type": "code",
   "metadata": {
    "tags": [],
    "deepnote_to_be_reexecuted": false,
    "source_hash": "122d3e14",
    "execution_start": 1660948489523,
    "execution_millis": 385,
    "cell_id": "00056-4c9d395f-139c-458e-a6ec-ab392d6f9caa",
    "deepnote_cell_type": "code",
    "deepnote_cell_height": 711.5625,
    "deepnote_output_heights": [
     353
    ]
   },
   "source": "# with position MSE :  0.29\n# Prediction vs Actual plot\nsns.lmplot(x='Actual', y='Predicted', data=df_results_test, fit_reg=False, markers = \"x\")\nd_line= np.arange(df_results_test.min().min(), df_results_test.max().max())\nplt.plot(d_line, d_line, color='green', linestyle='--')\nplt.show()\n\n# Show Metrics\nprint(f\"MAE {mean_absolute_error(y_train, y_train_pred)}\")\nprint(f\"MAPE {mean_absolute_percentage_error(y_train, y_train_pred)}\")\nprint(f\"MSE :  {mean_squared_error(y_train, y_train_pred)}\")",
   "execution_count": null,
   "outputs": [
    {
     "data": {
      "text/plain": "<Figure size 360x360 with 1 Axes>",
      "image/png": "[encoded data removed]"
     },
     "metadata": {
      "needs_background": "light",
      "image/png": {
       "width": 352,
       "height": 352
      }
     },
     "output_type": "display_data"
    },
    {
     "name": "stdout",
     "text": "MAE 0.20464799030842556\nMAPE 5168811435868.321\nMSE :  0.07161249569941197\n",
     "output_type": "stream"
    }
   ]
  },
  {
   "cell_type": "code",
   "metadata": {
    "tags": [],
    "deepnote_to_be_reexecuted": false,
    "source_hash": "f2663f4d",
    "execution_start": 1660946910338,
    "execution_millis": 456,
    "cell_id": "00057-d04a26c4-c412-48d8-be1c-55f4514a57fd",
    "deepnote_cell_type": "code",
    "deepnote_cell_height": 627.1875,
    "deepnote_output_heights": [
     20.1875,
     412
    ]
   },
   "source": "plt.figure(figsize = (6,7))\nimportances = pd.DataFrame({\"features\" : X_train.columns,\n                            \"importance\" : reg.feature_importances_}).sort_values(\"importance\")\n\nplt.barh(importances.features, importances.importance)",
   "execution_count": null,
   "outputs": [
    {
     "output_type": "execute_result",
     "execution_count": 36,
     "data": {
      "text/plain": "<BarContainer object of 27 artists>"
     },
     "metadata": {}
    },
    {
     "data": {
      "text/plain": "<Figure size 432x504 with 1 Axes>",
      "image/png": "[encoded data removed]"
     },
     "metadata": {
      "needs_background": "light",
      "image/png": {
       "width": 530,
       "height": 411
      }
     },
     "output_type": "display_data"
    }
   ]
  },
  {
   "cell_type": "markdown",
   "source": "<a style='text-decoration:none;line-height:16px;display:flex;color:#5B5B62;padding:10px;justify-content:end;' href='https://deepnote.com?utm_source=created-in-deepnote-cell&projectId=17c78468-df45-44b7-9d10-8043693c30e4' target=\"_blank\">\n<img alt='Created in deepnote.com' style='display:inline;max-height:16px;margin:0px;margin-right:7.5px;' src='data:image/svg+xml;base64,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' > </img>\nCreated in <span style='font-weight:600;margin-left:4px;'>Deepnote</span></a>",
   "metadata": {
    "tags": [],
    "created_in_deepnote_cell": true,
    "deepnote_cell_type": "markdown"
   }
  }
 ],
 "nbformat": 4,
 "nbformat_minor": 2,
 "metadata": {
  "orig_nbformat": 2,
  "deepnote": {},
  "deepnote_notebook_id": "c47a2d43-7634-44c5-be0d-af3859ee67cb",
  "deepnote_execution_queue": []
 }
}