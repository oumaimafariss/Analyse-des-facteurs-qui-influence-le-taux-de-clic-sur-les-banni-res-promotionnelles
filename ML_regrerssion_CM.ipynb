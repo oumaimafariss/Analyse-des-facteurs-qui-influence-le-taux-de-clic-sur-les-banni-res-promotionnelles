{
 "cells": [
  {
   "cell_type": "markdown",
   "source": "",
   "metadata": {
    "formattedRanges": [],
    "is_collapsed": false,
    "cell_id": "4f520444-fc30-4536-8044-2ccc12730e28",
    "tags": [],
    "deepnote_cell_type": "text-cell-p"
   }
  },
  {
   "cell_type": "code",
   "source": "import pandas as pd\nimport numpy as np\nimport seaborn as sns\n",
   "metadata": {
    "cell_id": "505d042687f7432cbca8d365acc0a355",
    "tags": [],
    "deepnote_to_be_reexecuted": false,
    "source_hash": "b454ce01",
    "execution_start": 1660949338894,
    "execution_millis": 2,
    "deepnote_cell_type": "code",
    "deepnote_cell_height": 130
   },
   "execution_count": 120,
   "outputs": []
  },
  {
   "cell_type": "code",
   "metadata": {
    "cell_id": "90486dbae1244e288abbecb05db580e1",
    "tags": [],
    "deepnote_to_be_reexecuted": false,
    "source_hash": "d05985e8",
    "execution_start": 1660949344449,
    "execution_millis": 59,
    "deepnote_table_state": {
     "pageSize": 10,
     "pageIndex": 1,
     "filters": [],
     "sortBy": []
    },
    "deepnote_table_loading": false,
    "deepnote_cell_type": "code",
    "deepnote_cell_height": 634
   },
   "source": "data = pd.read_csv ('/work/Marmara.csv')\ndata",
   "execution_count": 122,
   "outputs": [
    {
     "output_type": "execute_result",
     "execution_count": 122,
     "data": {
      "application/vnd.deepnote.dataframe.v3+json": {
       "column_count": 11,
       "row_count": 2123,
       "columns": [
        {
         "name": "date",
         "dtype": "object",
         "stats": {
          "unique_count": 388,
          "nan_count": 0,
          "categories": [
           {
            "name": "2022-05-30",
            "count": 14
           },
           {
            "name": "2022-05-25",
            "count": 14
           },
           {
            "name": "386 others",
            "count": 2095
           }
          ]
         }
        },
        {
         "name": "promotion_name",
         "dtype": "object",
         "stats": {
          "unique_count": 188,
          "nan_count": 8,
          "categories": [
           {
            "name": "Réservez Primo Hiver",
            "count": 91
           },
           {
            "name": "187 others",
            "count": 2024
           },
           {
            "name": "Missing",
            "count": 8
           }
          ]
         }
        },
        {
         "name": "promoPosition",
         "dtype": "object",
         "stats": {
          "unique_count": 12,
          "nan_count": 8,
          "categories": [
           {
            "name": "Home CM – bonnes affaires grandes-1",
            "count": 422
           },
           {
            "name": "11 others",
            "count": 1693
           },
           {
            "name": "Missing",
            "count": 8
           }
          ]
         }
        },
        {
         "name": "pagetype",
         "dtype": "object",
         "stats": {
          "unique_count": 1,
          "nan_count": 8,
          "categories": [
           {
            "name": "HomePage",
            "count": 2115
           },
           {
            "name": "Missing",
            "count": 8
           }
          ]
         }
        },
        {
         "name": "contentgroup_1",
         "dtype": "object",
         "stats": {
          "unique_count": 1,
          "nan_count": 8,
          "categories": [
           {
            "name": "Home",
            "count": 2115
           },
           {
            "name": "Missing",
            "count": 8
           }
          ]
         }
        },
        {
         "name": "contentgroup_2",
         "dtype": "object",
         "stats": {
          "unique_count": 1,
          "nan_count": 8,
          "categories": [
           {
            "name": "Club Marmara",
            "count": 2115
           },
           {
            "name": "Missing",
            "count": 8
           }
          ]
         }
        },
        {
         "name": "views",
         "dtype": "float64",
         "stats": {
          "unique_count": 1248,
          "nan_count": 8,
          "min": "256.0",
          "max": "12139.0",
          "histogram": [
           {
            "bin_start": 256,
            "bin_end": 1444.3,
            "count": 121
           },
           {
            "bin_start": 1444.3,
            "bin_end": 2632.6,
            "count": 444
           },
           {
            "bin_start": 2632.6,
            "bin_end": 3820.8999999999996,
            "count": 311
           },
           {
            "bin_start": 3820.8999999999996,
            "bin_end": 5009.2,
            "count": 293
           },
           {
            "bin_start": 5009.2,
            "bin_end": 6197.5,
            "count": 406
           },
           {
            "bin_start": 6197.5,
            "bin_end": 7385.799999999999,
            "count": 287
           },
           {
            "bin_start": 7385.799999999999,
            "bin_end": 8574.1,
            "count": 154
           },
           {
            "bin_start": 8574.1,
            "bin_end": 9762.4,
            "count": 53
           },
           {
            "bin_start": 9762.4,
            "bin_end": 10950.699999999999,
            "count": 27
           },
           {
            "bin_start": 10950.699999999999,
            "bin_end": 12139,
            "count": 19
           }
          ]
         }
        },
        {
         "name": "clicks",
         "dtype": "float64",
         "stats": {
          "unique_count": 342,
          "nan_count": 8,
          "min": "21.0",
          "max": "926.0",
          "histogram": [
           {
            "bin_start": 21,
            "bin_end": 111.5,
            "count": 1571
           },
           {
            "bin_start": 111.5,
            "bin_end": 202,
            "count": 317
           },
           {
            "bin_start": 202,
            "bin_end": 292.5,
            "count": 117
           },
           {
            "bin_start": 292.5,
            "bin_end": 383,
            "count": 33
           },
           {
            "bin_start": 383,
            "bin_end": 473.5,
            "count": 19
           },
           {
            "bin_start": 473.5,
            "bin_end": 564,
            "count": 19
           },
           {
            "bin_start": 564,
            "bin_end": 654.5,
            "count": 18
           },
           {
            "bin_start": 654.5,
            "bin_end": 745,
            "count": 8
           },
           {
            "bin_start": 745,
            "bin_end": 835.5,
            "count": 9
           },
           {
            "bin_start": 835.5,
            "bin_end": 926,
            "count": 4
           }
          ]
         }
        },
        {
         "name": "position",
         "dtype": "float64",
         "stats": {
          "unique_count": 6,
          "nan_count": 8,
          "min": "1.0",
          "max": "6.0",
          "histogram": [
           {
            "bin_start": 1,
            "bin_end": 1.5,
            "count": 615
           },
           {
            "bin_start": 1.5,
            "bin_end": 2,
            "count": 0
           },
           {
            "bin_start": 2,
            "bin_end": 2.5,
            "count": 601
           },
           {
            "bin_start": 2.5,
            "bin_end": 3,
            "count": 0
           },
           {
            "bin_start": 3,
            "bin_end": 3.5,
            "count": 532
           },
           {
            "bin_start": 3.5,
            "bin_end": 4,
            "count": 0
           },
           {
            "bin_start": 4,
            "bin_end": 4.5,
            "count": 174
           },
           {
            "bin_start": 4.5,
            "bin_end": 5,
            "count": 0
           },
           {
            "bin_start": 5,
            "bin_end": 5.5,
            "count": 135
           },
           {
            "bin_start": 5.5,
            "bin_end": 6,
            "count": 58
           }
          ]
         }
        },
        {
         "name": "CTR",
         "dtype": "float64",
         "stats": {
          "unique_count": 612,
          "nan_count": 8,
          "min": "0.2",
          "max": "15.98",
          "histogram": [
           {
            "bin_start": 0.2,
            "bin_end": 1.778,
            "count": 1178
           },
           {
            "bin_start": 1.778,
            "bin_end": 3.3560000000000003,
            "count": 547
           },
           {
            "bin_start": 3.3560000000000003,
            "bin_end": 4.934,
            "count": 136
           },
           {
            "bin_start": 4.934,
            "bin_end": 6.5120000000000005,
            "count": 75
           },
           {
            "bin_start": 6.5120000000000005,
            "bin_end": 8.09,
            "count": 49
           },
           {
            "bin_start": 8.09,
            "bin_end": 9.668,
            "count": 61
           },
           {
            "bin_start": 9.668,
            "bin_end": 11.246,
            "count": 54
           },
           {
            "bin_start": 11.246,
            "bin_end": 12.824,
            "count": 10
           },
           {
            "bin_start": 12.824,
            "bin_end": 14.402,
            "count": 4
           },
           {
            "bin_start": 14.402,
            "bin_end": 15.98,
            "count": 1
           }
          ]
         }
        },
        {
         "name": "Type",
         "dtype": "object",
         "stats": {
          "unique_count": 6,
          "nan_count": 8,
          "categories": [
           {
            "name": "Autre",
            "count": 1042
           },
           {
            "name": "5 others",
            "count": 1073
           },
           {
            "name": "Missing",
            "count": 8
           }
          ]
         }
        },
        {
         "name": "_deepnote_index_column",
         "dtype": "int64"
        }
       ],
       "rows": [
        {
         "date": "2022-07-14",
         "promotion_name": "Club Marmara Palm Beach Djerba",
         "promoPosition": "Bon Plan-2",
         "pagetype": "HomePage",
         "contentgroup_1": "Home",
         "contentgroup_2": "Club Marmara",
         "views": 4426,
         "clicks": 37,
         "position": 2,
         "CTR": 0.84,
         "Type": "Bons Plans",
         "_deepnote_index_column": 10
        },
        {
         "date": "2022-07-13",
         "promotion_name": "Club Marmara Palm Beach Djerba",
         "promoPosition": "Bon Plan-2",
         "pagetype": "HomePage",
         "contentgroup_1": "Home",
         "contentgroup_2": "Club Marmara",
         "views": 3722,
         "clicks": 28,
         "position": 2,
         "CTR": 0.75,
         "Type": "Bons Plans",
         "_deepnote_index_column": 11
        },
        {
         "date": "2022-07-13",
         "promotion_name": "Club Marmara Ariadne",
         "promoPosition": "Bon Plan-5",
         "pagetype": "HomePage",
         "contentgroup_1": "Home",
         "contentgroup_2": "Club Marmara",
         "views": 3749,
         "clicks": 26,
         "position": 5,
         "CTR": 0.69,
         "Type": "Bons Plans",
         "_deepnote_index_column": 12
        },
        {
         "date": "2022-07-13",
         "promotion_name": "Réservez Primo Hiver 2022-23",
         "promoPosition": "Home CM – bonnes affaires grandes-1",
         "pagetype": "HomePage",
         "contentgroup_1": "Home",
         "contentgroup_2": "Club Marmara",
         "views": 4752,
         "clicks": 71,
         "position": 1,
         "CTR": 1.49,
         "Type": "Promotions",
         "_deepnote_index_column": 13
        },
        {
         "date": "2022-07-13",
         "promotion_name": "Majorque|Club Marmara Del Mar à partir de 499€",
         "promoPosition": "Home CM – bonnes affaires petites-5",
         "pagetype": "HomePage",
         "contentgroup_1": "Home",
         "contentgroup_2": "Club Marmara",
         "views": 4724,
         "clicks": 61,
         "position": 5,
         "CTR": 1.29,
         "Type": "Autre",
         "_deepnote_index_column": 14
        },
        {
         "date": "2022-07-13",
         "promotion_name": "Canaries|Douceur de vivre à partir de 639€",
         "promoPosition": "Home CM – bonnes affaires petites-3",
         "pagetype": "HomePage",
         "contentgroup_1": "Home",
         "contentgroup_2": "Club Marmara",
         "views": 4724,
         "clicks": 70,
         "position": 3,
         "CTR": 1.48,
         "Type": "Autre",
         "_deepnote_index_column": 15
        },
        {
         "date": "2022-07-13",
         "promotion_name": "Embarquement immédiat|Envolez-vous direction nos Club Marmara ! à partir de 730€",
         "promoPosition": "Home CM – bonnes affaires grandes-2",
         "pagetype": "HomePage",
         "contentgroup_1": "Home",
         "contentgroup_2": "Club Marmara",
         "views": 4678,
         "clicks": 239,
         "position": 2,
         "CTR": 5.11,
         "Type": "Autre",
         "_deepnote_index_column": 16
        },
        {
         "date": "2022-07-12",
         "promotion_name": "Club Marmara Palm Beach Djerba",
         "promoPosition": "Bon Plan-2",
         "pagetype": "HomePage",
         "contentgroup_1": "Home",
         "contentgroup_2": "Club Marmara",
         "views": 4330,
         "clicks": 45,
         "position": 2,
         "CTR": 1.04,
         "Type": "Bons Plans",
         "_deepnote_index_column": 17
        },
        {
         "date": "2022-07-12",
         "promotion_name": "Majorque|Club Marmara Del Mar à partir de 499€",
         "promoPosition": "Home CM – bonnes affaires petites-5",
         "pagetype": "HomePage",
         "contentgroup_1": "Home",
         "contentgroup_2": "Club Marmara",
         "views": 5573,
         "clicks": 80,
         "position": 5,
         "CTR": 1.44,
         "Type": "Autre",
         "_deepnote_index_column": 18
        },
        {
         "date": "2022-07-12",
         "promotion_name": "Club Marmara Pueblo Andaluz",
         "promoPosition": "Bon Plan-1",
         "pagetype": "HomePage",
         "contentgroup_1": "Home",
         "contentgroup_2": "Club Marmara",
         "views": 4587,
         "clicks": 30,
         "position": 1,
         "CTR": 0.65,
         "Type": "Bons Plans",
         "_deepnote_index_column": 19
        }
       ]
      },
      "text/plain": "            date                                     promotion_name  \\\n0     2022-07-15  Embarquement immédiat|Envolez-vous direction n...   \n1     2022-07-14                                Club Marmara Madina   \n2     2022-07-14  Embarquement immédiat|Envolez-vous direction n...   \n3     2022-07-14                        Club Marmara Pueblo Andaluz   \n4     2022-07-14     Majorque|Club Marmara Del Mar à partir de 499€   \n...          ...                                                ...   \n2118  2021-07-01                               Réservez Primo Hiver   \n2119  2021-07-01     Majorque|Club Marmara Del Mar à partir de 629€   \n2120  2021-07-01                        Club Marmara Pueblo Andaluz   \n2121  2021-07-01  Embarquement immédiat|Envolez-vous direction n...   \n2122  2021-07-01                                Club Marmara Corfou   \n\n                            promoPosition  pagetype contentgroup_1  \\\n0     Home CM – bonnes affaires grandes-2  HomePage           Home   \n1                              Bon Plan-6  HomePage           Home   \n2     Home CM – bonnes affaires grandes-2  HomePage           Home   \n3                              Bon Plan-1  HomePage           Home   \n4     Home CM – bonnes affaires petites-5  HomePage           Home   \n...                                   ...       ...            ...   \n2118  Home CM – bonnes affaires grandes-1  HomePage           Home   \n2119  Home CM – bonnes affaires petites-3  HomePage           Home   \n2120                           Bon Plan-1  HomePage           Home   \n2121  Home CM – bonnes affaires grandes-2  HomePage           Home   \n2122                           Bon Plan-3  HomePage           Home   \n\n     contentgroup_2   views  clicks  position   CTR        Type  \n0      Club Marmara   623.0    49.0       2.0  7.87       Autre  \n1      Club Marmara  4376.0    27.0       6.0  0.62  Bons Plans  \n2      Club Marmara  5947.0   355.0       2.0  5.97       Autre  \n3      Club Marmara  4787.0    22.0       1.0  0.46  Bons Plans  \n4      Club Marmara  5947.0    64.0       5.0  1.08       Autre  \n...             ...     ...     ...       ...   ...         ...  \n2118   Club Marmara  3840.0    86.0       1.0  2.24  Promotions  \n2119   Club Marmara  3838.0    61.0       3.0  1.59       Autre  \n2120   Club Marmara  3445.0    40.0       1.0  1.16  Bons Plans  \n2121   Club Marmara  3838.0   193.0       2.0  5.03       Autre  \n2122   Club Marmara  3165.0    49.0       3.0  1.55  Bons Plans  \n\n[2123 rows x 11 columns]",
      "text/html": "<div>\n<style scoped>\n    .dataframe tbody tr th:only-of-type {\n        vertical-align: middle;\n    }\n\n    .dataframe tbody tr th {\n        vertical-align: top;\n    }\n\n    .dataframe thead th {\n        text-align: right;\n    }\n</style>\n<table border=\"1\" class=\"dataframe\">\n  <thead>\n    <tr style=\"text-align: right;\">\n      <th></th>\n      <th>date</th>\n      <th>promotion_name</th>\n      <th>promoPosition</th>\n      <th>pagetype</th>\n      <th>contentgroup_1</th>\n      <th>contentgroup_2</th>\n      <th>views</th>\n      <th>clicks</th>\n      <th>position</th>\n      <th>CTR</th>\n      <th>Type</th>\n    </tr>\n  </thead>\n  <tbody>\n    <tr>\n      <th>0</th>\n      <td>2022-07-15</td>\n      <td>Embarquement immédiat|Envolez-vous direction n...</td>\n      <td>Home CM – bonnes affaires grandes-2</td>\n      <td>HomePage</td>\n      <td>Home</td>\n      <td>Club Marmara</td>\n      <td>623.0</td>\n      <td>49.0</td>\n      <td>2.0</td>\n      <td>7.87</td>\n      <td>Autre</td>\n    </tr>\n    <tr>\n      <th>1</th>\n      <td>2022-07-14</td>\n      <td>Club Marmara Madina</td>\n      <td>Bon Plan-6</td>\n      <td>HomePage</td>\n      <td>Home</td>\n      <td>Club Marmara</td>\n      <td>4376.0</td>\n      <td>27.0</td>\n      <td>6.0</td>\n      <td>0.62</td>\n      <td>Bons Plans</td>\n    </tr>\n    <tr>\n      <th>2</th>\n      <td>2022-07-14</td>\n      <td>Embarquement immédiat|Envolez-vous direction n...</td>\n      <td>Home CM – bonnes affaires grandes-2</td>\n      <td>HomePage</td>\n      <td>Home</td>\n      <td>Club Marmara</td>\n      <td>5947.0</td>\n      <td>355.0</td>\n      <td>2.0</td>\n      <td>5.97</td>\n      <td>Autre</td>\n    </tr>\n    <tr>\n      <th>3</th>\n      <td>2022-07-14</td>\n      <td>Club Marmara Pueblo Andaluz</td>\n      <td>Bon Plan-1</td>\n      <td>HomePage</td>\n      <td>Home</td>\n      <td>Club Marmara</td>\n      <td>4787.0</td>\n      <td>22.0</td>\n      <td>1.0</td>\n      <td>0.46</td>\n      <td>Bons Plans</td>\n    </tr>\n    <tr>\n      <th>4</th>\n      <td>2022-07-14</td>\n      <td>Majorque|Club Marmara Del Mar à partir de 499€</td>\n      <td>Home CM – bonnes affaires petites-5</td>\n      <td>HomePage</td>\n      <td>Home</td>\n      <td>Club Marmara</td>\n      <td>5947.0</td>\n      <td>64.0</td>\n      <td>5.0</td>\n      <td>1.08</td>\n      <td>Autre</td>\n    </tr>\n    <tr>\n      <th>...</th>\n      <td>...</td>\n      <td>...</td>\n      <td>...</td>\n      <td>...</td>\n      <td>...</td>\n      <td>...</td>\n      <td>...</td>\n      <td>...</td>\n      <td>...</td>\n      <td>...</td>\n      <td>...</td>\n    </tr>\n    <tr>\n      <th>2118</th>\n      <td>2021-07-01</td>\n      <td>Réservez Primo Hiver</td>\n      <td>Home CM – bonnes affaires grandes-1</td>\n      <td>HomePage</td>\n      <td>Home</td>\n      <td>Club Marmara</td>\n      <td>3840.0</td>\n      <td>86.0</td>\n      <td>1.0</td>\n      <td>2.24</td>\n      <td>Promotions</td>\n    </tr>\n    <tr>\n      <th>2119</th>\n      <td>2021-07-01</td>\n      <td>Majorque|Club Marmara Del Mar à partir de 629€</td>\n      <td>Home CM – bonnes affaires petites-3</td>\n      <td>HomePage</td>\n      <td>Home</td>\n      <td>Club Marmara</td>\n      <td>3838.0</td>\n      <td>61.0</td>\n      <td>3.0</td>\n      <td>1.59</td>\n      <td>Autre</td>\n    </tr>\n    <tr>\n      <th>2120</th>\n      <td>2021-07-01</td>\n      <td>Club Marmara Pueblo Andaluz</td>\n      <td>Bon Plan-1</td>\n      <td>HomePage</td>\n      <td>Home</td>\n      <td>Club Marmara</td>\n      <td>3445.0</td>\n      <td>40.0</td>\n      <td>1.0</td>\n      <td>1.16</td>\n      <td>Bons Plans</td>\n    </tr>\n    <tr>\n      <th>2121</th>\n      <td>2021-07-01</td>\n      <td>Embarquement immédiat|Envolez-vous direction n...</td>\n      <td>Home CM – bonnes affaires grandes-2</td>\n      <td>HomePage</td>\n      <td>Home</td>\n      <td>Club Marmara</td>\n      <td>3838.0</td>\n      <td>193.0</td>\n      <td>2.0</td>\n      <td>5.03</td>\n      <td>Autre</td>\n    </tr>\n    <tr>\n      <th>2122</th>\n      <td>2021-07-01</td>\n      <td>Club Marmara Corfou</td>\n      <td>Bon Plan-3</td>\n      <td>HomePage</td>\n      <td>Home</td>\n      <td>Club Marmara</td>\n      <td>3165.0</td>\n      <td>49.0</td>\n      <td>3.0</td>\n      <td>1.55</td>\n      <td>Bons Plans</td>\n    </tr>\n  </tbody>\n</table>\n<p>2123 rows × 11 columns</p>\n</div>"
     },
     "metadata": {}
    }
   ]
  },
  {
   "cell_type": "code",
   "metadata": {
    "cell_id": "8359f7fbe9e4438882790e798e89cc7f",
    "tags": [],
    "deepnote_to_be_reexecuted": false,
    "source_hash": "b1b65030",
    "execution_start": 1660949353047,
    "execution_millis": 3,
    "deepnote_cell_type": "code",
    "deepnote_cell_height": 117
   },
   "source": "data['position'] = data['position'].replace({1:'position1',2:'position2',3:'position3',4:'Position4',5:'position5',6:'position6'})\n\n",
   "execution_count": 123,
   "outputs": []
  },
  {
   "cell_type": "code",
   "metadata": {
    "cell_id": "8ecfa6314698425c87a345444637d2dd",
    "tags": [],
    "deepnote_to_be_reexecuted": false,
    "source_hash": "f1e9afea",
    "execution_start": 1660949357705,
    "execution_millis": 9,
    "deepnote_cell_type": "code",
    "deepnote_cell_height": 131.375,
    "deepnote_output_heights": [
     39.375
    ]
   },
   "source": "data['Type'].unique()",
   "execution_count": 124,
   "outputs": [
    {
     "output_type": "execute_result",
     "execution_count": 124,
     "data": {
      "text/plain": "array(['Autre', 'Bons Plans', 'Promotions', 'Sejour tout compris',\n       'Crazy', 'Foliday', nan], dtype=object)"
     },
     "metadata": {}
    }
   ]
  },
  {
   "cell_type": "code",
   "metadata": {
    "cell_id": "deec1ad5b686407ab54c34bcf4a4176c",
    "tags": [],
    "deepnote_to_be_reexecuted": false,
    "source_hash": "37f5e321",
    "execution_start": 1660949364991,
    "execution_millis": 33,
    "deepnote_cell_type": "code",
    "deepnote_cell_height": 613
   },
   "source": "data=data.drop(columns=['promotion_name','pagetype','contentgroup_1','contentgroup_2','views','clicks'])\ndata",
   "execution_count": 125,
   "outputs": [
    {
     "output_type": "execute_result",
     "execution_count": 125,
     "data": {
      "application/vnd.deepnote.dataframe.v3+json": {
       "column_count": 5,
       "row_count": 2123,
       "columns": [
        {
         "name": "date",
         "dtype": "object",
         "stats": {
          "unique_count": 388,
          "nan_count": 0,
          "categories": [
           {
            "name": "2022-05-30",
            "count": 14
           },
           {
            "name": "2022-05-25",
            "count": 14
           },
           {
            "name": "386 others",
            "count": 2095
           }
          ]
         }
        },
        {
         "name": "promoPosition",
         "dtype": "object",
         "stats": {
          "unique_count": 12,
          "nan_count": 8,
          "categories": [
           {
            "name": "Home CM – bonnes affaires grandes-1",
            "count": 422
           },
           {
            "name": "11 others",
            "count": 1693
           },
           {
            "name": "Missing",
            "count": 8
           }
          ]
         }
        },
        {
         "name": "position",
         "dtype": "object",
         "stats": {
          "unique_count": 6,
          "nan_count": 8,
          "categories": [
           {
            "name": "position1",
            "count": 615
           },
           {
            "name": "5 others",
            "count": 1500
           },
           {
            "name": "Missing",
            "count": 8
           }
          ]
         }
        },
        {
         "name": "CTR",
         "dtype": "float64",
         "stats": {
          "unique_count": 612,
          "nan_count": 8,
          "min": "0.2",
          "max": "15.98",
          "histogram": [
           {
            "bin_start": 0.2,
            "bin_end": 1.778,
            "count": 1178
           },
           {
            "bin_start": 1.778,
            "bin_end": 3.3560000000000003,
            "count": 547
           },
           {
            "bin_start": 3.3560000000000003,
            "bin_end": 4.934,
            "count": 136
           },
           {
            "bin_start": 4.934,
            "bin_end": 6.5120000000000005,
            "count": 75
           },
           {
            "bin_start": 6.5120000000000005,
            "bin_end": 8.09,
            "count": 49
           },
           {
            "bin_start": 8.09,
            "bin_end": 9.668,
            "count": 61
           },
           {
            "bin_start": 9.668,
            "bin_end": 11.246,
            "count": 54
           },
           {
            "bin_start": 11.246,
            "bin_end": 12.824,
            "count": 10
           },
           {
            "bin_start": 12.824,
            "bin_end": 14.402,
            "count": 4
           },
           {
            "bin_start": 14.402,
            "bin_end": 15.98,
            "count": 1
           }
          ]
         }
        },
        {
         "name": "Type",
         "dtype": "object",
         "stats": {
          "unique_count": 6,
          "nan_count": 8,
          "categories": [
           {
            "name": "Autre",
            "count": 1042
           },
           {
            "name": "5 others",
            "count": 1073
           },
           {
            "name": "Missing",
            "count": 8
           }
          ]
         }
        },
        {
         "name": "_deepnote_index_column",
         "dtype": "int64"
        }
       ],
       "rows": [
        {
         "date": "2022-07-15",
         "promoPosition": "Home CM – bonnes affaires grandes-2",
         "position": "position2",
         "CTR": 7.87,
         "Type": "Autre",
         "_deepnote_index_column": 0
        },
        {
         "date": "2022-07-14",
         "promoPosition": "Bon Plan-6",
         "position": "position6",
         "CTR": 0.62,
         "Type": "Bons Plans",
         "_deepnote_index_column": 1
        },
        {
         "date": "2022-07-14",
         "promoPosition": "Home CM – bonnes affaires grandes-2",
         "position": "position2",
         "CTR": 5.97,
         "Type": "Autre",
         "_deepnote_index_column": 2
        },
        {
         "date": "2022-07-14",
         "promoPosition": "Bon Plan-1",
         "position": "position1",
         "CTR": 0.46,
         "Type": "Bons Plans",
         "_deepnote_index_column": 3
        },
        {
         "date": "2022-07-14",
         "promoPosition": "Home CM – bonnes affaires petites-5",
         "position": "position5",
         "CTR": 1.08,
         "Type": "Autre",
         "_deepnote_index_column": 4
        },
        {
         "date": "2022-07-14",
         "promoPosition": "Home CM – bonnes affaires petites-3",
         "position": "position3",
         "CTR": 1.83,
         "Type": "Autre",
         "_deepnote_index_column": 5
        },
        {
         "date": "2022-07-14",
         "promoPosition": "Bon Plan-5",
         "position": "position5",
         "CTR": 1.18,
         "Type": "Bons Plans",
         "_deepnote_index_column": 6
        },
        {
         "date": "2022-07-14",
         "promoPosition": "Home CM – bonnes affaires grandes-1",
         "position": "position1",
         "CTR": 1.51,
         "Type": "Promotions",
         "_deepnote_index_column": 7
        },
        {
         "date": "2022-07-14",
         "promoPosition": "Home CM – bonnes affaires petites-4",
         "position": "Position4",
         "CTR": 0.62,
         "Type": "Autre",
         "_deepnote_index_column": 8
        },
        {
         "date": "2022-07-14",
         "promoPosition": "Bon Plan-3",
         "position": "position3",
         "CTR": 0.68,
         "Type": "Bons Plans",
         "_deepnote_index_column": 9
        }
       ]
      },
      "text/plain": "            date                        promoPosition   position   CTR  \\\n0     2022-07-15  Home CM – bonnes affaires grandes-2  position2  7.87   \n1     2022-07-14                           Bon Plan-6  position6  0.62   \n2     2022-07-14  Home CM – bonnes affaires grandes-2  position2  5.97   \n3     2022-07-14                           Bon Plan-1  position1  0.46   \n4     2022-07-14  Home CM – bonnes affaires petites-5  position5  1.08   \n...          ...                                  ...        ...   ...   \n2118  2021-07-01  Home CM – bonnes affaires grandes-1  position1  2.24   \n2119  2021-07-01  Home CM – bonnes affaires petites-3  position3  1.59   \n2120  2021-07-01                           Bon Plan-1  position1  1.16   \n2121  2021-07-01  Home CM – bonnes affaires grandes-2  position2  5.03   \n2122  2021-07-01                           Bon Plan-3  position3  1.55   \n\n            Type  \n0          Autre  \n1     Bons Plans  \n2          Autre  \n3     Bons Plans  \n4          Autre  \n...          ...  \n2118  Promotions  \n2119       Autre  \n2120  Bons Plans  \n2121       Autre  \n2122  Bons Plans  \n\n[2123 rows x 5 columns]",
      "text/html": "<div>\n<style scoped>\n    .dataframe tbody tr th:only-of-type {\n        vertical-align: middle;\n    }\n\n    .dataframe tbody tr th {\n        vertical-align: top;\n    }\n\n    .dataframe thead th {\n        text-align: right;\n    }\n</style>\n<table border=\"1\" class=\"dataframe\">\n  <thead>\n    <tr style=\"text-align: right;\">\n      <th></th>\n      <th>date</th>\n      <th>promoPosition</th>\n      <th>position</th>\n      <th>CTR</th>\n      <th>Type</th>\n    </tr>\n  </thead>\n  <tbody>\n    <tr>\n      <th>0</th>\n      <td>2022-07-15</td>\n      <td>Home CM – bonnes affaires grandes-2</td>\n      <td>position2</td>\n      <td>7.87</td>\n      <td>Autre</td>\n    </tr>\n    <tr>\n      <th>1</th>\n      <td>2022-07-14</td>\n      <td>Bon Plan-6</td>\n      <td>position6</td>\n      <td>0.62</td>\n      <td>Bons Plans</td>\n    </tr>\n    <tr>\n      <th>2</th>\n      <td>2022-07-14</td>\n      <td>Home CM – bonnes affaires grandes-2</td>\n      <td>position2</td>\n      <td>5.97</td>\n      <td>Autre</td>\n    </tr>\n    <tr>\n      <th>3</th>\n      <td>2022-07-14</td>\n      <td>Bon Plan-1</td>\n      <td>position1</td>\n      <td>0.46</td>\n      <td>Bons Plans</td>\n    </tr>\n    <tr>\n      <th>4</th>\n      <td>2022-07-14</td>\n      <td>Home CM – bonnes affaires petites-5</td>\n      <td>position5</td>\n      <td>1.08</td>\n      <td>Autre</td>\n    </tr>\n    <tr>\n      <th>...</th>\n      <td>...</td>\n      <td>...</td>\n      <td>...</td>\n      <td>...</td>\n      <td>...</td>\n    </tr>\n    <tr>\n      <th>2118</th>\n      <td>2021-07-01</td>\n      <td>Home CM – bonnes affaires grandes-1</td>\n      <td>position1</td>\n      <td>2.24</td>\n      <td>Promotions</td>\n    </tr>\n    <tr>\n      <th>2119</th>\n      <td>2021-07-01</td>\n      <td>Home CM – bonnes affaires petites-3</td>\n      <td>position3</td>\n      <td>1.59</td>\n      <td>Autre</td>\n    </tr>\n    <tr>\n      <th>2120</th>\n      <td>2021-07-01</td>\n      <td>Bon Plan-1</td>\n      <td>position1</td>\n      <td>1.16</td>\n      <td>Bons Plans</td>\n    </tr>\n    <tr>\n      <th>2121</th>\n      <td>2021-07-01</td>\n      <td>Home CM – bonnes affaires grandes-2</td>\n      <td>position2</td>\n      <td>5.03</td>\n      <td>Autre</td>\n    </tr>\n    <tr>\n      <th>2122</th>\n      <td>2021-07-01</td>\n      <td>Bon Plan-3</td>\n      <td>position3</td>\n      <td>1.55</td>\n      <td>Bons Plans</td>\n    </tr>\n  </tbody>\n</table>\n<p>2123 rows × 5 columns</p>\n</div>"
     },
     "metadata": {}
    }
   ]
  },
  {
   "cell_type": "code",
   "metadata": {
    "cell_id": "aa040d8c04c9430284da9ce356f7aa92",
    "tags": [],
    "deepnote_to_be_reexecuted": false,
    "source_hash": "e281129b",
    "execution_start": 1660949368477,
    "execution_millis": 567,
    "deepnote_cell_type": "code",
    "deepnote_cell_height": 157.1875
   },
   "source": "data=data.drop(columns=['promotion_name','pagetype','contentgroup_1','contentgroup_2','views','clicks'])\n",
   "execution_count": 126,
   "outputs": [
    {
     "output_type": "error",
     "ename": "KeyError",
     "evalue": "\"['promotion_name' 'pagetype' 'contentgroup_1' 'contentgroup_2' 'views'\\n 'clicks'] not found in axis\"",
     "traceback": [
      "\u001b[0;31m---------------------------------------------------------------------------\u001b[0m",
      "\u001b[0;31mKeyError\u001b[0m                                  Traceback (most recent call last)",
      "Input \u001b[0;32mIn [126]\u001b[0m, in \u001b[0;36m<cell line: 1>\u001b[0;34m()\u001b[0m\n\u001b[0;32m----> 1\u001b[0m data\u001b[38;5;241m=\u001b[39m\u001b[43mdata\u001b[49m\u001b[38;5;241;43m.\u001b[39;49m\u001b[43mdrop\u001b[49m\u001b[43m(\u001b[49m\u001b[43mcolumns\u001b[49m\u001b[38;5;241;43m=\u001b[39;49m\u001b[43m[\u001b[49m\u001b[38;5;124;43m'\u001b[39;49m\u001b[38;5;124;43mpromotion_name\u001b[39;49m\u001b[38;5;124;43m'\u001b[39;49m\u001b[43m,\u001b[49m\u001b[38;5;124;43m'\u001b[39;49m\u001b[38;5;124;43mpagetype\u001b[39;49m\u001b[38;5;124;43m'\u001b[39;49m\u001b[43m,\u001b[49m\u001b[38;5;124;43m'\u001b[39;49m\u001b[38;5;124;43mcontentgroup_1\u001b[39;49m\u001b[38;5;124;43m'\u001b[39;49m\u001b[43m,\u001b[49m\u001b[38;5;124;43m'\u001b[39;49m\u001b[38;5;124;43mcontentgroup_2\u001b[39;49m\u001b[38;5;124;43m'\u001b[39;49m\u001b[43m,\u001b[49m\u001b[38;5;124;43m'\u001b[39;49m\u001b[38;5;124;43mviews\u001b[39;49m\u001b[38;5;124;43m'\u001b[39;49m\u001b[43m,\u001b[49m\u001b[38;5;124;43m'\u001b[39;49m\u001b[38;5;124;43mclicks\u001b[39;49m\u001b[38;5;124;43m'\u001b[39;49m\u001b[43m]\u001b[49m\u001b[43m)\u001b[49m\n",
      "File \u001b[0;32m/shared-libs/python3.9/py/lib/python3.9/site-packages/pandas/core/frame.py:4308\u001b[0m, in \u001b[0;36mDataFrame.drop\u001b[0;34m(self, labels, axis, index, columns, level, inplace, errors)\u001b[0m\n\u001b[1;32m   4178\u001b[0m \u001b[38;5;28;01mdef\u001b[39;00m \u001b[38;5;21mdrop\u001b[39m(\n\u001b[1;32m   4179\u001b[0m     \u001b[38;5;28mself\u001b[39m,\n\u001b[1;32m   4180\u001b[0m     labels\u001b[38;5;241m=\u001b[39m\u001b[38;5;28;01mNone\u001b[39;00m,\n\u001b[0;32m   (...)\u001b[0m\n\u001b[1;32m   4186\u001b[0m     errors\u001b[38;5;241m=\u001b[39m\u001b[38;5;124m\"\u001b[39m\u001b[38;5;124mraise\u001b[39m\u001b[38;5;124m\"\u001b[39m,\n\u001b[1;32m   4187\u001b[0m ):\n\u001b[1;32m   4188\u001b[0m     \u001b[38;5;124;03m\"\"\"\u001b[39;00m\n\u001b[1;32m   4189\u001b[0m \u001b[38;5;124;03m    Drop specified labels from rows or columns.\u001b[39;00m\n\u001b[1;32m   4190\u001b[0m \n\u001b[0;32m   (...)\u001b[0m\n\u001b[1;32m   4306\u001b[0m \u001b[38;5;124;03m            weight  1.0     0.8\u001b[39;00m\n\u001b[1;32m   4307\u001b[0m \u001b[38;5;124;03m    \"\"\"\u001b[39;00m\n\u001b[0;32m-> 4308\u001b[0m     \u001b[38;5;28;01mreturn\u001b[39;00m \u001b[38;5;28;43msuper\u001b[39;49m\u001b[43m(\u001b[49m\u001b[43m)\u001b[49m\u001b[38;5;241;43m.\u001b[39;49m\u001b[43mdrop\u001b[49m\u001b[43m(\u001b[49m\n\u001b[1;32m   4309\u001b[0m \u001b[43m        \u001b[49m\u001b[43mlabels\u001b[49m\u001b[38;5;241;43m=\u001b[39;49m\u001b[43mlabels\u001b[49m\u001b[43m,\u001b[49m\n\u001b[1;32m   4310\u001b[0m \u001b[43m        \u001b[49m\u001b[43maxis\u001b[49m\u001b[38;5;241;43m=\u001b[39;49m\u001b[43maxis\u001b[49m\u001b[43m,\u001b[49m\n\u001b[1;32m   4311\u001b[0m \u001b[43m        \u001b[49m\u001b[43mindex\u001b[49m\u001b[38;5;241;43m=\u001b[39;49m\u001b[43mindex\u001b[49m\u001b[43m,\u001b[49m\n\u001b[1;32m   4312\u001b[0m \u001b[43m        \u001b[49m\u001b[43mcolumns\u001b[49m\u001b[38;5;241;43m=\u001b[39;49m\u001b[43mcolumns\u001b[49m\u001b[43m,\u001b[49m\n\u001b[1;32m   4313\u001b[0m \u001b[43m        \u001b[49m\u001b[43mlevel\u001b[49m\u001b[38;5;241;43m=\u001b[39;49m\u001b[43mlevel\u001b[49m\u001b[43m,\u001b[49m\n\u001b[1;32m   4314\u001b[0m \u001b[43m        \u001b[49m\u001b[43minplace\u001b[49m\u001b[38;5;241;43m=\u001b[39;49m\u001b[43minplace\u001b[49m\u001b[43m,\u001b[49m\n\u001b[1;32m   4315\u001b[0m \u001b[43m        \u001b[49m\u001b[43merrors\u001b[49m\u001b[38;5;241;43m=\u001b[39;49m\u001b[43merrors\u001b[49m\u001b[43m,\u001b[49m\n\u001b[1;32m   4316\u001b[0m \u001b[43m    \u001b[49m\u001b[43m)\u001b[49m\n",
      "File \u001b[0;32m/shared-libs/python3.9/py/lib/python3.9/site-packages/pandas/core/generic.py:4153\u001b[0m, in \u001b[0;36mNDFrame.drop\u001b[0;34m(self, labels, axis, index, columns, level, inplace, errors)\u001b[0m\n\u001b[1;32m   4151\u001b[0m \u001b[38;5;28;01mfor\u001b[39;00m axis, labels \u001b[38;5;129;01min\u001b[39;00m axes\u001b[38;5;241m.\u001b[39mitems():\n\u001b[1;32m   4152\u001b[0m     \u001b[38;5;28;01mif\u001b[39;00m labels \u001b[38;5;129;01mis\u001b[39;00m \u001b[38;5;129;01mnot\u001b[39;00m \u001b[38;5;28;01mNone\u001b[39;00m:\n\u001b[0;32m-> 4153\u001b[0m         obj \u001b[38;5;241m=\u001b[39m \u001b[43mobj\u001b[49m\u001b[38;5;241;43m.\u001b[39;49m\u001b[43m_drop_axis\u001b[49m\u001b[43m(\u001b[49m\u001b[43mlabels\u001b[49m\u001b[43m,\u001b[49m\u001b[43m \u001b[49m\u001b[43maxis\u001b[49m\u001b[43m,\u001b[49m\u001b[43m \u001b[49m\u001b[43mlevel\u001b[49m\u001b[38;5;241;43m=\u001b[39;49m\u001b[43mlevel\u001b[49m\u001b[43m,\u001b[49m\u001b[43m \u001b[49m\u001b[43merrors\u001b[49m\u001b[38;5;241;43m=\u001b[39;49m\u001b[43merrors\u001b[49m\u001b[43m)\u001b[49m\n\u001b[1;32m   4155\u001b[0m \u001b[38;5;28;01mif\u001b[39;00m inplace:\n\u001b[1;32m   4156\u001b[0m     \u001b[38;5;28mself\u001b[39m\u001b[38;5;241m.\u001b[39m_update_inplace(obj)\n",
      "File \u001b[0;32m/shared-libs/python3.9/py/lib/python3.9/site-packages/pandas/core/generic.py:4188\u001b[0m, in \u001b[0;36mNDFrame._drop_axis\u001b[0;34m(self, labels, axis, level, errors)\u001b[0m\n\u001b[1;32m   4186\u001b[0m         new_axis \u001b[38;5;241m=\u001b[39m axis\u001b[38;5;241m.\u001b[39mdrop(labels, level\u001b[38;5;241m=\u001b[39mlevel, errors\u001b[38;5;241m=\u001b[39merrors)\n\u001b[1;32m   4187\u001b[0m     \u001b[38;5;28;01melse\u001b[39;00m:\n\u001b[0;32m-> 4188\u001b[0m         new_axis \u001b[38;5;241m=\u001b[39m \u001b[43maxis\u001b[49m\u001b[38;5;241;43m.\u001b[39;49m\u001b[43mdrop\u001b[49m\u001b[43m(\u001b[49m\u001b[43mlabels\u001b[49m\u001b[43m,\u001b[49m\u001b[43m \u001b[49m\u001b[43merrors\u001b[49m\u001b[38;5;241;43m=\u001b[39;49m\u001b[43merrors\u001b[49m\u001b[43m)\u001b[49m\n\u001b[1;32m   4189\u001b[0m     result \u001b[38;5;241m=\u001b[39m \u001b[38;5;28mself\u001b[39m\u001b[38;5;241m.\u001b[39mreindex(\u001b[38;5;241m*\u001b[39m\u001b[38;5;241m*\u001b[39m{axis_name: new_axis})\n\u001b[1;32m   4191\u001b[0m \u001b[38;5;66;03m# Case for non-unique axis\u001b[39;00m\n\u001b[1;32m   4192\u001b[0m \u001b[38;5;28;01melse\u001b[39;00m:\n",
      "File \u001b[0;32m/shared-libs/python3.9/py/lib/python3.9/site-packages/pandas/core/indexes/base.py:5592\u001b[0m, in \u001b[0;36mIndex.drop\u001b[0;34m(self, labels, errors)\u001b[0m\n\u001b[1;32m   5590\u001b[0m \u001b[38;5;28;01mif\u001b[39;00m mask\u001b[38;5;241m.\u001b[39many():\n\u001b[1;32m   5591\u001b[0m     \u001b[38;5;28;01mif\u001b[39;00m errors \u001b[38;5;241m!=\u001b[39m \u001b[38;5;124m\"\u001b[39m\u001b[38;5;124mignore\u001b[39m\u001b[38;5;124m\"\u001b[39m:\n\u001b[0;32m-> 5592\u001b[0m         \u001b[38;5;28;01mraise\u001b[39;00m \u001b[38;5;167;01mKeyError\u001b[39;00m(\u001b[38;5;124mf\u001b[39m\u001b[38;5;124m\"\u001b[39m\u001b[38;5;132;01m{\u001b[39;00mlabels[mask]\u001b[38;5;132;01m}\u001b[39;00m\u001b[38;5;124m not found in axis\u001b[39m\u001b[38;5;124m\"\u001b[39m)\n\u001b[1;32m   5593\u001b[0m     indexer \u001b[38;5;241m=\u001b[39m indexer[\u001b[38;5;241m~\u001b[39mmask]\n\u001b[1;32m   5594\u001b[0m \u001b[38;5;28;01mreturn\u001b[39;00m \u001b[38;5;28mself\u001b[39m\u001b[38;5;241m.\u001b[39mdelete(indexer)\n",
      "\u001b[0;31mKeyError\u001b[0m: \"['promotion_name' 'pagetype' 'contentgroup_1' 'contentgroup_2' 'views'\\n 'clicks'] not found in axis\""
     ]
    }
   ]
  },
  {
   "cell_type": "code",
   "metadata": {
    "cell_id": "1bebf29043d94d48944c325acd8fe7ff",
    "tags": [],
    "deepnote_to_be_reexecuted": false,
    "source_hash": "fd3afbaf",
    "execution_start": 1660949371858,
    "execution_millis": 194,
    "deepnote_cell_type": "code",
    "deepnote_cell_height": 613
   },
   "source": "data['log_CTR']=data['CTR'].apply(lambda x : np.log(x))\ndata",
   "execution_count": 127,
   "outputs": [
    {
     "output_type": "execute_result",
     "execution_count": 127,
     "data": {
      "application/vnd.deepnote.dataframe.v3+json": {
       "column_count": 6,
       "row_count": 2123,
       "columns": [
        {
         "name": "date",
         "dtype": "object",
         "stats": {
          "unique_count": 388,
          "nan_count": 0,
          "categories": [
           {
            "name": "2022-05-30",
            "count": 14
           },
           {
            "name": "2022-05-25",
            "count": 14
           },
           {
            "name": "386 others",
            "count": 2095
           }
          ]
         }
        },
        {
         "name": "promoPosition",
         "dtype": "object",
         "stats": {
          "unique_count": 12,
          "nan_count": 8,
          "categories": [
           {
            "name": "Home CM – bonnes affaires grandes-1",
            "count": 422
           },
           {
            "name": "11 others",
            "count": 1693
           },
           {
            "name": "Missing",
            "count": 8
           }
          ]
         }
        },
        {
         "name": "position",
         "dtype": "object",
         "stats": {
          "unique_count": 6,
          "nan_count": 8,
          "categories": [
           {
            "name": "position1",
            "count": 615
           },
           {
            "name": "5 others",
            "count": 1500
           },
           {
            "name": "Missing",
            "count": 8
           }
          ]
         }
        },
        {
         "name": "CTR",
         "dtype": "float64",
         "stats": {
          "unique_count": 612,
          "nan_count": 8,
          "min": "0.2",
          "max": "15.98",
          "histogram": [
           {
            "bin_start": 0.2,
            "bin_end": 1.778,
            "count": 1178
           },
           {
            "bin_start": 1.778,
            "bin_end": 3.3560000000000003,
            "count": 547
           },
           {
            "bin_start": 3.3560000000000003,
            "bin_end": 4.934,
            "count": 136
           },
           {
            "bin_start": 4.934,
            "bin_end": 6.5120000000000005,
            "count": 75
           },
           {
            "bin_start": 6.5120000000000005,
            "bin_end": 8.09,
            "count": 49
           },
           {
            "bin_start": 8.09,
            "bin_end": 9.668,
            "count": 61
           },
           {
            "bin_start": 9.668,
            "bin_end": 11.246,
            "count": 54
           },
           {
            "bin_start": 11.246,
            "bin_end": 12.824,
            "count": 10
           },
           {
            "bin_start": 12.824,
            "bin_end": 14.402,
            "count": 4
           },
           {
            "bin_start": 14.402,
            "bin_end": 15.98,
            "count": 1
           }
          ]
         }
        },
        {
         "name": "Type",
         "dtype": "object",
         "stats": {
          "unique_count": 6,
          "nan_count": 8,
          "categories": [
           {
            "name": "Autre",
            "count": 1042
           },
           {
            "name": "5 others",
            "count": 1073
           },
           {
            "name": "Missing",
            "count": 8
           }
          ]
         }
        },
        {
         "name": "log_CTR",
         "dtype": "float64",
         "stats": {
          "unique_count": 612,
          "nan_count": 8,
          "min": "-1.6094379124341003",
          "max": "2.7713379403381286",
          "histogram": [
           {
            "bin_start": -1.6094379124341003,
            "bin_end": -1.1713603271568775,
            "count": 23
           },
           {
            "bin_start": -1.1713603271568775,
            "bin_end": -0.7332827418796546,
            "count": 215
           },
           {
            "bin_start": -0.7332827418796546,
            "bin_end": -0.29520515660243185,
            "count": 308
           },
           {
            "bin_start": -0.29520515660243185,
            "bin_end": 0.1428724286747911,
            "count": 242
           },
           {
            "bin_start": 0.1428724286747911,
            "bin_end": 0.5809500139520141,
            "count": 397
           },
           {
            "bin_start": 0.5809500139520141,
            "bin_end": 1.0190275992292366,
            "count": 408
           },
           {
            "bin_start": 1.0190275992292366,
            "bin_end": 1.4571051845064595,
            "count": 239
           },
           {
            "bin_start": 1.4571051845064595,
            "bin_end": 1.8951827697836825,
            "count": 106
           },
           {
            "bin_start": 1.8951827697836825,
            "bin_end": 2.3332603550609052,
            "count": 137
           },
           {
            "bin_start": 2.3332603550609052,
            "bin_end": 2.7713379403381286,
            "count": 40
           }
          ]
         }
        },
        {
         "name": "_deepnote_index_column",
         "dtype": "int64"
        }
       ],
       "rows": [
        {
         "date": "2022-07-15",
         "promoPosition": "Home CM – bonnes affaires grandes-2",
         "position": "position2",
         "CTR": 7.87,
         "Type": "Autre",
         "log_CTR": 2.063058062429312,
         "_deepnote_index_column": 0
        },
        {
         "date": "2022-07-14",
         "promoPosition": "Bon Plan-6",
         "position": "position6",
         "CTR": 0.62,
         "Type": "Bons Plans",
         "log_CTR": -0.4780358009429998,
         "_deepnote_index_column": 1
        },
        {
         "date": "2022-07-14",
         "promoPosition": "Home CM – bonnes affaires grandes-2",
         "position": "position2",
         "CTR": 5.97,
         "Type": "Autre",
         "log_CTR": 1.7867469274045107,
         "_deepnote_index_column": 2
        },
        {
         "date": "2022-07-14",
         "promoPosition": "Bon Plan-1",
         "position": "position1",
         "CTR": 0.46,
         "Type": "Bons Plans",
         "log_CTR": -0.7765287894989963,
         "_deepnote_index_column": 3
        },
        {
         "date": "2022-07-14",
         "promoPosition": "Home CM – bonnes affaires petites-5",
         "position": "position5",
         "CTR": 1.08,
         "Type": "Autre",
         "log_CTR": 0.0769610411361284,
         "_deepnote_index_column": 4
        },
        {
         "date": "2022-07-14",
         "promoPosition": "Home CM – bonnes affaires petites-3",
         "position": "position3",
         "CTR": 1.83,
         "Type": "Autre",
         "log_CTR": 0.6043159668533296,
         "_deepnote_index_column": 5
        },
        {
         "date": "2022-07-14",
         "promoPosition": "Bon Plan-5",
         "position": "position5",
         "CTR": 1.18,
         "Type": "Bons Plans",
         "log_CTR": 0.16551443847757333,
         "_deepnote_index_column": 6
        },
        {
         "date": "2022-07-14",
         "promoPosition": "Home CM – bonnes affaires grandes-1",
         "position": "position1",
         "CTR": 1.51,
         "Type": "Promotions",
         "log_CTR": 0.41210965082683293,
         "_deepnote_index_column": 7
        },
        {
         "date": "2022-07-14",
         "promoPosition": "Home CM – bonnes affaires petites-4",
         "position": "Position4",
         "CTR": 0.62,
         "Type": "Autre",
         "log_CTR": -0.4780358009429998,
         "_deepnote_index_column": 8
        },
        {
         "date": "2022-07-14",
         "promoPosition": "Bon Plan-3",
         "position": "position3",
         "CTR": 0.68,
         "Type": "Bons Plans",
         "log_CTR": -0.3856624808119846,
         "_deepnote_index_column": 9
        }
       ]
      },
      "text/plain": "            date                        promoPosition   position   CTR  \\\n0     2022-07-15  Home CM – bonnes affaires grandes-2  position2  7.87   \n1     2022-07-14                           Bon Plan-6  position6  0.62   \n2     2022-07-14  Home CM – bonnes affaires grandes-2  position2  5.97   \n3     2022-07-14                           Bon Plan-1  position1  0.46   \n4     2022-07-14  Home CM – bonnes affaires petites-5  position5  1.08   \n...          ...                                  ...        ...   ...   \n2118  2021-07-01  Home CM – bonnes affaires grandes-1  position1  2.24   \n2119  2021-07-01  Home CM – bonnes affaires petites-3  position3  1.59   \n2120  2021-07-01                           Bon Plan-1  position1  1.16   \n2121  2021-07-01  Home CM – bonnes affaires grandes-2  position2  5.03   \n2122  2021-07-01                           Bon Plan-3  position3  1.55   \n\n            Type   log_CTR  \n0          Autre  2.063058  \n1     Bons Plans -0.478036  \n2          Autre  1.786747  \n3     Bons Plans -0.776529  \n4          Autre  0.076961  \n...          ...       ...  \n2118  Promotions  0.806476  \n2119       Autre  0.463734  \n2120  Bons Plans  0.148420  \n2121       Autre  1.615420  \n2122  Bons Plans  0.438255  \n\n[2123 rows x 6 columns]",
      "text/html": "<div>\n<style scoped>\n    .dataframe tbody tr th:only-of-type {\n        vertical-align: middle;\n    }\n\n    .dataframe tbody tr th {\n        vertical-align: top;\n    }\n\n    .dataframe thead th {\n        text-align: right;\n    }\n</style>\n<table border=\"1\" class=\"dataframe\">\n  <thead>\n    <tr style=\"text-align: right;\">\n      <th></th>\n      <th>date</th>\n      <th>promoPosition</th>\n      <th>position</th>\n      <th>CTR</th>\n      <th>Type</th>\n      <th>log_CTR</th>\n    </tr>\n  </thead>\n  <tbody>\n    <tr>\n      <th>0</th>\n      <td>2022-07-15</td>\n      <td>Home CM – bonnes affaires grandes-2</td>\n      <td>position2</td>\n      <td>7.87</td>\n      <td>Autre</td>\n      <td>2.063058</td>\n    </tr>\n    <tr>\n      <th>1</th>\n      <td>2022-07-14</td>\n      <td>Bon Plan-6</td>\n      <td>position6</td>\n      <td>0.62</td>\n      <td>Bons Plans</td>\n      <td>-0.478036</td>\n    </tr>\n    <tr>\n      <th>2</th>\n      <td>2022-07-14</td>\n      <td>Home CM – bonnes affaires grandes-2</td>\n      <td>position2</td>\n      <td>5.97</td>\n      <td>Autre</td>\n      <td>1.786747</td>\n    </tr>\n    <tr>\n      <th>3</th>\n      <td>2022-07-14</td>\n      <td>Bon Plan-1</td>\n      <td>position1</td>\n      <td>0.46</td>\n      <td>Bons Plans</td>\n      <td>-0.776529</td>\n    </tr>\n    <tr>\n      <th>4</th>\n      <td>2022-07-14</td>\n      <td>Home CM – bonnes affaires petites-5</td>\n      <td>position5</td>\n      <td>1.08</td>\n      <td>Autre</td>\n      <td>0.076961</td>\n    </tr>\n    <tr>\n      <th>...</th>\n      <td>...</td>\n      <td>...</td>\n      <td>...</td>\n      <td>...</td>\n      <td>...</td>\n      <td>...</td>\n    </tr>\n    <tr>\n      <th>2118</th>\n      <td>2021-07-01</td>\n      <td>Home CM – bonnes affaires grandes-1</td>\n      <td>position1</td>\n      <td>2.24</td>\n      <td>Promotions</td>\n      <td>0.806476</td>\n    </tr>\n    <tr>\n      <th>2119</th>\n      <td>2021-07-01</td>\n      <td>Home CM – bonnes affaires petites-3</td>\n      <td>position3</td>\n      <td>1.59</td>\n      <td>Autre</td>\n      <td>0.463734</td>\n    </tr>\n    <tr>\n      <th>2120</th>\n      <td>2021-07-01</td>\n      <td>Bon Plan-1</td>\n      <td>position1</td>\n      <td>1.16</td>\n      <td>Bons Plans</td>\n      <td>0.148420</td>\n    </tr>\n    <tr>\n      <th>2121</th>\n      <td>2021-07-01</td>\n      <td>Home CM – bonnes affaires grandes-2</td>\n      <td>position2</td>\n      <td>5.03</td>\n      <td>Autre</td>\n      <td>1.615420</td>\n    </tr>\n    <tr>\n      <th>2122</th>\n      <td>2021-07-01</td>\n      <td>Bon Plan-3</td>\n      <td>position3</td>\n      <td>1.55</td>\n      <td>Bons Plans</td>\n      <td>0.438255</td>\n    </tr>\n  </tbody>\n</table>\n<p>2123 rows × 6 columns</p>\n</div>"
     },
     "metadata": {}
    }
   ]
  },
  {
   "cell_type": "code",
   "metadata": {
    "cell_id": "0d753e7a838f4626a114f8b7df59cffd",
    "tags": [],
    "deepnote_to_be_reexecuted": false,
    "source_hash": "2a5755b9",
    "execution_start": 1660949378745,
    "execution_millis": 14,
    "deepnote_cell_type": "code",
    "deepnote_cell_height": 360.4375,
    "deepnote_output_heights": [
     250.4375
    ]
   },
   "source": "data['promoPosition'].value_counts()\n",
   "execution_count": 128,
   "outputs": [
    {
     "output_type": "execute_result",
     "execution_count": 128,
     "data": {
      "text/plain": "Home CM – bonnes affaires grandes-1    422\nHome CM – bonnes affaires grandes-2    413\nHome CM – bonnes affaires petites-3    381\nBon Plan-1                             193\nBon Plan-2                             186\nBon Plan-3                             151\nHome CM – bonnes affaires petites-4    123\nHome CM – bonnes affaires petites-5     90\nBon Plan-6                              58\nBon Plan-4                              51\nBon Plan-5                              45\nHome CM – bonnes affaires petites-2      2\nName: promoPosition, dtype: int64"
     },
     "metadata": {}
    }
   ]
  },
  {
   "cell_type": "code",
   "metadata": {
    "cell_id": "2f92357a8e3c49668b5988de609f08d1",
    "tags": [],
    "deepnote_to_be_reexecuted": false,
    "source_hash": "a6af6ad",
    "execution_start": 1660949382180,
    "execution_millis": 76,
    "deepnote_cell_type": "code",
    "deepnote_cell_height": 706
   },
   "source": "#feature engineering\ndata.date=pd.to_datetime(data.date,errors='coerce')\ndata['jour']=data.date.dt.day_name()\ndata['mois']=data.date.dt.month_name()\ndata=data.rename(columns={'Type':'type_banniere'})\ndata",
   "execution_count": 129,
   "outputs": [
    {
     "output_type": "execute_result",
     "execution_count": 129,
     "data": {
      "application/vnd.deepnote.dataframe.v3+json": {
       "column_count": 8,
       "row_count": 2123,
       "columns": [
        {
         "name": "date",
         "dtype": "datetime64[ns]",
         "stats": {
          "unique_count": 380,
          "nan_count": 8,
          "min": "2021-07-01 00:00:00",
          "max": "2022-07-15 00:00:00",
          "histogram": [
           {
            "bin_start": 1625097600000000000,
            "bin_end": 1628372160000000000,
            "count": 217
           },
           {
            "bin_start": 1628372160000000000,
            "bin_end": 1631646720000000000,
            "count": 171
           },
           {
            "bin_start": 1631646720000000000,
            "bin_end": 1634921280000000000,
            "count": 120
           },
           {
            "bin_start": 1634921280000000000,
            "bin_end": 1638195840000000000,
            "count": 127
           },
           {
            "bin_start": 1638195840000000000,
            "bin_end": 1641470400000000000,
            "count": 137
           },
           {
            "bin_start": 1641470400000000000,
            "bin_end": 1644744960000000000,
            "count": 240
           },
           {
            "bin_start": 1644744960000000000,
            "bin_end": 1648019520000000000,
            "count": 236
           },
           {
            "bin_start": 1648019520000000000,
            "bin_end": 1651294080000000000,
            "count": 230
           },
           {
            "bin_start": 1651294080000000000,
            "bin_end": 1654568640000000000,
            "count": 324
           },
           {
            "bin_start": 1654568640000000000,
            "bin_end": 1657843200000000000,
            "count": 313
           }
          ]
         }
        },
        {
         "name": "promoPosition",
         "dtype": "object",
         "stats": {
          "unique_count": 12,
          "nan_count": 8,
          "categories": [
           {
            "name": "Home CM – bonnes affaires grandes-1",
            "count": 422
           },
           {
            "name": "11 others",
            "count": 1693
           },
           {
            "name": "Missing",
            "count": 8
           }
          ]
         }
        },
        {
         "name": "position",
         "dtype": "object",
         "stats": {
          "unique_count": 6,
          "nan_count": 8,
          "categories": [
           {
            "name": "position1",
            "count": 615
           },
           {
            "name": "5 others",
            "count": 1500
           },
           {
            "name": "Missing",
            "count": 8
           }
          ]
         }
        },
        {
         "name": "CTR",
         "dtype": "float64",
         "stats": {
          "unique_count": 612,
          "nan_count": 8,
          "min": "0.2",
          "max": "15.98",
          "histogram": [
           {
            "bin_start": 0.2,
            "bin_end": 1.778,
            "count": 1178
           },
           {
            "bin_start": 1.778,
            "bin_end": 3.3560000000000003,
            "count": 547
           },
           {
            "bin_start": 3.3560000000000003,
            "bin_end": 4.934,
            "count": 136
           },
           {
            "bin_start": 4.934,
            "bin_end": 6.5120000000000005,
            "count": 75
           },
           {
            "bin_start": 6.5120000000000005,
            "bin_end": 8.09,
            "count": 49
           },
           {
            "bin_start": 8.09,
            "bin_end": 9.668,
            "count": 61
           },
           {
            "bin_start": 9.668,
            "bin_end": 11.246,
            "count": 54
           },
           {
            "bin_start": 11.246,
            "bin_end": 12.824,
            "count": 10
           },
           {
            "bin_start": 12.824,
            "bin_end": 14.402,
            "count": 4
           },
           {
            "bin_start": 14.402,
            "bin_end": 15.98,
            "count": 1
           }
          ]
         }
        },
        {
         "name": "type_banniere",
         "dtype": "object",
         "stats": {
          "unique_count": 6,
          "nan_count": 8,
          "categories": [
           {
            "name": "Autre",
            "count": 1042
           },
           {
            "name": "5 others",
            "count": 1073
           },
           {
            "name": "Missing",
            "count": 8
           }
          ]
         }
        },
        {
         "name": "log_CTR",
         "dtype": "float64",
         "stats": {
          "unique_count": 612,
          "nan_count": 8,
          "min": "-1.6094379124341003",
          "max": "2.7713379403381286",
          "histogram": [
           {
            "bin_start": -1.6094379124341003,
            "bin_end": -1.1713603271568775,
            "count": 23
           },
           {
            "bin_start": -1.1713603271568775,
            "bin_end": -0.7332827418796546,
            "count": 215
           },
           {
            "bin_start": -0.7332827418796546,
            "bin_end": -0.29520515660243185,
            "count": 308
           },
           {
            "bin_start": -0.29520515660243185,
            "bin_end": 0.1428724286747911,
            "count": 242
           },
           {
            "bin_start": 0.1428724286747911,
            "bin_end": 0.5809500139520141,
            "count": 397
           },
           {
            "bin_start": 0.5809500139520141,
            "bin_end": 1.0190275992292366,
            "count": 408
           },
           {
            "bin_start": 1.0190275992292366,
            "bin_end": 1.4571051845064595,
            "count": 239
           },
           {
            "bin_start": 1.4571051845064595,
            "bin_end": 1.8951827697836825,
            "count": 106
           },
           {
            "bin_start": 1.8951827697836825,
            "bin_end": 2.3332603550609052,
            "count": 137
           },
           {
            "bin_start": 2.3332603550609052,
            "bin_end": 2.7713379403381286,
            "count": 40
           }
          ]
         }
        },
        {
         "name": "jour",
         "dtype": "object",
         "stats": {
          "unique_count": 7,
          "nan_count": 8,
          "categories": [
           {
            "name": "Sunday",
            "count": 344
           },
           {
            "name": "6 others",
            "count": 1771
           },
           {
            "name": "Missing",
            "count": 8
           }
          ]
         }
        },
        {
         "name": "mois",
         "dtype": "object",
         "stats": {
          "unique_count": 12,
          "nan_count": 8,
          "categories": [
           {
            "name": "July",
            "count": 304
           },
           {
            "name": "11 others",
            "count": 1811
           },
           {
            "name": "Missing",
            "count": 8
           }
          ]
         }
        },
        {
         "name": "_deepnote_index_column",
         "dtype": "int64"
        }
       ],
       "rows": [
        {
         "date": "2022-07-15T00:00:00Z",
         "promoPosition": "Home CM – bonnes affaires grandes-2",
         "position": "position2",
         "CTR": 7.87,
         "type_banniere": "Autre",
         "log_CTR": 2.063058062429312,
         "jour": "Friday",
         "mois": "July",
         "_deepnote_index_column": 0
        },
        {
         "date": "2022-07-14T00:00:00Z",
         "promoPosition": "Bon Plan-6",
         "position": "position6",
         "CTR": 0.62,
         "type_banniere": "Bons Plans",
         "log_CTR": -0.4780358009429998,
         "jour": "Thursday",
         "mois": "July",
         "_deepnote_index_column": 1
        },
        {
         "date": "2022-07-14T00:00:00Z",
         "promoPosition": "Home CM – bonnes affaires grandes-2",
         "position": "position2",
         "CTR": 5.97,
         "type_banniere": "Autre",
         "log_CTR": 1.7867469274045107,
         "jour": "Thursday",
         "mois": "July",
         "_deepnote_index_column": 2
        },
        {
         "date": "2022-07-14T00:00:00Z",
         "promoPosition": "Bon Plan-1",
         "position": "position1",
         "CTR": 0.46,
         "type_banniere": "Bons Plans",
         "log_CTR": -0.7765287894989963,
         "jour": "Thursday",
         "mois": "July",
         "_deepnote_index_column": 3
        },
        {
         "date": "2022-07-14T00:00:00Z",
         "promoPosition": "Home CM – bonnes affaires petites-5",
         "position": "position5",
         "CTR": 1.08,
         "type_banniere": "Autre",
         "log_CTR": 0.0769610411361284,
         "jour": "Thursday",
         "mois": "July",
         "_deepnote_index_column": 4
        },
        {
         "date": "2022-07-14T00:00:00Z",
         "promoPosition": "Home CM – bonnes affaires petites-3",
         "position": "position3",
         "CTR": 1.83,
         "type_banniere": "Autre",
         "log_CTR": 0.6043159668533296,
         "jour": "Thursday",
         "mois": "July",
         "_deepnote_index_column": 5
        },
        {
         "date": "2022-07-14T00:00:00Z",
         "promoPosition": "Bon Plan-5",
         "position": "position5",
         "CTR": 1.18,
         "type_banniere": "Bons Plans",
         "log_CTR": 0.16551443847757333,
         "jour": "Thursday",
         "mois": "July",
         "_deepnote_index_column": 6
        },
        {
         "date": "2022-07-14T00:00:00Z",
         "promoPosition": "Home CM – bonnes affaires grandes-1",
         "position": "position1",
         "CTR": 1.51,
         "type_banniere": "Promotions",
         "log_CTR": 0.41210965082683293,
         "jour": "Thursday",
         "mois": "July",
         "_deepnote_index_column": 7
        },
        {
         "date": "2022-07-14T00:00:00Z",
         "promoPosition": "Home CM – bonnes affaires petites-4",
         "position": "Position4",
         "CTR": 0.62,
         "type_banniere": "Autre",
         "log_CTR": -0.4780358009429998,
         "jour": "Thursday",
         "mois": "July",
         "_deepnote_index_column": 8
        },
        {
         "date": "2022-07-14T00:00:00Z",
         "promoPosition": "Bon Plan-3",
         "position": "position3",
         "CTR": 0.68,
         "type_banniere": "Bons Plans",
         "log_CTR": -0.3856624808119846,
         "jour": "Thursday",
         "mois": "July",
         "_deepnote_index_column": 9
        }
       ]
      },
      "text/plain": "           date                        promoPosition   position   CTR  \\\n0    2022-07-15  Home CM – bonnes affaires grandes-2  position2  7.87   \n1    2022-07-14                           Bon Plan-6  position6  0.62   \n2    2022-07-14  Home CM – bonnes affaires grandes-2  position2  5.97   \n3    2022-07-14                           Bon Plan-1  position1  0.46   \n4    2022-07-14  Home CM – bonnes affaires petites-5  position5  1.08   \n...         ...                                  ...        ...   ...   \n2118 2021-07-01  Home CM – bonnes affaires grandes-1  position1  2.24   \n2119 2021-07-01  Home CM – bonnes affaires petites-3  position3  1.59   \n2120 2021-07-01                           Bon Plan-1  position1  1.16   \n2121 2021-07-01  Home CM – bonnes affaires grandes-2  position2  5.03   \n2122 2021-07-01                           Bon Plan-3  position3  1.55   \n\n     type_banniere   log_CTR      jour  mois  \n0            Autre  2.063058    Friday  July  \n1       Bons Plans -0.478036  Thursday  July  \n2            Autre  1.786747  Thursday  July  \n3       Bons Plans -0.776529  Thursday  July  \n4            Autre  0.076961  Thursday  July  \n...            ...       ...       ...   ...  \n2118    Promotions  0.806476  Thursday  July  \n2119         Autre  0.463734  Thursday  July  \n2120    Bons Plans  0.148420  Thursday  July  \n2121         Autre  1.615420  Thursday  July  \n2122    Bons Plans  0.438255  Thursday  July  \n\n[2123 rows x 8 columns]",
      "text/html": "<div>\n<style scoped>\n    .dataframe tbody tr th:only-of-type {\n        vertical-align: middle;\n    }\n\n    .dataframe tbody tr th {\n        vertical-align: top;\n    }\n\n    .dataframe thead th {\n        text-align: right;\n    }\n</style>\n<table border=\"1\" class=\"dataframe\">\n  <thead>\n    <tr style=\"text-align: right;\">\n      <th></th>\n      <th>date</th>\n      <th>promoPosition</th>\n      <th>position</th>\n      <th>CTR</th>\n      <th>type_banniere</th>\n      <th>log_CTR</th>\n      <th>jour</th>\n      <th>mois</th>\n    </tr>\n  </thead>\n  <tbody>\n    <tr>\n      <th>0</th>\n      <td>2022-07-15</td>\n      <td>Home CM – bonnes affaires grandes-2</td>\n      <td>position2</td>\n      <td>7.87</td>\n      <td>Autre</td>\n      <td>2.063058</td>\n      <td>Friday</td>\n      <td>July</td>\n    </tr>\n    <tr>\n      <th>1</th>\n      <td>2022-07-14</td>\n      <td>Bon Plan-6</td>\n      <td>position6</td>\n      <td>0.62</td>\n      <td>Bons Plans</td>\n      <td>-0.478036</td>\n      <td>Thursday</td>\n      <td>July</td>\n    </tr>\n    <tr>\n      <th>2</th>\n      <td>2022-07-14</td>\n      <td>Home CM – bonnes affaires grandes-2</td>\n      <td>position2</td>\n      <td>5.97</td>\n      <td>Autre</td>\n      <td>1.786747</td>\n      <td>Thursday</td>\n      <td>July</td>\n    </tr>\n    <tr>\n      <th>3</th>\n      <td>2022-07-14</td>\n      <td>Bon Plan-1</td>\n      <td>position1</td>\n      <td>0.46</td>\n      <td>Bons Plans</td>\n      <td>-0.776529</td>\n      <td>Thursday</td>\n      <td>July</td>\n    </tr>\n    <tr>\n      <th>4</th>\n      <td>2022-07-14</td>\n      <td>Home CM – bonnes affaires petites-5</td>\n      <td>position5</td>\n      <td>1.08</td>\n      <td>Autre</td>\n      <td>0.076961</td>\n      <td>Thursday</td>\n      <td>July</td>\n    </tr>\n    <tr>\n      <th>...</th>\n      <td>...</td>\n      <td>...</td>\n      <td>...</td>\n      <td>...</td>\n      <td>...</td>\n      <td>...</td>\n      <td>...</td>\n      <td>...</td>\n    </tr>\n    <tr>\n      <th>2118</th>\n      <td>2021-07-01</td>\n      <td>Home CM – bonnes affaires grandes-1</td>\n      <td>position1</td>\n      <td>2.24</td>\n      <td>Promotions</td>\n      <td>0.806476</td>\n      <td>Thursday</td>\n      <td>July</td>\n    </tr>\n    <tr>\n      <th>2119</th>\n      <td>2021-07-01</td>\n      <td>Home CM – bonnes affaires petites-3</td>\n      <td>position3</td>\n      <td>1.59</td>\n      <td>Autre</td>\n      <td>0.463734</td>\n      <td>Thursday</td>\n      <td>July</td>\n    </tr>\n    <tr>\n      <th>2120</th>\n      <td>2021-07-01</td>\n      <td>Bon Plan-1</td>\n      <td>position1</td>\n      <td>1.16</td>\n      <td>Bons Plans</td>\n      <td>0.148420</td>\n      <td>Thursday</td>\n      <td>July</td>\n    </tr>\n    <tr>\n      <th>2121</th>\n      <td>2021-07-01</td>\n      <td>Home CM – bonnes affaires grandes-2</td>\n      <td>position2</td>\n      <td>5.03</td>\n      <td>Autre</td>\n      <td>1.615420</td>\n      <td>Thursday</td>\n      <td>July</td>\n    </tr>\n    <tr>\n      <th>2122</th>\n      <td>2021-07-01</td>\n      <td>Bon Plan-3</td>\n      <td>position3</td>\n      <td>1.55</td>\n      <td>Bons Plans</td>\n      <td>0.438255</td>\n      <td>Thursday</td>\n      <td>July</td>\n    </tr>\n  </tbody>\n</table>\n<p>2123 rows × 8 columns</p>\n</div>"
     },
     "metadata": {}
    }
   ]
  },
  {
   "cell_type": "code",
   "metadata": {
    "cell_id": "3f73adb2bbc648069c7b7bb3375bc37f",
    "tags": [],
    "deepnote_to_be_reexecuted": false,
    "source_hash": "40fea923",
    "execution_start": 1660931654833,
    "execution_millis": 3,
    "deepnote_cell_type": "code",
    "deepnote_cell_height": 94
   },
   "source": "data=data.drop(columns=['date','promoPosition'])\n",
   "execution_count": null,
   "outputs": []
  },
  {
   "cell_type": "code",
   "source": "data\n",
   "metadata": {
    "cell_id": "90701e34a73840d49215b827a8637148",
    "tags": [],
    "deepnote_to_be_reexecuted": false,
    "source_hash": "ef9fac04",
    "execution_start": 1660948538151,
    "execution_millis": 64,
    "deepnote_cell_type": "code",
    "deepnote_cell_height": 634
   },
   "execution_count": 88,
   "outputs": [
    {
     "output_type": "execute_result",
     "execution_count": 88,
     "data": {
      "application/vnd.deepnote.dataframe.v3+json": {
       "column_count": 8,
       "row_count": 2123,
       "columns": [
        {
         "name": "date",
         "dtype": "datetime64[ns]",
         "stats": {
          "unique_count": 380,
          "nan_count": 8,
          "min": "2021-07-01 00:00:00",
          "max": "2022-07-15 00:00:00",
          "histogram": [
           {
            "bin_start": 1625097600000000000,
            "bin_end": 1628372160000000000,
            "count": 217
           },
           {
            "bin_start": 1628372160000000000,
            "bin_end": 1631646720000000000,
            "count": 171
           },
           {
            "bin_start": 1631646720000000000,
            "bin_end": 1634921280000000000,
            "count": 120
           },
           {
            "bin_start": 1634921280000000000,
            "bin_end": 1638195840000000000,
            "count": 127
           },
           {
            "bin_start": 1638195840000000000,
            "bin_end": 1641470400000000000,
            "count": 137
           },
           {
            "bin_start": 1641470400000000000,
            "bin_end": 1644744960000000000,
            "count": 240
           },
           {
            "bin_start": 1644744960000000000,
            "bin_end": 1648019520000000000,
            "count": 236
           },
           {
            "bin_start": 1648019520000000000,
            "bin_end": 1651294080000000000,
            "count": 230
           },
           {
            "bin_start": 1651294080000000000,
            "bin_end": 1654568640000000000,
            "count": 324
           },
           {
            "bin_start": 1654568640000000000,
            "bin_end": 1657843200000000000,
            "count": 313
           }
          ]
         }
        },
        {
         "name": "promoPosition",
         "dtype": "object",
         "stats": {
          "unique_count": 12,
          "nan_count": 8,
          "categories": [
           {
            "name": "Home CM – bonnes affaires grandes-1",
            "count": 422
           },
           {
            "name": "11 others",
            "count": 1693
           },
           {
            "name": "Missing",
            "count": 8
           }
          ]
         }
        },
        {
         "name": "position",
         "dtype": "object",
         "stats": {
          "unique_count": 6,
          "nan_count": 8,
          "categories": [
           {
            "name": "position1",
            "count": 615
           },
           {
            "name": "5 others",
            "count": 1500
           },
           {
            "name": "Missing",
            "count": 8
           }
          ]
         }
        },
        {
         "name": "CTR",
         "dtype": "float64",
         "stats": {
          "unique_count": 612,
          "nan_count": 8,
          "min": "0.2",
          "max": "15.98",
          "histogram": [
           {
            "bin_start": 0.2,
            "bin_end": 1.778,
            "count": 1178
           },
           {
            "bin_start": 1.778,
            "bin_end": 3.3560000000000003,
            "count": 547
           },
           {
            "bin_start": 3.3560000000000003,
            "bin_end": 4.934,
            "count": 136
           },
           {
            "bin_start": 4.934,
            "bin_end": 6.5120000000000005,
            "count": 75
           },
           {
            "bin_start": 6.5120000000000005,
            "bin_end": 8.09,
            "count": 49
           },
           {
            "bin_start": 8.09,
            "bin_end": 9.668,
            "count": 61
           },
           {
            "bin_start": 9.668,
            "bin_end": 11.246,
            "count": 54
           },
           {
            "bin_start": 11.246,
            "bin_end": 12.824,
            "count": 10
           },
           {
            "bin_start": 12.824,
            "bin_end": 14.402,
            "count": 4
           },
           {
            "bin_start": 14.402,
            "bin_end": 15.98,
            "count": 1
           }
          ]
         }
        },
        {
         "name": "type_banniere",
         "dtype": "object",
         "stats": {
          "unique_count": 6,
          "nan_count": 8,
          "categories": [
           {
            "name": "Autre",
            "count": 1042
           },
           {
            "name": "5 others",
            "count": 1073
           },
           {
            "name": "Missing",
            "count": 8
           }
          ]
         }
        },
        {
         "name": "log_CTR",
         "dtype": "float64",
         "stats": {
          "unique_count": 612,
          "nan_count": 8,
          "min": "-1.6094379124341003",
          "max": "2.7713379403381286",
          "histogram": [
           {
            "bin_start": -1.6094379124341003,
            "bin_end": -1.1713603271568775,
            "count": 23
           },
           {
            "bin_start": -1.1713603271568775,
            "bin_end": -0.7332827418796546,
            "count": 215
           },
           {
            "bin_start": -0.7332827418796546,
            "bin_end": -0.29520515660243185,
            "count": 308
           },
           {
            "bin_start": -0.29520515660243185,
            "bin_end": 0.1428724286747911,
            "count": 242
           },
           {
            "bin_start": 0.1428724286747911,
            "bin_end": 0.5809500139520141,
            "count": 397
           },
           {
            "bin_start": 0.5809500139520141,
            "bin_end": 1.0190275992292366,
            "count": 408
           },
           {
            "bin_start": 1.0190275992292366,
            "bin_end": 1.4571051845064595,
            "count": 239
           },
           {
            "bin_start": 1.4571051845064595,
            "bin_end": 1.8951827697836825,
            "count": 106
           },
           {
            "bin_start": 1.8951827697836825,
            "bin_end": 2.3332603550609052,
            "count": 137
           },
           {
            "bin_start": 2.3332603550609052,
            "bin_end": 2.7713379403381286,
            "count": 40
           }
          ]
         }
        },
        {
         "name": "jour",
         "dtype": "object",
         "stats": {
          "unique_count": 7,
          "nan_count": 8,
          "categories": [
           {
            "name": "Sunday",
            "count": 344
           },
           {
            "name": "6 others",
            "count": 1771
           },
           {
            "name": "Missing",
            "count": 8
           }
          ]
         }
        },
        {
         "name": "mois",
         "dtype": "object",
         "stats": {
          "unique_count": 12,
          "nan_count": 8,
          "categories": [
           {
            "name": "July",
            "count": 304
           },
           {
            "name": "11 others",
            "count": 1811
           },
           {
            "name": "Missing",
            "count": 8
           }
          ]
         }
        },
        {
         "name": "_deepnote_index_column",
         "dtype": "int64"
        }
       ],
       "rows": [
        {
         "date": "2022-07-15T00:00:00Z",
         "promoPosition": "Home CM – bonnes affaires grandes-2",
         "position": "position2",
         "CTR": 7.87,
         "type_banniere": "Autre",
         "log_CTR": 2.063058062429312,
         "jour": "Friday",
         "mois": "July",
         "_deepnote_index_column": 0
        },
        {
         "date": "2022-07-14T00:00:00Z",
         "promoPosition": "Bon Plan-6",
         "position": "position6",
         "CTR": 0.62,
         "type_banniere": "Bons Plans",
         "log_CTR": -0.4780358009429998,
         "jour": "Thursday",
         "mois": "July",
         "_deepnote_index_column": 1
        },
        {
         "date": "2022-07-14T00:00:00Z",
         "promoPosition": "Home CM – bonnes affaires grandes-2",
         "position": "position2",
         "CTR": 5.97,
         "type_banniere": "Autre",
         "log_CTR": 1.7867469274045107,
         "jour": "Thursday",
         "mois": "July",
         "_deepnote_index_column": 2
        },
        {
         "date": "2022-07-14T00:00:00Z",
         "promoPosition": "Bon Plan-1",
         "position": "position1",
         "CTR": 0.46,
         "type_banniere": "Bons Plans",
         "log_CTR": -0.7765287894989963,
         "jour": "Thursday",
         "mois": "July",
         "_deepnote_index_column": 3
        },
        {
         "date": "2022-07-14T00:00:00Z",
         "promoPosition": "Home CM – bonnes affaires petites-5",
         "position": "position5",
         "CTR": 1.08,
         "type_banniere": "Autre",
         "log_CTR": 0.0769610411361284,
         "jour": "Thursday",
         "mois": "July",
         "_deepnote_index_column": 4
        },
        {
         "date": "2022-07-14T00:00:00Z",
         "promoPosition": "Home CM – bonnes affaires petites-3",
         "position": "position3",
         "CTR": 1.83,
         "type_banniere": "Autre",
         "log_CTR": 0.6043159668533296,
         "jour": "Thursday",
         "mois": "July",
         "_deepnote_index_column": 5
        },
        {
         "date": "2022-07-14T00:00:00Z",
         "promoPosition": "Bon Plan-5",
         "position": "position5",
         "CTR": 1.18,
         "type_banniere": "Bons Plans",
         "log_CTR": 0.16551443847757333,
         "jour": "Thursday",
         "mois": "July",
         "_deepnote_index_column": 6
        },
        {
         "date": "2022-07-14T00:00:00Z",
         "promoPosition": "Home CM – bonnes affaires grandes-1",
         "position": "position1",
         "CTR": 1.51,
         "type_banniere": "Promotions",
         "log_CTR": 0.41210965082683293,
         "jour": "Thursday",
         "mois": "July",
         "_deepnote_index_column": 7
        },
        {
         "date": "2022-07-14T00:00:00Z",
         "promoPosition": "Home CM – bonnes affaires petites-4",
         "position": "Position4",
         "CTR": 0.62,
         "type_banniere": "Autre",
         "log_CTR": -0.4780358009429998,
         "jour": "Thursday",
         "mois": "July",
         "_deepnote_index_column": 8
        },
        {
         "date": "2022-07-14T00:00:00Z",
         "promoPosition": "Bon Plan-3",
         "position": "position3",
         "CTR": 0.68,
         "type_banniere": "Bons Plans",
         "log_CTR": -0.3856624808119846,
         "jour": "Thursday",
         "mois": "July",
         "_deepnote_index_column": 9
        }
       ]
      },
      "text/plain": "           date                        promoPosition   position   CTR  \\\n0    2022-07-15  Home CM – bonnes affaires grandes-2  position2  7.87   \n1    2022-07-14                           Bon Plan-6  position6  0.62   \n2    2022-07-14  Home CM – bonnes affaires grandes-2  position2  5.97   \n3    2022-07-14                           Bon Plan-1  position1  0.46   \n4    2022-07-14  Home CM – bonnes affaires petites-5  position5  1.08   \n...         ...                                  ...        ...   ...   \n2118 2021-07-01  Home CM – bonnes affaires grandes-1  position1  2.24   \n2119 2021-07-01  Home CM – bonnes affaires petites-3  position3  1.59   \n2120 2021-07-01                           Bon Plan-1  position1  1.16   \n2121 2021-07-01  Home CM – bonnes affaires grandes-2  position2  5.03   \n2122 2021-07-01                           Bon Plan-3  position3  1.55   \n\n     type_banniere   log_CTR      jour  mois  \n0            Autre  2.063058    Friday  July  \n1       Bons Plans -0.478036  Thursday  July  \n2            Autre  1.786747  Thursday  July  \n3       Bons Plans -0.776529  Thursday  July  \n4            Autre  0.076961  Thursday  July  \n...            ...       ...       ...   ...  \n2118    Promotions  0.806476  Thursday  July  \n2119         Autre  0.463734  Thursday  July  \n2120    Bons Plans  0.148420  Thursday  July  \n2121         Autre  1.615420  Thursday  July  \n2122    Bons Plans  0.438255  Thursday  July  \n\n[2123 rows x 8 columns]",
      "text/html": "<div>\n<style scoped>\n    .dataframe tbody tr th:only-of-type {\n        vertical-align: middle;\n    }\n\n    .dataframe tbody tr th {\n        vertical-align: top;\n    }\n\n    .dataframe thead th {\n        text-align: right;\n    }\n</style>\n<table border=\"1\" class=\"dataframe\">\n  <thead>\n    <tr style=\"text-align: right;\">\n      <th></th>\n      <th>date</th>\n      <th>promoPosition</th>\n      <th>position</th>\n      <th>CTR</th>\n      <th>type_banniere</th>\n      <th>log_CTR</th>\n      <th>jour</th>\n      <th>mois</th>\n    </tr>\n  </thead>\n  <tbody>\n    <tr>\n      <th>0</th>\n      <td>2022-07-15</td>\n      <td>Home CM – bonnes affaires grandes-2</td>\n      <td>position2</td>\n      <td>7.87</td>\n      <td>Autre</td>\n      <td>2.063058</td>\n      <td>Friday</td>\n      <td>July</td>\n    </tr>\n    <tr>\n      <th>1</th>\n      <td>2022-07-14</td>\n      <td>Bon Plan-6</td>\n      <td>position6</td>\n      <td>0.62</td>\n      <td>Bons Plans</td>\n      <td>-0.478036</td>\n      <td>Thursday</td>\n      <td>July</td>\n    </tr>\n    <tr>\n      <th>2</th>\n      <td>2022-07-14</td>\n      <td>Home CM – bonnes affaires grandes-2</td>\n      <td>position2</td>\n      <td>5.97</td>\n      <td>Autre</td>\n      <td>1.786747</td>\n      <td>Thursday</td>\n      <td>July</td>\n    </tr>\n    <tr>\n      <th>3</th>\n      <td>2022-07-14</td>\n      <td>Bon Plan-1</td>\n      <td>position1</td>\n      <td>0.46</td>\n      <td>Bons Plans</td>\n      <td>-0.776529</td>\n      <td>Thursday</td>\n      <td>July</td>\n    </tr>\n    <tr>\n      <th>4</th>\n      <td>2022-07-14</td>\n      <td>Home CM – bonnes affaires petites-5</td>\n      <td>position5</td>\n      <td>1.08</td>\n      <td>Autre</td>\n      <td>0.076961</td>\n      <td>Thursday</td>\n      <td>July</td>\n    </tr>\n    <tr>\n      <th>...</th>\n      <td>...</td>\n      <td>...</td>\n      <td>...</td>\n      <td>...</td>\n      <td>...</td>\n      <td>...</td>\n      <td>...</td>\n      <td>...</td>\n    </tr>\n    <tr>\n      <th>2118</th>\n      <td>2021-07-01</td>\n      <td>Home CM – bonnes affaires grandes-1</td>\n      <td>position1</td>\n      <td>2.24</td>\n      <td>Promotions</td>\n      <td>0.806476</td>\n      <td>Thursday</td>\n      <td>July</td>\n    </tr>\n    <tr>\n      <th>2119</th>\n      <td>2021-07-01</td>\n      <td>Home CM – bonnes affaires petites-3</td>\n      <td>position3</td>\n      <td>1.59</td>\n      <td>Autre</td>\n      <td>0.463734</td>\n      <td>Thursday</td>\n      <td>July</td>\n    </tr>\n    <tr>\n      <th>2120</th>\n      <td>2021-07-01</td>\n      <td>Bon Plan-1</td>\n      <td>position1</td>\n      <td>1.16</td>\n      <td>Bons Plans</td>\n      <td>0.148420</td>\n      <td>Thursday</td>\n      <td>July</td>\n    </tr>\n    <tr>\n      <th>2121</th>\n      <td>2021-07-01</td>\n      <td>Home CM – bonnes affaires grandes-2</td>\n      <td>position2</td>\n      <td>5.03</td>\n      <td>Autre</td>\n      <td>1.615420</td>\n      <td>Thursday</td>\n      <td>July</td>\n    </tr>\n    <tr>\n      <th>2122</th>\n      <td>2021-07-01</td>\n      <td>Bon Plan-3</td>\n      <td>position3</td>\n      <td>1.55</td>\n      <td>Bons Plans</td>\n      <td>0.438255</td>\n      <td>Thursday</td>\n      <td>July</td>\n    </tr>\n  </tbody>\n</table>\n<p>2123 rows × 8 columns</p>\n</div>"
     },
     "metadata": {}
    }
   ]
  },
  {
   "cell_type": "code",
   "source": "data.isna().sum()",
   "metadata": {
    "cell_id": "6b48f6b3c8d34e6cbdfa52c76c1e4ede",
    "tags": [],
    "deepnote_to_be_reexecuted": false,
    "source_hash": "c70742ad",
    "execution_start": 1660949389372,
    "execution_millis": 15,
    "deepnote_cell_type": "code",
    "deepnote_cell_height": 265.6875,
    "deepnote_output_heights": [
     173.6875
    ]
   },
   "execution_count": 130,
   "outputs": [
    {
     "output_type": "execute_result",
     "execution_count": 130,
     "data": {
      "text/plain": "date             8\npromoPosition    8\nposition         8\nCTR              8\ntype_banniere    8\nlog_CTR          8\njour             8\nmois             8\ndtype: int64"
     },
     "metadata": {}
    }
   ]
  },
  {
   "cell_type": "code",
   "source": "list_features=['position','type_banniere', 'mois']\nX_cat = pd.get_dummies(data[list_features],drop_first = 1)\nX_cat",
   "metadata": {
    "cell_id": "060c6c6a65694893aae66946eeb6c382",
    "tags": [],
    "deepnote_to_be_reexecuted": false,
    "source_hash": "19a7affd",
    "execution_start": 1660949393239,
    "execution_millis": 68,
    "deepnote_cell_type": "code",
    "deepnote_cell_height": 652
   },
   "execution_count": 131,
   "outputs": [
    {
     "output_type": "execute_result",
     "execution_count": 131,
     "data": {
      "application/vnd.deepnote.dataframe.v3+json": {
       "column_count": 21,
       "row_count": 2123,
       "columns": [
        {
         "name": "position_position1",
         "dtype": "uint8",
         "stats": {
          "unique_count": 2,
          "nan_count": 0,
          "min": "0",
          "max": "1",
          "histogram": [
           {
            "bin_start": 0,
            "bin_end": 0.1,
            "count": 1508
           },
           {
            "bin_start": 0.1,
            "bin_end": 0.2,
            "count": 0
           },
           {
            "bin_start": 0.2,
            "bin_end": 0.30000000000000004,
            "count": 0
           },
           {
            "bin_start": 0.30000000000000004,
            "bin_end": 0.4,
            "count": 0
           },
           {
            "bin_start": 0.4,
            "bin_end": 0.5,
            "count": 0
           },
           {
            "bin_start": 0.5,
            "bin_end": 0.6000000000000001,
            "count": 0
           },
           {
            "bin_start": 0.6000000000000001,
            "bin_end": 0.7000000000000001,
            "count": 0
           },
           {
            "bin_start": 0.7000000000000001,
            "bin_end": 0.8,
            "count": 0
           },
           {
            "bin_start": 0.8,
            "bin_end": 0.9,
            "count": 0
           },
           {
            "bin_start": 0.9,
            "bin_end": 1,
            "count": 615
           }
          ]
         }
        },
        {
         "name": "position_position2",
         "dtype": "uint8",
         "stats": {
          "unique_count": 2,
          "nan_count": 0,
          "min": "0",
          "max": "1",
          "histogram": [
           {
            "bin_start": 0,
            "bin_end": 0.1,
            "count": 1522
           },
           {
            "bin_start": 0.1,
            "bin_end": 0.2,
            "count": 0
           },
           {
            "bin_start": 0.2,
            "bin_end": 0.30000000000000004,
            "count": 0
           },
           {
            "bin_start": 0.30000000000000004,
            "bin_end": 0.4,
            "count": 0
           },
           {
            "bin_start": 0.4,
            "bin_end": 0.5,
            "count": 0
           },
           {
            "bin_start": 0.5,
            "bin_end": 0.6000000000000001,
            "count": 0
           },
           {
            "bin_start": 0.6000000000000001,
            "bin_end": 0.7000000000000001,
            "count": 0
           },
           {
            "bin_start": 0.7000000000000001,
            "bin_end": 0.8,
            "count": 0
           },
           {
            "bin_start": 0.8,
            "bin_end": 0.9,
            "count": 0
           },
           {
            "bin_start": 0.9,
            "bin_end": 1,
            "count": 601
           }
          ]
         }
        },
        {
         "name": "position_position3",
         "dtype": "uint8",
         "stats": {
          "unique_count": 2,
          "nan_count": 0,
          "min": "0",
          "max": "1",
          "histogram": [
           {
            "bin_start": 0,
            "bin_end": 0.1,
            "count": 1591
           },
           {
            "bin_start": 0.1,
            "bin_end": 0.2,
            "count": 0
           },
           {
            "bin_start": 0.2,
            "bin_end": 0.30000000000000004,
            "count": 0
           },
           {
            "bin_start": 0.30000000000000004,
            "bin_end": 0.4,
            "count": 0
           },
           {
            "bin_start": 0.4,
            "bin_end": 0.5,
            "count": 0
           },
           {
            "bin_start": 0.5,
            "bin_end": 0.6000000000000001,
            "count": 0
           },
           {
            "bin_start": 0.6000000000000001,
            "bin_end": 0.7000000000000001,
            "count": 0
           },
           {
            "bin_start": 0.7000000000000001,
            "bin_end": 0.8,
            "count": 0
           },
           {
            "bin_start": 0.8,
            "bin_end": 0.9,
            "count": 0
           },
           {
            "bin_start": 0.9,
            "bin_end": 1,
            "count": 532
           }
          ]
         }
        },
        {
         "name": "position_position5",
         "dtype": "uint8",
         "stats": {
          "unique_count": 2,
          "nan_count": 0,
          "min": "0",
          "max": "1",
          "histogram": [
           {
            "bin_start": 0,
            "bin_end": 0.1,
            "count": 1988
           },
           {
            "bin_start": 0.1,
            "bin_end": 0.2,
            "count": 0
           },
           {
            "bin_start": 0.2,
            "bin_end": 0.30000000000000004,
            "count": 0
           },
           {
            "bin_start": 0.30000000000000004,
            "bin_end": 0.4,
            "count": 0
           },
           {
            "bin_start": 0.4,
            "bin_end": 0.5,
            "count": 0
           },
           {
            "bin_start": 0.5,
            "bin_end": 0.6000000000000001,
            "count": 0
           },
           {
            "bin_start": 0.6000000000000001,
            "bin_end": 0.7000000000000001,
            "count": 0
           },
           {
            "bin_start": 0.7000000000000001,
            "bin_end": 0.8,
            "count": 0
           },
           {
            "bin_start": 0.8,
            "bin_end": 0.9,
            "count": 0
           },
           {
            "bin_start": 0.9,
            "bin_end": 1,
            "count": 135
           }
          ]
         }
        },
        {
         "name": "position_position6",
         "dtype": "uint8",
         "stats": {
          "unique_count": 2,
          "nan_count": 0,
          "min": "0",
          "max": "1",
          "histogram": [
           {
            "bin_start": 0,
            "bin_end": 0.1,
            "count": 2065
           },
           {
            "bin_start": 0.1,
            "bin_end": 0.2,
            "count": 0
           },
           {
            "bin_start": 0.2,
            "bin_end": 0.30000000000000004,
            "count": 0
           },
           {
            "bin_start": 0.30000000000000004,
            "bin_end": 0.4,
            "count": 0
           },
           {
            "bin_start": 0.4,
            "bin_end": 0.5,
            "count": 0
           },
           {
            "bin_start": 0.5,
            "bin_end": 0.6000000000000001,
            "count": 0
           },
           {
            "bin_start": 0.6000000000000001,
            "bin_end": 0.7000000000000001,
            "count": 0
           },
           {
            "bin_start": 0.7000000000000001,
            "bin_end": 0.8,
            "count": 0
           },
           {
            "bin_start": 0.8,
            "bin_end": 0.9,
            "count": 0
           },
           {
            "bin_start": 0.9,
            "bin_end": 1,
            "count": 58
           }
          ]
         }
        },
        {
         "name": "type_banniere_Bons Plans",
         "dtype": "uint8",
         "stats": {
          "unique_count": 2,
          "nan_count": 0,
          "min": "0",
          "max": "1",
          "histogram": [
           {
            "bin_start": 0,
            "bin_end": 0.1,
            "count": 1439
           },
           {
            "bin_start": 0.1,
            "bin_end": 0.2,
            "count": 0
           },
           {
            "bin_start": 0.2,
            "bin_end": 0.30000000000000004,
            "count": 0
           },
           {
            "bin_start": 0.30000000000000004,
            "bin_end": 0.4,
            "count": 0
           },
           {
            "bin_start": 0.4,
            "bin_end": 0.5,
            "count": 0
           },
           {
            "bin_start": 0.5,
            "bin_end": 0.6000000000000001,
            "count": 0
           },
           {
            "bin_start": 0.6000000000000001,
            "bin_end": 0.7000000000000001,
            "count": 0
           },
           {
            "bin_start": 0.7000000000000001,
            "bin_end": 0.8,
            "count": 0
           },
           {
            "bin_start": 0.8,
            "bin_end": 0.9,
            "count": 0
           },
           {
            "bin_start": 0.9,
            "bin_end": 1,
            "count": 684
           }
          ]
         }
        },
        {
         "name": "type_banniere_Crazy",
         "dtype": "uint8",
         "stats": {
          "unique_count": 2,
          "nan_count": 0,
          "min": "0",
          "max": "1",
          "histogram": [
           {
            "bin_start": 0,
            "bin_end": 0.1,
            "count": 2109
           },
           {
            "bin_start": 0.1,
            "bin_end": 0.2,
            "count": 0
           },
           {
            "bin_start": 0.2,
            "bin_end": 0.30000000000000004,
            "count": 0
           },
           {
            "bin_start": 0.30000000000000004,
            "bin_end": 0.4,
            "count": 0
           },
           {
            "bin_start": 0.4,
            "bin_end": 0.5,
            "count": 0
           },
           {
            "bin_start": 0.5,
            "bin_end": 0.6000000000000001,
            "count": 0
           },
           {
            "bin_start": 0.6000000000000001,
            "bin_end": 0.7000000000000001,
            "count": 0
           },
           {
            "bin_start": 0.7000000000000001,
            "bin_end": 0.8,
            "count": 0
           },
           {
            "bin_start": 0.8,
            "bin_end": 0.9,
            "count": 0
           },
           {
            "bin_start": 0.9,
            "bin_end": 1,
            "count": 14
           }
          ]
         }
        },
        {
         "name": "type_banniere_Foliday",
         "dtype": "uint8",
         "stats": {
          "unique_count": 2,
          "nan_count": 0,
          "min": "0",
          "max": "1",
          "histogram": [
           {
            "bin_start": 0,
            "bin_end": 0.1,
            "count": 2102
           },
           {
            "bin_start": 0.1,
            "bin_end": 0.2,
            "count": 0
           },
           {
            "bin_start": 0.2,
            "bin_end": 0.30000000000000004,
            "count": 0
           },
           {
            "bin_start": 0.30000000000000004,
            "bin_end": 0.4,
            "count": 0
           },
           {
            "bin_start": 0.4,
            "bin_end": 0.5,
            "count": 0
           },
           {
            "bin_start": 0.5,
            "bin_end": 0.6000000000000001,
            "count": 0
           },
           {
            "bin_start": 0.6000000000000001,
            "bin_end": 0.7000000000000001,
            "count": 0
           },
           {
            "bin_start": 0.7000000000000001,
            "bin_end": 0.8,
            "count": 0
           },
           {
            "bin_start": 0.8,
            "bin_end": 0.9,
            "count": 0
           },
           {
            "bin_start": 0.9,
            "bin_end": 1,
            "count": 21
           }
          ]
         }
        },
        {
         "name": "type_banniere_Promotions",
         "dtype": "uint8",
         "stats": {
          "unique_count": 2,
          "nan_count": 0,
          "min": "0",
          "max": "1",
          "histogram": [
           {
            "bin_start": 0,
            "bin_end": 0.1,
            "count": 1947
           },
           {
            "bin_start": 0.1,
            "bin_end": 0.2,
            "count": 0
           },
           {
            "bin_start": 0.2,
            "bin_end": 0.30000000000000004,
            "count": 0
           },
           {
            "bin_start": 0.30000000000000004,
            "bin_end": 0.4,
            "count": 0
           },
           {
            "bin_start": 0.4,
            "bin_end": 0.5,
            "count": 0
           },
           {
            "bin_start": 0.5,
            "bin_end": 0.6000000000000001,
            "count": 0
           },
           {
            "bin_start": 0.6000000000000001,
            "bin_end": 0.7000000000000001,
            "count": 0
           },
           {
            "bin_start": 0.7000000000000001,
            "bin_end": 0.8,
            "count": 0
           },
           {
            "bin_start": 0.8,
            "bin_end": 0.9,
            "count": 0
           },
           {
            "bin_start": 0.9,
            "bin_end": 1,
            "count": 176
           }
          ]
         }
        },
        {
         "name": "type_banniere_Sejour tout compris",
         "dtype": "uint8",
         "stats": {
          "unique_count": 2,
          "nan_count": 0,
          "min": "0",
          "max": "1",
          "histogram": [
           {
            "bin_start": 0,
            "bin_end": 0.1,
            "count": 1945
           },
           {
            "bin_start": 0.1,
            "bin_end": 0.2,
            "count": 0
           },
           {
            "bin_start": 0.2,
            "bin_end": 0.30000000000000004,
            "count": 0
           },
           {
            "bin_start": 0.30000000000000004,
            "bin_end": 0.4,
            "count": 0
           },
           {
            "bin_start": 0.4,
            "bin_end": 0.5,
            "count": 0
           },
           {
            "bin_start": 0.5,
            "bin_end": 0.6000000000000001,
            "count": 0
           },
           {
            "bin_start": 0.6000000000000001,
            "bin_end": 0.7000000000000001,
            "count": 0
           },
           {
            "bin_start": 0.7000000000000001,
            "bin_end": 0.8,
            "count": 0
           },
           {
            "bin_start": 0.8,
            "bin_end": 0.9,
            "count": 0
           },
           {
            "bin_start": 0.9,
            "bin_end": 1,
            "count": 178
           }
          ]
         }
        },
        {
         "name": "mois_August",
         "dtype": "uint8",
         "stats": {
          "unique_count": 2,
          "nan_count": 0,
          "min": "0",
          "max": "1",
          "histogram": [
           {
            "bin_start": 0,
            "bin_end": 0.1,
            "count": 1969
           },
           {
            "bin_start": 0.1,
            "bin_end": 0.2,
            "count": 0
           },
           {
            "bin_start": 0.2,
            "bin_end": 0.30000000000000004,
            "count": 0
           },
           {
            "bin_start": 0.30000000000000004,
            "bin_end": 0.4,
            "count": 0
           },
           {
            "bin_start": 0.4,
            "bin_end": 0.5,
            "count": 0
           },
           {
            "bin_start": 0.5,
            "bin_end": 0.6000000000000001,
            "count": 0
           },
           {
            "bin_start": 0.6000000000000001,
            "bin_end": 0.7000000000000001,
            "count": 0
           },
           {
            "bin_start": 0.7000000000000001,
            "bin_end": 0.8,
            "count": 0
           },
           {
            "bin_start": 0.8,
            "bin_end": 0.9,
            "count": 0
           },
           {
            "bin_start": 0.9,
            "bin_end": 1,
            "count": 154
           }
          ]
         }
        },
        {
         "name": "mois_December",
         "dtype": "uint8",
         "stats": {
          "unique_count": 2,
          "nan_count": 0,
          "min": "0",
          "max": "1",
          "histogram": [
           {
            "bin_start": 0,
            "bin_end": 0.1,
            "count": 2022
           },
           {
            "bin_start": 0.1,
            "bin_end": 0.2,
            "count": 0
           },
           {
            "bin_start": 0.2,
            "bin_end": 0.30000000000000004,
            "count": 0
           },
           {
            "bin_start": 0.30000000000000004,
            "bin_end": 0.4,
            "count": 0
           },
           {
            "bin_start": 0.4,
            "bin_end": 0.5,
            "count": 0
           },
           {
            "bin_start": 0.5,
            "bin_end": 0.6000000000000001,
            "count": 0
           },
           {
            "bin_start": 0.6000000000000001,
            "bin_end": 0.7000000000000001,
            "count": 0
           },
           {
            "bin_start": 0.7000000000000001,
            "bin_end": 0.8,
            "count": 0
           },
           {
            "bin_start": 0.8,
            "bin_end": 0.9,
            "count": 0
           },
           {
            "bin_start": 0.9,
            "bin_end": 1,
            "count": 101
           }
          ]
         }
        },
        {
         "name": "mois_February",
         "dtype": "uint8",
         "stats": {
          "unique_count": 2,
          "nan_count": 0,
          "min": "0",
          "max": "1",
          "histogram": [
           {
            "bin_start": 0,
            "bin_end": 0.1,
            "count": 1934
           },
           {
            "bin_start": 0.1,
            "bin_end": 0.2,
            "count": 0
           },
           {
            "bin_start": 0.2,
            "bin_end": 0.30000000000000004,
            "count": 0
           },
           {
            "bin_start": 0.30000000000000004,
            "bin_end": 0.4,
            "count": 0
           },
           {
            "bin_start": 0.4,
            "bin_end": 0.5,
            "count": 0
           },
           {
            "bin_start": 0.5,
            "bin_end": 0.6000000000000001,
            "count": 0
           },
           {
            "bin_start": 0.6000000000000001,
            "bin_end": 0.7000000000000001,
            "count": 0
           },
           {
            "bin_start": 0.7000000000000001,
            "bin_end": 0.8,
            "count": 0
           },
           {
            "bin_start": 0.8,
            "bin_end": 0.9,
            "count": 0
           },
           {
            "bin_start": 0.9,
            "bin_end": 1,
            "count": 189
           }
          ]
         }
        },
        {
         "name": "mois_January",
         "dtype": "uint8",
         "stats": {
          "unique_count": 2,
          "nan_count": 0,
          "min": "0",
          "max": "1",
          "histogram": [
           {
            "bin_start": 0,
            "bin_end": 0.1,
            "count": 1935
           },
           {
            "bin_start": 0.1,
            "bin_end": 0.2,
            "count": 0
           },
           {
            "bin_start": 0.2,
            "bin_end": 0.30000000000000004,
            "count": 0
           },
           {
            "bin_start": 0.30000000000000004,
            "bin_end": 0.4,
            "count": 0
           },
           {
            "bin_start": 0.4,
            "bin_end": 0.5,
            "count": 0
           },
           {
            "bin_start": 0.5,
            "bin_end": 0.6000000000000001,
            "count": 0
           },
           {
            "bin_start": 0.6000000000000001,
            "bin_end": 0.7000000000000001,
            "count": 0
           },
           {
            "bin_start": 0.7000000000000001,
            "bin_end": 0.8,
            "count": 0
           },
           {
            "bin_start": 0.8,
            "bin_end": 0.9,
            "count": 0
           },
           {
            "bin_start": 0.9,
            "bin_end": 1,
            "count": 188
           }
          ]
         }
        },
        {
         "name": "mois_July",
         "dtype": "uint8",
         "stats": {
          "unique_count": 2,
          "nan_count": 0,
          "min": "0",
          "max": "1",
          "histogram": [
           {
            "bin_start": 0,
            "bin_end": 0.1,
            "count": 1819
           },
           {
            "bin_start": 0.1,
            "bin_end": 0.2,
            "count": 0
           },
           {
            "bin_start": 0.2,
            "bin_end": 0.30000000000000004,
            "count": 0
           },
           {
            "bin_start": 0.30000000000000004,
            "bin_end": 0.4,
            "count": 0
           },
           {
            "bin_start": 0.4,
            "bin_end": 0.5,
            "count": 0
           },
           {
            "bin_start": 0.5,
            "bin_end": 0.6000000000000001,
            "count": 0
           },
           {
            "bin_start": 0.6000000000000001,
            "bin_end": 0.7000000000000001,
            "count": 0
           },
           {
            "bin_start": 0.7000000000000001,
            "bin_end": 0.8,
            "count": 0
           },
           {
            "bin_start": 0.8,
            "bin_end": 0.9,
            "count": 0
           },
           {
            "bin_start": 0.9,
            "bin_end": 1,
            "count": 304
           }
          ]
         }
        },
        {
         "name": "mois_June",
         "dtype": "uint8",
         "stats": {
          "unique_count": 2,
          "nan_count": 0,
          "min": "0",
          "max": "1",
          "histogram": [
           {
            "bin_start": 0,
            "bin_end": 0.1,
            "count": 1869
           },
           {
            "bin_start": 0.1,
            "bin_end": 0.2,
            "count": 0
           },
           {
            "bin_start": 0.2,
            "bin_end": 0.30000000000000004,
            "count": 0
           },
           {
            "bin_start": 0.30000000000000004,
            "bin_end": 0.4,
            "count": 0
           },
           {
            "bin_start": 0.4,
            "bin_end": 0.5,
            "count": 0
           },
           {
            "bin_start": 0.5,
            "bin_end": 0.6000000000000001,
            "count": 0
           },
           {
            "bin_start": 0.6000000000000001,
            "bin_end": 0.7000000000000001,
            "count": 0
           },
           {
            "bin_start": 0.7000000000000001,
            "bin_end": 0.8,
            "count": 0
           },
           {
            "bin_start": 0.8,
            "bin_end": 0.9,
            "count": 0
           },
           {
            "bin_start": 0.9,
            "bin_end": 1,
            "count": 254
           }
          ]
         }
        },
        {
         "name": "mois_March",
         "dtype": "uint8",
         "stats": {
          "unique_count": 2,
          "nan_count": 0,
          "min": "0",
          "max": "1",
          "histogram": [
           {
            "bin_start": 0,
            "bin_end": 0.1,
            "count": 1944
           },
           {
            "bin_start": 0.1,
            "bin_end": 0.2,
            "count": 0
           },
           {
            "bin_start": 0.2,
            "bin_end": 0.30000000000000004,
            "count": 0
           },
           {
            "bin_start": 0.30000000000000004,
            "bin_end": 0.4,
            "count": 0
           },
           {
            "bin_start": 0.4,
            "bin_end": 0.5,
            "count": 0
           },
           {
            "bin_start": 0.5,
            "bin_end": 0.6000000000000001,
            "count": 0
           },
           {
            "bin_start": 0.6000000000000001,
            "bin_end": 0.7000000000000001,
            "count": 0
           },
           {
            "bin_start": 0.7000000000000001,
            "bin_end": 0.8,
            "count": 0
           },
           {
            "bin_start": 0.8,
            "bin_end": 0.9,
            "count": 0
           },
           {
            "bin_start": 0.9,
            "bin_end": 1,
            "count": 179
           }
          ]
         }
        },
        {
         "name": "mois_May",
         "dtype": "uint8",
         "stats": {
          "unique_count": 2,
          "nan_count": 0,
          "min": "0",
          "max": "1",
          "histogram": [
           {
            "bin_start": 0,
            "bin_end": 0.1,
            "count": 1870
           },
           {
            "bin_start": 0.1,
            "bin_end": 0.2,
            "count": 0
           },
           {
            "bin_start": 0.2,
            "bin_end": 0.30000000000000004,
            "count": 0
           },
           {
            "bin_start": 0.30000000000000004,
            "bin_end": 0.4,
            "count": 0
           },
           {
            "bin_start": 0.4,
            "bin_end": 0.5,
            "count": 0
           },
           {
            "bin_start": 0.5,
            "bin_end": 0.6000000000000001,
            "count": 0
           },
           {
            "bin_start": 0.6000000000000001,
            "bin_end": 0.7000000000000001,
            "count": 0
           },
           {
            "bin_start": 0.7000000000000001,
            "bin_end": 0.8,
            "count": 0
           },
           {
            "bin_start": 0.8,
            "bin_end": 0.9,
            "count": 0
           },
           {
            "bin_start": 0.9,
            "bin_end": 1,
            "count": 253
           }
          ]
         }
        },
        {
         "name": "mois_November",
         "dtype": "uint8",
         "stats": {
          "unique_count": 2,
          "nan_count": 0,
          "min": "0",
          "max": "1",
          "histogram": [
           {
            "bin_start": 0,
            "bin_end": 0.1,
            "count": 2025
           },
           {
            "bin_start": 0.1,
            "bin_end": 0.2,
            "count": 0
           },
           {
            "bin_start": 0.2,
            "bin_end": 0.30000000000000004,
            "count": 0
           },
           {
            "bin_start": 0.30000000000000004,
            "bin_end": 0.4,
            "count": 0
           },
           {
            "bin_start": 0.4,
            "bin_end": 0.5,
            "count": 0
           },
           {
            "bin_start": 0.5,
            "bin_end": 0.6000000000000001,
            "count": 0
           },
           {
            "bin_start": 0.6000000000000001,
            "bin_end": 0.7000000000000001,
            "count": 0
           },
           {
            "bin_start": 0.7000000000000001,
            "bin_end": 0.8,
            "count": 0
           },
           {
            "bin_start": 0.8,
            "bin_end": 0.9,
            "count": 0
           },
           {
            "bin_start": 0.9,
            "bin_end": 1,
            "count": 98
           }
          ]
         }
        },
        {
         "name": "mois_October",
         "dtype": "uint8",
         "stats": {
          "unique_count": 2,
          "nan_count": 0,
          "min": "0",
          "max": "1",
          "histogram": [
           {
            "bin_start": 0,
            "bin_end": 0.1,
            "count": 2030
           },
           {
            "bin_start": 0.1,
            "bin_end": 0.2,
            "count": 0
           },
           {
            "bin_start": 0.2,
            "bin_end": 0.30000000000000004,
            "count": 0
           },
           {
            "bin_start": 0.30000000000000004,
            "bin_end": 0.4,
            "count": 0
           },
           {
            "bin_start": 0.4,
            "bin_end": 0.5,
            "count": 0
           },
           {
            "bin_start": 0.5,
            "bin_end": 0.6000000000000001,
            "count": 0
           },
           {
            "bin_start": 0.6000000000000001,
            "bin_end": 0.7000000000000001,
            "count": 0
           },
           {
            "bin_start": 0.7000000000000001,
            "bin_end": 0.8,
            "count": 0
           },
           {
            "bin_start": 0.8,
            "bin_end": 0.9,
            "count": 0
           },
           {
            "bin_start": 0.9,
            "bin_end": 1,
            "count": 93
           }
          ]
         }
        },
        {
         "name": "mois_September",
         "dtype": "uint8",
         "stats": {
          "unique_count": 2,
          "nan_count": 0,
          "min": "0",
          "max": "1",
          "histogram": [
           {
            "bin_start": 0,
            "bin_end": 0.1,
            "count": 2005
           },
           {
            "bin_start": 0.1,
            "bin_end": 0.2,
            "count": 0
           },
           {
            "bin_start": 0.2,
            "bin_end": 0.30000000000000004,
            "count": 0
           },
           {
            "bin_start": 0.30000000000000004,
            "bin_end": 0.4,
            "count": 0
           },
           {
            "bin_start": 0.4,
            "bin_end": 0.5,
            "count": 0
           },
           {
            "bin_start": 0.5,
            "bin_end": 0.6000000000000001,
            "count": 0
           },
           {
            "bin_start": 0.6000000000000001,
            "bin_end": 0.7000000000000001,
            "count": 0
           },
           {
            "bin_start": 0.7000000000000001,
            "bin_end": 0.8,
            "count": 0
           },
           {
            "bin_start": 0.8,
            "bin_end": 0.9,
            "count": 0
           },
           {
            "bin_start": 0.9,
            "bin_end": 1,
            "count": 118
           }
          ]
         }
        },
        {
         "name": "_deepnote_index_column",
         "dtype": "int64"
        }
       ],
       "rows": [
        {
         "position_position1": 0,
         "position_position2": 1,
         "position_position3": 0,
         "position_position5": 0,
         "position_position6": 0,
         "type_banniere_Bons Plans": 0,
         "type_banniere_Crazy": 0,
         "type_banniere_Foliday": 0,
         "type_banniere_Promotions": 0,
         "type_banniere_Sejour tout compris": 0,
         "mois_August": 0,
         "mois_December": 0,
         "mois_February": 0,
         "mois_January": 0,
         "mois_July": 1,
         "mois_June": 0,
         "mois_March": 0,
         "mois_May": 0,
         "mois_November": 0,
         "mois_October": 0,
         "mois_September": 0,
         "_deepnote_index_column": 0
        },
        {
         "position_position1": 0,
         "position_position2": 0,
         "position_position3": 0,
         "position_position5": 0,
         "position_position6": 1,
         "type_banniere_Bons Plans": 1,
         "type_banniere_Crazy": 0,
         "type_banniere_Foliday": 0,
         "type_banniere_Promotions": 0,
         "type_banniere_Sejour tout compris": 0,
         "mois_August": 0,
         "mois_December": 0,
         "mois_February": 0,
         "mois_January": 0,
         "mois_July": 1,
         "mois_June": 0,
         "mois_March": 0,
         "mois_May": 0,
         "mois_November": 0,
         "mois_October": 0,
         "mois_September": 0,
         "_deepnote_index_column": 1
        },
        {
         "position_position1": 0,
         "position_position2": 1,
         "position_position3": 0,
         "position_position5": 0,
         "position_position6": 0,
         "type_banniere_Bons Plans": 0,
         "type_banniere_Crazy": 0,
         "type_banniere_Foliday": 0,
         "type_banniere_Promotions": 0,
         "type_banniere_Sejour tout compris": 0,
         "mois_August": 0,
         "mois_December": 0,
         "mois_February": 0,
         "mois_January": 0,
         "mois_July": 1,
         "mois_June": 0,
         "mois_March": 0,
         "mois_May": 0,
         "mois_November": 0,
         "mois_October": 0,
         "mois_September": 0,
         "_deepnote_index_column": 2
        },
        {
         "position_position1": 1,
         "position_position2": 0,
         "position_position3": 0,
         "position_position5": 0,
         "position_position6": 0,
         "type_banniere_Bons Plans": 1,
         "type_banniere_Crazy": 0,
         "type_banniere_Foliday": 0,
         "type_banniere_Promotions": 0,
         "type_banniere_Sejour tout compris": 0,
         "mois_August": 0,
         "mois_December": 0,
         "mois_February": 0,
         "mois_January": 0,
         "mois_July": 1,
         "mois_June": 0,
         "mois_March": 0,
         "mois_May": 0,
         "mois_November": 0,
         "mois_October": 0,
         "mois_September": 0,
         "_deepnote_index_column": 3
        },
        {
         "position_position1": 0,
         "position_position2": 0,
         "position_position3": 0,
         "position_position5": 1,
         "position_position6": 0,
         "type_banniere_Bons Plans": 0,
         "type_banniere_Crazy": 0,
         "type_banniere_Foliday": 0,
         "type_banniere_Promotions": 0,
         "type_banniere_Sejour tout compris": 0,
         "mois_August": 0,
         "mois_December": 0,
         "mois_February": 0,
         "mois_January": 0,
         "mois_July": 1,
         "mois_June": 0,
         "mois_March": 0,
         "mois_May": 0,
         "mois_November": 0,
         "mois_October": 0,
         "mois_September": 0,
         "_deepnote_index_column": 4
        },
        {
         "position_position1": 0,
         "position_position2": 0,
         "position_position3": 1,
         "position_position5": 0,
         "position_position6": 0,
         "type_banniere_Bons Plans": 0,
         "type_banniere_Crazy": 0,
         "type_banniere_Foliday": 0,
         "type_banniere_Promotions": 0,
         "type_banniere_Sejour tout compris": 0,
         "mois_August": 0,
         "mois_December": 0,
         "mois_February": 0,
         "mois_January": 0,
         "mois_July": 1,
         "mois_June": 0,
         "mois_March": 0,
         "mois_May": 0,
         "mois_November": 0,
         "mois_October": 0,
         "mois_September": 0,
         "_deepnote_index_column": 5
        },
        {
         "position_position1": 0,
         "position_position2": 0,
         "position_position3": 0,
         "position_position5": 1,
         "position_position6": 0,
         "type_banniere_Bons Plans": 1,
         "type_banniere_Crazy": 0,
         "type_banniere_Foliday": 0,
         "type_banniere_Promotions": 0,
         "type_banniere_Sejour tout compris": 0,
         "mois_August": 0,
         "mois_December": 0,
         "mois_February": 0,
         "mois_January": 0,
         "mois_July": 1,
         "mois_June": 0,
         "mois_March": 0,
         "mois_May": 0,
         "mois_November": 0,
         "mois_October": 0,
         "mois_September": 0,
         "_deepnote_index_column": 6
        },
        {
         "position_position1": 1,
         "position_position2": 0,
         "position_position3": 0,
         "position_position5": 0,
         "position_position6": 0,
         "type_banniere_Bons Plans": 0,
         "type_banniere_Crazy": 0,
         "type_banniere_Foliday": 0,
         "type_banniere_Promotions": 1,
         "type_banniere_Sejour tout compris": 0,
         "mois_August": 0,
         "mois_December": 0,
         "mois_February": 0,
         "mois_January": 0,
         "mois_July": 1,
         "mois_June": 0,
         "mois_March": 0,
         "mois_May": 0,
         "mois_November": 0,
         "mois_October": 0,
         "mois_September": 0,
         "_deepnote_index_column": 7
        },
        {
         "position_position1": 0,
         "position_position2": 0,
         "position_position3": 0,
         "position_position5": 0,
         "position_position6": 0,
         "type_banniere_Bons Plans": 0,
         "type_banniere_Crazy": 0,
         "type_banniere_Foliday": 0,
         "type_banniere_Promotions": 0,
         "type_banniere_Sejour tout compris": 0,
         "mois_August": 0,
         "mois_December": 0,
         "mois_February": 0,
         "mois_January": 0,
         "mois_July": 1,
         "mois_June": 0,
         "mois_March": 0,
         "mois_May": 0,
         "mois_November": 0,
         "mois_October": 0,
         "mois_September": 0,
         "_deepnote_index_column": 8
        },
        {
         "position_position1": 0,
         "position_position2": 0,
         "position_position3": 1,
         "position_position5": 0,
         "position_position6": 0,
         "type_banniere_Bons Plans": 1,
         "type_banniere_Crazy": 0,
         "type_banniere_Foliday": 0,
         "type_banniere_Promotions": 0,
         "type_banniere_Sejour tout compris": 0,
         "mois_August": 0,
         "mois_December": 0,
         "mois_February": 0,
         "mois_January": 0,
         "mois_July": 1,
         "mois_June": 0,
         "mois_March": 0,
         "mois_May": 0,
         "mois_November": 0,
         "mois_October": 0,
         "mois_September": 0,
         "_deepnote_index_column": 9
        }
       ]
      },
      "text/plain": "      position_position1  position_position2  position_position3  \\\n0                      0                   1                   0   \n1                      0                   0                   0   \n2                      0                   1                   0   \n3                      1                   0                   0   \n4                      0                   0                   0   \n...                  ...                 ...                 ...   \n2118                   1                   0                   0   \n2119                   0                   0                   1   \n2120                   1                   0                   0   \n2121                   0                   1                   0   \n2122                   0                   0                   1   \n\n      position_position5  position_position6  type_banniere_Bons Plans  \\\n0                      0                   0                         0   \n1                      0                   1                         1   \n2                      0                   0                         0   \n3                      0                   0                         1   \n4                      1                   0                         0   \n...                  ...                 ...                       ...   \n2118                   0                   0                         0   \n2119                   0                   0                         0   \n2120                   0                   0                         1   \n2121                   0                   0                         0   \n2122                   0                   0                         1   \n\n      type_banniere_Crazy  type_banniere_Foliday  type_banniere_Promotions  \\\n0                       0                      0                         0   \n1                       0                      0                         0   \n2                       0                      0                         0   \n3                       0                      0                         0   \n4                       0                      0                         0   \n...                   ...                    ...                       ...   \n2118                    0                      0                         1   \n2119                    0                      0                         0   \n2120                    0                      0                         0   \n2121                    0                      0                         0   \n2122                    0                      0                         0   \n\n      type_banniere_Sejour tout compris  ...  mois_December  mois_February  \\\n0                                     0  ...              0              0   \n1                                     0  ...              0              0   \n2                                     0  ...              0              0   \n3                                     0  ...              0              0   \n4                                     0  ...              0              0   \n...                                 ...  ...            ...            ...   \n2118                                  0  ...              0              0   \n2119                                  0  ...              0              0   \n2120                                  0  ...              0              0   \n2121                                  0  ...              0              0   \n2122                                  0  ...              0              0   \n\n      mois_January  mois_July  mois_June  mois_March  mois_May  mois_November  \\\n0                0          1          0           0         0              0   \n1                0          1          0           0         0              0   \n2                0          1          0           0         0              0   \n3                0          1          0           0         0              0   \n4                0          1          0           0         0              0   \n...            ...        ...        ...         ...       ...            ...   \n2118             0          1          0           0         0              0   \n2119             0          1          0           0         0              0   \n2120             0          1          0           0         0              0   \n2121             0          1          0           0         0              0   \n2122             0          1          0           0         0              0   \n\n      mois_October  mois_September  \n0                0               0  \n1                0               0  \n2                0               0  \n3                0               0  \n4                0               0  \n...            ...             ...  \n2118             0               0  \n2119             0               0  \n2120             0               0  \n2121             0               0  \n2122             0               0  \n\n[2123 rows x 21 columns]",
      "text/html": "<div>\n<style scoped>\n    .dataframe tbody tr th:only-of-type {\n        vertical-align: middle;\n    }\n\n    .dataframe tbody tr th {\n        vertical-align: top;\n    }\n\n    .dataframe thead th {\n        text-align: right;\n    }\n</style>\n<table border=\"1\" class=\"dataframe\">\n  <thead>\n    <tr style=\"text-align: right;\">\n      <th></th>\n      <th>position_position1</th>\n      <th>position_position2</th>\n      <th>position_position3</th>\n      <th>position_position5</th>\n      <th>position_position6</th>\n      <th>type_banniere_Bons Plans</th>\n      <th>type_banniere_Crazy</th>\n      <th>type_banniere_Foliday</th>\n      <th>type_banniere_Promotions</th>\n      <th>type_banniere_Sejour tout compris</th>\n      <th>...</th>\n      <th>mois_December</th>\n      <th>mois_February</th>\n      <th>mois_January</th>\n      <th>mois_July</th>\n      <th>mois_June</th>\n      <th>mois_March</th>\n      <th>mois_May</th>\n      <th>mois_November</th>\n      <th>mois_October</th>\n      <th>mois_September</th>\n    </tr>\n  </thead>\n  <tbody>\n    <tr>\n      <th>0</th>\n      <td>0</td>\n      <td>1</td>\n      <td>0</td>\n      <td>0</td>\n      <td>0</td>\n      <td>0</td>\n      <td>0</td>\n      <td>0</td>\n      <td>0</td>\n      <td>0</td>\n      <td>...</td>\n      <td>0</td>\n      <td>0</td>\n      <td>0</td>\n      <td>1</td>\n      <td>0</td>\n      <td>0</td>\n      <td>0</td>\n      <td>0</td>\n      <td>0</td>\n      <td>0</td>\n    </tr>\n    <tr>\n      <th>1</th>\n      <td>0</td>\n      <td>0</td>\n      <td>0</td>\n      <td>0</td>\n      <td>1</td>\n      <td>1</td>\n      <td>0</td>\n      <td>0</td>\n      <td>0</td>\n      <td>0</td>\n      <td>...</td>\n      <td>0</td>\n      <td>0</td>\n      <td>0</td>\n      <td>1</td>\n      <td>0</td>\n      <td>0</td>\n      <td>0</td>\n      <td>0</td>\n      <td>0</td>\n      <td>0</td>\n    </tr>\n    <tr>\n      <th>2</th>\n      <td>0</td>\n      <td>1</td>\n      <td>0</td>\n      <td>0</td>\n      <td>0</td>\n      <td>0</td>\n      <td>0</td>\n      <td>0</td>\n      <td>0</td>\n      <td>0</td>\n      <td>...</td>\n      <td>0</td>\n      <td>0</td>\n      <td>0</td>\n      <td>1</td>\n      <td>0</td>\n      <td>0</td>\n      <td>0</td>\n      <td>0</td>\n      <td>0</td>\n      <td>0</td>\n    </tr>\n    <tr>\n      <th>3</th>\n      <td>1</td>\n      <td>0</td>\n      <td>0</td>\n      <td>0</td>\n      <td>0</td>\n      <td>1</td>\n      <td>0</td>\n      <td>0</td>\n      <td>0</td>\n      <td>0</td>\n      <td>...</td>\n      <td>0</td>\n      <td>0</td>\n      <td>0</td>\n      <td>1</td>\n      <td>0</td>\n      <td>0</td>\n      <td>0</td>\n      <td>0</td>\n      <td>0</td>\n      <td>0</td>\n    </tr>\n    <tr>\n      <th>4</th>\n      <td>0</td>\n      <td>0</td>\n      <td>0</td>\n      <td>1</td>\n      <td>0</td>\n      <td>0</td>\n      <td>0</td>\n      <td>0</td>\n      <td>0</td>\n      <td>0</td>\n      <td>...</td>\n      <td>0</td>\n      <td>0</td>\n      <td>0</td>\n      <td>1</td>\n      <td>0</td>\n      <td>0</td>\n      <td>0</td>\n      <td>0</td>\n      <td>0</td>\n      <td>0</td>\n    </tr>\n    <tr>\n      <th>...</th>\n      <td>...</td>\n      <td>...</td>\n      <td>...</td>\n      <td>...</td>\n      <td>...</td>\n      <td>...</td>\n      <td>...</td>\n      <td>...</td>\n      <td>...</td>\n      <td>...</td>\n      <td>...</td>\n      <td>...</td>\n      <td>...</td>\n      <td>...</td>\n      <td>...</td>\n      <td>...</td>\n      <td>...</td>\n      <td>...</td>\n      <td>...</td>\n      <td>...</td>\n      <td>...</td>\n    </tr>\n    <tr>\n      <th>2118</th>\n      <td>1</td>\n      <td>0</td>\n      <td>0</td>\n      <td>0</td>\n      <td>0</td>\n      <td>0</td>\n      <td>0</td>\n      <td>0</td>\n      <td>1</td>\n      <td>0</td>\n      <td>...</td>\n      <td>0</td>\n      <td>0</td>\n      <td>0</td>\n      <td>1</td>\n      <td>0</td>\n      <td>0</td>\n      <td>0</td>\n      <td>0</td>\n      <td>0</td>\n      <td>0</td>\n    </tr>\n    <tr>\n      <th>2119</th>\n      <td>0</td>\n      <td>0</td>\n      <td>1</td>\n      <td>0</td>\n      <td>0</td>\n      <td>0</td>\n      <td>0</td>\n      <td>0</td>\n      <td>0</td>\n      <td>0</td>\n      <td>...</td>\n      <td>0</td>\n      <td>0</td>\n      <td>0</td>\n      <td>1</td>\n      <td>0</td>\n      <td>0</td>\n      <td>0</td>\n      <td>0</td>\n      <td>0</td>\n      <td>0</td>\n    </tr>\n    <tr>\n      <th>2120</th>\n      <td>1</td>\n      <td>0</td>\n      <td>0</td>\n      <td>0</td>\n      <td>0</td>\n      <td>1</td>\n      <td>0</td>\n      <td>0</td>\n      <td>0</td>\n      <td>0</td>\n      <td>...</td>\n      <td>0</td>\n      <td>0</td>\n      <td>0</td>\n      <td>1</td>\n      <td>0</td>\n      <td>0</td>\n      <td>0</td>\n      <td>0</td>\n      <td>0</td>\n      <td>0</td>\n    </tr>\n    <tr>\n      <th>2121</th>\n      <td>0</td>\n      <td>1</td>\n      <td>0</td>\n      <td>0</td>\n      <td>0</td>\n      <td>0</td>\n      <td>0</td>\n      <td>0</td>\n      <td>0</td>\n      <td>0</td>\n      <td>...</td>\n      <td>0</td>\n      <td>0</td>\n      <td>0</td>\n      <td>1</td>\n      <td>0</td>\n      <td>0</td>\n      <td>0</td>\n      <td>0</td>\n      <td>0</td>\n      <td>0</td>\n    </tr>\n    <tr>\n      <th>2122</th>\n      <td>0</td>\n      <td>0</td>\n      <td>1</td>\n      <td>0</td>\n      <td>0</td>\n      <td>1</td>\n      <td>0</td>\n      <td>0</td>\n      <td>0</td>\n      <td>0</td>\n      <td>...</td>\n      <td>0</td>\n      <td>0</td>\n      <td>0</td>\n      <td>1</td>\n      <td>0</td>\n      <td>0</td>\n      <td>0</td>\n      <td>0</td>\n      <td>0</td>\n      <td>0</td>\n    </tr>\n  </tbody>\n</table>\n<p>2123 rows × 21 columns</p>\n</div>"
     },
     "metadata": {}
    }
   ]
  },
  {
   "cell_type": "code",
   "source": "\ndatafs=pd.concat([X_cat,data['CTR']], axis=1)\n\ndatafs",
   "metadata": {
    "cell_id": "89cd081db4d84e1985b1d4c31fb44985",
    "tags": [],
    "deepnote_to_be_reexecuted": false,
    "source_hash": "89a5d7bb",
    "execution_start": 1660949397851,
    "execution_millis": 173,
    "deepnote_cell_type": "code",
    "deepnote_cell_height": 670
   },
   "execution_count": 132,
   "outputs": [
    {
     "output_type": "execute_result",
     "execution_count": 132,
     "data": {
      "application/vnd.deepnote.dataframe.v3+json": {
       "column_count": 22,
       "row_count": 2123,
       "columns": [
        {
         "name": "position_position1",
         "dtype": "uint8",
         "stats": {
          "unique_count": 2,
          "nan_count": 0,
          "min": "0",
          "max": "1",
          "histogram": [
           {
            "bin_start": 0,
            "bin_end": 0.1,
            "count": 1508
           },
           {
            "bin_start": 0.1,
            "bin_end": 0.2,
            "count": 0
           },
           {
            "bin_start": 0.2,
            "bin_end": 0.30000000000000004,
            "count": 0
           },
           {
            "bin_start": 0.30000000000000004,
            "bin_end": 0.4,
            "count": 0
           },
           {
            "bin_start": 0.4,
            "bin_end": 0.5,
            "count": 0
           },
           {
            "bin_start": 0.5,
            "bin_end": 0.6000000000000001,
            "count": 0
           },
           {
            "bin_start": 0.6000000000000001,
            "bin_end": 0.7000000000000001,
            "count": 0
           },
           {
            "bin_start": 0.7000000000000001,
            "bin_end": 0.8,
            "count": 0
           },
           {
            "bin_start": 0.8,
            "bin_end": 0.9,
            "count": 0
           },
           {
            "bin_start": 0.9,
            "bin_end": 1,
            "count": 615
           }
          ]
         }
        },
        {
         "name": "position_position2",
         "dtype": "uint8",
         "stats": {
          "unique_count": 2,
          "nan_count": 0,
          "min": "0",
          "max": "1",
          "histogram": [
           {
            "bin_start": 0,
            "bin_end": 0.1,
            "count": 1522
           },
           {
            "bin_start": 0.1,
            "bin_end": 0.2,
            "count": 0
           },
           {
            "bin_start": 0.2,
            "bin_end": 0.30000000000000004,
            "count": 0
           },
           {
            "bin_start": 0.30000000000000004,
            "bin_end": 0.4,
            "count": 0
           },
           {
            "bin_start": 0.4,
            "bin_end": 0.5,
            "count": 0
           },
           {
            "bin_start": 0.5,
            "bin_end": 0.6000000000000001,
            "count": 0
           },
           {
            "bin_start": 0.6000000000000001,
            "bin_end": 0.7000000000000001,
            "count": 0
           },
           {
            "bin_start": 0.7000000000000001,
            "bin_end": 0.8,
            "count": 0
           },
           {
            "bin_start": 0.8,
            "bin_end": 0.9,
            "count": 0
           },
           {
            "bin_start": 0.9,
            "bin_end": 1,
            "count": 601
           }
          ]
         }
        },
        {
         "name": "position_position3",
         "dtype": "uint8",
         "stats": {
          "unique_count": 2,
          "nan_count": 0,
          "min": "0",
          "max": "1",
          "histogram": [
           {
            "bin_start": 0,
            "bin_end": 0.1,
            "count": 1591
           },
           {
            "bin_start": 0.1,
            "bin_end": 0.2,
            "count": 0
           },
           {
            "bin_start": 0.2,
            "bin_end": 0.30000000000000004,
            "count": 0
           },
           {
            "bin_start": 0.30000000000000004,
            "bin_end": 0.4,
            "count": 0
           },
           {
            "bin_start": 0.4,
            "bin_end": 0.5,
            "count": 0
           },
           {
            "bin_start": 0.5,
            "bin_end": 0.6000000000000001,
            "count": 0
           },
           {
            "bin_start": 0.6000000000000001,
            "bin_end": 0.7000000000000001,
            "count": 0
           },
           {
            "bin_start": 0.7000000000000001,
            "bin_end": 0.8,
            "count": 0
           },
           {
            "bin_start": 0.8,
            "bin_end": 0.9,
            "count": 0
           },
           {
            "bin_start": 0.9,
            "bin_end": 1,
            "count": 532
           }
          ]
         }
        },
        {
         "name": "position_position5",
         "dtype": "uint8",
         "stats": {
          "unique_count": 2,
          "nan_count": 0,
          "min": "0",
          "max": "1",
          "histogram": [
           {
            "bin_start": 0,
            "bin_end": 0.1,
            "count": 1988
           },
           {
            "bin_start": 0.1,
            "bin_end": 0.2,
            "count": 0
           },
           {
            "bin_start": 0.2,
            "bin_end": 0.30000000000000004,
            "count": 0
           },
           {
            "bin_start": 0.30000000000000004,
            "bin_end": 0.4,
            "count": 0
           },
           {
            "bin_start": 0.4,
            "bin_end": 0.5,
            "count": 0
           },
           {
            "bin_start": 0.5,
            "bin_end": 0.6000000000000001,
            "count": 0
           },
           {
            "bin_start": 0.6000000000000001,
            "bin_end": 0.7000000000000001,
            "count": 0
           },
           {
            "bin_start": 0.7000000000000001,
            "bin_end": 0.8,
            "count": 0
           },
           {
            "bin_start": 0.8,
            "bin_end": 0.9,
            "count": 0
           },
           {
            "bin_start": 0.9,
            "bin_end": 1,
            "count": 135
           }
          ]
         }
        },
        {
         "name": "position_position6",
         "dtype": "uint8",
         "stats": {
          "unique_count": 2,
          "nan_count": 0,
          "min": "0",
          "max": "1",
          "histogram": [
           {
            "bin_start": 0,
            "bin_end": 0.1,
            "count": 2065
           },
           {
            "bin_start": 0.1,
            "bin_end": 0.2,
            "count": 0
           },
           {
            "bin_start": 0.2,
            "bin_end": 0.30000000000000004,
            "count": 0
           },
           {
            "bin_start": 0.30000000000000004,
            "bin_end": 0.4,
            "count": 0
           },
           {
            "bin_start": 0.4,
            "bin_end": 0.5,
            "count": 0
           },
           {
            "bin_start": 0.5,
            "bin_end": 0.6000000000000001,
            "count": 0
           },
           {
            "bin_start": 0.6000000000000001,
            "bin_end": 0.7000000000000001,
            "count": 0
           },
           {
            "bin_start": 0.7000000000000001,
            "bin_end": 0.8,
            "count": 0
           },
           {
            "bin_start": 0.8,
            "bin_end": 0.9,
            "count": 0
           },
           {
            "bin_start": 0.9,
            "bin_end": 1,
            "count": 58
           }
          ]
         }
        },
        {
         "name": "type_banniere_Bons Plans",
         "dtype": "uint8",
         "stats": {
          "unique_count": 2,
          "nan_count": 0,
          "min": "0",
          "max": "1",
          "histogram": [
           {
            "bin_start": 0,
            "bin_end": 0.1,
            "count": 1439
           },
           {
            "bin_start": 0.1,
            "bin_end": 0.2,
            "count": 0
           },
           {
            "bin_start": 0.2,
            "bin_end": 0.30000000000000004,
            "count": 0
           },
           {
            "bin_start": 0.30000000000000004,
            "bin_end": 0.4,
            "count": 0
           },
           {
            "bin_start": 0.4,
            "bin_end": 0.5,
            "count": 0
           },
           {
            "bin_start": 0.5,
            "bin_end": 0.6000000000000001,
            "count": 0
           },
           {
            "bin_start": 0.6000000000000001,
            "bin_end": 0.7000000000000001,
            "count": 0
           },
           {
            "bin_start": 0.7000000000000001,
            "bin_end": 0.8,
            "count": 0
           },
           {
            "bin_start": 0.8,
            "bin_end": 0.9,
            "count": 0
           },
           {
            "bin_start": 0.9,
            "bin_end": 1,
            "count": 684
           }
          ]
         }
        },
        {
         "name": "type_banniere_Crazy",
         "dtype": "uint8",
         "stats": {
          "unique_count": 2,
          "nan_count": 0,
          "min": "0",
          "max": "1",
          "histogram": [
           {
            "bin_start": 0,
            "bin_end": 0.1,
            "count": 2109
           },
           {
            "bin_start": 0.1,
            "bin_end": 0.2,
            "count": 0
           },
           {
            "bin_start": 0.2,
            "bin_end": 0.30000000000000004,
            "count": 0
           },
           {
            "bin_start": 0.30000000000000004,
            "bin_end": 0.4,
            "count": 0
           },
           {
            "bin_start": 0.4,
            "bin_end": 0.5,
            "count": 0
           },
           {
            "bin_start": 0.5,
            "bin_end": 0.6000000000000001,
            "count": 0
           },
           {
            "bin_start": 0.6000000000000001,
            "bin_end": 0.7000000000000001,
            "count": 0
           },
           {
            "bin_start": 0.7000000000000001,
            "bin_end": 0.8,
            "count": 0
           },
           {
            "bin_start": 0.8,
            "bin_end": 0.9,
            "count": 0
           },
           {
            "bin_start": 0.9,
            "bin_end": 1,
            "count": 14
           }
          ]
         }
        },
        {
         "name": "type_banniere_Foliday",
         "dtype": "uint8",
         "stats": {
          "unique_count": 2,
          "nan_count": 0,
          "min": "0",
          "max": "1",
          "histogram": [
           {
            "bin_start": 0,
            "bin_end": 0.1,
            "count": 2102
           },
           {
            "bin_start": 0.1,
            "bin_end": 0.2,
            "count": 0
           },
           {
            "bin_start": 0.2,
            "bin_end": 0.30000000000000004,
            "count": 0
           },
           {
            "bin_start": 0.30000000000000004,
            "bin_end": 0.4,
            "count": 0
           },
           {
            "bin_start": 0.4,
            "bin_end": 0.5,
            "count": 0
           },
           {
            "bin_start": 0.5,
            "bin_end": 0.6000000000000001,
            "count": 0
           },
           {
            "bin_start": 0.6000000000000001,
            "bin_end": 0.7000000000000001,
            "count": 0
           },
           {
            "bin_start": 0.7000000000000001,
            "bin_end": 0.8,
            "count": 0
           },
           {
            "bin_start": 0.8,
            "bin_end": 0.9,
            "count": 0
           },
           {
            "bin_start": 0.9,
            "bin_end": 1,
            "count": 21
           }
          ]
         }
        },
        {
         "name": "type_banniere_Promotions",
         "dtype": "uint8",
         "stats": {
          "unique_count": 2,
          "nan_count": 0,
          "min": "0",
          "max": "1",
          "histogram": [
           {
            "bin_start": 0,
            "bin_end": 0.1,
            "count": 1947
           },
           {
            "bin_start": 0.1,
            "bin_end": 0.2,
            "count": 0
           },
           {
            "bin_start": 0.2,
            "bin_end": 0.30000000000000004,
            "count": 0
           },
           {
            "bin_start": 0.30000000000000004,
            "bin_end": 0.4,
            "count": 0
           },
           {
            "bin_start": 0.4,
            "bin_end": 0.5,
            "count": 0
           },
           {
            "bin_start": 0.5,
            "bin_end": 0.6000000000000001,
            "count": 0
           },
           {
            "bin_start": 0.6000000000000001,
            "bin_end": 0.7000000000000001,
            "count": 0
           },
           {
            "bin_start": 0.7000000000000001,
            "bin_end": 0.8,
            "count": 0
           },
           {
            "bin_start": 0.8,
            "bin_end": 0.9,
            "count": 0
           },
           {
            "bin_start": 0.9,
            "bin_end": 1,
            "count": 176
           }
          ]
         }
        },
        {
         "name": "type_banniere_Sejour tout compris",
         "dtype": "uint8",
         "stats": {
          "unique_count": 2,
          "nan_count": 0,
          "min": "0",
          "max": "1",
          "histogram": [
           {
            "bin_start": 0,
            "bin_end": 0.1,
            "count": 1945
           },
           {
            "bin_start": 0.1,
            "bin_end": 0.2,
            "count": 0
           },
           {
            "bin_start": 0.2,
            "bin_end": 0.30000000000000004,
            "count": 0
           },
           {
            "bin_start": 0.30000000000000004,
            "bin_end": 0.4,
            "count": 0
           },
           {
            "bin_start": 0.4,
            "bin_end": 0.5,
            "count": 0
           },
           {
            "bin_start": 0.5,
            "bin_end": 0.6000000000000001,
            "count": 0
           },
           {
            "bin_start": 0.6000000000000001,
            "bin_end": 0.7000000000000001,
            "count": 0
           },
           {
            "bin_start": 0.7000000000000001,
            "bin_end": 0.8,
            "count": 0
           },
           {
            "bin_start": 0.8,
            "bin_end": 0.9,
            "count": 0
           },
           {
            "bin_start": 0.9,
            "bin_end": 1,
            "count": 178
           }
          ]
         }
        },
        {
         "name": "mois_August",
         "dtype": "uint8",
         "stats": {
          "unique_count": 2,
          "nan_count": 0,
          "min": "0",
          "max": "1",
          "histogram": [
           {
            "bin_start": 0,
            "bin_end": 0.1,
            "count": 1969
           },
           {
            "bin_start": 0.1,
            "bin_end": 0.2,
            "count": 0
           },
           {
            "bin_start": 0.2,
            "bin_end": 0.30000000000000004,
            "count": 0
           },
           {
            "bin_start": 0.30000000000000004,
            "bin_end": 0.4,
            "count": 0
           },
           {
            "bin_start": 0.4,
            "bin_end": 0.5,
            "count": 0
           },
           {
            "bin_start": 0.5,
            "bin_end": 0.6000000000000001,
            "count": 0
           },
           {
            "bin_start": 0.6000000000000001,
            "bin_end": 0.7000000000000001,
            "count": 0
           },
           {
            "bin_start": 0.7000000000000001,
            "bin_end": 0.8,
            "count": 0
           },
           {
            "bin_start": 0.8,
            "bin_end": 0.9,
            "count": 0
           },
           {
            "bin_start": 0.9,
            "bin_end": 1,
            "count": 154
           }
          ]
         }
        },
        {
         "name": "mois_December",
         "dtype": "uint8",
         "stats": {
          "unique_count": 2,
          "nan_count": 0,
          "min": "0",
          "max": "1",
          "histogram": [
           {
            "bin_start": 0,
            "bin_end": 0.1,
            "count": 2022
           },
           {
            "bin_start": 0.1,
            "bin_end": 0.2,
            "count": 0
           },
           {
            "bin_start": 0.2,
            "bin_end": 0.30000000000000004,
            "count": 0
           },
           {
            "bin_start": 0.30000000000000004,
            "bin_end": 0.4,
            "count": 0
           },
           {
            "bin_start": 0.4,
            "bin_end": 0.5,
            "count": 0
           },
           {
            "bin_start": 0.5,
            "bin_end": 0.6000000000000001,
            "count": 0
           },
           {
            "bin_start": 0.6000000000000001,
            "bin_end": 0.7000000000000001,
            "count": 0
           },
           {
            "bin_start": 0.7000000000000001,
            "bin_end": 0.8,
            "count": 0
           },
           {
            "bin_start": 0.8,
            "bin_end": 0.9,
            "count": 0
           },
           {
            "bin_start": 0.9,
            "bin_end": 1,
            "count": 101
           }
          ]
         }
        },
        {
         "name": "mois_February",
         "dtype": "uint8",
         "stats": {
          "unique_count": 2,
          "nan_count": 0,
          "min": "0",
          "max": "1",
          "histogram": [
           {
            "bin_start": 0,
            "bin_end": 0.1,
            "count": 1934
           },
           {
            "bin_start": 0.1,
            "bin_end": 0.2,
            "count": 0
           },
           {
            "bin_start": 0.2,
            "bin_end": 0.30000000000000004,
            "count": 0
           },
           {
            "bin_start": 0.30000000000000004,
            "bin_end": 0.4,
            "count": 0
           },
           {
            "bin_start": 0.4,
            "bin_end": 0.5,
            "count": 0
           },
           {
            "bin_start": 0.5,
            "bin_end": 0.6000000000000001,
            "count": 0
           },
           {
            "bin_start": 0.6000000000000001,
            "bin_end": 0.7000000000000001,
            "count": 0
           },
           {
            "bin_start": 0.7000000000000001,
            "bin_end": 0.8,
            "count": 0
           },
           {
            "bin_start": 0.8,
            "bin_end": 0.9,
            "count": 0
           },
           {
            "bin_start": 0.9,
            "bin_end": 1,
            "count": 189
           }
          ]
         }
        },
        {
         "name": "mois_January",
         "dtype": "uint8",
         "stats": {
          "unique_count": 2,
          "nan_count": 0,
          "min": "0",
          "max": "1",
          "histogram": [
           {
            "bin_start": 0,
            "bin_end": 0.1,
            "count": 1935
           },
           {
            "bin_start": 0.1,
            "bin_end": 0.2,
            "count": 0
           },
           {
            "bin_start": 0.2,
            "bin_end": 0.30000000000000004,
            "count": 0
           },
           {
            "bin_start": 0.30000000000000004,
            "bin_end": 0.4,
            "count": 0
           },
           {
            "bin_start": 0.4,
            "bin_end": 0.5,
            "count": 0
           },
           {
            "bin_start": 0.5,
            "bin_end": 0.6000000000000001,
            "count": 0
           },
           {
            "bin_start": 0.6000000000000001,
            "bin_end": 0.7000000000000001,
            "count": 0
           },
           {
            "bin_start": 0.7000000000000001,
            "bin_end": 0.8,
            "count": 0
           },
           {
            "bin_start": 0.8,
            "bin_end": 0.9,
            "count": 0
           },
           {
            "bin_start": 0.9,
            "bin_end": 1,
            "count": 188
           }
          ]
         }
        },
        {
         "name": "mois_July",
         "dtype": "uint8",
         "stats": {
          "unique_count": 2,
          "nan_count": 0,
          "min": "0",
          "max": "1",
          "histogram": [
           {
            "bin_start": 0,
            "bin_end": 0.1,
            "count": 1819
           },
           {
            "bin_start": 0.1,
            "bin_end": 0.2,
            "count": 0
           },
           {
            "bin_start": 0.2,
            "bin_end": 0.30000000000000004,
            "count": 0
           },
           {
            "bin_start": 0.30000000000000004,
            "bin_end": 0.4,
            "count": 0
           },
           {
            "bin_start": 0.4,
            "bin_end": 0.5,
            "count": 0
           },
           {
            "bin_start": 0.5,
            "bin_end": 0.6000000000000001,
            "count": 0
           },
           {
            "bin_start": 0.6000000000000001,
            "bin_end": 0.7000000000000001,
            "count": 0
           },
           {
            "bin_start": 0.7000000000000001,
            "bin_end": 0.8,
            "count": 0
           },
           {
            "bin_start": 0.8,
            "bin_end": 0.9,
            "count": 0
           },
           {
            "bin_start": 0.9,
            "bin_end": 1,
            "count": 304
           }
          ]
         }
        },
        {
         "name": "mois_June",
         "dtype": "uint8",
         "stats": {
          "unique_count": 2,
          "nan_count": 0,
          "min": "0",
          "max": "1",
          "histogram": [
           {
            "bin_start": 0,
            "bin_end": 0.1,
            "count": 1869
           },
           {
            "bin_start": 0.1,
            "bin_end": 0.2,
            "count": 0
           },
           {
            "bin_start": 0.2,
            "bin_end": 0.30000000000000004,
            "count": 0
           },
           {
            "bin_start": 0.30000000000000004,
            "bin_end": 0.4,
            "count": 0
           },
           {
            "bin_start": 0.4,
            "bin_end": 0.5,
            "count": 0
           },
           {
            "bin_start": 0.5,
            "bin_end": 0.6000000000000001,
            "count": 0
           },
           {
            "bin_start": 0.6000000000000001,
            "bin_end": 0.7000000000000001,
            "count": 0
           },
           {
            "bin_start": 0.7000000000000001,
            "bin_end": 0.8,
            "count": 0
           },
           {
            "bin_start": 0.8,
            "bin_end": 0.9,
            "count": 0
           },
           {
            "bin_start": 0.9,
            "bin_end": 1,
            "count": 254
           }
          ]
         }
        },
        {
         "name": "mois_March",
         "dtype": "uint8",
         "stats": {
          "unique_count": 2,
          "nan_count": 0,
          "min": "0",
          "max": "1",
          "histogram": [
           {
            "bin_start": 0,
            "bin_end": 0.1,
            "count": 1944
           },
           {
            "bin_start": 0.1,
            "bin_end": 0.2,
            "count": 0
           },
           {
            "bin_start": 0.2,
            "bin_end": 0.30000000000000004,
            "count": 0
           },
           {
            "bin_start": 0.30000000000000004,
            "bin_end": 0.4,
            "count": 0
           },
           {
            "bin_start": 0.4,
            "bin_end": 0.5,
            "count": 0
           },
           {
            "bin_start": 0.5,
            "bin_end": 0.6000000000000001,
            "count": 0
           },
           {
            "bin_start": 0.6000000000000001,
            "bin_end": 0.7000000000000001,
            "count": 0
           },
           {
            "bin_start": 0.7000000000000001,
            "bin_end": 0.8,
            "count": 0
           },
           {
            "bin_start": 0.8,
            "bin_end": 0.9,
            "count": 0
           },
           {
            "bin_start": 0.9,
            "bin_end": 1,
            "count": 179
           }
          ]
         }
        },
        {
         "name": "mois_May",
         "dtype": "uint8",
         "stats": {
          "unique_count": 2,
          "nan_count": 0,
          "min": "0",
          "max": "1",
          "histogram": [
           {
            "bin_start": 0,
            "bin_end": 0.1,
            "count": 1870
           },
           {
            "bin_start": 0.1,
            "bin_end": 0.2,
            "count": 0
           },
           {
            "bin_start": 0.2,
            "bin_end": 0.30000000000000004,
            "count": 0
           },
           {
            "bin_start": 0.30000000000000004,
            "bin_end": 0.4,
            "count": 0
           },
           {
            "bin_start": 0.4,
            "bin_end": 0.5,
            "count": 0
           },
           {
            "bin_start": 0.5,
            "bin_end": 0.6000000000000001,
            "count": 0
           },
           {
            "bin_start": 0.6000000000000001,
            "bin_end": 0.7000000000000001,
            "count": 0
           },
           {
            "bin_start": 0.7000000000000001,
            "bin_end": 0.8,
            "count": 0
           },
           {
            "bin_start": 0.8,
            "bin_end": 0.9,
            "count": 0
           },
           {
            "bin_start": 0.9,
            "bin_end": 1,
            "count": 253
           }
          ]
         }
        },
        {
         "name": "mois_November",
         "dtype": "uint8",
         "stats": {
          "unique_count": 2,
          "nan_count": 0,
          "min": "0",
          "max": "1",
          "histogram": [
           {
            "bin_start": 0,
            "bin_end": 0.1,
            "count": 2025
           },
           {
            "bin_start": 0.1,
            "bin_end": 0.2,
            "count": 0
           },
           {
            "bin_start": 0.2,
            "bin_end": 0.30000000000000004,
            "count": 0
           },
           {
            "bin_start": 0.30000000000000004,
            "bin_end": 0.4,
            "count": 0
           },
           {
            "bin_start": 0.4,
            "bin_end": 0.5,
            "count": 0
           },
           {
            "bin_start": 0.5,
            "bin_end": 0.6000000000000001,
            "count": 0
           },
           {
            "bin_start": 0.6000000000000001,
            "bin_end": 0.7000000000000001,
            "count": 0
           },
           {
            "bin_start": 0.7000000000000001,
            "bin_end": 0.8,
            "count": 0
           },
           {
            "bin_start": 0.8,
            "bin_end": 0.9,
            "count": 0
           },
           {
            "bin_start": 0.9,
            "bin_end": 1,
            "count": 98
           }
          ]
         }
        },
        {
         "name": "mois_October",
         "dtype": "uint8",
         "stats": {
          "unique_count": 2,
          "nan_count": 0,
          "min": "0",
          "max": "1",
          "histogram": [
           {
            "bin_start": 0,
            "bin_end": 0.1,
            "count": 2030
           },
           {
            "bin_start": 0.1,
            "bin_end": 0.2,
            "count": 0
           },
           {
            "bin_start": 0.2,
            "bin_end": 0.30000000000000004,
            "count": 0
           },
           {
            "bin_start": 0.30000000000000004,
            "bin_end": 0.4,
            "count": 0
           },
           {
            "bin_start": 0.4,
            "bin_end": 0.5,
            "count": 0
           },
           {
            "bin_start": 0.5,
            "bin_end": 0.6000000000000001,
            "count": 0
           },
           {
            "bin_start": 0.6000000000000001,
            "bin_end": 0.7000000000000001,
            "count": 0
           },
           {
            "bin_start": 0.7000000000000001,
            "bin_end": 0.8,
            "count": 0
           },
           {
            "bin_start": 0.8,
            "bin_end": 0.9,
            "count": 0
           },
           {
            "bin_start": 0.9,
            "bin_end": 1,
            "count": 93
           }
          ]
         }
        },
        {
         "name": "mois_September",
         "dtype": "uint8",
         "stats": {
          "unique_count": 2,
          "nan_count": 0,
          "min": "0",
          "max": "1",
          "histogram": [
           {
            "bin_start": 0,
            "bin_end": 0.1,
            "count": 2005
           },
           {
            "bin_start": 0.1,
            "bin_end": 0.2,
            "count": 0
           },
           {
            "bin_start": 0.2,
            "bin_end": 0.30000000000000004,
            "count": 0
           },
           {
            "bin_start": 0.30000000000000004,
            "bin_end": 0.4,
            "count": 0
           },
           {
            "bin_start": 0.4,
            "bin_end": 0.5,
            "count": 0
           },
           {
            "bin_start": 0.5,
            "bin_end": 0.6000000000000001,
            "count": 0
           },
           {
            "bin_start": 0.6000000000000001,
            "bin_end": 0.7000000000000001,
            "count": 0
           },
           {
            "bin_start": 0.7000000000000001,
            "bin_end": 0.8,
            "count": 0
           },
           {
            "bin_start": 0.8,
            "bin_end": 0.9,
            "count": 0
           },
           {
            "bin_start": 0.9,
            "bin_end": 1,
            "count": 118
           }
          ]
         }
        },
        {
         "name": "CTR",
         "dtype": "float64",
         "stats": {
          "unique_count": 612,
          "nan_count": 8,
          "min": "0.2",
          "max": "15.98",
          "histogram": [
           {
            "bin_start": 0.2,
            "bin_end": 1.778,
            "count": 1178
           },
           {
            "bin_start": 1.778,
            "bin_end": 3.3560000000000003,
            "count": 547
           },
           {
            "bin_start": 3.3560000000000003,
            "bin_end": 4.934,
            "count": 136
           },
           {
            "bin_start": 4.934,
            "bin_end": 6.5120000000000005,
            "count": 75
           },
           {
            "bin_start": 6.5120000000000005,
            "bin_end": 8.09,
            "count": 49
           },
           {
            "bin_start": 8.09,
            "bin_end": 9.668,
            "count": 61
           },
           {
            "bin_start": 9.668,
            "bin_end": 11.246,
            "count": 54
           },
           {
            "bin_start": 11.246,
            "bin_end": 12.824,
            "count": 10
           },
           {
            "bin_start": 12.824,
            "bin_end": 14.402,
            "count": 4
           },
           {
            "bin_start": 14.402,
            "bin_end": 15.98,
            "count": 1
           }
          ]
         }
        },
        {
         "name": "_deepnote_index_column",
         "dtype": "int64"
        }
       ],
       "rows": [
        {
         "position_position1": 0,
         "position_position2": 1,
         "position_position3": 0,
         "position_position5": 0,
         "position_position6": 0,
         "type_banniere_Bons Plans": 0,
         "type_banniere_Crazy": 0,
         "type_banniere_Foliday": 0,
         "type_banniere_Promotions": 0,
         "type_banniere_Sejour tout compris": 0,
         "mois_August": 0,
         "mois_December": 0,
         "mois_February": 0,
         "mois_January": 0,
         "mois_July": 1,
         "mois_June": 0,
         "mois_March": 0,
         "mois_May": 0,
         "mois_November": 0,
         "mois_October": 0,
         "mois_September": 0,
         "CTR": 7.87,
         "_deepnote_index_column": 0
        },
        {
         "position_position1": 0,
         "position_position2": 0,
         "position_position3": 0,
         "position_position5": 0,
         "position_position6": 1,
         "type_banniere_Bons Plans": 1,
         "type_banniere_Crazy": 0,
         "type_banniere_Foliday": 0,
         "type_banniere_Promotions": 0,
         "type_banniere_Sejour tout compris": 0,
         "mois_August": 0,
         "mois_December": 0,
         "mois_February": 0,
         "mois_January": 0,
         "mois_July": 1,
         "mois_June": 0,
         "mois_March": 0,
         "mois_May": 0,
         "mois_November": 0,
         "mois_October": 0,
         "mois_September": 0,
         "CTR": 0.62,
         "_deepnote_index_column": 1
        },
        {
         "position_position1": 0,
         "position_position2": 1,
         "position_position3": 0,
         "position_position5": 0,
         "position_position6": 0,
         "type_banniere_Bons Plans": 0,
         "type_banniere_Crazy": 0,
         "type_banniere_Foliday": 0,
         "type_banniere_Promotions": 0,
         "type_banniere_Sejour tout compris": 0,
         "mois_August": 0,
         "mois_December": 0,
         "mois_February": 0,
         "mois_January": 0,
         "mois_July": 1,
         "mois_June": 0,
         "mois_March": 0,
         "mois_May": 0,
         "mois_November": 0,
         "mois_October": 0,
         "mois_September": 0,
         "CTR": 5.97,
         "_deepnote_index_column": 2
        },
        {
         "position_position1": 1,
         "position_position2": 0,
         "position_position3": 0,
         "position_position5": 0,
         "position_position6": 0,
         "type_banniere_Bons Plans": 1,
         "type_banniere_Crazy": 0,
         "type_banniere_Foliday": 0,
         "type_banniere_Promotions": 0,
         "type_banniere_Sejour tout compris": 0,
         "mois_August": 0,
         "mois_December": 0,
         "mois_February": 0,
         "mois_January": 0,
         "mois_July": 1,
         "mois_June": 0,
         "mois_March": 0,
         "mois_May": 0,
         "mois_November": 0,
         "mois_October": 0,
         "mois_September": 0,
         "CTR": 0.46,
         "_deepnote_index_column": 3
        },
        {
         "position_position1": 0,
         "position_position2": 0,
         "position_position3": 0,
         "position_position5": 1,
         "position_position6": 0,
         "type_banniere_Bons Plans": 0,
         "type_banniere_Crazy": 0,
         "type_banniere_Foliday": 0,
         "type_banniere_Promotions": 0,
         "type_banniere_Sejour tout compris": 0,
         "mois_August": 0,
         "mois_December": 0,
         "mois_February": 0,
         "mois_January": 0,
         "mois_July": 1,
         "mois_June": 0,
         "mois_March": 0,
         "mois_May": 0,
         "mois_November": 0,
         "mois_October": 0,
         "mois_September": 0,
         "CTR": 1.08,
         "_deepnote_index_column": 4
        },
        {
         "position_position1": 0,
         "position_position2": 0,
         "position_position3": 1,
         "position_position5": 0,
         "position_position6": 0,
         "type_banniere_Bons Plans": 0,
         "type_banniere_Crazy": 0,
         "type_banniere_Foliday": 0,
         "type_banniere_Promotions": 0,
         "type_banniere_Sejour tout compris": 0,
         "mois_August": 0,
         "mois_December": 0,
         "mois_February": 0,
         "mois_January": 0,
         "mois_July": 1,
         "mois_June": 0,
         "mois_March": 0,
         "mois_May": 0,
         "mois_November": 0,
         "mois_October": 0,
         "mois_September": 0,
         "CTR": 1.83,
         "_deepnote_index_column": 5
        },
        {
         "position_position1": 0,
         "position_position2": 0,
         "position_position3": 0,
         "position_position5": 1,
         "position_position6": 0,
         "type_banniere_Bons Plans": 1,
         "type_banniere_Crazy": 0,
         "type_banniere_Foliday": 0,
         "type_banniere_Promotions": 0,
         "type_banniere_Sejour tout compris": 0,
         "mois_August": 0,
         "mois_December": 0,
         "mois_February": 0,
         "mois_January": 0,
         "mois_July": 1,
         "mois_June": 0,
         "mois_March": 0,
         "mois_May": 0,
         "mois_November": 0,
         "mois_October": 0,
         "mois_September": 0,
         "CTR": 1.18,
         "_deepnote_index_column": 6
        },
        {
         "position_position1": 1,
         "position_position2": 0,
         "position_position3": 0,
         "position_position5": 0,
         "position_position6": 0,
         "type_banniere_Bons Plans": 0,
         "type_banniere_Crazy": 0,
         "type_banniere_Foliday": 0,
         "type_banniere_Promotions": 1,
         "type_banniere_Sejour tout compris": 0,
         "mois_August": 0,
         "mois_December": 0,
         "mois_February": 0,
         "mois_January": 0,
         "mois_July": 1,
         "mois_June": 0,
         "mois_March": 0,
         "mois_May": 0,
         "mois_November": 0,
         "mois_October": 0,
         "mois_September": 0,
         "CTR": 1.51,
         "_deepnote_index_column": 7
        },
        {
         "position_position1": 0,
         "position_position2": 0,
         "position_position3": 0,
         "position_position5": 0,
         "position_position6": 0,
         "type_banniere_Bons Plans": 0,
         "type_banniere_Crazy": 0,
         "type_banniere_Foliday": 0,
         "type_banniere_Promotions": 0,
         "type_banniere_Sejour tout compris": 0,
         "mois_August": 0,
         "mois_December": 0,
         "mois_February": 0,
         "mois_January": 0,
         "mois_July": 1,
         "mois_June": 0,
         "mois_March": 0,
         "mois_May": 0,
         "mois_November": 0,
         "mois_October": 0,
         "mois_September": 0,
         "CTR": 0.62,
         "_deepnote_index_column": 8
        },
        {
         "position_position1": 0,
         "position_position2": 0,
         "position_position3": 1,
         "position_position5": 0,
         "position_position6": 0,
         "type_banniere_Bons Plans": 1,
         "type_banniere_Crazy": 0,
         "type_banniere_Foliday": 0,
         "type_banniere_Promotions": 0,
         "type_banniere_Sejour tout compris": 0,
         "mois_August": 0,
         "mois_December": 0,
         "mois_February": 0,
         "mois_January": 0,
         "mois_July": 1,
         "mois_June": 0,
         "mois_March": 0,
         "mois_May": 0,
         "mois_November": 0,
         "mois_October": 0,
         "mois_September": 0,
         "CTR": 0.68,
         "_deepnote_index_column": 9
        }
       ]
      },
      "text/plain": "      position_position1  position_position2  position_position3  \\\n0                      0                   1                   0   \n1                      0                   0                   0   \n2                      0                   1                   0   \n3                      1                   0                   0   \n4                      0                   0                   0   \n...                  ...                 ...                 ...   \n2118                   1                   0                   0   \n2119                   0                   0                   1   \n2120                   1                   0                   0   \n2121                   0                   1                   0   \n2122                   0                   0                   1   \n\n      position_position5  position_position6  type_banniere_Bons Plans  \\\n0                      0                   0                         0   \n1                      0                   1                         1   \n2                      0                   0                         0   \n3                      0                   0                         1   \n4                      1                   0                         0   \n...                  ...                 ...                       ...   \n2118                   0                   0                         0   \n2119                   0                   0                         0   \n2120                   0                   0                         1   \n2121                   0                   0                         0   \n2122                   0                   0                         1   \n\n      type_banniere_Crazy  type_banniere_Foliday  type_banniere_Promotions  \\\n0                       0                      0                         0   \n1                       0                      0                         0   \n2                       0                      0                         0   \n3                       0                      0                         0   \n4                       0                      0                         0   \n...                   ...                    ...                       ...   \n2118                    0                      0                         1   \n2119                    0                      0                         0   \n2120                    0                      0                         0   \n2121                    0                      0                         0   \n2122                    0                      0                         0   \n\n      type_banniere_Sejour tout compris  ...  mois_February  mois_January  \\\n0                                     0  ...              0             0   \n1                                     0  ...              0             0   \n2                                     0  ...              0             0   \n3                                     0  ...              0             0   \n4                                     0  ...              0             0   \n...                                 ...  ...            ...           ...   \n2118                                  0  ...              0             0   \n2119                                  0  ...              0             0   \n2120                                  0  ...              0             0   \n2121                                  0  ...              0             0   \n2122                                  0  ...              0             0   \n\n      mois_July  mois_June  mois_March  mois_May  mois_November  mois_October  \\\n0             1          0           0         0              0             0   \n1             1          0           0         0              0             0   \n2             1          0           0         0              0             0   \n3             1          0           0         0              0             0   \n4             1          0           0         0              0             0   \n...         ...        ...         ...       ...            ...           ...   \n2118          1          0           0         0              0             0   \n2119          1          0           0         0              0             0   \n2120          1          0           0         0              0             0   \n2121          1          0           0         0              0             0   \n2122          1          0           0         0              0             0   \n\n      mois_September   CTR  \n0                  0  7.87  \n1                  0  0.62  \n2                  0  5.97  \n3                  0  0.46  \n4                  0  1.08  \n...              ...   ...  \n2118               0  2.24  \n2119               0  1.59  \n2120               0  1.16  \n2121               0  5.03  \n2122               0  1.55  \n\n[2123 rows x 22 columns]",
      "text/html": "<div>\n<style scoped>\n    .dataframe tbody tr th:only-of-type {\n        vertical-align: middle;\n    }\n\n    .dataframe tbody tr th {\n        vertical-align: top;\n    }\n\n    .dataframe thead th {\n        text-align: right;\n    }\n</style>\n<table border=\"1\" class=\"dataframe\">\n  <thead>\n    <tr style=\"text-align: right;\">\n      <th></th>\n      <th>position_position1</th>\n      <th>position_position2</th>\n      <th>position_position3</th>\n      <th>position_position5</th>\n      <th>position_position6</th>\n      <th>type_banniere_Bons Plans</th>\n      <th>type_banniere_Crazy</th>\n      <th>type_banniere_Foliday</th>\n      <th>type_banniere_Promotions</th>\n      <th>type_banniere_Sejour tout compris</th>\n      <th>...</th>\n      <th>mois_February</th>\n      <th>mois_January</th>\n      <th>mois_July</th>\n      <th>mois_June</th>\n      <th>mois_March</th>\n      <th>mois_May</th>\n      <th>mois_November</th>\n      <th>mois_October</th>\n      <th>mois_September</th>\n      <th>CTR</th>\n    </tr>\n  </thead>\n  <tbody>\n    <tr>\n      <th>0</th>\n      <td>0</td>\n      <td>1</td>\n      <td>0</td>\n      <td>0</td>\n      <td>0</td>\n      <td>0</td>\n      <td>0</td>\n      <td>0</td>\n      <td>0</td>\n      <td>0</td>\n      <td>...</td>\n      <td>0</td>\n      <td>0</td>\n      <td>1</td>\n      <td>0</td>\n      <td>0</td>\n      <td>0</td>\n      <td>0</td>\n      <td>0</td>\n      <td>0</td>\n      <td>7.87</td>\n    </tr>\n    <tr>\n      <th>1</th>\n      <td>0</td>\n      <td>0</td>\n      <td>0</td>\n      <td>0</td>\n      <td>1</td>\n      <td>1</td>\n      <td>0</td>\n      <td>0</td>\n      <td>0</td>\n      <td>0</td>\n      <td>...</td>\n      <td>0</td>\n      <td>0</td>\n      <td>1</td>\n      <td>0</td>\n      <td>0</td>\n      <td>0</td>\n      <td>0</td>\n      <td>0</td>\n      <td>0</td>\n      <td>0.62</td>\n    </tr>\n    <tr>\n      <th>2</th>\n      <td>0</td>\n      <td>1</td>\n      <td>0</td>\n      <td>0</td>\n      <td>0</td>\n      <td>0</td>\n      <td>0</td>\n      <td>0</td>\n      <td>0</td>\n      <td>0</td>\n      <td>...</td>\n      <td>0</td>\n      <td>0</td>\n      <td>1</td>\n      <td>0</td>\n      <td>0</td>\n      <td>0</td>\n      <td>0</td>\n      <td>0</td>\n      <td>0</td>\n      <td>5.97</td>\n    </tr>\n    <tr>\n      <th>3</th>\n      <td>1</td>\n      <td>0</td>\n      <td>0</td>\n      <td>0</td>\n      <td>0</td>\n      <td>1</td>\n      <td>0</td>\n      <td>0</td>\n      <td>0</td>\n      <td>0</td>\n      <td>...</td>\n      <td>0</td>\n      <td>0</td>\n      <td>1</td>\n      <td>0</td>\n      <td>0</td>\n      <td>0</td>\n      <td>0</td>\n      <td>0</td>\n      <td>0</td>\n      <td>0.46</td>\n    </tr>\n    <tr>\n      <th>4</th>\n      <td>0</td>\n      <td>0</td>\n      <td>0</td>\n      <td>1</td>\n      <td>0</td>\n      <td>0</td>\n      <td>0</td>\n      <td>0</td>\n      <td>0</td>\n      <td>0</td>\n      <td>...</td>\n      <td>0</td>\n      <td>0</td>\n      <td>1</td>\n      <td>0</td>\n      <td>0</td>\n      <td>0</td>\n      <td>0</td>\n      <td>0</td>\n      <td>0</td>\n      <td>1.08</td>\n    </tr>\n    <tr>\n      <th>...</th>\n      <td>...</td>\n      <td>...</td>\n      <td>...</td>\n      <td>...</td>\n      <td>...</td>\n      <td>...</td>\n      <td>...</td>\n      <td>...</td>\n      <td>...</td>\n      <td>...</td>\n      <td>...</td>\n      <td>...</td>\n      <td>...</td>\n      <td>...</td>\n      <td>...</td>\n      <td>...</td>\n      <td>...</td>\n      <td>...</td>\n      <td>...</td>\n      <td>...</td>\n      <td>...</td>\n    </tr>\n    <tr>\n      <th>2118</th>\n      <td>1</td>\n      <td>0</td>\n      <td>0</td>\n      <td>0</td>\n      <td>0</td>\n      <td>0</td>\n      <td>0</td>\n      <td>0</td>\n      <td>1</td>\n      <td>0</td>\n      <td>...</td>\n      <td>0</td>\n      <td>0</td>\n      <td>1</td>\n      <td>0</td>\n      <td>0</td>\n      <td>0</td>\n      <td>0</td>\n      <td>0</td>\n      <td>0</td>\n      <td>2.24</td>\n    </tr>\n    <tr>\n      <th>2119</th>\n      <td>0</td>\n      <td>0</td>\n      <td>1</td>\n      <td>0</td>\n      <td>0</td>\n      <td>0</td>\n      <td>0</td>\n      <td>0</td>\n      <td>0</td>\n      <td>0</td>\n      <td>...</td>\n      <td>0</td>\n      <td>0</td>\n      <td>1</td>\n      <td>0</td>\n      <td>0</td>\n      <td>0</td>\n      <td>0</td>\n      <td>0</td>\n      <td>0</td>\n      <td>1.59</td>\n    </tr>\n    <tr>\n      <th>2120</th>\n      <td>1</td>\n      <td>0</td>\n      <td>0</td>\n      <td>0</td>\n      <td>0</td>\n      <td>1</td>\n      <td>0</td>\n      <td>0</td>\n      <td>0</td>\n      <td>0</td>\n      <td>...</td>\n      <td>0</td>\n      <td>0</td>\n      <td>1</td>\n      <td>0</td>\n      <td>0</td>\n      <td>0</td>\n      <td>0</td>\n      <td>0</td>\n      <td>0</td>\n      <td>1.16</td>\n    </tr>\n    <tr>\n      <th>2121</th>\n      <td>0</td>\n      <td>1</td>\n      <td>0</td>\n      <td>0</td>\n      <td>0</td>\n      <td>0</td>\n      <td>0</td>\n      <td>0</td>\n      <td>0</td>\n      <td>0</td>\n      <td>...</td>\n      <td>0</td>\n      <td>0</td>\n      <td>1</td>\n      <td>0</td>\n      <td>0</td>\n      <td>0</td>\n      <td>0</td>\n      <td>0</td>\n      <td>0</td>\n      <td>5.03</td>\n    </tr>\n    <tr>\n      <th>2122</th>\n      <td>0</td>\n      <td>0</td>\n      <td>1</td>\n      <td>0</td>\n      <td>0</td>\n      <td>1</td>\n      <td>0</td>\n      <td>0</td>\n      <td>0</td>\n      <td>0</td>\n      <td>...</td>\n      <td>0</td>\n      <td>0</td>\n      <td>1</td>\n      <td>0</td>\n      <td>0</td>\n      <td>0</td>\n      <td>0</td>\n      <td>0</td>\n      <td>0</td>\n      <td>1.55</td>\n    </tr>\n  </tbody>\n</table>\n<p>2123 rows × 22 columns</p>\n</div>"
     },
     "metadata": {}
    }
   ]
  },
  {
   "cell_type": "code",
   "metadata": {
    "cell_id": "3aab90af0cdf4c9496ccbae1692b42c5",
    "tags": [],
    "deepnote_to_be_reexecuted": false,
    "source_hash": "ff31036d",
    "execution_start": 1660949402533,
    "execution_millis": 3,
    "deepnote_cell_type": "code",
    "deepnote_cell_height": 904
   },
   "source": "X_cat=X_cat.rename(columns={\n#'promoPosition_Bon Plan-1':'bon_plan1',\n#'promoPosition_Bon Plan-2':'bon_plan2',\n#'promoPosition_Bon Plan-3':'bon_plan3',\n#'promoPosition_Bon Plan-4':'bon_plan4',\n#'promoPosition_Bon Plan-5':'bon_plan5',\n#'promoPosition_Bon Plan-6':'bon_plan6',\n\n#'promoPosition_Home CM – bonnes affaires grandes-1':'CM–bon_affai_grandes-1',\n#'promoPosition_Home CM – bonnes affaires grandes-2':'CM–bon_affai_grandes-2',\n#'promoPosition_Home CM – bonnes affaires petites-2':'CM–bon_affai_petites-2',\n#'promoPosition_Home CM – bonnes affaires petites-3':'CM–bon_affai_petites-3',\n#'promoPosition_Home CM – bonnes affaires petites-4':'CM–bon_affai_petites-4',\n#'promoPosition_Home CM – bonnes affaires petites-5':'CM–bon_affai_petites-5',\n'position_position1':'position1',\n'position_position2':'position2',\n'position_position3':'position3',\n'position_position4':'position4',\n'position_position5':'position5',\n'position_position6':'position6',\n\n'type_banniere_Autre':'Autre',\n'type_banniere_Bons Plans':'Bons plan',\n'type_banniere_Crazy':'Crazy',\n'type_banniere_Foliday':'Foliday',\n'type_banniere_Promotions':'Promotions',\n'type_banniere_Sejour tout compris':'Sejour tout compris',\n\n'jour_Friday':'Friday',\n'jour_Monday':'Monday',\n'jour_Saturday':'Saturday',\n'jour_Sunday':'Sunday',\n'jour_Thursday':'Thursday',\n'jour_Tuesday':'Tuesday',\n'jour_Wednesday':'Wednesday',\n'mois_April':'April',\n'mois_August':'August',\n'mois_December':'December',\n'mois_February':'February',\n'mois_January':'January',\n'mois_July':'July',\n'mois_June':'June',\n'mois_March':'March',\n'mois_May':'May',\n'mois_November':'November',\n'mois_October':'October',\n'mois_September':'September'})",
   "execution_count": 133,
   "outputs": []
  },
  {
   "cell_type": "code",
   "metadata": {
    "cell_id": "a1c2cac1334e47ca9f2233978c536a82",
    "tags": [],
    "deepnote_to_be_reexecuted": false,
    "source_hash": "7ddd465a",
    "execution_start": 1660949406293,
    "execution_millis": 328,
    "deepnote_cell_type": "code",
    "deepnote_cell_height": 652
   },
   "source": "x=X_cat\nx\n",
   "execution_count": 134,
   "outputs": [
    {
     "output_type": "execute_result",
     "execution_count": 134,
     "data": {
      "application/vnd.deepnote.dataframe.v3+json": {
       "column_count": 21,
       "row_count": 2123,
       "columns": [
        {
         "name": "position1",
         "dtype": "uint8",
         "stats": {
          "unique_count": 2,
          "nan_count": 0,
          "min": "0",
          "max": "1",
          "histogram": [
           {
            "bin_start": 0,
            "bin_end": 0.1,
            "count": 1508
           },
           {
            "bin_start": 0.1,
            "bin_end": 0.2,
            "count": 0
           },
           {
            "bin_start": 0.2,
            "bin_end": 0.30000000000000004,
            "count": 0
           },
           {
            "bin_start": 0.30000000000000004,
            "bin_end": 0.4,
            "count": 0
           },
           {
            "bin_start": 0.4,
            "bin_end": 0.5,
            "count": 0
           },
           {
            "bin_start": 0.5,
            "bin_end": 0.6000000000000001,
            "count": 0
           },
           {
            "bin_start": 0.6000000000000001,
            "bin_end": 0.7000000000000001,
            "count": 0
           },
           {
            "bin_start": 0.7000000000000001,
            "bin_end": 0.8,
            "count": 0
           },
           {
            "bin_start": 0.8,
            "bin_end": 0.9,
            "count": 0
           },
           {
            "bin_start": 0.9,
            "bin_end": 1,
            "count": 615
           }
          ]
         }
        },
        {
         "name": "position2",
         "dtype": "uint8",
         "stats": {
          "unique_count": 2,
          "nan_count": 0,
          "min": "0",
          "max": "1",
          "histogram": [
           {
            "bin_start": 0,
            "bin_end": 0.1,
            "count": 1522
           },
           {
            "bin_start": 0.1,
            "bin_end": 0.2,
            "count": 0
           },
           {
            "bin_start": 0.2,
            "bin_end": 0.30000000000000004,
            "count": 0
           },
           {
            "bin_start": 0.30000000000000004,
            "bin_end": 0.4,
            "count": 0
           },
           {
            "bin_start": 0.4,
            "bin_end": 0.5,
            "count": 0
           },
           {
            "bin_start": 0.5,
            "bin_end": 0.6000000000000001,
            "count": 0
           },
           {
            "bin_start": 0.6000000000000001,
            "bin_end": 0.7000000000000001,
            "count": 0
           },
           {
            "bin_start": 0.7000000000000001,
            "bin_end": 0.8,
            "count": 0
           },
           {
            "bin_start": 0.8,
            "bin_end": 0.9,
            "count": 0
           },
           {
            "bin_start": 0.9,
            "bin_end": 1,
            "count": 601
           }
          ]
         }
        },
        {
         "name": "position3",
         "dtype": "uint8",
         "stats": {
          "unique_count": 2,
          "nan_count": 0,
          "min": "0",
          "max": "1",
          "histogram": [
           {
            "bin_start": 0,
            "bin_end": 0.1,
            "count": 1591
           },
           {
            "bin_start": 0.1,
            "bin_end": 0.2,
            "count": 0
           },
           {
            "bin_start": 0.2,
            "bin_end": 0.30000000000000004,
            "count": 0
           },
           {
            "bin_start": 0.30000000000000004,
            "bin_end": 0.4,
            "count": 0
           },
           {
            "bin_start": 0.4,
            "bin_end": 0.5,
            "count": 0
           },
           {
            "bin_start": 0.5,
            "bin_end": 0.6000000000000001,
            "count": 0
           },
           {
            "bin_start": 0.6000000000000001,
            "bin_end": 0.7000000000000001,
            "count": 0
           },
           {
            "bin_start": 0.7000000000000001,
            "bin_end": 0.8,
            "count": 0
           },
           {
            "bin_start": 0.8,
            "bin_end": 0.9,
            "count": 0
           },
           {
            "bin_start": 0.9,
            "bin_end": 1,
            "count": 532
           }
          ]
         }
        },
        {
         "name": "position5",
         "dtype": "uint8",
         "stats": {
          "unique_count": 2,
          "nan_count": 0,
          "min": "0",
          "max": "1",
          "histogram": [
           {
            "bin_start": 0,
            "bin_end": 0.1,
            "count": 1988
           },
           {
            "bin_start": 0.1,
            "bin_end": 0.2,
            "count": 0
           },
           {
            "bin_start": 0.2,
            "bin_end": 0.30000000000000004,
            "count": 0
           },
           {
            "bin_start": 0.30000000000000004,
            "bin_end": 0.4,
            "count": 0
           },
           {
            "bin_start": 0.4,
            "bin_end": 0.5,
            "count": 0
           },
           {
            "bin_start": 0.5,
            "bin_end": 0.6000000000000001,
            "count": 0
           },
           {
            "bin_start": 0.6000000000000001,
            "bin_end": 0.7000000000000001,
            "count": 0
           },
           {
            "bin_start": 0.7000000000000001,
            "bin_end": 0.8,
            "count": 0
           },
           {
            "bin_start": 0.8,
            "bin_end": 0.9,
            "count": 0
           },
           {
            "bin_start": 0.9,
            "bin_end": 1,
            "count": 135
           }
          ]
         }
        },
        {
         "name": "position6",
         "dtype": "uint8",
         "stats": {
          "unique_count": 2,
          "nan_count": 0,
          "min": "0",
          "max": "1",
          "histogram": [
           {
            "bin_start": 0,
            "bin_end": 0.1,
            "count": 2065
           },
           {
            "bin_start": 0.1,
            "bin_end": 0.2,
            "count": 0
           },
           {
            "bin_start": 0.2,
            "bin_end": 0.30000000000000004,
            "count": 0
           },
           {
            "bin_start": 0.30000000000000004,
            "bin_end": 0.4,
            "count": 0
           },
           {
            "bin_start": 0.4,
            "bin_end": 0.5,
            "count": 0
           },
           {
            "bin_start": 0.5,
            "bin_end": 0.6000000000000001,
            "count": 0
           },
           {
            "bin_start": 0.6000000000000001,
            "bin_end": 0.7000000000000001,
            "count": 0
           },
           {
            "bin_start": 0.7000000000000001,
            "bin_end": 0.8,
            "count": 0
           },
           {
            "bin_start": 0.8,
            "bin_end": 0.9,
            "count": 0
           },
           {
            "bin_start": 0.9,
            "bin_end": 1,
            "count": 58
           }
          ]
         }
        },
        {
         "name": "Bons plan",
         "dtype": "uint8",
         "stats": {
          "unique_count": 2,
          "nan_count": 0,
          "min": "0",
          "max": "1",
          "histogram": [
           {
            "bin_start": 0,
            "bin_end": 0.1,
            "count": 1439
           },
           {
            "bin_start": 0.1,
            "bin_end": 0.2,
            "count": 0
           },
           {
            "bin_start": 0.2,
            "bin_end": 0.30000000000000004,
            "count": 0
           },
           {
            "bin_start": 0.30000000000000004,
            "bin_end": 0.4,
            "count": 0
           },
           {
            "bin_start": 0.4,
            "bin_end": 0.5,
            "count": 0
           },
           {
            "bin_start": 0.5,
            "bin_end": 0.6000000000000001,
            "count": 0
           },
           {
            "bin_start": 0.6000000000000001,
            "bin_end": 0.7000000000000001,
            "count": 0
           },
           {
            "bin_start": 0.7000000000000001,
            "bin_end": 0.8,
            "count": 0
           },
           {
            "bin_start": 0.8,
            "bin_end": 0.9,
            "count": 0
           },
           {
            "bin_start": 0.9,
            "bin_end": 1,
            "count": 684
           }
          ]
         }
        },
        {
         "name": "Crazy",
         "dtype": "uint8",
         "stats": {
          "unique_count": 2,
          "nan_count": 0,
          "min": "0",
          "max": "1",
          "histogram": [
           {
            "bin_start": 0,
            "bin_end": 0.1,
            "count": 2109
           },
           {
            "bin_start": 0.1,
            "bin_end": 0.2,
            "count": 0
           },
           {
            "bin_start": 0.2,
            "bin_end": 0.30000000000000004,
            "count": 0
           },
           {
            "bin_start": 0.30000000000000004,
            "bin_end": 0.4,
            "count": 0
           },
           {
            "bin_start": 0.4,
            "bin_end": 0.5,
            "count": 0
           },
           {
            "bin_start": 0.5,
            "bin_end": 0.6000000000000001,
            "count": 0
           },
           {
            "bin_start": 0.6000000000000001,
            "bin_end": 0.7000000000000001,
            "count": 0
           },
           {
            "bin_start": 0.7000000000000001,
            "bin_end": 0.8,
            "count": 0
           },
           {
            "bin_start": 0.8,
            "bin_end": 0.9,
            "count": 0
           },
           {
            "bin_start": 0.9,
            "bin_end": 1,
            "count": 14
           }
          ]
         }
        },
        {
         "name": "Foliday",
         "dtype": "uint8",
         "stats": {
          "unique_count": 2,
          "nan_count": 0,
          "min": "0",
          "max": "1",
          "histogram": [
           {
            "bin_start": 0,
            "bin_end": 0.1,
            "count": 2102
           },
           {
            "bin_start": 0.1,
            "bin_end": 0.2,
            "count": 0
           },
           {
            "bin_start": 0.2,
            "bin_end": 0.30000000000000004,
            "count": 0
           },
           {
            "bin_start": 0.30000000000000004,
            "bin_end": 0.4,
            "count": 0
           },
           {
            "bin_start": 0.4,
            "bin_end": 0.5,
            "count": 0
           },
           {
            "bin_start": 0.5,
            "bin_end": 0.6000000000000001,
            "count": 0
           },
           {
            "bin_start": 0.6000000000000001,
            "bin_end": 0.7000000000000001,
            "count": 0
           },
           {
            "bin_start": 0.7000000000000001,
            "bin_end": 0.8,
            "count": 0
           },
           {
            "bin_start": 0.8,
            "bin_end": 0.9,
            "count": 0
           },
           {
            "bin_start": 0.9,
            "bin_end": 1,
            "count": 21
           }
          ]
         }
        },
        {
         "name": "Promotions",
         "dtype": "uint8",
         "stats": {
          "unique_count": 2,
          "nan_count": 0,
          "min": "0",
          "max": "1",
          "histogram": [
           {
            "bin_start": 0,
            "bin_end": 0.1,
            "count": 1947
           },
           {
            "bin_start": 0.1,
            "bin_end": 0.2,
            "count": 0
           },
           {
            "bin_start": 0.2,
            "bin_end": 0.30000000000000004,
            "count": 0
           },
           {
            "bin_start": 0.30000000000000004,
            "bin_end": 0.4,
            "count": 0
           },
           {
            "bin_start": 0.4,
            "bin_end": 0.5,
            "count": 0
           },
           {
            "bin_start": 0.5,
            "bin_end": 0.6000000000000001,
            "count": 0
           },
           {
            "bin_start": 0.6000000000000001,
            "bin_end": 0.7000000000000001,
            "count": 0
           },
           {
            "bin_start": 0.7000000000000001,
            "bin_end": 0.8,
            "count": 0
           },
           {
            "bin_start": 0.8,
            "bin_end": 0.9,
            "count": 0
           },
           {
            "bin_start": 0.9,
            "bin_end": 1,
            "count": 176
           }
          ]
         }
        },
        {
         "name": "Sejour tout compris",
         "dtype": "uint8",
         "stats": {
          "unique_count": 2,
          "nan_count": 0,
          "min": "0",
          "max": "1",
          "histogram": [
           {
            "bin_start": 0,
            "bin_end": 0.1,
            "count": 1945
           },
           {
            "bin_start": 0.1,
            "bin_end": 0.2,
            "count": 0
           },
           {
            "bin_start": 0.2,
            "bin_end": 0.30000000000000004,
            "count": 0
           },
           {
            "bin_start": 0.30000000000000004,
            "bin_end": 0.4,
            "count": 0
           },
           {
            "bin_start": 0.4,
            "bin_end": 0.5,
            "count": 0
           },
           {
            "bin_start": 0.5,
            "bin_end": 0.6000000000000001,
            "count": 0
           },
           {
            "bin_start": 0.6000000000000001,
            "bin_end": 0.7000000000000001,
            "count": 0
           },
           {
            "bin_start": 0.7000000000000001,
            "bin_end": 0.8,
            "count": 0
           },
           {
            "bin_start": 0.8,
            "bin_end": 0.9,
            "count": 0
           },
           {
            "bin_start": 0.9,
            "bin_end": 1,
            "count": 178
           }
          ]
         }
        },
        {
         "name": "August",
         "dtype": "uint8",
         "stats": {
          "unique_count": 2,
          "nan_count": 0,
          "min": "0",
          "max": "1",
          "histogram": [
           {
            "bin_start": 0,
            "bin_end": 0.1,
            "count": 1969
           },
           {
            "bin_start": 0.1,
            "bin_end": 0.2,
            "count": 0
           },
           {
            "bin_start": 0.2,
            "bin_end": 0.30000000000000004,
            "count": 0
           },
           {
            "bin_start": 0.30000000000000004,
            "bin_end": 0.4,
            "count": 0
           },
           {
            "bin_start": 0.4,
            "bin_end": 0.5,
            "count": 0
           },
           {
            "bin_start": 0.5,
            "bin_end": 0.6000000000000001,
            "count": 0
           },
           {
            "bin_start": 0.6000000000000001,
            "bin_end": 0.7000000000000001,
            "count": 0
           },
           {
            "bin_start": 0.7000000000000001,
            "bin_end": 0.8,
            "count": 0
           },
           {
            "bin_start": 0.8,
            "bin_end": 0.9,
            "count": 0
           },
           {
            "bin_start": 0.9,
            "bin_end": 1,
            "count": 154
           }
          ]
         }
        },
        {
         "name": "December",
         "dtype": "uint8",
         "stats": {
          "unique_count": 2,
          "nan_count": 0,
          "min": "0",
          "max": "1",
          "histogram": [
           {
            "bin_start": 0,
            "bin_end": 0.1,
            "count": 2022
           },
           {
            "bin_start": 0.1,
            "bin_end": 0.2,
            "count": 0
           },
           {
            "bin_start": 0.2,
            "bin_end": 0.30000000000000004,
            "count": 0
           },
           {
            "bin_start": 0.30000000000000004,
            "bin_end": 0.4,
            "count": 0
           },
           {
            "bin_start": 0.4,
            "bin_end": 0.5,
            "count": 0
           },
           {
            "bin_start": 0.5,
            "bin_end": 0.6000000000000001,
            "count": 0
           },
           {
            "bin_start": 0.6000000000000001,
            "bin_end": 0.7000000000000001,
            "count": 0
           },
           {
            "bin_start": 0.7000000000000001,
            "bin_end": 0.8,
            "count": 0
           },
           {
            "bin_start": 0.8,
            "bin_end": 0.9,
            "count": 0
           },
           {
            "bin_start": 0.9,
            "bin_end": 1,
            "count": 101
           }
          ]
         }
        },
        {
         "name": "February",
         "dtype": "uint8",
         "stats": {
          "unique_count": 2,
          "nan_count": 0,
          "min": "0",
          "max": "1",
          "histogram": [
           {
            "bin_start": 0,
            "bin_end": 0.1,
            "count": 1934
           },
           {
            "bin_start": 0.1,
            "bin_end": 0.2,
            "count": 0
           },
           {
            "bin_start": 0.2,
            "bin_end": 0.30000000000000004,
            "count": 0
           },
           {
            "bin_start": 0.30000000000000004,
            "bin_end": 0.4,
            "count": 0
           },
           {
            "bin_start": 0.4,
            "bin_end": 0.5,
            "count": 0
           },
           {
            "bin_start": 0.5,
            "bin_end": 0.6000000000000001,
            "count": 0
           },
           {
            "bin_start": 0.6000000000000001,
            "bin_end": 0.7000000000000001,
            "count": 0
           },
           {
            "bin_start": 0.7000000000000001,
            "bin_end": 0.8,
            "count": 0
           },
           {
            "bin_start": 0.8,
            "bin_end": 0.9,
            "count": 0
           },
           {
            "bin_start": 0.9,
            "bin_end": 1,
            "count": 189
           }
          ]
         }
        },
        {
         "name": "January",
         "dtype": "uint8",
         "stats": {
          "unique_count": 2,
          "nan_count": 0,
          "min": "0",
          "max": "1",
          "histogram": [
           {
            "bin_start": 0,
            "bin_end": 0.1,
            "count": 1935
           },
           {
            "bin_start": 0.1,
            "bin_end": 0.2,
            "count": 0
           },
           {
            "bin_start": 0.2,
            "bin_end": 0.30000000000000004,
            "count": 0
           },
           {
            "bin_start": 0.30000000000000004,
            "bin_end": 0.4,
            "count": 0
           },
           {
            "bin_start": 0.4,
            "bin_end": 0.5,
            "count": 0
           },
           {
            "bin_start": 0.5,
            "bin_end": 0.6000000000000001,
            "count": 0
           },
           {
            "bin_start": 0.6000000000000001,
            "bin_end": 0.7000000000000001,
            "count": 0
           },
           {
            "bin_start": 0.7000000000000001,
            "bin_end": 0.8,
            "count": 0
           },
           {
            "bin_start": 0.8,
            "bin_end": 0.9,
            "count": 0
           },
           {
            "bin_start": 0.9,
            "bin_end": 1,
            "count": 188
           }
          ]
         }
        },
        {
         "name": "July",
         "dtype": "uint8",
         "stats": {
          "unique_count": 2,
          "nan_count": 0,
          "min": "0",
          "max": "1",
          "histogram": [
           {
            "bin_start": 0,
            "bin_end": 0.1,
            "count": 1819
           },
           {
            "bin_start": 0.1,
            "bin_end": 0.2,
            "count": 0
           },
           {
            "bin_start": 0.2,
            "bin_end": 0.30000000000000004,
            "count": 0
           },
           {
            "bin_start": 0.30000000000000004,
            "bin_end": 0.4,
            "count": 0
           },
           {
            "bin_start": 0.4,
            "bin_end": 0.5,
            "count": 0
           },
           {
            "bin_start": 0.5,
            "bin_end": 0.6000000000000001,
            "count": 0
           },
           {
            "bin_start": 0.6000000000000001,
            "bin_end": 0.7000000000000001,
            "count": 0
           },
           {
            "bin_start": 0.7000000000000001,
            "bin_end": 0.8,
            "count": 0
           },
           {
            "bin_start": 0.8,
            "bin_end": 0.9,
            "count": 0
           },
           {
            "bin_start": 0.9,
            "bin_end": 1,
            "count": 304
           }
          ]
         }
        },
        {
         "name": "June",
         "dtype": "uint8",
         "stats": {
          "unique_count": 2,
          "nan_count": 0,
          "min": "0",
          "max": "1",
          "histogram": [
           {
            "bin_start": 0,
            "bin_end": 0.1,
            "count": 1869
           },
           {
            "bin_start": 0.1,
            "bin_end": 0.2,
            "count": 0
           },
           {
            "bin_start": 0.2,
            "bin_end": 0.30000000000000004,
            "count": 0
           },
           {
            "bin_start": 0.30000000000000004,
            "bin_end": 0.4,
            "count": 0
           },
           {
            "bin_start": 0.4,
            "bin_end": 0.5,
            "count": 0
           },
           {
            "bin_start": 0.5,
            "bin_end": 0.6000000000000001,
            "count": 0
           },
           {
            "bin_start": 0.6000000000000001,
            "bin_end": 0.7000000000000001,
            "count": 0
           },
           {
            "bin_start": 0.7000000000000001,
            "bin_end": 0.8,
            "count": 0
           },
           {
            "bin_start": 0.8,
            "bin_end": 0.9,
            "count": 0
           },
           {
            "bin_start": 0.9,
            "bin_end": 1,
            "count": 254
           }
          ]
         }
        },
        {
         "name": "March",
         "dtype": "uint8",
         "stats": {
          "unique_count": 2,
          "nan_count": 0,
          "min": "0",
          "max": "1",
          "histogram": [
           {
            "bin_start": 0,
            "bin_end": 0.1,
            "count": 1944
           },
           {
            "bin_start": 0.1,
            "bin_end": 0.2,
            "count": 0
           },
           {
            "bin_start": 0.2,
            "bin_end": 0.30000000000000004,
            "count": 0
           },
           {
            "bin_start": 0.30000000000000004,
            "bin_end": 0.4,
            "count": 0
           },
           {
            "bin_start": 0.4,
            "bin_end": 0.5,
            "count": 0
           },
           {
            "bin_start": 0.5,
            "bin_end": 0.6000000000000001,
            "count": 0
           },
           {
            "bin_start": 0.6000000000000001,
            "bin_end": 0.7000000000000001,
            "count": 0
           },
           {
            "bin_start": 0.7000000000000001,
            "bin_end": 0.8,
            "count": 0
           },
           {
            "bin_start": 0.8,
            "bin_end": 0.9,
            "count": 0
           },
           {
            "bin_start": 0.9,
            "bin_end": 1,
            "count": 179
           }
          ]
         }
        },
        {
         "name": "May",
         "dtype": "uint8",
         "stats": {
          "unique_count": 2,
          "nan_count": 0,
          "min": "0",
          "max": "1",
          "histogram": [
           {
            "bin_start": 0,
            "bin_end": 0.1,
            "count": 1870
           },
           {
            "bin_start": 0.1,
            "bin_end": 0.2,
            "count": 0
           },
           {
            "bin_start": 0.2,
            "bin_end": 0.30000000000000004,
            "count": 0
           },
           {
            "bin_start": 0.30000000000000004,
            "bin_end": 0.4,
            "count": 0
           },
           {
            "bin_start": 0.4,
            "bin_end": 0.5,
            "count": 0
           },
           {
            "bin_start": 0.5,
            "bin_end": 0.6000000000000001,
            "count": 0
           },
           {
            "bin_start": 0.6000000000000001,
            "bin_end": 0.7000000000000001,
            "count": 0
           },
           {
            "bin_start": 0.7000000000000001,
            "bin_end": 0.8,
            "count": 0
           },
           {
            "bin_start": 0.8,
            "bin_end": 0.9,
            "count": 0
           },
           {
            "bin_start": 0.9,
            "bin_end": 1,
            "count": 253
           }
          ]
         }
        },
        {
         "name": "November",
         "dtype": "uint8",
         "stats": {
          "unique_count": 2,
          "nan_count": 0,
          "min": "0",
          "max": "1",
          "histogram": [
           {
            "bin_start": 0,
            "bin_end": 0.1,
            "count": 2025
           },
           {
            "bin_start": 0.1,
            "bin_end": 0.2,
            "count": 0
           },
           {
            "bin_start": 0.2,
            "bin_end": 0.30000000000000004,
            "count": 0
           },
           {
            "bin_start": 0.30000000000000004,
            "bin_end": 0.4,
            "count": 0
           },
           {
            "bin_start": 0.4,
            "bin_end": 0.5,
            "count": 0
           },
           {
            "bin_start": 0.5,
            "bin_end": 0.6000000000000001,
            "count": 0
           },
           {
            "bin_start": 0.6000000000000001,
            "bin_end": 0.7000000000000001,
            "count": 0
           },
           {
            "bin_start": 0.7000000000000001,
            "bin_end": 0.8,
            "count": 0
           },
           {
            "bin_start": 0.8,
            "bin_end": 0.9,
            "count": 0
           },
           {
            "bin_start": 0.9,
            "bin_end": 1,
            "count": 98
           }
          ]
         }
        },
        {
         "name": "October",
         "dtype": "uint8",
         "stats": {
          "unique_count": 2,
          "nan_count": 0,
          "min": "0",
          "max": "1",
          "histogram": [
           {
            "bin_start": 0,
            "bin_end": 0.1,
            "count": 2030
           },
           {
            "bin_start": 0.1,
            "bin_end": 0.2,
            "count": 0
           },
           {
            "bin_start": 0.2,
            "bin_end": 0.30000000000000004,
            "count": 0
           },
           {
            "bin_start": 0.30000000000000004,
            "bin_end": 0.4,
            "count": 0
           },
           {
            "bin_start": 0.4,
            "bin_end": 0.5,
            "count": 0
           },
           {
            "bin_start": 0.5,
            "bin_end": 0.6000000000000001,
            "count": 0
           },
           {
            "bin_start": 0.6000000000000001,
            "bin_end": 0.7000000000000001,
            "count": 0
           },
           {
            "bin_start": 0.7000000000000001,
            "bin_end": 0.8,
            "count": 0
           },
           {
            "bin_start": 0.8,
            "bin_end": 0.9,
            "count": 0
           },
           {
            "bin_start": 0.9,
            "bin_end": 1,
            "count": 93
           }
          ]
         }
        },
        {
         "name": "September",
         "dtype": "uint8",
         "stats": {
          "unique_count": 2,
          "nan_count": 0,
          "min": "0",
          "max": "1",
          "histogram": [
           {
            "bin_start": 0,
            "bin_end": 0.1,
            "count": 2005
           },
           {
            "bin_start": 0.1,
            "bin_end": 0.2,
            "count": 0
           },
           {
            "bin_start": 0.2,
            "bin_end": 0.30000000000000004,
            "count": 0
           },
           {
            "bin_start": 0.30000000000000004,
            "bin_end": 0.4,
            "count": 0
           },
           {
            "bin_start": 0.4,
            "bin_end": 0.5,
            "count": 0
           },
           {
            "bin_start": 0.5,
            "bin_end": 0.6000000000000001,
            "count": 0
           },
           {
            "bin_start": 0.6000000000000001,
            "bin_end": 0.7000000000000001,
            "count": 0
           },
           {
            "bin_start": 0.7000000000000001,
            "bin_end": 0.8,
            "count": 0
           },
           {
            "bin_start": 0.8,
            "bin_end": 0.9,
            "count": 0
           },
           {
            "bin_start": 0.9,
            "bin_end": 1,
            "count": 118
           }
          ]
         }
        },
        {
         "name": "_deepnote_index_column",
         "dtype": "int64"
        }
       ],
       "rows": [
        {
         "position1": 0,
         "position2": 1,
         "position3": 0,
         "position5": 0,
         "position6": 0,
         "Bons plan": 0,
         "Crazy": 0,
         "Foliday": 0,
         "Promotions": 0,
         "Sejour tout compris": 0,
         "August": 0,
         "December": 0,
         "February": 0,
         "January": 0,
         "July": 1,
         "June": 0,
         "March": 0,
         "May": 0,
         "November": 0,
         "October": 0,
         "September": 0,
         "_deepnote_index_column": 0
        },
        {
         "position1": 0,
         "position2": 0,
         "position3": 0,
         "position5": 0,
         "position6": 1,
         "Bons plan": 1,
         "Crazy": 0,
         "Foliday": 0,
         "Promotions": 0,
         "Sejour tout compris": 0,
         "August": 0,
         "December": 0,
         "February": 0,
         "January": 0,
         "July": 1,
         "June": 0,
         "March": 0,
         "May": 0,
         "November": 0,
         "October": 0,
         "September": 0,
         "_deepnote_index_column": 1
        },
        {
         "position1": 0,
         "position2": 1,
         "position3": 0,
         "position5": 0,
         "position6": 0,
         "Bons plan": 0,
         "Crazy": 0,
         "Foliday": 0,
         "Promotions": 0,
         "Sejour tout compris": 0,
         "August": 0,
         "December": 0,
         "February": 0,
         "January": 0,
         "July": 1,
         "June": 0,
         "March": 0,
         "May": 0,
         "November": 0,
         "October": 0,
         "September": 0,
         "_deepnote_index_column": 2
        },
        {
         "position1": 1,
         "position2": 0,
         "position3": 0,
         "position5": 0,
         "position6": 0,
         "Bons plan": 1,
         "Crazy": 0,
         "Foliday": 0,
         "Promotions": 0,
         "Sejour tout compris": 0,
         "August": 0,
         "December": 0,
         "February": 0,
         "January": 0,
         "July": 1,
         "June": 0,
         "March": 0,
         "May": 0,
         "November": 0,
         "October": 0,
         "September": 0,
         "_deepnote_index_column": 3
        },
        {
         "position1": 0,
         "position2": 0,
         "position3": 0,
         "position5": 1,
         "position6": 0,
         "Bons plan": 0,
         "Crazy": 0,
         "Foliday": 0,
         "Promotions": 0,
         "Sejour tout compris": 0,
         "August": 0,
         "December": 0,
         "February": 0,
         "January": 0,
         "July": 1,
         "June": 0,
         "March": 0,
         "May": 0,
         "November": 0,
         "October": 0,
         "September": 0,
         "_deepnote_index_column": 4
        },
        {
         "position1": 0,
         "position2": 0,
         "position3": 1,
         "position5": 0,
         "position6": 0,
         "Bons plan": 0,
         "Crazy": 0,
         "Foliday": 0,
         "Promotions": 0,
         "Sejour tout compris": 0,
         "August": 0,
         "December": 0,
         "February": 0,
         "January": 0,
         "July": 1,
         "June": 0,
         "March": 0,
         "May": 0,
         "November": 0,
         "October": 0,
         "September": 0,
         "_deepnote_index_column": 5
        },
        {
         "position1": 0,
         "position2": 0,
         "position3": 0,
         "position5": 1,
         "position6": 0,
         "Bons plan": 1,
         "Crazy": 0,
         "Foliday": 0,
         "Promotions": 0,
         "Sejour tout compris": 0,
         "August": 0,
         "December": 0,
         "February": 0,
         "January": 0,
         "July": 1,
         "June": 0,
         "March": 0,
         "May": 0,
         "November": 0,
         "October": 0,
         "September": 0,
         "_deepnote_index_column": 6
        },
        {
         "position1": 1,
         "position2": 0,
         "position3": 0,
         "position5": 0,
         "position6": 0,
         "Bons plan": 0,
         "Crazy": 0,
         "Foliday": 0,
         "Promotions": 1,
         "Sejour tout compris": 0,
         "August": 0,
         "December": 0,
         "February": 0,
         "January": 0,
         "July": 1,
         "June": 0,
         "March": 0,
         "May": 0,
         "November": 0,
         "October": 0,
         "September": 0,
         "_deepnote_index_column": 7
        },
        {
         "position1": 0,
         "position2": 0,
         "position3": 0,
         "position5": 0,
         "position6": 0,
         "Bons plan": 0,
         "Crazy": 0,
         "Foliday": 0,
         "Promotions": 0,
         "Sejour tout compris": 0,
         "August": 0,
         "December": 0,
         "February": 0,
         "January": 0,
         "July": 1,
         "June": 0,
         "March": 0,
         "May": 0,
         "November": 0,
         "October": 0,
         "September": 0,
         "_deepnote_index_column": 8
        },
        {
         "position1": 0,
         "position2": 0,
         "position3": 1,
         "position5": 0,
         "position6": 0,
         "Bons plan": 1,
         "Crazy": 0,
         "Foliday": 0,
         "Promotions": 0,
         "Sejour tout compris": 0,
         "August": 0,
         "December": 0,
         "February": 0,
         "January": 0,
         "July": 1,
         "June": 0,
         "March": 0,
         "May": 0,
         "November": 0,
         "October": 0,
         "September": 0,
         "_deepnote_index_column": 9
        }
       ]
      },
      "text/plain": "      position1  position2  position3  position5  position6  Bons plan  Crazy  \\\n0             0          1          0          0          0          0      0   \n1             0          0          0          0          1          1      0   \n2             0          1          0          0          0          0      0   \n3             1          0          0          0          0          1      0   \n4             0          0          0          1          0          0      0   \n...         ...        ...        ...        ...        ...        ...    ...   \n2118          1          0          0          0          0          0      0   \n2119          0          0          1          0          0          0      0   \n2120          1          0          0          0          0          1      0   \n2121          0          1          0          0          0          0      0   \n2122          0          0          1          0          0          1      0   \n\n      Foliday  Promotions  Sejour tout compris  ...  December  February  \\\n0           0           0                    0  ...         0         0   \n1           0           0                    0  ...         0         0   \n2           0           0                    0  ...         0         0   \n3           0           0                    0  ...         0         0   \n4           0           0                    0  ...         0         0   \n...       ...         ...                  ...  ...       ...       ...   \n2118        0           1                    0  ...         0         0   \n2119        0           0                    0  ...         0         0   \n2120        0           0                    0  ...         0         0   \n2121        0           0                    0  ...         0         0   \n2122        0           0                    0  ...         0         0   \n\n      January  July  June  March  May  November  October  September  \n0           0     1     0      0    0         0        0          0  \n1           0     1     0      0    0         0        0          0  \n2           0     1     0      0    0         0        0          0  \n3           0     1     0      0    0         0        0          0  \n4           0     1     0      0    0         0        0          0  \n...       ...   ...   ...    ...  ...       ...      ...        ...  \n2118        0     1     0      0    0         0        0          0  \n2119        0     1     0      0    0         0        0          0  \n2120        0     1     0      0    0         0        0          0  \n2121        0     1     0      0    0         0        0          0  \n2122        0     1     0      0    0         0        0          0  \n\n[2123 rows x 21 columns]",
      "text/html": "<div>\n<style scoped>\n    .dataframe tbody tr th:only-of-type {\n        vertical-align: middle;\n    }\n\n    .dataframe tbody tr th {\n        vertical-align: top;\n    }\n\n    .dataframe thead th {\n        text-align: right;\n    }\n</style>\n<table border=\"1\" class=\"dataframe\">\n  <thead>\n    <tr style=\"text-align: right;\">\n      <th></th>\n      <th>position1</th>\n      <th>position2</th>\n      <th>position3</th>\n      <th>position5</th>\n      <th>position6</th>\n      <th>Bons plan</th>\n      <th>Crazy</th>\n      <th>Foliday</th>\n      <th>Promotions</th>\n      <th>Sejour tout compris</th>\n      <th>...</th>\n      <th>December</th>\n      <th>February</th>\n      <th>January</th>\n      <th>July</th>\n      <th>June</th>\n      <th>March</th>\n      <th>May</th>\n      <th>November</th>\n      <th>October</th>\n      <th>September</th>\n    </tr>\n  </thead>\n  <tbody>\n    <tr>\n      <th>0</th>\n      <td>0</td>\n      <td>1</td>\n      <td>0</td>\n      <td>0</td>\n      <td>0</td>\n      <td>0</td>\n      <td>0</td>\n      <td>0</td>\n      <td>0</td>\n      <td>0</td>\n      <td>...</td>\n      <td>0</td>\n      <td>0</td>\n      <td>0</td>\n      <td>1</td>\n      <td>0</td>\n      <td>0</td>\n      <td>0</td>\n      <td>0</td>\n      <td>0</td>\n      <td>0</td>\n    </tr>\n    <tr>\n      <th>1</th>\n      <td>0</td>\n      <td>0</td>\n      <td>0</td>\n      <td>0</td>\n      <td>1</td>\n      <td>1</td>\n      <td>0</td>\n      <td>0</td>\n      <td>0</td>\n      <td>0</td>\n      <td>...</td>\n      <td>0</td>\n      <td>0</td>\n      <td>0</td>\n      <td>1</td>\n      <td>0</td>\n      <td>0</td>\n      <td>0</td>\n      <td>0</td>\n      <td>0</td>\n      <td>0</td>\n    </tr>\n    <tr>\n      <th>2</th>\n      <td>0</td>\n      <td>1</td>\n      <td>0</td>\n      <td>0</td>\n      <td>0</td>\n      <td>0</td>\n      <td>0</td>\n      <td>0</td>\n      <td>0</td>\n      <td>0</td>\n      <td>...</td>\n      <td>0</td>\n      <td>0</td>\n      <td>0</td>\n      <td>1</td>\n      <td>0</td>\n      <td>0</td>\n      <td>0</td>\n      <td>0</td>\n      <td>0</td>\n      <td>0</td>\n    </tr>\n    <tr>\n      <th>3</th>\n      <td>1</td>\n      <td>0</td>\n      <td>0</td>\n      <td>0</td>\n      <td>0</td>\n      <td>1</td>\n      <td>0</td>\n      <td>0</td>\n      <td>0</td>\n      <td>0</td>\n      <td>...</td>\n      <td>0</td>\n      <td>0</td>\n      <td>0</td>\n      <td>1</td>\n      <td>0</td>\n      <td>0</td>\n      <td>0</td>\n      <td>0</td>\n      <td>0</td>\n      <td>0</td>\n    </tr>\n    <tr>\n      <th>4</th>\n      <td>0</td>\n      <td>0</td>\n      <td>0</td>\n      <td>1</td>\n      <td>0</td>\n      <td>0</td>\n      <td>0</td>\n      <td>0</td>\n      <td>0</td>\n      <td>0</td>\n      <td>...</td>\n      <td>0</td>\n      <td>0</td>\n      <td>0</td>\n      <td>1</td>\n      <td>0</td>\n      <td>0</td>\n      <td>0</td>\n      <td>0</td>\n      <td>0</td>\n      <td>0</td>\n    </tr>\n    <tr>\n      <th>...</th>\n      <td>...</td>\n      <td>...</td>\n      <td>...</td>\n      <td>...</td>\n      <td>...</td>\n      <td>...</td>\n      <td>...</td>\n      <td>...</td>\n      <td>...</td>\n      <td>...</td>\n      <td>...</td>\n      <td>...</td>\n      <td>...</td>\n      <td>...</td>\n      <td>...</td>\n      <td>...</td>\n      <td>...</td>\n      <td>...</td>\n      <td>...</td>\n      <td>...</td>\n      <td>...</td>\n    </tr>\n    <tr>\n      <th>2118</th>\n      <td>1</td>\n      <td>0</td>\n      <td>0</td>\n      <td>0</td>\n      <td>0</td>\n      <td>0</td>\n      <td>0</td>\n      <td>0</td>\n      <td>1</td>\n      <td>0</td>\n      <td>...</td>\n      <td>0</td>\n      <td>0</td>\n      <td>0</td>\n      <td>1</td>\n      <td>0</td>\n      <td>0</td>\n      <td>0</td>\n      <td>0</td>\n      <td>0</td>\n      <td>0</td>\n    </tr>\n    <tr>\n      <th>2119</th>\n      <td>0</td>\n      <td>0</td>\n      <td>1</td>\n      <td>0</td>\n      <td>0</td>\n      <td>0</td>\n      <td>0</td>\n      <td>0</td>\n      <td>0</td>\n      <td>0</td>\n      <td>...</td>\n      <td>0</td>\n      <td>0</td>\n      <td>0</td>\n      <td>1</td>\n      <td>0</td>\n      <td>0</td>\n      <td>0</td>\n      <td>0</td>\n      <td>0</td>\n      <td>0</td>\n    </tr>\n    <tr>\n      <th>2120</th>\n      <td>1</td>\n      <td>0</td>\n      <td>0</td>\n      <td>0</td>\n      <td>0</td>\n      <td>1</td>\n      <td>0</td>\n      <td>0</td>\n      <td>0</td>\n      <td>0</td>\n      <td>...</td>\n      <td>0</td>\n      <td>0</td>\n      <td>0</td>\n      <td>1</td>\n      <td>0</td>\n      <td>0</td>\n      <td>0</td>\n      <td>0</td>\n      <td>0</td>\n      <td>0</td>\n    </tr>\n    <tr>\n      <th>2121</th>\n      <td>0</td>\n      <td>1</td>\n      <td>0</td>\n      <td>0</td>\n      <td>0</td>\n      <td>0</td>\n      <td>0</td>\n      <td>0</td>\n      <td>0</td>\n      <td>0</td>\n      <td>...</td>\n      <td>0</td>\n      <td>0</td>\n      <td>0</td>\n      <td>1</td>\n      <td>0</td>\n      <td>0</td>\n      <td>0</td>\n      <td>0</td>\n      <td>0</td>\n      <td>0</td>\n    </tr>\n    <tr>\n      <th>2122</th>\n      <td>0</td>\n      <td>0</td>\n      <td>1</td>\n      <td>0</td>\n      <td>0</td>\n      <td>1</td>\n      <td>0</td>\n      <td>0</td>\n      <td>0</td>\n      <td>0</td>\n      <td>...</td>\n      <td>0</td>\n      <td>0</td>\n      <td>0</td>\n      <td>1</td>\n      <td>0</td>\n      <td>0</td>\n      <td>0</td>\n      <td>0</td>\n      <td>0</td>\n      <td>0</td>\n    </tr>\n  </tbody>\n</table>\n<p>2123 rows × 21 columns</p>\n</div>"
     },
     "metadata": {}
    }
   ]
  },
  {
   "cell_type": "code",
   "metadata": {
    "cell_id": "9765e3ccdae14d6fbe89d75d6e744ae2",
    "tags": [],
    "deepnote_to_be_reexecuted": false,
    "source_hash": "1c5f725f",
    "execution_start": 1660949418612,
    "execution_millis": 7,
    "deepnote_cell_type": "code",
    "deepnote_cell_height": 419.75
   },
   "source": "X_train=X.loc[data.date<='2022-07-01']\ny_train= y.loc[data.date<='2022-07-01']\n\nX_test = X.loc[data.date>'2022-07-01']\ny_test = y.loc[data.date>'2022-07-01']\n\n# transform target variables\nfrom sklearn.preprocessing import MinMaxScaler\ntarget_scaler = MinMaxScaler()\n\n\nprint(\"X_train shape :\", X_train.shape)\nprint(\"X_test shape :\", X_test.shape)\nprint(\"y_train shape :\", y_train.shape)\nprint(\"y_test shape :\", y_test.shape)",
   "execution_count": 136,
   "outputs": [
    {
     "name": "stdout",
     "text": "X_train shape : (1994, 21)\nX_test shape : (121, 21)\ny_train shape : (1994,)\ny_test shape : (121,)\n",
     "output_type": "stream"
    }
   ]
  },
  {
   "cell_type": "markdown",
   "source": "# Other transformation",
   "metadata": {
    "formattedRanges": [],
    "is_collapsed": false,
    "cell_id": "105517bce05f4de9a3d4282745b4e11b",
    "tags": [],
    "deepnote_cell_type": "text-cell-h1"
   }
  },
  {
   "cell_type": "code",
   "metadata": {
    "cell_id": "33e5b311202c445da719647aec1784a2",
    "tags": [],
    "deepnote_to_be_reexecuted": false,
    "source_hash": "9cdf842e",
    "execution_start": 1660949411837,
    "execution_millis": 1283,
    "deepnote_cell_type": "code",
    "deepnote_cell_height": 629.1875
   },
   "source": "# define the target transform wrapper   datafs\nfrom sklearn.compose import TransformedTargetRegressor\n\n# example of normalizing input and output variables for regression.\nfrom numpy import mean\nfrom numpy import absolute\nfrom numpy import loadtxt\nfrom sklearn.model_selection import cross_val_score\nfrom sklearn.model_selection import KFold\nfrom sklearn.pipeline import Pipeline\nfrom sklearn.linear_model import HuberRegressor\nfrom sklearn.preprocessing import MinMaxScaler\nfrom sklearn.compose import TransformedTargetRegressor\n# load data\ndataset = datafs\n# split into inputs and outputs\nX, y = dataset.iloc[:, :-1], dataset.iloc[:, -1]\ny=y.fillna(2.37)\n# prepare the model with input scaling\npipeline = Pipeline(steps=[('normalize', MinMaxScaler()), ('model', HuberRegressor())])\n# prepare the model with target scaling\nmodel = TransformedTargetRegressor(regressor=pipeline, transformer=MinMaxScaler())\n# evaluate model\ncv = KFold(n_splits=10, shuffle=True, random_state=1)\nscores = cross_val_score(model, X, y, scoring='neg_mean_absolute_error', cv=cv, n_jobs=-1)\n# convert scores to positive\nscores = absolute(scores)\n# summarize the result\ns_mean = mean(scores)\nprint('Mean MAE: %.3f' % (s_mean))",
   "execution_count": 135,
   "outputs": [
    {
     "name": "stdout",
     "text": "Mean MAE: 0.704\n",
     "output_type": "stream"
    }
   ]
  },
  {
   "cell_type": "code",
   "metadata": {
    "cell_id": "d4301ed079074190a29f0a8a4c70109a",
    "tags": [],
    "deepnote_to_be_reexecuted": false,
    "source_hash": "4cc5b43b",
    "execution_start": 1660935708229,
    "execution_millis": 18,
    "deepnote_cell_type": "code",
    "deepnote_cell_height": 76
   },
   "source": "",
   "execution_count": null,
   "outputs": []
  },
  {
   "cell_type": "code",
   "metadata": {
    "cell_id": "379a270df4134f85b9ce5839ee13b141",
    "tags": [],
    "deepnote_cell_type": "code",
    "deepnote_cell_height": 295
   },
   "source": "# split into inputs and outputs\nX, y = dataset[:, :-1], dataset[:, -1]\n# prepare the model with input scaling\npipeline = Pipeline(steps=[('normalize', MinMaxScaler()), ('model', HuberRegressor())])\n# prepare the model with target scaling\nmodel = TransformedTargetRegressor(regressor=pipeline, transformer=MinMaxScaler())\n# evaluate model\ncv = KFold(n_splits=10, shuffle=True, random_state=1)\nscores = cross_val_score(model, X, y, scoring='neg_mean_absolute_error', cv=cv, n_jobs=-1)\n# convert scores to positive\nscores = absolute(scores)\n# summarize the result\ns_mean = mean(scores)\nprint('Mean MAE: %.3f' % (s_mean))",
   "execution_count": null,
   "outputs": []
  },
  {
   "cell_type": "code",
   "source": "!pip install statsmodels==0.13.2\n",
   "metadata": {
    "cell_id": "901e9f2c013e484e842e44a85e04922a",
    "tags": [],
    "deepnote_to_be_reexecuted": false,
    "source_hash": "e579cd0f",
    "execution_start": 1660949431135,
    "execution_millis": 3488,
    "deepnote_cell_type": "code",
    "deepnote_cell_height": 351.25
   },
   "execution_count": 138,
   "outputs": [
    {
     "name": "stdout",
     "text": "Requirement already satisfied: statsmodels==0.13.2 in /root/venv/lib/python3.9/site-packages (0.13.2)\nRequirement already satisfied: pandas>=0.25 in /shared-libs/python3.9/py/lib/python3.9/site-packages (from statsmodels==0.13.2) (1.2.5)\nRequirement already satisfied: patsy>=0.5.2 in /root/venv/lib/python3.9/site-packages (from statsmodels==0.13.2) (0.5.2)\nRequirement already satisfied: numpy>=1.17 in /shared-libs/python3.9/py/lib/python3.9/site-packages (from statsmodels==0.13.2) (1.23.1)\nRequirement already satisfied: scipy>=1.3 in /shared-libs/python3.9/py/lib/python3.9/site-packages (from statsmodels==0.13.2) (1.9.0)\nRequirement already satisfied: packaging>=21.3 in /shared-libs/python3.9/py-core/lib/python3.9/site-packages (from statsmodels==0.13.2) (21.3)\nRequirement already satisfied: pyparsing!=3.0.5,>=2.0.2 in /shared-libs/python3.9/py-core/lib/python3.9/site-packages (from packaging>=21.3->statsmodels==0.13.2) (3.0.9)\nRequirement already satisfied: pytz>=2017.3 in /shared-libs/python3.9/py/lib/python3.9/site-packages (from pandas>=0.25->statsmodels==0.13.2) (2022.1)\nRequirement already satisfied: python-dateutil>=2.7.3 in /shared-libs/python3.9/py-core/lib/python3.9/site-packages (from pandas>=0.25->statsmodels==0.13.2) (2.8.2)\nRequirement already satisfied: six in /shared-libs/python3.9/py-core/lib/python3.9/site-packages (from patsy>=0.5.2->statsmodels==0.13.2) (1.16.0)\n\u001b[33mWARNING: You are using pip version 22.0.4; however, version 22.2.2 is available.\nYou should consider upgrading via the '/root/venv/bin/python -m pip install --upgrade pip' command.\u001b[0m\u001b[33m\n\u001b[0m",
     "output_type": "stream"
    }
   ]
  },
  {
   "cell_type": "code",
   "metadata": {
    "cell_id": "46d224a38ce048439834ddb0897a096c",
    "tags": [],
    "deepnote_to_be_reexecuted": false,
    "source_hash": "1643ee0b",
    "execution_start": 1660949427120,
    "execution_millis": 12,
    "deepnote_cell_type": "code",
    "deepnote_cell_height": 187.34375,
    "deepnote_output_heights": [
     59.34375
    ]
   },
   "source": "from sklearn.linear_model import LinearRegression\nmodel = LinearRegression()\nmodel.fit(X_train,y_train)",
   "execution_count": 137,
   "outputs": [
    {
     "output_type": "execute_result",
     "execution_count": 137,
     "data": {
      "text/plain": "LinearRegression()",
      "text/html": "<style>#sk-container-id-5 {color: black;background-color: white;}#sk-container-id-5 pre{padding: 0;}#sk-container-id-5 div.sk-toggleable {background-color: white;}#sk-container-id-5 label.sk-toggleable__label {cursor: pointer;display: block;width: 100%;margin-bottom: 0;padding: 0.3em;box-sizing: border-box;text-align: center;}#sk-container-id-5 label.sk-toggleable__label-arrow:before {content: \"▸\";float: left;margin-right: 0.25em;color: #696969;}#sk-container-id-5 label.sk-toggleable__label-arrow:hover:before {color: black;}#sk-container-id-5 div.sk-estimator:hover label.sk-toggleable__label-arrow:before {color: black;}#sk-container-id-5 div.sk-toggleable__content {max-height: 0;max-width: 0;overflow: hidden;text-align: left;background-color: #f0f8ff;}#sk-container-id-5 div.sk-toggleable__content pre {margin: 0.2em;color: black;border-radius: 0.25em;background-color: #f0f8ff;}#sk-container-id-5 input.sk-toggleable__control:checked~div.sk-toggleable__content {max-height: 200px;max-width: 100%;overflow: auto;}#sk-container-id-5 input.sk-toggleable__control:checked~label.sk-toggleable__label-arrow:before {content: \"▾\";}#sk-container-id-5 div.sk-estimator input.sk-toggleable__control:checked~label.sk-toggleable__label {background-color: #d4ebff;}#sk-container-id-5 div.sk-label input.sk-toggleable__control:checked~label.sk-toggleable__label {background-color: #d4ebff;}#sk-container-id-5 input.sk-hidden--visually {border: 0;clip: rect(1px 1px 1px 1px);clip: rect(1px, 1px, 1px, 1px);height: 1px;margin: -1px;overflow: hidden;padding: 0;position: absolute;width: 1px;}#sk-container-id-5 div.sk-estimator {font-family: monospace;background-color: #f0f8ff;border: 1px dotted black;border-radius: 0.25em;box-sizing: border-box;margin-bottom: 0.5em;}#sk-container-id-5 div.sk-estimator:hover {background-color: #d4ebff;}#sk-container-id-5 div.sk-parallel-item::after {content: \"\";width: 100%;border-bottom: 1px solid gray;flex-grow: 1;}#sk-container-id-5 div.sk-label:hover label.sk-toggleable__label {background-color: #d4ebff;}#sk-container-id-5 div.sk-serial::before {content: \"\";position: absolute;border-left: 1px solid gray;box-sizing: border-box;top: 0;bottom: 0;left: 50%;z-index: 0;}#sk-container-id-5 div.sk-serial {display: flex;flex-direction: column;align-items: center;background-color: white;padding-right: 0.2em;padding-left: 0.2em;position: relative;}#sk-container-id-5 div.sk-item {position: relative;z-index: 1;}#sk-container-id-5 div.sk-parallel {display: flex;align-items: stretch;justify-content: center;background-color: white;position: relative;}#sk-container-id-5 div.sk-item::before, #sk-container-id-5 div.sk-parallel-item::before {content: \"\";position: absolute;border-left: 1px solid gray;box-sizing: border-box;top: 0;bottom: 0;left: 50%;z-index: -1;}#sk-container-id-5 div.sk-parallel-item {display: flex;flex-direction: column;z-index: 1;position: relative;background-color: white;}#sk-container-id-5 div.sk-parallel-item:first-child::after {align-self: flex-end;width: 50%;}#sk-container-id-5 div.sk-parallel-item:last-child::after {align-self: flex-start;width: 50%;}#sk-container-id-5 div.sk-parallel-item:only-child::after {width: 0;}#sk-container-id-5 div.sk-dashed-wrapped {border: 1px dashed gray;margin: 0 0.4em 0.5em 0.4em;box-sizing: border-box;padding-bottom: 0.4em;background-color: white;}#sk-container-id-5 div.sk-label label {font-family: monospace;font-weight: bold;display: inline-block;line-height: 1.2em;}#sk-container-id-5 div.sk-label-container {text-align: center;}#sk-container-id-5 div.sk-container {/* jupyter's `normalize.less` sets `[hidden] { display: none; }` but bootstrap.min.css set `[hidden] { display: none !important; }` so we also need the `!important` here to be able to override the default hidden behavior on the sphinx rendered scikit-learn.org. See: https://github.com/scikit-learn/scikit-learn/issues/21755 */display: inline-block !important;position: relative;}#sk-container-id-5 div.sk-text-repr-fallback {display: none;}</style><div id=\"sk-container-id-5\" class=\"sk-top-container\"><div class=\"sk-text-repr-fallback\"><pre>LinearRegression()</pre><b>In a Jupyter environment, please rerun this cell to show the HTML representation or trust the notebook. <br />On GitHub, the HTML representation is unable to render, please try loading this page with nbviewer.org.</b></div><div class=\"sk-container\" hidden><div class=\"sk-item\"><div class=\"sk-estimator sk-toggleable\"><input class=\"sk-toggleable__control sk-hidden--visually\" id=\"sk-estimator-id-5\" type=\"checkbox\" checked><label for=\"sk-estimator-id-5\" class=\"sk-toggleable__label sk-toggleable__label-arrow\">LinearRegression</label><div class=\"sk-toggleable__content\"><pre>LinearRegression()</pre></div></div></div></div></div>"
     },
     "metadata": {}
    }
   ]
  },
  {
   "cell_type": "code",
   "metadata": {
    "cell_id": "ebb3aae76c2f4d76899dba410ef0f20f",
    "tags": [],
    "deepnote_to_be_reexecuted": false,
    "source_hash": "d38a8d8a",
    "execution_start": 1660949434632,
    "execution_millis": 4,
    "deepnote_cell_type": "code",
    "deepnote_cell_height": 125.1875
   },
   "source": "#print the intercept\nprint(model.intercept_)",
   "execution_count": 139,
   "outputs": [
    {
     "name": "stdout",
     "text": "0.9650650884313159\n",
     "output_type": "stream"
    }
   ]
  },
  {
   "cell_type": "code",
   "metadata": {
    "cell_id": "acbef1036f9245ca9a4b62f2f9e7134f",
    "tags": [],
    "deepnote_to_be_reexecuted": false,
    "source_hash": "dc49e44c",
    "execution_start": 1660949438455,
    "execution_millis": 277,
    "deepnote_table_state": {
     "pageSize": 10,
     "pageIndex": 3,
     "filters": [],
     "sortBy": []
    },
    "deepnote_table_loading": false,
    "deepnote_cell_type": "code",
    "deepnote_cell_height": 244
   },
   "source": "coeff_parameter = pd.DataFrame(model.coef_,x.columns,columns=['Coefficient'])\ncoeff_parameter",
   "execution_count": 140,
   "outputs": [
    {
     "output_type": "execute_result",
     "execution_count": 140,
     "data": {
      "application/vnd.deepnote.dataframe.v3+json": {
       "column_count": 1,
       "row_count": 21,
       "columns": [
        {
         "name": "Coefficient",
         "dtype": "float64",
         "stats": {
          "unique_count": 21,
          "nan_count": 0,
          "min": "-1.5503704042689488",
          "max": "6.395132103855169",
          "histogram": [
           {
            "bin_start": -1.5503704042689488,
            "bin_end": -0.755820153456537,
            "count": 2
           },
           {
            "bin_start": -0.755820153456537,
            "bin_end": 0.03873009735587485,
            "count": 6
           },
           {
            "bin_start": 0.03873009735587485,
            "bin_end": 0.8332803481682867,
            "count": 8
           },
           {
            "bin_start": 0.8332803481682867,
            "bin_end": 1.6278305989806985,
            "count": 3
           },
           {
            "bin_start": 1.6278305989806985,
            "bin_end": 2.42238084979311,
            "count": 1
           },
           {
            "bin_start": 2.42238084979311,
            "bin_end": 3.216931100605522,
            "count": 0
           },
           {
            "bin_start": 3.216931100605522,
            "bin_end": 4.011481351417934,
            "count": 0
           },
           {
            "bin_start": 4.011481351417934,
            "bin_end": 4.8060316022303455,
            "count": 0
           },
           {
            "bin_start": 4.8060316022303455,
            "bin_end": 5.600581853042757,
            "count": 0
           },
           {
            "bin_start": 5.600581853042757,
            "bin_end": 6.395132103855169,
            "count": 1
           }
          ]
         }
        },
        {
         "name": "_deepnote_index_column",
         "dtype": "object"
        }
       ],
       "rows": [
        {
         "Coefficient": 0.18474562346980794,
         "_deepnote_index_column": "September"
        }
       ]
      },
      "text/plain": "                     Coefficient\nposition1               2.302880\nposition2               1.211517\nposition3               0.888965\nposition5               0.007115\nposition6               1.126355\nBons plan              -1.550370\nCrazy                  -0.894845\nFoliday                -0.529013\nPromotions             -0.560155\nSejour tout compris     6.395132\nAugust                  0.555765\nDecember                0.280903\nFebruary               -0.189727\nJanuary                 0.245497\nJuly                    0.784797\nJune                    0.069512\nMarch                  -0.390446\nMay                     0.075471\nNovember               -0.138536\nOctober                 0.390517\nSeptember               0.184746",
      "text/html": "<div>\n<style scoped>\n    .dataframe tbody tr th:only-of-type {\n        vertical-align: middle;\n    }\n\n    .dataframe tbody tr th {\n        vertical-align: top;\n    }\n\n    .dataframe thead th {\n        text-align: right;\n    }\n</style>\n<table border=\"1\" class=\"dataframe\">\n  <thead>\n    <tr style=\"text-align: right;\">\n      <th></th>\n      <th>Coefficient</th>\n    </tr>\n  </thead>\n  <tbody>\n    <tr>\n      <th>position1</th>\n      <td>2.302880</td>\n    </tr>\n    <tr>\n      <th>position2</th>\n      <td>1.211517</td>\n    </tr>\n    <tr>\n      <th>position3</th>\n      <td>0.888965</td>\n    </tr>\n    <tr>\n      <th>position5</th>\n      <td>0.007115</td>\n    </tr>\n    <tr>\n      <th>position6</th>\n      <td>1.126355</td>\n    </tr>\n    <tr>\n      <th>Bons plan</th>\n      <td>-1.550370</td>\n    </tr>\n    <tr>\n      <th>Crazy</th>\n      <td>-0.894845</td>\n    </tr>\n    <tr>\n      <th>Foliday</th>\n      <td>-0.529013</td>\n    </tr>\n    <tr>\n      <th>Promotions</th>\n      <td>-0.560155</td>\n    </tr>\n    <tr>\n      <th>Sejour tout compris</th>\n      <td>6.395132</td>\n    </tr>\n    <tr>\n      <th>August</th>\n      <td>0.555765</td>\n    </tr>\n    <tr>\n      <th>December</th>\n      <td>0.280903</td>\n    </tr>\n    <tr>\n      <th>February</th>\n      <td>-0.189727</td>\n    </tr>\n    <tr>\n      <th>January</th>\n      <td>0.245497</td>\n    </tr>\n    <tr>\n      <th>July</th>\n      <td>0.784797</td>\n    </tr>\n    <tr>\n      <th>June</th>\n      <td>0.069512</td>\n    </tr>\n    <tr>\n      <th>March</th>\n      <td>-0.390446</td>\n    </tr>\n    <tr>\n      <th>May</th>\n      <td>0.075471</td>\n    </tr>\n    <tr>\n      <th>November</th>\n      <td>-0.138536</td>\n    </tr>\n    <tr>\n      <th>October</th>\n      <td>0.390517</td>\n    </tr>\n    <tr>\n      <th>September</th>\n      <td>0.184746</td>\n    </tr>\n  </tbody>\n</table>\n</div>"
     },
     "metadata": {}
    }
   ]
  },
  {
   "cell_type": "code",
   "metadata": {
    "cell_id": "059822779c4f4a28aae296da41060830",
    "tags": [],
    "deepnote_to_be_reexecuted": false,
    "source_hash": "c899529d",
    "execution_start": 1660949444463,
    "execution_millis": 190,
    "deepnote_cell_type": "code",
    "deepnote_cell_height": 590.6875,
    "deepnote_output_heights": [
     480.6875
    ]
   },
   "source": "predictions = model.predict(X_test)\npredictions",
   "execution_count": 141,
   "outputs": [
    {
     "output_type": "execute_result",
     "execution_count": 141,
     "data": {
      "text/plain": "array([2.96137825, 1.32584597, 2.96137825, 2.50237153, 1.75697641,\n       2.6388271 , 0.20660601, 3.49258682, 1.74986175, 1.08845669,\n       1.41100785, 1.41100785, 0.20660601, 3.49258682, 1.75697641,\n       2.6388271 , 2.96137825, 1.41100785, 1.75697641, 2.50237153,\n       2.96137825, 1.74986175, 2.6388271 , 2.96137825, 3.49258682,\n       0.19949134, 1.32584597, 2.96137825, 1.75697641, 2.6388271 ,\n       3.49258682, 2.96137825, 0.20660601, 2.50237153, 1.08845669,\n       2.6388271 , 1.41100785, 0.20660601, 1.32584597, 2.6388271 ,\n       2.50237153, 1.08845669, 2.96137825, 1.74986175, 1.75697641,\n       1.41100785, 3.49258682, 0.19949134, 2.96137825, 3.49258682,\n       1.75697641, 1.08845669, 0.19949134, 2.6388271 , 1.32584597,\n       2.50237153, 1.41100785, 1.08845669, 1.32584597, 3.49258682,\n       2.96137825, 2.50237153, 1.41100785, 1.75697641, 2.6388271 ,\n       0.19949134, 1.41100785, 2.50237153, 1.32584597, 0.20660601,\n       2.96137825, 3.49258682, 2.6388271 , 1.75697641, 1.75697641,\n       2.50237153, 2.96137825, 2.96137825, 2.6388271 , 3.49258682,\n       1.41100785, 0.19949134, 1.32584597, 1.75697641, 1.41100785,\n       0.20660601, 0.19949134, 2.96137825, 2.50237153, 2.6388271 ,\n       3.49258682, 3.49258682, 2.50237153, 2.6388271 , 1.08845669,\n       0.20660601, 2.96137825, 2.6388271 , 0.19949134, 1.75697641,\n       1.41100785, 1.75697641, 0.19949134, 2.50237153, 1.74986175,\n       1.08845669, 2.96137825, 1.41100785, 2.6388271 , 1.32584597,\n       0.20660601, 3.49258682, 1.75697641, 1.74986175, 2.50237153,\n       1.08845669, 3.49258682, 2.96137825, 0.19949134, 2.6388271 ,\n       1.41100785])"
     },
     "metadata": {}
    }
   ]
  },
  {
   "cell_type": "code",
   "metadata": {
    "cell_id": "243ccf59504740418ea8f90507fb16ef",
    "tags": [],
    "deepnote_to_be_reexecuted": false,
    "source_hash": "c1d7898a",
    "execution_start": 1660949448891,
    "execution_millis": 319,
    "deepnote_cell_type": "code",
    "deepnote_cell_height": 494.5625,
    "deepnote_output_heights": [
     null,
     20.1875,
     263
    ]
   },
   "source": "sns.regplot(y_test,predictions)\n",
   "execution_count": 142,
   "outputs": [
    {
     "name": "stderr",
     "text": "/shared-libs/python3.9/py/lib/python3.9/site-packages/seaborn/_decorators.py:36: FutureWarning: Pass the following variables as keyword args: x, y. From version 0.12, the only valid positional argument will be `data`, and passing other arguments without an explicit keyword will result in an error or misinterpretation.\n  warnings.warn(\n",
     "output_type": "stream"
    },
    {
     "output_type": "execute_result",
     "execution_count": 142,
     "data": {
      "text/plain": "<AxesSubplot:xlabel='CTR'>"
     },
     "metadata": {}
    },
    {
     "data": {
      "text/plain": "<Figure size 432x288 with 1 Axes>",
      "image/png": "[encoded data removed]"
     },
     "metadata": {
      "needs_background": "light",
      "image/png": {
       "width": 362,
       "height": 262
      }
     },
     "output_type": "display_data"
    }
   ]
  },
  {
   "cell_type": "code",
   "metadata": {
    "cell_id": "def4677984c44343a5c1a3a1d4319d94",
    "tags": [],
    "deepnote_to_be_reexecuted": false,
    "source_hash": "cbee9a94",
    "execution_start": 1660949455664,
    "execution_millis": 313,
    "deepnote_cell_type": "code",
    "deepnote_cell_height": 768
   },
   "source": "import statsmodels.api as sm\nX_train_Sm= sm.add_constant(X_train)\nX_train_Sm= sm.add_constant(X_train)\nls=sm.OLS(y_train,X_train_Sm).fit()\nprint(ls.summary())",
   "execution_count": 143,
   "outputs": [
    {
     "name": "stdout",
     "text": "                            OLS Regression Results                            \n==============================================================================\nDep. Variable:                    CTR   R-squared:                       0.851\nModel:                            OLS   Adj. R-squared:                  0.849\nMethod:                 Least Squares   F-statistic:                     535.6\nDate:                Fri, 19 Aug 2022   Prob (F-statistic):               0.00\nTime:                        22:50:55   Log-Likelihood:                -2762.4\nNo. Observations:                1994   AIC:                             5569.\nDf Residuals:                    1972   BIC:                             5692.\nDf Model:                          21                                         \nCovariance Type:            nonrobust                                         \n=====================================================================================================\n                                        coef    std err          t      P>|t|      [0.025      0.975]\n-----------------------------------------------------------------------------------------------------\nconst                                 0.9651      0.103      9.408      0.000       0.764       1.166\nposition_position1                    2.3029      0.093     24.718      0.000       2.120       2.486\nposition_position2                    1.2115      0.092     13.117      0.000       1.030       1.393\nposition_position3                    0.8890      0.090      9.835      0.000       0.712       1.066\nposition_position5                    0.0071      0.121      0.059      0.953      -0.230       0.244\nposition_position6                    1.1264      0.164      6.861      0.000       0.804       1.448\ntype_banniere_Bons Plans             -1.5504      0.053    -29.293      0.000      -1.654      -1.447\ntype_banniere_Crazy                  -0.8948      0.273     -3.276      0.001      -1.431      -0.359\ntype_banniere_Foliday                -0.5290      0.228     -2.323      0.020      -0.976      -0.082\ntype_banniere_Promotions             -0.5602      0.091     -6.136      0.000      -0.739      -0.381\ntype_banniere_Sejour tout compris     6.3951      0.087     73.124      0.000       6.224       6.567\nmois_August                           0.5558      0.110      5.037      0.000       0.339       0.772\nmois_December                         0.2809      0.124      2.268      0.023       0.038       0.524\nmois_February                        -0.1897      0.103     -1.837      0.066      -0.392       0.013\nmois_January                          0.2455      0.105      2.340      0.019       0.040       0.451\nmois_July                             0.7848      0.105      7.452      0.000       0.578       0.991\nmois_June                             0.0695      0.095      0.729      0.466      -0.118       0.257\nmois_March                           -0.3904      0.104     -3.745      0.000      -0.595      -0.186\nmois_May                              0.0755      0.097      0.779      0.436      -0.115       0.266\nmois_November                        -0.1385      0.124     -1.118      0.264      -0.382       0.105\nmois_October                          0.3905      0.126      3.109      0.002       0.144       0.637\nmois_September                        0.1847      0.119      1.549      0.122      -0.049       0.419\n==============================================================================\nOmnibus:                      418.256   Durbin-Watson:                   2.125\nProb(Omnibus):                  0.000   Jarque-Bera (JB):             1705.906\nSkew:                           0.964   Prob(JB):                         0.00\nKurtosis:                       7.100   Cond. No.                         15.3\n==============================================================================\n\nNotes:\n[1] Standard Errors assume that the covariance matrix of the errors is correctly specified.\n",
     "output_type": "stream"
    }
   ]
  },
  {
   "cell_type": "markdown",
   "source": "# Test d'homoscidasité",
   "metadata": {
    "formattedRanges": [],
    "is_collapsed": false,
    "cell_id": "f2b155b7c96942a199e9e808b8128622",
    "tags": [],
    "deepnote_cell_type": "text-cell-h1"
   }
  },
  {
   "cell_type": "code",
   "metadata": {
    "cell_id": "06c5779c825a44d597b93be77cf6c06c",
    "tags": [],
    "deepnote_to_be_reexecuted": false,
    "source_hash": "9a1591d4",
    "execution_start": 1660949459637,
    "execution_millis": 0,
    "deepnote_cell_type": "code",
    "deepnote_cell_height": 94
   },
   "source": "from statsmodels.compat import lzip\nimport statsmodels.stats.api as sms",
   "execution_count": 144,
   "outputs": []
  },
  {
   "cell_type": "code",
   "metadata": {
    "cell_id": "06da83f1dbf34b1198a856531dba8baf",
    "tags": [],
    "deepnote_to_be_reexecuted": false,
    "source_hash": "c8571290",
    "execution_start": 1660948355890,
    "execution_millis": 0,
    "deepnote_cell_type": "code",
    "deepnote_cell_height": 94
   },
   "source": "names = ['Lagrange multiplier statistic', 'p-value',\n        'f-value', 'f p-value']",
   "execution_count": 71,
   "outputs": []
  },
  {
   "cell_type": "code",
   "metadata": {
    "cell_id": "efec73779a284e4e97862c2bdff1ce5f",
    "tags": [],
    "deepnote_to_be_reexecuted": false,
    "source_hash": "6989b032",
    "execution_start": 1660949462578,
    "execution_millis": 13,
    "deepnote_cell_type": "code",
    "deepnote_cell_height": 385.75,
    "deepnote_output_heights": [
     77.75
    ]
   },
   "source": "#https://www.statology.org/breusch-pagan-test-python/\n\nfrom statsmodels.compat import lzip\nimport statsmodels.stats.api as sms\n\n#perform Bresuch-Pagan test\nnames = ['Lagrange multiplier statistic', 'p-value',\n        'f-value', 'f p-value']\ntest = sms.het_breuschpagan(ls.resid, ls.model.exog)\n\nlzip(names, test)\n\n",
   "execution_count": 145,
   "outputs": [
    {
     "output_type": "execute_result",
     "execution_count": 145,
     "data": {
      "text/plain": "[('Lagrange multiplier statistic', 315.74560902862663),\n ('p-value', 1.963646927074323e-54),\n ('f-value', 17.667176321907792),\n ('f p-value', 1.0213142343710131e-59)]"
     },
     "metadata": {}
    }
   ]
  },
  {
   "cell_type": "markdown",
   "source": "### nous constatons qu'il y a une hétéroscédasticité -->ce critère n'est pas vérifier pour remédier à ce probleme nous allons Utiliser la régression pondérée",
   "metadata": {
    "is_collapsed": false,
    "cell_id": "2b145596191740f7b0c537fe62091440",
    "tags": [],
    "formattedRanges": [],
    "deepnote_cell_type": "text-cell-h3"
   }
  },
  {
   "cell_type": "markdown",
   "source": "# Test de shapiro wilk",
   "metadata": {
    "is_collapsed": false,
    "cell_id": "692d02018317439188bd6e0cb1b77f84",
    "tags": [],
    "formattedRanges": [],
    "deepnote_cell_type": "text-cell-h1"
   }
  },
  {
   "cell_type": "code",
   "source": "from scipy.stats import shapiro\nstat, p = shapiro(datafs)\nstat\np\n",
   "metadata": {
    "cell_id": "6ef95ee8fa97449ba7fd40ad7e14bc72",
    "tags": [],
    "deepnote_to_be_reexecuted": false,
    "source_hash": "30d6d398",
    "execution_start": 1660949468357,
    "execution_millis": 62,
    "deepnote_cell_type": "code",
    "deepnote_cell_height": 254.5625,
    "deepnote_output_heights": [
     20.1875,
     20.1875
    ]
   },
   "outputs": [
    {
     "name": "stderr",
     "text": "/shared-libs/python3.9/py/lib/python3.9/site-packages/scipy/stats/_morestats.py:1800: UserWarning: p-value may not be accurate for N > 5000.\n  warnings.warn(\"p-value may not be accurate for N > 5000.\")\n",
     "output_type": "stream"
    },
    {
     "output_type": "execute_result",
     "execution_count": 146,
     "data": {
      "text/plain": "1.0"
     },
     "metadata": {}
    }
   ],
   "execution_count": 146
  },
  {
   "cell_type": "markdown",
   "source": "Nous remarquons que la normalité est vérifieé",
   "metadata": {
    "is_collapsed": false,
    "cell_id": "ab0eb5d3700e4df19352e80ac2f583c2",
    "tags": [],
    "formattedRanges": [],
    "deepnote_cell_type": "text-cell-p"
   }
  },
  {
   "cell_type": "code",
   "source": "  from statsmodels.stats.stattools import durbin_watson\n\n#perform Durbin-Watson test\ndurbin_watson(ls.resid)",
   "metadata": {
    "cell_id": "4c70b89180e24384aac5e5fb5917ad66",
    "tags": [],
    "deepnote_to_be_reexecuted": false,
    "source_hash": "b0698702",
    "execution_start": 1660949486677,
    "execution_millis": 9,
    "deepnote_cell_type": "code",
    "deepnote_cell_height": 193,
    "deepnote_output_heights": [
     20.1875
    ]
   },
   "outputs": [
    {
     "output_type": "execute_result",
     "execution_count": 148,
     "data": {
      "text/plain": "2.1252510997416745"
     },
     "metadata": {}
    }
   ],
   "execution_count": 148
  },
  {
   "cell_type": "markdown",
   "source": "La statistique de test est  de 2,12 . Étant donné que cela se situe dans la plage de 1,5 et 2,5, nous considérons que l'autocorrélation n'est pas problématique dans ce modèle de régression.",
   "metadata": {
    "is_collapsed": false,
    "cell_id": "78af75c18dcd4f08aac867485a9403c8",
    "tags": [],
    "formattedRanges": [],
    "deepnote_cell_type": "text-cell-p"
   }
  },
  {
   "cell_type": "code",
   "metadata": {
    "cell_id": "62f1868404bc4c35abd3e2380ad887d6",
    "tags": [],
    "deepnote_to_be_reexecuted": false,
    "source_hash": "48f0191f",
    "execution_start": 1660948466092,
    "execution_millis": 304,
    "deepnote_cell_type": "code",
    "deepnote_cell_height": 130
   },
   "source": "from sklearn.metrics import mean_squared_error, mean_absolute_error, mean_absolute_percentage_error\nimport matplotlib.pyplot as plt\nfrom sklearn.ensemble import RandomForestRegressor\n",
   "execution_count": 77,
   "outputs": []
  },
  {
   "cell_type": "code",
   "metadata": {
    "cell_id": "96ab763583314b96a7163bc9635ffbb2",
    "tags": [],
    "deepnote_to_be_reexecuted": false,
    "source_hash": "44d5ab39",
    "execution_start": 1660948468199,
    "execution_millis": 416,
    "deepnote_cell_type": "code",
    "deepnote_cell_height": 819.5625,
    "deepnote_output_heights": [
     353
    ]
   },
   "source": "\n# Get predictions\ny_train_pred = model.predict(X_train)\ny_test_pred = model.predict(X_test)\n\ndf_results_train = pd.DataFrame({'Actual': y_train , 'Predicted': y_train_pred})\ndf_results_test = pd.DataFrame({'Actual': y_test , 'Predicted': y_test_pred})\n# Prediction vs Actual plot\nsns.lmplot(x='Actual', y='Predicted', data=df_results_train, fit_reg=False, markers = \"x\")\nd_line= np.arange(df_results_train.min().min(), df_results_train.max().max())\nplt.plot(d_line, d_line, color='green', linestyle='--')\nplt.show()\n\n# Show Metrics\nprint(f\"MAE {mean_absolute_error(y_train, y_train_pred)}\")\nprint(f\"MAPE {mean_absolute_percentage_error(y_train, y_train_pred)}\")\nprint(f\"MSE :  {mean_squared_error(y_train, y_train_pred)}\")",
   "execution_count": 78,
   "outputs": [
    {
     "data": {
      "text/plain": "<Figure size 360x360 with 1 Axes>",
      "image/png": "[encoded data removed]"
     },
     "metadata": {
      "needs_background": "light",
      "image/png": {
       "width": 352,
       "height": 352
      }
     },
     "output_type": "display_data"
    },
    {
     "name": "stdout",
     "text": "MAE 0.3222253982471655\nMAPE 4640450123103.476\nMSE :  0.16772411952901642\n",
     "output_type": "stream"
    }
   ]
  },
  {
   "cell_type": "code",
   "metadata": {
    "cell_id": "198ef2293edd4b669350346cc21df468",
    "tags": [],
    "deepnote_to_be_reexecuted": false,
    "source_hash": "4678e787",
    "execution_start": 1660948484755,
    "execution_millis": 1370,
    "deepnote_cell_type": "code",
    "deepnote_cell_height": 873.5625,
    "deepnote_output_heights": [
     353
    ]
   },
   "source": "reg = RandomForestRegressor()\nreg.fit(X_train, y_train)\n\n# Get predictions\ny_train_pred = reg.predict(X_train)\ny_test_pred = reg.predict(X_test)\n\ndf_results_train = pd.DataFrame({'Actual': y_train , 'Predicted': y_train_pred})\ndf_results_test = pd.DataFrame({'Actual': y_test , 'Predicted': y_test_pred})\n# Prediction vs Actual plot\nsns.lmplot(x='Actual', y='Predicted', data=df_results_train, fit_reg=False, markers = \"x\")\nd_line= np.arange(df_results_train.min().min(), df_results_train.max().max())\nplt.plot(d_line, d_line, color='green', linestyle='--')\nplt.show()\n\n# Show Metrics\nprint(f\"MAE {mean_absolute_error(y_train, y_train_pred)}\")\nprint(f\"MAPE {mean_absolute_percentage_error(y_train, y_train_pred)}\")\nprint(f\"MSE :  {mean_squared_error(y_train, y_train_pred)}\")\n",
   "execution_count": 79,
   "outputs": [
    {
     "data": {
      "text/plain": "<Figure size 360x360 with 1 Axes>",
      "image/png": "[encoded data removed]"
     },
     "metadata": {
      "needs_background": "light",
      "image/png": {
       "width": 352,
       "height": 352
      }
     },
     "output_type": "display_data"
    },
    {
     "name": "stdout",
     "text": "MAE 0.20464799030842556\nMAPE 5168811435868.321\nMSE :  0.07161249569941197\n",
     "output_type": "stream"
    }
   ]
  },
  {
   "cell_type": "code",
   "metadata": {
    "cell_id": "edb169c0dcce44bd952fda5ee31b39e9",
    "tags": [],
    "deepnote_to_be_reexecuted": false,
    "source_hash": "122d3e14",
    "execution_start": 1660948489523,
    "execution_millis": 385,
    "deepnote_cell_type": "code",
    "deepnote_cell_height": 711.5625,
    "deepnote_output_heights": [
     353
    ]
   },
   "source": "# with position MSE :  0.29\n# Prediction vs Actual plot\nsns.lmplot(x='Actual', y='Predicted', data=df_results_test, fit_reg=False, markers = \"x\")\nd_line= np.arange(df_results_test.min().min(), df_results_test.max().max())\nplt.plot(d_line, d_line, color='green', linestyle='--')\nplt.show()\n\n# Show Metrics\nprint(f\"MAE {mean_absolute_error(y_train, y_train_pred)}\")\nprint(f\"MAPE {mean_absolute_percentage_error(y_train, y_train_pred)}\")\nprint(f\"MSE :  {mean_squared_error(y_train, y_train_pred)}\")",
   "execution_count": 80,
   "outputs": [
    {
     "data": {
      "text/plain": "<Figure size 360x360 with 1 Axes>",
      "image/png": "[encoded data removed]"
     },
     "metadata": {
      "needs_background": "light",
      "image/png": {
       "width": 352,
       "height": 352
      }
     },
     "output_type": "display_data"
    },
    {
     "name": "stdout",
     "text": "MAE 0.20464799030842556\nMAPE 5168811435868.321\nMSE :  0.07161249569941197\n",
     "output_type": "stream"
    }
   ]
  },
  {
   "cell_type": "code",
   "metadata": {
    "cell_id": "0daf55281a5841499bb9d57058483d76",
    "tags": [],
    "deepnote_to_be_reexecuted": false,
    "source_hash": "f2663f4d",
    "execution_start": 1660946910338,
    "execution_millis": 456,
    "deepnote_cell_type": "code",
    "deepnote_cell_height": 627.1875,
    "deepnote_output_heights": [
     20.1875,
     412
    ]
   },
   "source": "plt.figure(figsize = (6,7))\nimportances = pd.DataFrame({\"features\" : X_train.columns,\n                            \"importance\" : reg.feature_importances_}).sort_values(\"importance\")\n\nplt.barh(importances.features, importances.importance)",
   "outputs": [
    {
     "output_type": "execute_result",
     "execution_count": 36,
     "data": {
      "text/plain": "<BarContainer object of 27 artists>"
     },
     "metadata": {}
    },
    {
     "data": {
      "text/plain": "<Figure size 432x504 with 1 Axes>",
      "image/png": "[encoded data removed]"
     },
     "metadata": {
      "needs_background": "light",
      "image/png": {
       "width": 530,
       "height": 411
      }
     },
     "output_type": "display_data"
    }
   ],
   "execution_count": null
  },
  {
   "cell_type": "markdown",
   "source": "<a style='text-decoration:none;line-height:16px;display:flex;color:#5B5B62;padding:10px;justify-content:end;' href='https://deepnote.com?utm_source=created-in-deepnote-cell&projectId=17c78468-df45-44b7-9d10-8043693c30e4' target=\"_blank\">\n<img alt='Created in deepnote.com' style='display:inline;max-height:16px;margin:0px;margin-right:7.5px;' src='data:image/svg+xml;base64,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' > </img>\nCreated in <span style='font-weight:600;margin-left:4px;'>Deepnote</span></a>",
   "metadata": {
    "tags": [],
    "created_in_deepnote_cell": true,
    "deepnote_cell_type": "markdown"
   }
  }
 ],
 "nbformat": 4,
 "nbformat_minor": 2,
 "metadata": {
  "orig_nbformat": 2,
  "deepnote": {},
  "deepnote_notebook_id": "528a8228-37d2-40cf-8ace-fd366617e6f8",
  "deepnote_execution_queue": []
 }
}