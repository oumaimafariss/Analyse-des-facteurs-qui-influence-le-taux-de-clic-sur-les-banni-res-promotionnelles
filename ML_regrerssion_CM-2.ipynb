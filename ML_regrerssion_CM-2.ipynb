{
 "cells": [
  {
   "cell_type": "markdown",
   "source": "",
   "metadata": {
    "formattedRanges": [],
    "is_collapsed": false,
    "tags": [],
    "cell_id": "57005142-d963-444b-99c0-969e7cf26c5b",
    "deepnote_cell_type": "text-cell-p"
   }
  },
  {
   "cell_type": "code",
   "metadata": {
    "tags": [],
    "deepnote_to_be_reexecuted": false,
    "source_hash": "b454ce01",
    "execution_start": 1660207597141,
    "execution_millis": 1,
    "cell_id": "00001-84c98a10-03d8-4302-b71f-49b8cbebc6a5",
    "deepnote_cell_type": "code",
    "deepnote_cell_height": 130
   },
   "source": "import pandas as pd\nimport numpy as np\nimport seaborn as sns\n",
   "execution_count": null,
   "outputs": []
  },
  {
   "cell_type": "code",
   "metadata": {
    "tags": [],
    "deepnote_to_be_reexecuted": false,
    "source_hash": "d05985e8",
    "execution_start": 1660207815858,
    "execution_millis": 109,
    "deepnote_table_state": {
     "pageSize": 10,
     "pageIndex": 1,
     "filters": [],
     "sortBy": []
    },
    "deepnote_table_loading": false,
    "cell_id": "00002-4a5f6dac-c9ae-4b29-95e6-8e66b6892634",
    "deepnote_cell_type": "code",
    "deepnote_cell_height": 634
   },
   "source": "data = pd.read_csv ('/work/Marmara.csv')\ndata",
   "execution_count": null,
   "outputs": [
    {
     "output_type": "execute_result",
     "execution_count": 30,
     "data": {
      "application/vnd.deepnote.dataframe.v3+json": {
       "column_count": 11,
       "row_count": 2123,
       "columns": [
        {
         "name": "date",
         "dtype": "object",
         "stats": {
          "unique_count": 388,
          "nan_count": 0,
          "categories": [
           {
            "name": "2022-05-30",
            "count": 14
           },
           {
            "name": "2022-05-25",
            "count": 14
           },
           {
            "name": "386 others",
            "count": 2095
           }
          ]
         }
        },
        {
         "name": "promotion_name",
         "dtype": "object",
         "stats": {
          "unique_count": 188,
          "nan_count": 8,
          "categories": [
           {
            "name": "Réservez Primo Hiver",
            "count": 91
           },
           {
            "name": "187 others",
            "count": 2024
           },
           {
            "name": "Missing",
            "count": 8
           }
          ]
         }
        },
        {
         "name": "promoPosition",
         "dtype": "object",
         "stats": {
          "unique_count": 12,
          "nan_count": 8,
          "categories": [
           {
            "name": "Home CM – bonnes affaires grandes-1",
            "count": 422
           },
           {
            "name": "11 others",
            "count": 1693
           },
           {
            "name": "Missing",
            "count": 8
           }
          ]
         }
        },
        {
         "name": "pagetype",
         "dtype": "object",
         "stats": {
          "unique_count": 1,
          "nan_count": 8,
          "categories": [
           {
            "name": "HomePage",
            "count": 2115
           },
           {
            "name": "Missing",
            "count": 8
           }
          ]
         }
        },
        {
         "name": "contentgroup_1",
         "dtype": "object",
         "stats": {
          "unique_count": 1,
          "nan_count": 8,
          "categories": [
           {
            "name": "Home",
            "count": 2115
           },
           {
            "name": "Missing",
            "count": 8
           }
          ]
         }
        },
        {
         "name": "contentgroup_2",
         "dtype": "object",
         "stats": {
          "unique_count": 1,
          "nan_count": 8,
          "categories": [
           {
            "name": "Club Marmara",
            "count": 2115
           },
           {
            "name": "Missing",
            "count": 8
           }
          ]
         }
        },
        {
         "name": "views",
         "dtype": "float64",
         "stats": {
          "unique_count": 1248,
          "nan_count": 8,
          "min": "256.0",
          "max": "12139.0",
          "histogram": [
           {
            "bin_start": 256,
            "bin_end": 1444.3,
            "count": 121
           },
           {
            "bin_start": 1444.3,
            "bin_end": 2632.6,
            "count": 444
           },
           {
            "bin_start": 2632.6,
            "bin_end": 3820.8999999999996,
            "count": 311
           },
           {
            "bin_start": 3820.8999999999996,
            "bin_end": 5009.2,
            "count": 293
           },
           {
            "bin_start": 5009.2,
            "bin_end": 6197.5,
            "count": 406
           },
           {
            "bin_start": 6197.5,
            "bin_end": 7385.799999999999,
            "count": 287
           },
           {
            "bin_start": 7385.799999999999,
            "bin_end": 8574.1,
            "count": 154
           },
           {
            "bin_start": 8574.1,
            "bin_end": 9762.4,
            "count": 53
           },
           {
            "bin_start": 9762.4,
            "bin_end": 10950.699999999999,
            "count": 27
           },
           {
            "bin_start": 10950.699999999999,
            "bin_end": 12139,
            "count": 19
           }
          ]
         }
        },
        {
         "name": "clicks",
         "dtype": "float64",
         "stats": {
          "unique_count": 342,
          "nan_count": 8,
          "min": "21.0",
          "max": "926.0",
          "histogram": [
           {
            "bin_start": 21,
            "bin_end": 111.5,
            "count": 1571
           },
           {
            "bin_start": 111.5,
            "bin_end": 202,
            "count": 317
           },
           {
            "bin_start": 202,
            "bin_end": 292.5,
            "count": 117
           },
           {
            "bin_start": 292.5,
            "bin_end": 383,
            "count": 33
           },
           {
            "bin_start": 383,
            "bin_end": 473.5,
            "count": 19
           },
           {
            "bin_start": 473.5,
            "bin_end": 564,
            "count": 19
           },
           {
            "bin_start": 564,
            "bin_end": 654.5,
            "count": 18
           },
           {
            "bin_start": 654.5,
            "bin_end": 745,
            "count": 8
           },
           {
            "bin_start": 745,
            "bin_end": 835.5,
            "count": 9
           },
           {
            "bin_start": 835.5,
            "bin_end": 926,
            "count": 4
           }
          ]
         }
        },
        {
         "name": "position",
         "dtype": "float64",
         "stats": {
          "unique_count": 6,
          "nan_count": 8,
          "min": "1.0",
          "max": "6.0",
          "histogram": [
           {
            "bin_start": 1,
            "bin_end": 1.5,
            "count": 615
           },
           {
            "bin_start": 1.5,
            "bin_end": 2,
            "count": 0
           },
           {
            "bin_start": 2,
            "bin_end": 2.5,
            "count": 601
           },
           {
            "bin_start": 2.5,
            "bin_end": 3,
            "count": 0
           },
           {
            "bin_start": 3,
            "bin_end": 3.5,
            "count": 532
           },
           {
            "bin_start": 3.5,
            "bin_end": 4,
            "count": 0
           },
           {
            "bin_start": 4,
            "bin_end": 4.5,
            "count": 174
           },
           {
            "bin_start": 4.5,
            "bin_end": 5,
            "count": 0
           },
           {
            "bin_start": 5,
            "bin_end": 5.5,
            "count": 135
           },
           {
            "bin_start": 5.5,
            "bin_end": 6,
            "count": 58
           }
          ]
         }
        },
        {
         "name": "CTR",
         "dtype": "float64",
         "stats": {
          "unique_count": 612,
          "nan_count": 8,
          "min": "0.2",
          "max": "15.98",
          "histogram": [
           {
            "bin_start": 0.2,
            "bin_end": 1.778,
            "count": 1178
           },
           {
            "bin_start": 1.778,
            "bin_end": 3.3560000000000003,
            "count": 547
           },
           {
            "bin_start": 3.3560000000000003,
            "bin_end": 4.934,
            "count": 136
           },
           {
            "bin_start": 4.934,
            "bin_end": 6.5120000000000005,
            "count": 75
           },
           {
            "bin_start": 6.5120000000000005,
            "bin_end": 8.09,
            "count": 49
           },
           {
            "bin_start": 8.09,
            "bin_end": 9.668,
            "count": 61
           },
           {
            "bin_start": 9.668,
            "bin_end": 11.246,
            "count": 54
           },
           {
            "bin_start": 11.246,
            "bin_end": 12.824,
            "count": 10
           },
           {
            "bin_start": 12.824,
            "bin_end": 14.402,
            "count": 4
           },
           {
            "bin_start": 14.402,
            "bin_end": 15.98,
            "count": 1
           }
          ]
         }
        },
        {
         "name": "Type",
         "dtype": "object",
         "stats": {
          "unique_count": 6,
          "nan_count": 8,
          "categories": [
           {
            "name": "Autre",
            "count": 1042
           },
           {
            "name": "5 others",
            "count": 1073
           },
           {
            "name": "Missing",
            "count": 8
           }
          ]
         }
        },
        {
         "name": "_deepnote_index_column",
         "dtype": "int64"
        }
       ],
       "rows": [
        {
         "date": "2022-07-14",
         "promotion_name": "Club Marmara Palm Beach Djerba",
         "promoPosition": "Bon Plan-2",
         "pagetype": "HomePage",
         "contentgroup_1": "Home",
         "contentgroup_2": "Club Marmara",
         "views": 4426,
         "clicks": 37,
         "position": 2,
         "CTR": 0.84,
         "Type": "Bons Plans",
         "_deepnote_index_column": 10
        },
        {
         "date": "2022-07-13",
         "promotion_name": "Club Marmara Palm Beach Djerba",
         "promoPosition": "Bon Plan-2",
         "pagetype": "HomePage",
         "contentgroup_1": "Home",
         "contentgroup_2": "Club Marmara",
         "views": 3722,
         "clicks": 28,
         "position": 2,
         "CTR": 0.75,
         "Type": "Bons Plans",
         "_deepnote_index_column": 11
        },
        {
         "date": "2022-07-13",
         "promotion_name": "Club Marmara Ariadne",
         "promoPosition": "Bon Plan-5",
         "pagetype": "HomePage",
         "contentgroup_1": "Home",
         "contentgroup_2": "Club Marmara",
         "views": 3749,
         "clicks": 26,
         "position": 5,
         "CTR": 0.69,
         "Type": "Bons Plans",
         "_deepnote_index_column": 12
        },
        {
         "date": "2022-07-13",
         "promotion_name": "Réservez Primo Hiver 2022-23",
         "promoPosition": "Home CM – bonnes affaires grandes-1",
         "pagetype": "HomePage",
         "contentgroup_1": "Home",
         "contentgroup_2": "Club Marmara",
         "views": 4752,
         "clicks": 71,
         "position": 1,
         "CTR": 1.49,
         "Type": "Promotions",
         "_deepnote_index_column": 13
        },
        {
         "date": "2022-07-13",
         "promotion_name": "Majorque|Club Marmara Del Mar à partir de 499€",
         "promoPosition": "Home CM – bonnes affaires petites-5",
         "pagetype": "HomePage",
         "contentgroup_1": "Home",
         "contentgroup_2": "Club Marmara",
         "views": 4724,
         "clicks": 61,
         "position": 5,
         "CTR": 1.29,
         "Type": "Autre",
         "_deepnote_index_column": 14
        },
        {
         "date": "2022-07-13",
         "promotion_name": "Canaries|Douceur de vivre à partir de 639€",
         "promoPosition": "Home CM – bonnes affaires petites-3",
         "pagetype": "HomePage",
         "contentgroup_1": "Home",
         "contentgroup_2": "Club Marmara",
         "views": 4724,
         "clicks": 70,
         "position": 3,
         "CTR": 1.48,
         "Type": "Autre",
         "_deepnote_index_column": 15
        },
        {
         "date": "2022-07-13",
         "promotion_name": "Embarquement immédiat|Envolez-vous direction nos Club Marmara ! à partir de 730€",
         "promoPosition": "Home CM – bonnes affaires grandes-2",
         "pagetype": "HomePage",
         "contentgroup_1": "Home",
         "contentgroup_2": "Club Marmara",
         "views": 4678,
         "clicks": 239,
         "position": 2,
         "CTR": 5.11,
         "Type": "Autre",
         "_deepnote_index_column": 16
        },
        {
         "date": "2022-07-12",
         "promotion_name": "Club Marmara Palm Beach Djerba",
         "promoPosition": "Bon Plan-2",
         "pagetype": "HomePage",
         "contentgroup_1": "Home",
         "contentgroup_2": "Club Marmara",
         "views": 4330,
         "clicks": 45,
         "position": 2,
         "CTR": 1.04,
         "Type": "Bons Plans",
         "_deepnote_index_column": 17
        },
        {
         "date": "2022-07-12",
         "promotion_name": "Majorque|Club Marmara Del Mar à partir de 499€",
         "promoPosition": "Home CM – bonnes affaires petites-5",
         "pagetype": "HomePage",
         "contentgroup_1": "Home",
         "contentgroup_2": "Club Marmara",
         "views": 5573,
         "clicks": 80,
         "position": 5,
         "CTR": 1.44,
         "Type": "Autre",
         "_deepnote_index_column": 18
        },
        {
         "date": "2022-07-12",
         "promotion_name": "Club Marmara Pueblo Andaluz",
         "promoPosition": "Bon Plan-1",
         "pagetype": "HomePage",
         "contentgroup_1": "Home",
         "contentgroup_2": "Club Marmara",
         "views": 4587,
         "clicks": 30,
         "position": 1,
         "CTR": 0.65,
         "Type": "Bons Plans",
         "_deepnote_index_column": 19
        }
       ]
      },
      "text/plain": "            date                                     promotion_name  \\\n0     2022-07-15  Embarquement immédiat|Envolez-vous direction n...   \n1     2022-07-14                                Club Marmara Madina   \n2     2022-07-14  Embarquement immédiat|Envolez-vous direction n...   \n3     2022-07-14                        Club Marmara Pueblo Andaluz   \n4     2022-07-14     Majorque|Club Marmara Del Mar à partir de 499€   \n...          ...                                                ...   \n2118  2021-07-01                               Réservez Primo Hiver   \n2119  2021-07-01     Majorque|Club Marmara Del Mar à partir de 629€   \n2120  2021-07-01                        Club Marmara Pueblo Andaluz   \n2121  2021-07-01  Embarquement immédiat|Envolez-vous direction n...   \n2122  2021-07-01                                Club Marmara Corfou   \n\n                            promoPosition  pagetype contentgroup_1  \\\n0     Home CM – bonnes affaires grandes-2  HomePage           Home   \n1                              Bon Plan-6  HomePage           Home   \n2     Home CM – bonnes affaires grandes-2  HomePage           Home   \n3                              Bon Plan-1  HomePage           Home   \n4     Home CM – bonnes affaires petites-5  HomePage           Home   \n...                                   ...       ...            ...   \n2118  Home CM – bonnes affaires grandes-1  HomePage           Home   \n2119  Home CM – bonnes affaires petites-3  HomePage           Home   \n2120                           Bon Plan-1  HomePage           Home   \n2121  Home CM – bonnes affaires grandes-2  HomePage           Home   \n2122                           Bon Plan-3  HomePage           Home   \n\n     contentgroup_2   views  clicks  position   CTR        Type  \n0      Club Marmara   623.0    49.0       2.0  7.87       Autre  \n1      Club Marmara  4376.0    27.0       6.0  0.62  Bons Plans  \n2      Club Marmara  5947.0   355.0       2.0  5.97       Autre  \n3      Club Marmara  4787.0    22.0       1.0  0.46  Bons Plans  \n4      Club Marmara  5947.0    64.0       5.0  1.08       Autre  \n...             ...     ...     ...       ...   ...         ...  \n2118   Club Marmara  3840.0    86.0       1.0  2.24  Promotions  \n2119   Club Marmara  3838.0    61.0       3.0  1.59       Autre  \n2120   Club Marmara  3445.0    40.0       1.0  1.16  Bons Plans  \n2121   Club Marmara  3838.0   193.0       2.0  5.03       Autre  \n2122   Club Marmara  3165.0    49.0       3.0  1.55  Bons Plans  \n\n[2123 rows x 11 columns]",
      "text/html": "<div>\n<style scoped>\n    .dataframe tbody tr th:only-of-type {\n        vertical-align: middle;\n    }\n\n    .dataframe tbody tr th {\n        vertical-align: top;\n    }\n\n    .dataframe thead th {\n        text-align: right;\n    }\n</style>\n<table border=\"1\" class=\"dataframe\">\n  <thead>\n    <tr style=\"text-align: right;\">\n      <th></th>\n      <th>date</th>\n      <th>promotion_name</th>\n      <th>promoPosition</th>\n      <th>pagetype</th>\n      <th>contentgroup_1</th>\n      <th>contentgroup_2</th>\n      <th>views</th>\n      <th>clicks</th>\n      <th>position</th>\n      <th>CTR</th>\n      <th>Type</th>\n    </tr>\n  </thead>\n  <tbody>\n    <tr>\n      <th>0</th>\n      <td>2022-07-15</td>\n      <td>Embarquement immédiat|Envolez-vous direction n...</td>\n      <td>Home CM – bonnes affaires grandes-2</td>\n      <td>HomePage</td>\n      <td>Home</td>\n      <td>Club Marmara</td>\n      <td>623.0</td>\n      <td>49.0</td>\n      <td>2.0</td>\n      <td>7.87</td>\n      <td>Autre</td>\n    </tr>\n    <tr>\n      <th>1</th>\n      <td>2022-07-14</td>\n      <td>Club Marmara Madina</td>\n      <td>Bon Plan-6</td>\n      <td>HomePage</td>\n      <td>Home</td>\n      <td>Club Marmara</td>\n      <td>4376.0</td>\n      <td>27.0</td>\n      <td>6.0</td>\n      <td>0.62</td>\n      <td>Bons Plans</td>\n    </tr>\n    <tr>\n      <th>2</th>\n      <td>2022-07-14</td>\n      <td>Embarquement immédiat|Envolez-vous direction n...</td>\n      <td>Home CM – bonnes affaires grandes-2</td>\n      <td>HomePage</td>\n      <td>Home</td>\n      <td>Club Marmara</td>\n      <td>5947.0</td>\n      <td>355.0</td>\n      <td>2.0</td>\n      <td>5.97</td>\n      <td>Autre</td>\n    </tr>\n    <tr>\n      <th>3</th>\n      <td>2022-07-14</td>\n      <td>Club Marmara Pueblo Andaluz</td>\n      <td>Bon Plan-1</td>\n      <td>HomePage</td>\n      <td>Home</td>\n      <td>Club Marmara</td>\n      <td>4787.0</td>\n      <td>22.0</td>\n      <td>1.0</td>\n      <td>0.46</td>\n      <td>Bons Plans</td>\n    </tr>\n    <tr>\n      <th>4</th>\n      <td>2022-07-14</td>\n      <td>Majorque|Club Marmara Del Mar à partir de 499€</td>\n      <td>Home CM – bonnes affaires petites-5</td>\n      <td>HomePage</td>\n      <td>Home</td>\n      <td>Club Marmara</td>\n      <td>5947.0</td>\n      <td>64.0</td>\n      <td>5.0</td>\n      <td>1.08</td>\n      <td>Autre</td>\n    </tr>\n    <tr>\n      <th>...</th>\n      <td>...</td>\n      <td>...</td>\n      <td>...</td>\n      <td>...</td>\n      <td>...</td>\n      <td>...</td>\n      <td>...</td>\n      <td>...</td>\n      <td>...</td>\n      <td>...</td>\n      <td>...</td>\n    </tr>\n    <tr>\n      <th>2118</th>\n      <td>2021-07-01</td>\n      <td>Réservez Primo Hiver</td>\n      <td>Home CM – bonnes affaires grandes-1</td>\n      <td>HomePage</td>\n      <td>Home</td>\n      <td>Club Marmara</td>\n      <td>3840.0</td>\n      <td>86.0</td>\n      <td>1.0</td>\n      <td>2.24</td>\n      <td>Promotions</td>\n    </tr>\n    <tr>\n      <th>2119</th>\n      <td>2021-07-01</td>\n      <td>Majorque|Club Marmara Del Mar à partir de 629€</td>\n      <td>Home CM – bonnes affaires petites-3</td>\n      <td>HomePage</td>\n      <td>Home</td>\n      <td>Club Marmara</td>\n      <td>3838.0</td>\n      <td>61.0</td>\n      <td>3.0</td>\n      <td>1.59</td>\n      <td>Autre</td>\n    </tr>\n    <tr>\n      <th>2120</th>\n      <td>2021-07-01</td>\n      <td>Club Marmara Pueblo Andaluz</td>\n      <td>Bon Plan-1</td>\n      <td>HomePage</td>\n      <td>Home</td>\n      <td>Club Marmara</td>\n      <td>3445.0</td>\n      <td>40.0</td>\n      <td>1.0</td>\n      <td>1.16</td>\n      <td>Bons Plans</td>\n    </tr>\n    <tr>\n      <th>2121</th>\n      <td>2021-07-01</td>\n      <td>Embarquement immédiat|Envolez-vous direction n...</td>\n      <td>Home CM – bonnes affaires grandes-2</td>\n      <td>HomePage</td>\n      <td>Home</td>\n      <td>Club Marmara</td>\n      <td>3838.0</td>\n      <td>193.0</td>\n      <td>2.0</td>\n      <td>5.03</td>\n      <td>Autre</td>\n    </tr>\n    <tr>\n      <th>2122</th>\n      <td>2021-07-01</td>\n      <td>Club Marmara Corfou</td>\n      <td>Bon Plan-3</td>\n      <td>HomePage</td>\n      <td>Home</td>\n      <td>Club Marmara</td>\n      <td>3165.0</td>\n      <td>49.0</td>\n      <td>3.0</td>\n      <td>1.55</td>\n      <td>Bons Plans</td>\n    </tr>\n  </tbody>\n</table>\n<p>2123 rows × 11 columns</p>\n</div>"
     },
     "metadata": {}
    }
   ]
  },
  {
   "cell_type": "code",
   "metadata": {
    "tags": [],
    "deepnote_to_be_reexecuted": false,
    "source_hash": "f1e9afea",
    "execution_start": 1660144264725,
    "execution_millis": 39,
    "cell_id": "00004-d0b95b00-be03-4f0a-8b1e-1a299b92a387",
    "deepnote_cell_type": "code",
    "deepnote_cell_height": 131.375,
    "deepnote_output_heights": [
     39.375
    ]
   },
   "source": "data['Type'].unique()",
   "execution_count": null,
   "outputs": [
    {
     "output_type": "execute_result",
     "execution_count": 193,
     "data": {
      "text/plain": "array(['Autre', 'Bons Plans', 'Promotions', 'Sejour tout compris',\n       'Crazy', 'Foliday', nan], dtype=object)"
     },
     "metadata": {}
    }
   ]
  },
  {
   "cell_type": "code",
   "metadata": {
    "tags": [],
    "deepnote_to_be_reexecuted": false,
    "source_hash": "74c5b84c",
    "execution_start": 1660207820805,
    "execution_millis": 566,
    "cell_id": "00005-97edf30d-9216-4d19-9be1-27cf4242faac",
    "deepnote_cell_type": "code",
    "deepnote_cell_height": 636
   },
   "source": "data=data.drop(columns=['promotion_name','pagetype','contentgroup_1','position','contentgroup_2','views','clicks'])\ndata['log_CTR']=data['CTR'].apply(lambda x : np.log(x))\ndata",
   "execution_count": null,
   "outputs": [
    {
     "output_type": "execute_result",
     "execution_count": 31,
     "data": {
      "application/vnd.deepnote.dataframe.v3+json": {
       "column_count": 5,
       "row_count": 2123,
       "columns": [
        {
         "name": "date",
         "dtype": "object",
         "stats": {
          "unique_count": 388,
          "nan_count": 0,
          "categories": [
           {
            "name": "2022-05-30",
            "count": 14
           },
           {
            "name": "2022-05-25",
            "count": 14
           },
           {
            "name": "386 others",
            "count": 2095
           }
          ]
         }
        },
        {
         "name": "promoPosition",
         "dtype": "object",
         "stats": {
          "unique_count": 12,
          "nan_count": 8,
          "categories": [
           {
            "name": "Home CM – bonnes affaires grandes-1",
            "count": 422
           },
           {
            "name": "11 others",
            "count": 1693
           },
           {
            "name": "Missing",
            "count": 8
           }
          ]
         }
        },
        {
         "name": "CTR",
         "dtype": "float64",
         "stats": {
          "unique_count": 612,
          "nan_count": 8,
          "min": "0.2",
          "max": "15.98",
          "histogram": [
           {
            "bin_start": 0.2,
            "bin_end": 1.778,
            "count": 1178
           },
           {
            "bin_start": 1.778,
            "bin_end": 3.3560000000000003,
            "count": 547
           },
           {
            "bin_start": 3.3560000000000003,
            "bin_end": 4.934,
            "count": 136
           },
           {
            "bin_start": 4.934,
            "bin_end": 6.5120000000000005,
            "count": 75
           },
           {
            "bin_start": 6.5120000000000005,
            "bin_end": 8.09,
            "count": 49
           },
           {
            "bin_start": 8.09,
            "bin_end": 9.668,
            "count": 61
           },
           {
            "bin_start": 9.668,
            "bin_end": 11.246,
            "count": 54
           },
           {
            "bin_start": 11.246,
            "bin_end": 12.824,
            "count": 10
           },
           {
            "bin_start": 12.824,
            "bin_end": 14.402,
            "count": 4
           },
           {
            "bin_start": 14.402,
            "bin_end": 15.98,
            "count": 1
           }
          ]
         }
        },
        {
         "name": "Type",
         "dtype": "object",
         "stats": {
          "unique_count": 6,
          "nan_count": 8,
          "categories": [
           {
            "name": "Autre",
            "count": 1042
           },
           {
            "name": "5 others",
            "count": 1073
           },
           {
            "name": "Missing",
            "count": 8
           }
          ]
         }
        },
        {
         "name": "log_CTR",
         "dtype": "float64",
         "stats": {
          "unique_count": 612,
          "nan_count": 8,
          "min": "-1.6094379124341003",
          "max": "2.7713379403381286",
          "histogram": [
           {
            "bin_start": -1.6094379124341003,
            "bin_end": -1.1713603271568775,
            "count": 23
           },
           {
            "bin_start": -1.1713603271568775,
            "bin_end": -0.7332827418796546,
            "count": 215
           },
           {
            "bin_start": -0.7332827418796546,
            "bin_end": -0.29520515660243185,
            "count": 308
           },
           {
            "bin_start": -0.29520515660243185,
            "bin_end": 0.1428724286747911,
            "count": 242
           },
           {
            "bin_start": 0.1428724286747911,
            "bin_end": 0.5809500139520141,
            "count": 397
           },
           {
            "bin_start": 0.5809500139520141,
            "bin_end": 1.0190275992292366,
            "count": 408
           },
           {
            "bin_start": 1.0190275992292366,
            "bin_end": 1.4571051845064595,
            "count": 239
           },
           {
            "bin_start": 1.4571051845064595,
            "bin_end": 1.8951827697836825,
            "count": 106
           },
           {
            "bin_start": 1.8951827697836825,
            "bin_end": 2.3332603550609052,
            "count": 137
           },
           {
            "bin_start": 2.3332603550609052,
            "bin_end": 2.7713379403381286,
            "count": 40
           }
          ]
         }
        },
        {
         "name": "_deepnote_index_column",
         "dtype": "int64"
        }
       ],
       "rows": [
        {
         "date": "2022-07-15",
         "promoPosition": "Home CM – bonnes affaires grandes-2",
         "CTR": 7.87,
         "Type": "Autre",
         "log_CTR": 2.063058062429312,
         "_deepnote_index_column": 0
        },
        {
         "date": "2022-07-14",
         "promoPosition": "Bon Plan-6",
         "CTR": 0.62,
         "Type": "Bons Plans",
         "log_CTR": -0.4780358009429998,
         "_deepnote_index_column": 1
        },
        {
         "date": "2022-07-14",
         "promoPosition": "Home CM – bonnes affaires grandes-2",
         "CTR": 5.97,
         "Type": "Autre",
         "log_CTR": 1.7867469274045107,
         "_deepnote_index_column": 2
        },
        {
         "date": "2022-07-14",
         "promoPosition": "Bon Plan-1",
         "CTR": 0.46,
         "Type": "Bons Plans",
         "log_CTR": -0.7765287894989963,
         "_deepnote_index_column": 3
        },
        {
         "date": "2022-07-14",
         "promoPosition": "Home CM – bonnes affaires petites-5",
         "CTR": 1.08,
         "Type": "Autre",
         "log_CTR": 0.0769610411361284,
         "_deepnote_index_column": 4
        },
        {
         "date": "2022-07-14",
         "promoPosition": "Home CM – bonnes affaires petites-3",
         "CTR": 1.83,
         "Type": "Autre",
         "log_CTR": 0.6043159668533296,
         "_deepnote_index_column": 5
        },
        {
         "date": "2022-07-14",
         "promoPosition": "Bon Plan-5",
         "CTR": 1.18,
         "Type": "Bons Plans",
         "log_CTR": 0.16551443847757333,
         "_deepnote_index_column": 6
        },
        {
         "date": "2022-07-14",
         "promoPosition": "Home CM – bonnes affaires grandes-1",
         "CTR": 1.51,
         "Type": "Promotions",
         "log_CTR": 0.41210965082683293,
         "_deepnote_index_column": 7
        },
        {
         "date": "2022-07-14",
         "promoPosition": "Home CM – bonnes affaires petites-4",
         "CTR": 0.62,
         "Type": "Autre",
         "log_CTR": -0.4780358009429998,
         "_deepnote_index_column": 8
        },
        {
         "date": "2022-07-14",
         "promoPosition": "Bon Plan-3",
         "CTR": 0.68,
         "Type": "Bons Plans",
         "log_CTR": -0.3856624808119846,
         "_deepnote_index_column": 9
        }
       ]
      },
      "text/plain": "            date                        promoPosition   CTR        Type  \\\n0     2022-07-15  Home CM – bonnes affaires grandes-2  7.87       Autre   \n1     2022-07-14                           Bon Plan-6  0.62  Bons Plans   \n2     2022-07-14  Home CM – bonnes affaires grandes-2  5.97       Autre   \n3     2022-07-14                           Bon Plan-1  0.46  Bons Plans   \n4     2022-07-14  Home CM – bonnes affaires petites-5  1.08       Autre   \n...          ...                                  ...   ...         ...   \n2118  2021-07-01  Home CM – bonnes affaires grandes-1  2.24  Promotions   \n2119  2021-07-01  Home CM – bonnes affaires petites-3  1.59       Autre   \n2120  2021-07-01                           Bon Plan-1  1.16  Bons Plans   \n2121  2021-07-01  Home CM – bonnes affaires grandes-2  5.03       Autre   \n2122  2021-07-01                           Bon Plan-3  1.55  Bons Plans   \n\n       log_CTR  \n0     2.063058  \n1    -0.478036  \n2     1.786747  \n3    -0.776529  \n4     0.076961  \n...        ...  \n2118  0.806476  \n2119  0.463734  \n2120  0.148420  \n2121  1.615420  \n2122  0.438255  \n\n[2123 rows x 5 columns]",
      "text/html": "<div>\n<style scoped>\n    .dataframe tbody tr th:only-of-type {\n        vertical-align: middle;\n    }\n\n    .dataframe tbody tr th {\n        vertical-align: top;\n    }\n\n    .dataframe thead th {\n        text-align: right;\n    }\n</style>\n<table border=\"1\" class=\"dataframe\">\n  <thead>\n    <tr style=\"text-align: right;\">\n      <th></th>\n      <th>date</th>\n      <th>promoPosition</th>\n      <th>CTR</th>\n      <th>Type</th>\n      <th>log_CTR</th>\n    </tr>\n  </thead>\n  <tbody>\n    <tr>\n      <th>0</th>\n      <td>2022-07-15</td>\n      <td>Home CM – bonnes affaires grandes-2</td>\n      <td>7.87</td>\n      <td>Autre</td>\n      <td>2.063058</td>\n    </tr>\n    <tr>\n      <th>1</th>\n      <td>2022-07-14</td>\n      <td>Bon Plan-6</td>\n      <td>0.62</td>\n      <td>Bons Plans</td>\n      <td>-0.478036</td>\n    </tr>\n    <tr>\n      <th>2</th>\n      <td>2022-07-14</td>\n      <td>Home CM – bonnes affaires grandes-2</td>\n      <td>5.97</td>\n      <td>Autre</td>\n      <td>1.786747</td>\n    </tr>\n    <tr>\n      <th>3</th>\n      <td>2022-07-14</td>\n      <td>Bon Plan-1</td>\n      <td>0.46</td>\n      <td>Bons Plans</td>\n      <td>-0.776529</td>\n    </tr>\n    <tr>\n      <th>4</th>\n      <td>2022-07-14</td>\n      <td>Home CM – bonnes affaires petites-5</td>\n      <td>1.08</td>\n      <td>Autre</td>\n      <td>0.076961</td>\n    </tr>\n    <tr>\n      <th>...</th>\n      <td>...</td>\n      <td>...</td>\n      <td>...</td>\n      <td>...</td>\n      <td>...</td>\n    </tr>\n    <tr>\n      <th>2118</th>\n      <td>2021-07-01</td>\n      <td>Home CM – bonnes affaires grandes-1</td>\n      <td>2.24</td>\n      <td>Promotions</td>\n      <td>0.806476</td>\n    </tr>\n    <tr>\n      <th>2119</th>\n      <td>2021-07-01</td>\n      <td>Home CM – bonnes affaires petites-3</td>\n      <td>1.59</td>\n      <td>Autre</td>\n      <td>0.463734</td>\n    </tr>\n    <tr>\n      <th>2120</th>\n      <td>2021-07-01</td>\n      <td>Bon Plan-1</td>\n      <td>1.16</td>\n      <td>Bons Plans</td>\n      <td>0.148420</td>\n    </tr>\n    <tr>\n      <th>2121</th>\n      <td>2021-07-01</td>\n      <td>Home CM – bonnes affaires grandes-2</td>\n      <td>5.03</td>\n      <td>Autre</td>\n      <td>1.615420</td>\n    </tr>\n    <tr>\n      <th>2122</th>\n      <td>2021-07-01</td>\n      <td>Bon Plan-3</td>\n      <td>1.55</td>\n      <td>Bons Plans</td>\n      <td>0.438255</td>\n    </tr>\n  </tbody>\n</table>\n<p>2123 rows × 5 columns</p>\n</div>"
     },
     "metadata": {}
    }
   ]
  },
  {
   "cell_type": "code",
   "metadata": {
    "tags": [],
    "deepnote_to_be_reexecuted": false,
    "source_hash": "2a5755b9",
    "execution_start": 1660207717341,
    "execution_millis": 569,
    "cell_id": "00006-922985e9-411c-446c-9ee3-d0edca707457",
    "deepnote_cell_type": "code",
    "deepnote_cell_height": 360.4375,
    "deepnote_output_heights": [
     250.4375
    ]
   },
   "source": "data['promoPosition'].value_counts()\n",
   "execution_count": null,
   "outputs": [
    {
     "output_type": "execute_result",
     "execution_count": 25,
     "data": {
      "text/plain": "Home CM – bonnes affaires grandes-1    422\nHome CM – bonnes affaires grandes-2    413\nHome CM – bonnes affaires petites-3    381\nBon Plan-1                             193\nBon Plan-2                             186\nBon Plan-3                             151\nHome CM – bonnes affaires petites-4    123\nHome CM – bonnes affaires petites-5     90\nBon Plan-6                              58\nBon Plan-4                              51\nBon Plan-5                              45\nHome CM – bonnes affaires petites-2      2\nName: promoPosition, dtype: int64"
     },
     "metadata": {}
    }
   ]
  },
  {
   "cell_type": "code",
   "metadata": {
    "tags": [],
    "deepnote_to_be_reexecuted": false,
    "source_hash": "a6af6ad",
    "execution_start": 1660207834123,
    "execution_millis": 98,
    "cell_id": "00007-eda3b150-ccea-4ae7-b059-de395ff2ccd6",
    "deepnote_cell_type": "code",
    "deepnote_cell_height": 706
   },
   "source": "#feature engineering\ndata.date=pd.to_datetime(data.date,errors='coerce')\ndata['jour']=data.date.dt.day_name()\ndata['mois']=data.date.dt.month_name()\ndata=data.rename(columns={'Type':'type_banniere'})\ndata",
   "execution_count": null,
   "outputs": [
    {
     "output_type": "execute_result",
     "execution_count": 32,
     "data": {
      "application/vnd.deepnote.dataframe.v3+json": {
       "column_count": 7,
       "row_count": 2123,
       "columns": [
        {
         "name": "date",
         "dtype": "datetime64[ns]",
         "stats": {
          "unique_count": 380,
          "nan_count": 8,
          "min": "2021-07-01 00:00:00",
          "max": "2022-07-15 00:00:00",
          "histogram": [
           {
            "bin_start": 1625097600000000000,
            "bin_end": 1628372160000000000,
            "count": 217
           },
           {
            "bin_start": 1628372160000000000,
            "bin_end": 1631646720000000000,
            "count": 171
           },
           {
            "bin_start": 1631646720000000000,
            "bin_end": 1634921280000000000,
            "count": 120
           },
           {
            "bin_start": 1634921280000000000,
            "bin_end": 1638195840000000000,
            "count": 127
           },
           {
            "bin_start": 1638195840000000000,
            "bin_end": 1641470400000000000,
            "count": 137
           },
           {
            "bin_start": 1641470400000000000,
            "bin_end": 1644744960000000000,
            "count": 240
           },
           {
            "bin_start": 1644744960000000000,
            "bin_end": 1648019520000000000,
            "count": 236
           },
           {
            "bin_start": 1648019520000000000,
            "bin_end": 1651294080000000000,
            "count": 230
           },
           {
            "bin_start": 1651294080000000000,
            "bin_end": 1654568640000000000,
            "count": 324
           },
           {
            "bin_start": 1654568640000000000,
            "bin_end": 1657843200000000000,
            "count": 313
           }
          ]
         }
        },
        {
         "name": "promoPosition",
         "dtype": "object",
         "stats": {
          "unique_count": 12,
          "nan_count": 8,
          "categories": [
           {
            "name": "Home CM – bonnes affaires grandes-1",
            "count": 422
           },
           {
            "name": "11 others",
            "count": 1693
           },
           {
            "name": "Missing",
            "count": 8
           }
          ]
         }
        },
        {
         "name": "CTR",
         "dtype": "float64",
         "stats": {
          "unique_count": 612,
          "nan_count": 8,
          "min": "0.2",
          "max": "15.98",
          "histogram": [
           {
            "bin_start": 0.2,
            "bin_end": 1.778,
            "count": 1178
           },
           {
            "bin_start": 1.778,
            "bin_end": 3.3560000000000003,
            "count": 547
           },
           {
            "bin_start": 3.3560000000000003,
            "bin_end": 4.934,
            "count": 136
           },
           {
            "bin_start": 4.934,
            "bin_end": 6.5120000000000005,
            "count": 75
           },
           {
            "bin_start": 6.5120000000000005,
            "bin_end": 8.09,
            "count": 49
           },
           {
            "bin_start": 8.09,
            "bin_end": 9.668,
            "count": 61
           },
           {
            "bin_start": 9.668,
            "bin_end": 11.246,
            "count": 54
           },
           {
            "bin_start": 11.246,
            "bin_end": 12.824,
            "count": 10
           },
           {
            "bin_start": 12.824,
            "bin_end": 14.402,
            "count": 4
           },
           {
            "bin_start": 14.402,
            "bin_end": 15.98,
            "count": 1
           }
          ]
         }
        },
        {
         "name": "type_banniere",
         "dtype": "object",
         "stats": {
          "unique_count": 6,
          "nan_count": 8,
          "categories": [
           {
            "name": "Autre",
            "count": 1042
           },
           {
            "name": "5 others",
            "count": 1073
           },
           {
            "name": "Missing",
            "count": 8
           }
          ]
         }
        },
        {
         "name": "log_CTR",
         "dtype": "float64",
         "stats": {
          "unique_count": 612,
          "nan_count": 8,
          "min": "-1.6094379124341003",
          "max": "2.7713379403381286",
          "histogram": [
           {
            "bin_start": -1.6094379124341003,
            "bin_end": -1.1713603271568775,
            "count": 23
           },
           {
            "bin_start": -1.1713603271568775,
            "bin_end": -0.7332827418796546,
            "count": 215
           },
           {
            "bin_start": -0.7332827418796546,
            "bin_end": -0.29520515660243185,
            "count": 308
           },
           {
            "bin_start": -0.29520515660243185,
            "bin_end": 0.1428724286747911,
            "count": 242
           },
           {
            "bin_start": 0.1428724286747911,
            "bin_end": 0.5809500139520141,
            "count": 397
           },
           {
            "bin_start": 0.5809500139520141,
            "bin_end": 1.0190275992292366,
            "count": 408
           },
           {
            "bin_start": 1.0190275992292366,
            "bin_end": 1.4571051845064595,
            "count": 239
           },
           {
            "bin_start": 1.4571051845064595,
            "bin_end": 1.8951827697836825,
            "count": 106
           },
           {
            "bin_start": 1.8951827697836825,
            "bin_end": 2.3332603550609052,
            "count": 137
           },
           {
            "bin_start": 2.3332603550609052,
            "bin_end": 2.7713379403381286,
            "count": 40
           }
          ]
         }
        },
        {
         "name": "jour",
         "dtype": "object",
         "stats": {
          "unique_count": 7,
          "nan_count": 8,
          "categories": [
           {
            "name": "Sunday",
            "count": 344
           },
           {
            "name": "6 others",
            "count": 1771
           },
           {
            "name": "Missing",
            "count": 8
           }
          ]
         }
        },
        {
         "name": "mois",
         "dtype": "object",
         "stats": {
          "unique_count": 12,
          "nan_count": 8,
          "categories": [
           {
            "name": "July",
            "count": 304
           },
           {
            "name": "11 others",
            "count": 1811
           },
           {
            "name": "Missing",
            "count": 8
           }
          ]
         }
        },
        {
         "name": "_deepnote_index_column",
         "dtype": "int64"
        }
       ],
       "rows": [
        {
         "date": "2022-07-15T00:00:00Z",
         "promoPosition": "Home CM – bonnes affaires grandes-2",
         "CTR": 7.87,
         "type_banniere": "Autre",
         "log_CTR": 2.063058062429312,
         "jour": "Friday",
         "mois": "July",
         "_deepnote_index_column": 0
        },
        {
         "date": "2022-07-14T00:00:00Z",
         "promoPosition": "Bon Plan-6",
         "CTR": 0.62,
         "type_banniere": "Bons Plans",
         "log_CTR": -0.4780358009429998,
         "jour": "Thursday",
         "mois": "July",
         "_deepnote_index_column": 1
        },
        {
         "date": "2022-07-14T00:00:00Z",
         "promoPosition": "Home CM – bonnes affaires grandes-2",
         "CTR": 5.97,
         "type_banniere": "Autre",
         "log_CTR": 1.7867469274045107,
         "jour": "Thursday",
         "mois": "July",
         "_deepnote_index_column": 2
        },
        {
         "date": "2022-07-14T00:00:00Z",
         "promoPosition": "Bon Plan-1",
         "CTR": 0.46,
         "type_banniere": "Bons Plans",
         "log_CTR": -0.7765287894989963,
         "jour": "Thursday",
         "mois": "July",
         "_deepnote_index_column": 3
        },
        {
         "date": "2022-07-14T00:00:00Z",
         "promoPosition": "Home CM – bonnes affaires petites-5",
         "CTR": 1.08,
         "type_banniere": "Autre",
         "log_CTR": 0.0769610411361284,
         "jour": "Thursday",
         "mois": "July",
         "_deepnote_index_column": 4
        },
        {
         "date": "2022-07-14T00:00:00Z",
         "promoPosition": "Home CM – bonnes affaires petites-3",
         "CTR": 1.83,
         "type_banniere": "Autre",
         "log_CTR": 0.6043159668533296,
         "jour": "Thursday",
         "mois": "July",
         "_deepnote_index_column": 5
        },
        {
         "date": "2022-07-14T00:00:00Z",
         "promoPosition": "Bon Plan-5",
         "CTR": 1.18,
         "type_banniere": "Bons Plans",
         "log_CTR": 0.16551443847757333,
         "jour": "Thursday",
         "mois": "July",
         "_deepnote_index_column": 6
        },
        {
         "date": "2022-07-14T00:00:00Z",
         "promoPosition": "Home CM – bonnes affaires grandes-1",
         "CTR": 1.51,
         "type_banniere": "Promotions",
         "log_CTR": 0.41210965082683293,
         "jour": "Thursday",
         "mois": "July",
         "_deepnote_index_column": 7
        },
        {
         "date": "2022-07-14T00:00:00Z",
         "promoPosition": "Home CM – bonnes affaires petites-4",
         "CTR": 0.62,
         "type_banniere": "Autre",
         "log_CTR": -0.4780358009429998,
         "jour": "Thursday",
         "mois": "July",
         "_deepnote_index_column": 8
        },
        {
         "date": "2022-07-14T00:00:00Z",
         "promoPosition": "Bon Plan-3",
         "CTR": 0.68,
         "type_banniere": "Bons Plans",
         "log_CTR": -0.3856624808119846,
         "jour": "Thursday",
         "mois": "July",
         "_deepnote_index_column": 9
        }
       ]
      },
      "text/plain": "           date                        promoPosition   CTR type_banniere  \\\n0    2022-07-15  Home CM – bonnes affaires grandes-2  7.87         Autre   \n1    2022-07-14                           Bon Plan-6  0.62    Bons Plans   \n2    2022-07-14  Home CM – bonnes affaires grandes-2  5.97         Autre   \n3    2022-07-14                           Bon Plan-1  0.46    Bons Plans   \n4    2022-07-14  Home CM – bonnes affaires petites-5  1.08         Autre   \n...         ...                                  ...   ...           ...   \n2118 2021-07-01  Home CM – bonnes affaires grandes-1  2.24    Promotions   \n2119 2021-07-01  Home CM – bonnes affaires petites-3  1.59         Autre   \n2120 2021-07-01                           Bon Plan-1  1.16    Bons Plans   \n2121 2021-07-01  Home CM – bonnes affaires grandes-2  5.03         Autre   \n2122 2021-07-01                           Bon Plan-3  1.55    Bons Plans   \n\n       log_CTR      jour  mois  \n0     2.063058    Friday  July  \n1    -0.478036  Thursday  July  \n2     1.786747  Thursday  July  \n3    -0.776529  Thursday  July  \n4     0.076961  Thursday  July  \n...        ...       ...   ...  \n2118  0.806476  Thursday  July  \n2119  0.463734  Thursday  July  \n2120  0.148420  Thursday  July  \n2121  1.615420  Thursday  July  \n2122  0.438255  Thursday  July  \n\n[2123 rows x 7 columns]",
      "text/html": "<div>\n<style scoped>\n    .dataframe tbody tr th:only-of-type {\n        vertical-align: middle;\n    }\n\n    .dataframe tbody tr th {\n        vertical-align: top;\n    }\n\n    .dataframe thead th {\n        text-align: right;\n    }\n</style>\n<table border=\"1\" class=\"dataframe\">\n  <thead>\n    <tr style=\"text-align: right;\">\n      <th></th>\n      <th>date</th>\n      <th>promoPosition</th>\n      <th>CTR</th>\n      <th>type_banniere</th>\n      <th>log_CTR</th>\n      <th>jour</th>\n      <th>mois</th>\n    </tr>\n  </thead>\n  <tbody>\n    <tr>\n      <th>0</th>\n      <td>2022-07-15</td>\n      <td>Home CM – bonnes affaires grandes-2</td>\n      <td>7.87</td>\n      <td>Autre</td>\n      <td>2.063058</td>\n      <td>Friday</td>\n      <td>July</td>\n    </tr>\n    <tr>\n      <th>1</th>\n      <td>2022-07-14</td>\n      <td>Bon Plan-6</td>\n      <td>0.62</td>\n      <td>Bons Plans</td>\n      <td>-0.478036</td>\n      <td>Thursday</td>\n      <td>July</td>\n    </tr>\n    <tr>\n      <th>2</th>\n      <td>2022-07-14</td>\n      <td>Home CM – bonnes affaires grandes-2</td>\n      <td>5.97</td>\n      <td>Autre</td>\n      <td>1.786747</td>\n      <td>Thursday</td>\n      <td>July</td>\n    </tr>\n    <tr>\n      <th>3</th>\n      <td>2022-07-14</td>\n      <td>Bon Plan-1</td>\n      <td>0.46</td>\n      <td>Bons Plans</td>\n      <td>-0.776529</td>\n      <td>Thursday</td>\n      <td>July</td>\n    </tr>\n    <tr>\n      <th>4</th>\n      <td>2022-07-14</td>\n      <td>Home CM – bonnes affaires petites-5</td>\n      <td>1.08</td>\n      <td>Autre</td>\n      <td>0.076961</td>\n      <td>Thursday</td>\n      <td>July</td>\n    </tr>\n    <tr>\n      <th>...</th>\n      <td>...</td>\n      <td>...</td>\n      <td>...</td>\n      <td>...</td>\n      <td>...</td>\n      <td>...</td>\n      <td>...</td>\n    </tr>\n    <tr>\n      <th>2118</th>\n      <td>2021-07-01</td>\n      <td>Home CM – bonnes affaires grandes-1</td>\n      <td>2.24</td>\n      <td>Promotions</td>\n      <td>0.806476</td>\n      <td>Thursday</td>\n      <td>July</td>\n    </tr>\n    <tr>\n      <th>2119</th>\n      <td>2021-07-01</td>\n      <td>Home CM – bonnes affaires petites-3</td>\n      <td>1.59</td>\n      <td>Autre</td>\n      <td>0.463734</td>\n      <td>Thursday</td>\n      <td>July</td>\n    </tr>\n    <tr>\n      <th>2120</th>\n      <td>2021-07-01</td>\n      <td>Bon Plan-1</td>\n      <td>1.16</td>\n      <td>Bons Plans</td>\n      <td>0.148420</td>\n      <td>Thursday</td>\n      <td>July</td>\n    </tr>\n    <tr>\n      <th>2121</th>\n      <td>2021-07-01</td>\n      <td>Home CM – bonnes affaires grandes-2</td>\n      <td>5.03</td>\n      <td>Autre</td>\n      <td>1.615420</td>\n      <td>Thursday</td>\n      <td>July</td>\n    </tr>\n    <tr>\n      <th>2122</th>\n      <td>2021-07-01</td>\n      <td>Bon Plan-3</td>\n      <td>1.55</td>\n      <td>Bons Plans</td>\n      <td>0.438255</td>\n      <td>Thursday</td>\n      <td>July</td>\n    </tr>\n  </tbody>\n</table>\n<p>2123 rows × 7 columns</p>\n</div>"
     },
     "metadata": {}
    }
   ]
  },
  {
   "cell_type": "code",
   "metadata": {
    "tags": [],
    "deepnote_to_be_reexecuted": false,
    "source_hash": "c70742ad",
    "execution_start": 1660207845339,
    "execution_millis": 14,
    "cell_id": "00008-42a8b813-2421-4393-9caa-89a7fd04145c",
    "deepnote_cell_type": "code",
    "deepnote_cell_height": 246.5,
    "deepnote_output_heights": [
     154.5
    ]
   },
   "source": "data.isna().sum()",
   "execution_count": null,
   "outputs": [
    {
     "output_type": "execute_result",
     "execution_count": 33,
     "data": {
      "text/plain": "date             8\npromoPosition    8\nCTR              8\ntype_banniere    8\nlog_CTR          8\njour             8\nmois             8\ndtype: int64"
     },
     "metadata": {}
    }
   ]
  },
  {
   "cell_type": "code",
   "metadata": {
    "tags": [],
    "deepnote_to_be_reexecuted": false,
    "source_hash": "13b52d03",
    "execution_start": 1660207880326,
    "execution_millis": 172,
    "cell_id": "00009-bc8e4ccd-0319-4e44-b0df-9eacce7ea27d",
    "deepnote_cell_type": "code",
    "deepnote_cell_height": 652
   },
   "source": "list_features=['promoPosition','type_banniere','jour', 'mois']\nX_cat = pd.get_dummies(data[list_features],drop_first = 1)\nX_cat",
   "execution_count": null,
   "outputs": [
    {
     "output_type": "execute_result",
     "execution_count": 34,
     "data": {
      "application/vnd.deepnote.dataframe.v3+json": {
       "column_count": 33,
       "row_count": 2123,
       "columns": [
        {
         "name": "promoPosition_Bon Plan-2",
         "dtype": "uint8",
         "stats": {
          "unique_count": 2,
          "nan_count": 0,
          "min": "0",
          "max": "1",
          "histogram": [
           {
            "bin_start": 0,
            "bin_end": 0.1,
            "count": 1937
           },
           {
            "bin_start": 0.1,
            "bin_end": 0.2,
            "count": 0
           },
           {
            "bin_start": 0.2,
            "bin_end": 0.30000000000000004,
            "count": 0
           },
           {
            "bin_start": 0.30000000000000004,
            "bin_end": 0.4,
            "count": 0
           },
           {
            "bin_start": 0.4,
            "bin_end": 0.5,
            "count": 0
           },
           {
            "bin_start": 0.5,
            "bin_end": 0.6000000000000001,
            "count": 0
           },
           {
            "bin_start": 0.6000000000000001,
            "bin_end": 0.7000000000000001,
            "count": 0
           },
           {
            "bin_start": 0.7000000000000001,
            "bin_end": 0.8,
            "count": 0
           },
           {
            "bin_start": 0.8,
            "bin_end": 0.9,
            "count": 0
           },
           {
            "bin_start": 0.9,
            "bin_end": 1,
            "count": 186
           }
          ]
         }
        },
        {
         "name": "promoPosition_Bon Plan-3",
         "dtype": "uint8",
         "stats": {
          "unique_count": 2,
          "nan_count": 0,
          "min": "0",
          "max": "1",
          "histogram": [
           {
            "bin_start": 0,
            "bin_end": 0.1,
            "count": 1972
           },
           {
            "bin_start": 0.1,
            "bin_end": 0.2,
            "count": 0
           },
           {
            "bin_start": 0.2,
            "bin_end": 0.30000000000000004,
            "count": 0
           },
           {
            "bin_start": 0.30000000000000004,
            "bin_end": 0.4,
            "count": 0
           },
           {
            "bin_start": 0.4,
            "bin_end": 0.5,
            "count": 0
           },
           {
            "bin_start": 0.5,
            "bin_end": 0.6000000000000001,
            "count": 0
           },
           {
            "bin_start": 0.6000000000000001,
            "bin_end": 0.7000000000000001,
            "count": 0
           },
           {
            "bin_start": 0.7000000000000001,
            "bin_end": 0.8,
            "count": 0
           },
           {
            "bin_start": 0.8,
            "bin_end": 0.9,
            "count": 0
           },
           {
            "bin_start": 0.9,
            "bin_end": 1,
            "count": 151
           }
          ]
         }
        },
        {
         "name": "promoPosition_Bon Plan-4",
         "dtype": "uint8",
         "stats": {
          "unique_count": 2,
          "nan_count": 0,
          "min": "0",
          "max": "1",
          "histogram": [
           {
            "bin_start": 0,
            "bin_end": 0.1,
            "count": 2072
           },
           {
            "bin_start": 0.1,
            "bin_end": 0.2,
            "count": 0
           },
           {
            "bin_start": 0.2,
            "bin_end": 0.30000000000000004,
            "count": 0
           },
           {
            "bin_start": 0.30000000000000004,
            "bin_end": 0.4,
            "count": 0
           },
           {
            "bin_start": 0.4,
            "bin_end": 0.5,
            "count": 0
           },
           {
            "bin_start": 0.5,
            "bin_end": 0.6000000000000001,
            "count": 0
           },
           {
            "bin_start": 0.6000000000000001,
            "bin_end": 0.7000000000000001,
            "count": 0
           },
           {
            "bin_start": 0.7000000000000001,
            "bin_end": 0.8,
            "count": 0
           },
           {
            "bin_start": 0.8,
            "bin_end": 0.9,
            "count": 0
           },
           {
            "bin_start": 0.9,
            "bin_end": 1,
            "count": 51
           }
          ]
         }
        },
        {
         "name": "promoPosition_Bon Plan-5",
         "dtype": "uint8",
         "stats": {
          "unique_count": 2,
          "nan_count": 0,
          "min": "0",
          "max": "1",
          "histogram": [
           {
            "bin_start": 0,
            "bin_end": 0.1,
            "count": 2078
           },
           {
            "bin_start": 0.1,
            "bin_end": 0.2,
            "count": 0
           },
           {
            "bin_start": 0.2,
            "bin_end": 0.30000000000000004,
            "count": 0
           },
           {
            "bin_start": 0.30000000000000004,
            "bin_end": 0.4,
            "count": 0
           },
           {
            "bin_start": 0.4,
            "bin_end": 0.5,
            "count": 0
           },
           {
            "bin_start": 0.5,
            "bin_end": 0.6000000000000001,
            "count": 0
           },
           {
            "bin_start": 0.6000000000000001,
            "bin_end": 0.7000000000000001,
            "count": 0
           },
           {
            "bin_start": 0.7000000000000001,
            "bin_end": 0.8,
            "count": 0
           },
           {
            "bin_start": 0.8,
            "bin_end": 0.9,
            "count": 0
           },
           {
            "bin_start": 0.9,
            "bin_end": 1,
            "count": 45
           }
          ]
         }
        },
        {
         "name": "promoPosition_Bon Plan-6",
         "dtype": "uint8",
         "stats": {
          "unique_count": 2,
          "nan_count": 0,
          "min": "0",
          "max": "1",
          "histogram": [
           {
            "bin_start": 0,
            "bin_end": 0.1,
            "count": 2065
           },
           {
            "bin_start": 0.1,
            "bin_end": 0.2,
            "count": 0
           },
           {
            "bin_start": 0.2,
            "bin_end": 0.30000000000000004,
            "count": 0
           },
           {
            "bin_start": 0.30000000000000004,
            "bin_end": 0.4,
            "count": 0
           },
           {
            "bin_start": 0.4,
            "bin_end": 0.5,
            "count": 0
           },
           {
            "bin_start": 0.5,
            "bin_end": 0.6000000000000001,
            "count": 0
           },
           {
            "bin_start": 0.6000000000000001,
            "bin_end": 0.7000000000000001,
            "count": 0
           },
           {
            "bin_start": 0.7000000000000001,
            "bin_end": 0.8,
            "count": 0
           },
           {
            "bin_start": 0.8,
            "bin_end": 0.9,
            "count": 0
           },
           {
            "bin_start": 0.9,
            "bin_end": 1,
            "count": 58
           }
          ]
         }
        },
        {
         "name": "promoPosition_Home CM – bonnes affaires grandes-1",
         "dtype": "uint8",
         "stats": {
          "unique_count": 2,
          "nan_count": 0,
          "min": "0",
          "max": "1",
          "histogram": [
           {
            "bin_start": 0,
            "bin_end": 0.1,
            "count": 1701
           },
           {
            "bin_start": 0.1,
            "bin_end": 0.2,
            "count": 0
           },
           {
            "bin_start": 0.2,
            "bin_end": 0.30000000000000004,
            "count": 0
           },
           {
            "bin_start": 0.30000000000000004,
            "bin_end": 0.4,
            "count": 0
           },
           {
            "bin_start": 0.4,
            "bin_end": 0.5,
            "count": 0
           },
           {
            "bin_start": 0.5,
            "bin_end": 0.6000000000000001,
            "count": 0
           },
           {
            "bin_start": 0.6000000000000001,
            "bin_end": 0.7000000000000001,
            "count": 0
           },
           {
            "bin_start": 0.7000000000000001,
            "bin_end": 0.8,
            "count": 0
           },
           {
            "bin_start": 0.8,
            "bin_end": 0.9,
            "count": 0
           },
           {
            "bin_start": 0.9,
            "bin_end": 1,
            "count": 422
           }
          ]
         }
        },
        {
         "name": "promoPosition_Home CM – bonnes affaires grandes-2",
         "dtype": "uint8",
         "stats": {
          "unique_count": 2,
          "nan_count": 0,
          "min": "0",
          "max": "1",
          "histogram": [
           {
            "bin_start": 0,
            "bin_end": 0.1,
            "count": 1710
           },
           {
            "bin_start": 0.1,
            "bin_end": 0.2,
            "count": 0
           },
           {
            "bin_start": 0.2,
            "bin_end": 0.30000000000000004,
            "count": 0
           },
           {
            "bin_start": 0.30000000000000004,
            "bin_end": 0.4,
            "count": 0
           },
           {
            "bin_start": 0.4,
            "bin_end": 0.5,
            "count": 0
           },
           {
            "bin_start": 0.5,
            "bin_end": 0.6000000000000001,
            "count": 0
           },
           {
            "bin_start": 0.6000000000000001,
            "bin_end": 0.7000000000000001,
            "count": 0
           },
           {
            "bin_start": 0.7000000000000001,
            "bin_end": 0.8,
            "count": 0
           },
           {
            "bin_start": 0.8,
            "bin_end": 0.9,
            "count": 0
           },
           {
            "bin_start": 0.9,
            "bin_end": 1,
            "count": 413
           }
          ]
         }
        },
        {
         "name": "promoPosition_Home CM – bonnes affaires petites-2",
         "dtype": "uint8",
         "stats": {
          "unique_count": 2,
          "nan_count": 0,
          "min": "0",
          "max": "1",
          "histogram": [
           {
            "bin_start": 0,
            "bin_end": 0.1,
            "count": 2121
           },
           {
            "bin_start": 0.1,
            "bin_end": 0.2,
            "count": 0
           },
           {
            "bin_start": 0.2,
            "bin_end": 0.30000000000000004,
            "count": 0
           },
           {
            "bin_start": 0.30000000000000004,
            "bin_end": 0.4,
            "count": 0
           },
           {
            "bin_start": 0.4,
            "bin_end": 0.5,
            "count": 0
           },
           {
            "bin_start": 0.5,
            "bin_end": 0.6000000000000001,
            "count": 0
           },
           {
            "bin_start": 0.6000000000000001,
            "bin_end": 0.7000000000000001,
            "count": 0
           },
           {
            "bin_start": 0.7000000000000001,
            "bin_end": 0.8,
            "count": 0
           },
           {
            "bin_start": 0.8,
            "bin_end": 0.9,
            "count": 0
           },
           {
            "bin_start": 0.9,
            "bin_end": 1,
            "count": 2
           }
          ]
         }
        },
        {
         "name": "promoPosition_Home CM – bonnes affaires petites-3",
         "dtype": "uint8",
         "stats": {
          "unique_count": 2,
          "nan_count": 0,
          "min": "0",
          "max": "1",
          "histogram": [
           {
            "bin_start": 0,
            "bin_end": 0.1,
            "count": 1742
           },
           {
            "bin_start": 0.1,
            "bin_end": 0.2,
            "count": 0
           },
           {
            "bin_start": 0.2,
            "bin_end": 0.30000000000000004,
            "count": 0
           },
           {
            "bin_start": 0.30000000000000004,
            "bin_end": 0.4,
            "count": 0
           },
           {
            "bin_start": 0.4,
            "bin_end": 0.5,
            "count": 0
           },
           {
            "bin_start": 0.5,
            "bin_end": 0.6000000000000001,
            "count": 0
           },
           {
            "bin_start": 0.6000000000000001,
            "bin_end": 0.7000000000000001,
            "count": 0
           },
           {
            "bin_start": 0.7000000000000001,
            "bin_end": 0.8,
            "count": 0
           },
           {
            "bin_start": 0.8,
            "bin_end": 0.9,
            "count": 0
           },
           {
            "bin_start": 0.9,
            "bin_end": 1,
            "count": 381
           }
          ]
         }
        },
        {
         "name": "promoPosition_Home CM – bonnes affaires petites-4",
         "dtype": "uint8",
         "stats": {
          "unique_count": 2,
          "nan_count": 0,
          "min": "0",
          "max": "1",
          "histogram": [
           {
            "bin_start": 0,
            "bin_end": 0.1,
            "count": 2000
           },
           {
            "bin_start": 0.1,
            "bin_end": 0.2,
            "count": 0
           },
           {
            "bin_start": 0.2,
            "bin_end": 0.30000000000000004,
            "count": 0
           },
           {
            "bin_start": 0.30000000000000004,
            "bin_end": 0.4,
            "count": 0
           },
           {
            "bin_start": 0.4,
            "bin_end": 0.5,
            "count": 0
           },
           {
            "bin_start": 0.5,
            "bin_end": 0.6000000000000001,
            "count": 0
           },
           {
            "bin_start": 0.6000000000000001,
            "bin_end": 0.7000000000000001,
            "count": 0
           },
           {
            "bin_start": 0.7000000000000001,
            "bin_end": 0.8,
            "count": 0
           },
           {
            "bin_start": 0.8,
            "bin_end": 0.9,
            "count": 0
           },
           {
            "bin_start": 0.9,
            "bin_end": 1,
            "count": 123
           }
          ]
         }
        },
        {
         "name": "promoPosition_Home CM – bonnes affaires petites-5",
         "dtype": "uint8",
         "stats": {
          "unique_count": 2,
          "nan_count": 0,
          "min": "0",
          "max": "1",
          "histogram": [
           {
            "bin_start": 0,
            "bin_end": 0.1,
            "count": 2033
           },
           {
            "bin_start": 0.1,
            "bin_end": 0.2,
            "count": 0
           },
           {
            "bin_start": 0.2,
            "bin_end": 0.30000000000000004,
            "count": 0
           },
           {
            "bin_start": 0.30000000000000004,
            "bin_end": 0.4,
            "count": 0
           },
           {
            "bin_start": 0.4,
            "bin_end": 0.5,
            "count": 0
           },
           {
            "bin_start": 0.5,
            "bin_end": 0.6000000000000001,
            "count": 0
           },
           {
            "bin_start": 0.6000000000000001,
            "bin_end": 0.7000000000000001,
            "count": 0
           },
           {
            "bin_start": 0.7000000000000001,
            "bin_end": 0.8,
            "count": 0
           },
           {
            "bin_start": 0.8,
            "bin_end": 0.9,
            "count": 0
           },
           {
            "bin_start": 0.9,
            "bin_end": 1,
            "count": 90
           }
          ]
         }
        },
        {
         "name": "type_banniere_Bons Plans",
         "dtype": "uint8",
         "stats": {
          "unique_count": 2,
          "nan_count": 0,
          "min": "0",
          "max": "1",
          "histogram": [
           {
            "bin_start": 0,
            "bin_end": 0.1,
            "count": 1439
           },
           {
            "bin_start": 0.1,
            "bin_end": 0.2,
            "count": 0
           },
           {
            "bin_start": 0.2,
            "bin_end": 0.30000000000000004,
            "count": 0
           },
           {
            "bin_start": 0.30000000000000004,
            "bin_end": 0.4,
            "count": 0
           },
           {
            "bin_start": 0.4,
            "bin_end": 0.5,
            "count": 0
           },
           {
            "bin_start": 0.5,
            "bin_end": 0.6000000000000001,
            "count": 0
           },
           {
            "bin_start": 0.6000000000000001,
            "bin_end": 0.7000000000000001,
            "count": 0
           },
           {
            "bin_start": 0.7000000000000001,
            "bin_end": 0.8,
            "count": 0
           },
           {
            "bin_start": 0.8,
            "bin_end": 0.9,
            "count": 0
           },
           {
            "bin_start": 0.9,
            "bin_end": 1,
            "count": 684
           }
          ]
         }
        },
        {
         "name": "type_banniere_Crazy",
         "dtype": "uint8",
         "stats": {
          "unique_count": 2,
          "nan_count": 0,
          "min": "0",
          "max": "1",
          "histogram": [
           {
            "bin_start": 0,
            "bin_end": 0.1,
            "count": 2109
           },
           {
            "bin_start": 0.1,
            "bin_end": 0.2,
            "count": 0
           },
           {
            "bin_start": 0.2,
            "bin_end": 0.30000000000000004,
            "count": 0
           },
           {
            "bin_start": 0.30000000000000004,
            "bin_end": 0.4,
            "count": 0
           },
           {
            "bin_start": 0.4,
            "bin_end": 0.5,
            "count": 0
           },
           {
            "bin_start": 0.5,
            "bin_end": 0.6000000000000001,
            "count": 0
           },
           {
            "bin_start": 0.6000000000000001,
            "bin_end": 0.7000000000000001,
            "count": 0
           },
           {
            "bin_start": 0.7000000000000001,
            "bin_end": 0.8,
            "count": 0
           },
           {
            "bin_start": 0.8,
            "bin_end": 0.9,
            "count": 0
           },
           {
            "bin_start": 0.9,
            "bin_end": 1,
            "count": 14
           }
          ]
         }
        },
        {
         "name": "type_banniere_Foliday",
         "dtype": "uint8",
         "stats": {
          "unique_count": 2,
          "nan_count": 0,
          "min": "0",
          "max": "1",
          "histogram": [
           {
            "bin_start": 0,
            "bin_end": 0.1,
            "count": 2102
           },
           {
            "bin_start": 0.1,
            "bin_end": 0.2,
            "count": 0
           },
           {
            "bin_start": 0.2,
            "bin_end": 0.30000000000000004,
            "count": 0
           },
           {
            "bin_start": 0.30000000000000004,
            "bin_end": 0.4,
            "count": 0
           },
           {
            "bin_start": 0.4,
            "bin_end": 0.5,
            "count": 0
           },
           {
            "bin_start": 0.5,
            "bin_end": 0.6000000000000001,
            "count": 0
           },
           {
            "bin_start": 0.6000000000000001,
            "bin_end": 0.7000000000000001,
            "count": 0
           },
           {
            "bin_start": 0.7000000000000001,
            "bin_end": 0.8,
            "count": 0
           },
           {
            "bin_start": 0.8,
            "bin_end": 0.9,
            "count": 0
           },
           {
            "bin_start": 0.9,
            "bin_end": 1,
            "count": 21
           }
          ]
         }
        },
        {
         "name": "type_banniere_Promotions",
         "dtype": "uint8",
         "stats": {
          "unique_count": 2,
          "nan_count": 0,
          "min": "0",
          "max": "1",
          "histogram": [
           {
            "bin_start": 0,
            "bin_end": 0.1,
            "count": 1947
           },
           {
            "bin_start": 0.1,
            "bin_end": 0.2,
            "count": 0
           },
           {
            "bin_start": 0.2,
            "bin_end": 0.30000000000000004,
            "count": 0
           },
           {
            "bin_start": 0.30000000000000004,
            "bin_end": 0.4,
            "count": 0
           },
           {
            "bin_start": 0.4,
            "bin_end": 0.5,
            "count": 0
           },
           {
            "bin_start": 0.5,
            "bin_end": 0.6000000000000001,
            "count": 0
           },
           {
            "bin_start": 0.6000000000000001,
            "bin_end": 0.7000000000000001,
            "count": 0
           },
           {
            "bin_start": 0.7000000000000001,
            "bin_end": 0.8,
            "count": 0
           },
           {
            "bin_start": 0.8,
            "bin_end": 0.9,
            "count": 0
           },
           {
            "bin_start": 0.9,
            "bin_end": 1,
            "count": 176
           }
          ]
         }
        },
        {
         "name": "type_banniere_Sejour tout compris",
         "dtype": "uint8",
         "stats": {
          "unique_count": 2,
          "nan_count": 0,
          "min": "0",
          "max": "1",
          "histogram": [
           {
            "bin_start": 0,
            "bin_end": 0.1,
            "count": 1945
           },
           {
            "bin_start": 0.1,
            "bin_end": 0.2,
            "count": 0
           },
           {
            "bin_start": 0.2,
            "bin_end": 0.30000000000000004,
            "count": 0
           },
           {
            "bin_start": 0.30000000000000004,
            "bin_end": 0.4,
            "count": 0
           },
           {
            "bin_start": 0.4,
            "bin_end": 0.5,
            "count": 0
           },
           {
            "bin_start": 0.5,
            "bin_end": 0.6000000000000001,
            "count": 0
           },
           {
            "bin_start": 0.6000000000000001,
            "bin_end": 0.7000000000000001,
            "count": 0
           },
           {
            "bin_start": 0.7000000000000001,
            "bin_end": 0.8,
            "count": 0
           },
           {
            "bin_start": 0.8,
            "bin_end": 0.9,
            "count": 0
           },
           {
            "bin_start": 0.9,
            "bin_end": 1,
            "count": 178
           }
          ]
         }
        },
        {
         "name": "jour_Monday",
         "dtype": "uint8",
         "stats": {
          "unique_count": 2,
          "nan_count": 0,
          "min": "0",
          "max": "1",
          "histogram": [
           {
            "bin_start": 0,
            "bin_end": 0.1,
            "count": 1800
           },
           {
            "bin_start": 0.1,
            "bin_end": 0.2,
            "count": 0
           },
           {
            "bin_start": 0.2,
            "bin_end": 0.30000000000000004,
            "count": 0
           },
           {
            "bin_start": 0.30000000000000004,
            "bin_end": 0.4,
            "count": 0
           },
           {
            "bin_start": 0.4,
            "bin_end": 0.5,
            "count": 0
           },
           {
            "bin_start": 0.5,
            "bin_end": 0.6000000000000001,
            "count": 0
           },
           {
            "bin_start": 0.6000000000000001,
            "bin_end": 0.7000000000000001,
            "count": 0
           },
           {
            "bin_start": 0.7000000000000001,
            "bin_end": 0.8,
            "count": 0
           },
           {
            "bin_start": 0.8,
            "bin_end": 0.9,
            "count": 0
           },
           {
            "bin_start": 0.9,
            "bin_end": 1,
            "count": 323
           }
          ]
         }
        },
        {
         "name": "jour_Saturday",
         "dtype": "uint8",
         "stats": {
          "unique_count": 2,
          "nan_count": 0,
          "min": "0",
          "max": "1",
          "histogram": [
           {
            "bin_start": 0,
            "bin_end": 0.1,
            "count": 1842
           },
           {
            "bin_start": 0.1,
            "bin_end": 0.2,
            "count": 0
           },
           {
            "bin_start": 0.2,
            "bin_end": 0.30000000000000004,
            "count": 0
           },
           {
            "bin_start": 0.30000000000000004,
            "bin_end": 0.4,
            "count": 0
           },
           {
            "bin_start": 0.4,
            "bin_end": 0.5,
            "count": 0
           },
           {
            "bin_start": 0.5,
            "bin_end": 0.6000000000000001,
            "count": 0
           },
           {
            "bin_start": 0.6000000000000001,
            "bin_end": 0.7000000000000001,
            "count": 0
           },
           {
            "bin_start": 0.7000000000000001,
            "bin_end": 0.8,
            "count": 0
           },
           {
            "bin_start": 0.8,
            "bin_end": 0.9,
            "count": 0
           },
           {
            "bin_start": 0.9,
            "bin_end": 1,
            "count": 281
           }
          ]
         }
        },
        {
         "name": "jour_Sunday",
         "dtype": "uint8",
         "stats": {
          "unique_count": 2,
          "nan_count": 0,
          "min": "0",
          "max": "1",
          "histogram": [
           {
            "bin_start": 0,
            "bin_end": 0.1,
            "count": 1779
           },
           {
            "bin_start": 0.1,
            "bin_end": 0.2,
            "count": 0
           },
           {
            "bin_start": 0.2,
            "bin_end": 0.30000000000000004,
            "count": 0
           },
           {
            "bin_start": 0.30000000000000004,
            "bin_end": 0.4,
            "count": 0
           },
           {
            "bin_start": 0.4,
            "bin_end": 0.5,
            "count": 0
           },
           {
            "bin_start": 0.5,
            "bin_end": 0.6000000000000001,
            "count": 0
           },
           {
            "bin_start": 0.6000000000000001,
            "bin_end": 0.7000000000000001,
            "count": 0
           },
           {
            "bin_start": 0.7000000000000001,
            "bin_end": 0.8,
            "count": 0
           },
           {
            "bin_start": 0.8,
            "bin_end": 0.9,
            "count": 0
           },
           {
            "bin_start": 0.9,
            "bin_end": 1,
            "count": 344
           }
          ]
         }
        },
        {
         "name": "jour_Thursday",
         "dtype": "uint8",
         "stats": {
          "unique_count": 2,
          "nan_count": 0,
          "min": "0",
          "max": "1",
          "histogram": [
           {
            "bin_start": 0,
            "bin_end": 0.1,
            "count": 1825
           },
           {
            "bin_start": 0.1,
            "bin_end": 0.2,
            "count": 0
           },
           {
            "bin_start": 0.2,
            "bin_end": 0.30000000000000004,
            "count": 0
           },
           {
            "bin_start": 0.30000000000000004,
            "bin_end": 0.4,
            "count": 0
           },
           {
            "bin_start": 0.4,
            "bin_end": 0.5,
            "count": 0
           },
           {
            "bin_start": 0.5,
            "bin_end": 0.6000000000000001,
            "count": 0
           },
           {
            "bin_start": 0.6000000000000001,
            "bin_end": 0.7000000000000001,
            "count": 0
           },
           {
            "bin_start": 0.7000000000000001,
            "bin_end": 0.8,
            "count": 0
           },
           {
            "bin_start": 0.8,
            "bin_end": 0.9,
            "count": 0
           },
           {
            "bin_start": 0.9,
            "bin_end": 1,
            "count": 298
           }
          ]
         }
        },
        {
         "name": "jour_Tuesday",
         "dtype": "uint8",
         "stats": {
          "unique_count": 2,
          "nan_count": 0,
          "min": "0",
          "max": "1",
          "histogram": [
           {
            "bin_start": 0,
            "bin_end": 0.1,
            "count": 1824
           },
           {
            "bin_start": 0.1,
            "bin_end": 0.2,
            "count": 0
           },
           {
            "bin_start": 0.2,
            "bin_end": 0.30000000000000004,
            "count": 0
           },
           {
            "bin_start": 0.30000000000000004,
            "bin_end": 0.4,
            "count": 0
           },
           {
            "bin_start": 0.4,
            "bin_end": 0.5,
            "count": 0
           },
           {
            "bin_start": 0.5,
            "bin_end": 0.6000000000000001,
            "count": 0
           },
           {
            "bin_start": 0.6000000000000001,
            "bin_end": 0.7000000000000001,
            "count": 0
           },
           {
            "bin_start": 0.7000000000000001,
            "bin_end": 0.8,
            "count": 0
           },
           {
            "bin_start": 0.8,
            "bin_end": 0.9,
            "count": 0
           },
           {
            "bin_start": 0.9,
            "bin_end": 1,
            "count": 299
           }
          ]
         }
        },
        {
         "name": "jour_Wednesday",
         "dtype": "uint8",
         "stats": {
          "unique_count": 2,
          "nan_count": 0,
          "min": "0",
          "max": "1",
          "histogram": [
           {
            "bin_start": 0,
            "bin_end": 0.1,
            "count": 1823
           },
           {
            "bin_start": 0.1,
            "bin_end": 0.2,
            "count": 0
           },
           {
            "bin_start": 0.2,
            "bin_end": 0.30000000000000004,
            "count": 0
           },
           {
            "bin_start": 0.30000000000000004,
            "bin_end": 0.4,
            "count": 0
           },
           {
            "bin_start": 0.4,
            "bin_end": 0.5,
            "count": 0
           },
           {
            "bin_start": 0.5,
            "bin_end": 0.6000000000000001,
            "count": 0
           },
           {
            "bin_start": 0.6000000000000001,
            "bin_end": 0.7000000000000001,
            "count": 0
           },
           {
            "bin_start": 0.7000000000000001,
            "bin_end": 0.8,
            "count": 0
           },
           {
            "bin_start": 0.8,
            "bin_end": 0.9,
            "count": 0
           },
           {
            "bin_start": 0.9,
            "bin_end": 1,
            "count": 300
           }
          ]
         }
        },
        {
         "name": "mois_August",
         "dtype": "uint8",
         "stats": {
          "unique_count": 2,
          "nan_count": 0,
          "min": "0",
          "max": "1",
          "histogram": [
           {
            "bin_start": 0,
            "bin_end": 0.1,
            "count": 1969
           },
           {
            "bin_start": 0.1,
            "bin_end": 0.2,
            "count": 0
           },
           {
            "bin_start": 0.2,
            "bin_end": 0.30000000000000004,
            "count": 0
           },
           {
            "bin_start": 0.30000000000000004,
            "bin_end": 0.4,
            "count": 0
           },
           {
            "bin_start": 0.4,
            "bin_end": 0.5,
            "count": 0
           },
           {
            "bin_start": 0.5,
            "bin_end": 0.6000000000000001,
            "count": 0
           },
           {
            "bin_start": 0.6000000000000001,
            "bin_end": 0.7000000000000001,
            "count": 0
           },
           {
            "bin_start": 0.7000000000000001,
            "bin_end": 0.8,
            "count": 0
           },
           {
            "bin_start": 0.8,
            "bin_end": 0.9,
            "count": 0
           },
           {
            "bin_start": 0.9,
            "bin_end": 1,
            "count": 154
           }
          ]
         }
        },
        {
         "name": "mois_December",
         "dtype": "uint8",
         "stats": {
          "unique_count": 2,
          "nan_count": 0,
          "min": "0",
          "max": "1",
          "histogram": [
           {
            "bin_start": 0,
            "bin_end": 0.1,
            "count": 2022
           },
           {
            "bin_start": 0.1,
            "bin_end": 0.2,
            "count": 0
           },
           {
            "bin_start": 0.2,
            "bin_end": 0.30000000000000004,
            "count": 0
           },
           {
            "bin_start": 0.30000000000000004,
            "bin_end": 0.4,
            "count": 0
           },
           {
            "bin_start": 0.4,
            "bin_end": 0.5,
            "count": 0
           },
           {
            "bin_start": 0.5,
            "bin_end": 0.6000000000000001,
            "count": 0
           },
           {
            "bin_start": 0.6000000000000001,
            "bin_end": 0.7000000000000001,
            "count": 0
           },
           {
            "bin_start": 0.7000000000000001,
            "bin_end": 0.8,
            "count": 0
           },
           {
            "bin_start": 0.8,
            "bin_end": 0.9,
            "count": 0
           },
           {
            "bin_start": 0.9,
            "bin_end": 1,
            "count": 101
           }
          ]
         }
        },
        {
         "name": "mois_February",
         "dtype": "uint8",
         "stats": {
          "unique_count": 2,
          "nan_count": 0,
          "min": "0",
          "max": "1",
          "histogram": [
           {
            "bin_start": 0,
            "bin_end": 0.1,
            "count": 1934
           },
           {
            "bin_start": 0.1,
            "bin_end": 0.2,
            "count": 0
           },
           {
            "bin_start": 0.2,
            "bin_end": 0.30000000000000004,
            "count": 0
           },
           {
            "bin_start": 0.30000000000000004,
            "bin_end": 0.4,
            "count": 0
           },
           {
            "bin_start": 0.4,
            "bin_end": 0.5,
            "count": 0
           },
           {
            "bin_start": 0.5,
            "bin_end": 0.6000000000000001,
            "count": 0
           },
           {
            "bin_start": 0.6000000000000001,
            "bin_end": 0.7000000000000001,
            "count": 0
           },
           {
            "bin_start": 0.7000000000000001,
            "bin_end": 0.8,
            "count": 0
           },
           {
            "bin_start": 0.8,
            "bin_end": 0.9,
            "count": 0
           },
           {
            "bin_start": 0.9,
            "bin_end": 1,
            "count": 189
           }
          ]
         }
        },
        {
         "name": "mois_January",
         "dtype": "uint8",
         "stats": {
          "unique_count": 2,
          "nan_count": 0,
          "min": "0",
          "max": "1",
          "histogram": [
           {
            "bin_start": 0,
            "bin_end": 0.1,
            "count": 1935
           },
           {
            "bin_start": 0.1,
            "bin_end": 0.2,
            "count": 0
           },
           {
            "bin_start": 0.2,
            "bin_end": 0.30000000000000004,
            "count": 0
           },
           {
            "bin_start": 0.30000000000000004,
            "bin_end": 0.4,
            "count": 0
           },
           {
            "bin_start": 0.4,
            "bin_end": 0.5,
            "count": 0
           },
           {
            "bin_start": 0.5,
            "bin_end": 0.6000000000000001,
            "count": 0
           },
           {
            "bin_start": 0.6000000000000001,
            "bin_end": 0.7000000000000001,
            "count": 0
           },
           {
            "bin_start": 0.7000000000000001,
            "bin_end": 0.8,
            "count": 0
           },
           {
            "bin_start": 0.8,
            "bin_end": 0.9,
            "count": 0
           },
           {
            "bin_start": 0.9,
            "bin_end": 1,
            "count": 188
           }
          ]
         }
        },
        {
         "name": "mois_July",
         "dtype": "uint8",
         "stats": {
          "unique_count": 2,
          "nan_count": 0,
          "min": "0",
          "max": "1",
          "histogram": [
           {
            "bin_start": 0,
            "bin_end": 0.1,
            "count": 1819
           },
           {
            "bin_start": 0.1,
            "bin_end": 0.2,
            "count": 0
           },
           {
            "bin_start": 0.2,
            "bin_end": 0.30000000000000004,
            "count": 0
           },
           {
            "bin_start": 0.30000000000000004,
            "bin_end": 0.4,
            "count": 0
           },
           {
            "bin_start": 0.4,
            "bin_end": 0.5,
            "count": 0
           },
           {
            "bin_start": 0.5,
            "bin_end": 0.6000000000000001,
            "count": 0
           },
           {
            "bin_start": 0.6000000000000001,
            "bin_end": 0.7000000000000001,
            "count": 0
           },
           {
            "bin_start": 0.7000000000000001,
            "bin_end": 0.8,
            "count": 0
           },
           {
            "bin_start": 0.8,
            "bin_end": 0.9,
            "count": 0
           },
           {
            "bin_start": 0.9,
            "bin_end": 1,
            "count": 304
           }
          ]
         }
        },
        {
         "name": "mois_June",
         "dtype": "uint8",
         "stats": {
          "unique_count": 2,
          "nan_count": 0,
          "min": "0",
          "max": "1",
          "histogram": [
           {
            "bin_start": 0,
            "bin_end": 0.1,
            "count": 1869
           },
           {
            "bin_start": 0.1,
            "bin_end": 0.2,
            "count": 0
           },
           {
            "bin_start": 0.2,
            "bin_end": 0.30000000000000004,
            "count": 0
           },
           {
            "bin_start": 0.30000000000000004,
            "bin_end": 0.4,
            "count": 0
           },
           {
            "bin_start": 0.4,
            "bin_end": 0.5,
            "count": 0
           },
           {
            "bin_start": 0.5,
            "bin_end": 0.6000000000000001,
            "count": 0
           },
           {
            "bin_start": 0.6000000000000001,
            "bin_end": 0.7000000000000001,
            "count": 0
           },
           {
            "bin_start": 0.7000000000000001,
            "bin_end": 0.8,
            "count": 0
           },
           {
            "bin_start": 0.8,
            "bin_end": 0.9,
            "count": 0
           },
           {
            "bin_start": 0.9,
            "bin_end": 1,
            "count": 254
           }
          ]
         }
        },
        {
         "name": "mois_March",
         "dtype": "uint8",
         "stats": {
          "unique_count": 2,
          "nan_count": 0,
          "min": "0",
          "max": "1",
          "histogram": [
           {
            "bin_start": 0,
            "bin_end": 0.1,
            "count": 1944
           },
           {
            "bin_start": 0.1,
            "bin_end": 0.2,
            "count": 0
           },
           {
            "bin_start": 0.2,
            "bin_end": 0.30000000000000004,
            "count": 0
           },
           {
            "bin_start": 0.30000000000000004,
            "bin_end": 0.4,
            "count": 0
           },
           {
            "bin_start": 0.4,
            "bin_end": 0.5,
            "count": 0
           },
           {
            "bin_start": 0.5,
            "bin_end": 0.6000000000000001,
            "count": 0
           },
           {
            "bin_start": 0.6000000000000001,
            "bin_end": 0.7000000000000001,
            "count": 0
           },
           {
            "bin_start": 0.7000000000000001,
            "bin_end": 0.8,
            "count": 0
           },
           {
            "bin_start": 0.8,
            "bin_end": 0.9,
            "count": 0
           },
           {
            "bin_start": 0.9,
            "bin_end": 1,
            "count": 179
           }
          ]
         }
        },
        {
         "name": "mois_May",
         "dtype": "uint8",
         "stats": {
          "unique_count": 2,
          "nan_count": 0,
          "min": "0",
          "max": "1",
          "histogram": [
           {
            "bin_start": 0,
            "bin_end": 0.1,
            "count": 1870
           },
           {
            "bin_start": 0.1,
            "bin_end": 0.2,
            "count": 0
           },
           {
            "bin_start": 0.2,
            "bin_end": 0.30000000000000004,
            "count": 0
           },
           {
            "bin_start": 0.30000000000000004,
            "bin_end": 0.4,
            "count": 0
           },
           {
            "bin_start": 0.4,
            "bin_end": 0.5,
            "count": 0
           },
           {
            "bin_start": 0.5,
            "bin_end": 0.6000000000000001,
            "count": 0
           },
           {
            "bin_start": 0.6000000000000001,
            "bin_end": 0.7000000000000001,
            "count": 0
           },
           {
            "bin_start": 0.7000000000000001,
            "bin_end": 0.8,
            "count": 0
           },
           {
            "bin_start": 0.8,
            "bin_end": 0.9,
            "count": 0
           },
           {
            "bin_start": 0.9,
            "bin_end": 1,
            "count": 253
           }
          ]
         }
        },
        {
         "name": "mois_November",
         "dtype": "uint8",
         "stats": {
          "unique_count": 2,
          "nan_count": 0,
          "min": "0",
          "max": "1",
          "histogram": [
           {
            "bin_start": 0,
            "bin_end": 0.1,
            "count": 2025
           },
           {
            "bin_start": 0.1,
            "bin_end": 0.2,
            "count": 0
           },
           {
            "bin_start": 0.2,
            "bin_end": 0.30000000000000004,
            "count": 0
           },
           {
            "bin_start": 0.30000000000000004,
            "bin_end": 0.4,
            "count": 0
           },
           {
            "bin_start": 0.4,
            "bin_end": 0.5,
            "count": 0
           },
           {
            "bin_start": 0.5,
            "bin_end": 0.6000000000000001,
            "count": 0
           },
           {
            "bin_start": 0.6000000000000001,
            "bin_end": 0.7000000000000001,
            "count": 0
           },
           {
            "bin_start": 0.7000000000000001,
            "bin_end": 0.8,
            "count": 0
           },
           {
            "bin_start": 0.8,
            "bin_end": 0.9,
            "count": 0
           },
           {
            "bin_start": 0.9,
            "bin_end": 1,
            "count": 98
           }
          ]
         }
        },
        {
         "name": "mois_October",
         "dtype": "uint8",
         "stats": {
          "unique_count": 2,
          "nan_count": 0,
          "min": "0",
          "max": "1",
          "histogram": [
           {
            "bin_start": 0,
            "bin_end": 0.1,
            "count": 2030
           },
           {
            "bin_start": 0.1,
            "bin_end": 0.2,
            "count": 0
           },
           {
            "bin_start": 0.2,
            "bin_end": 0.30000000000000004,
            "count": 0
           },
           {
            "bin_start": 0.30000000000000004,
            "bin_end": 0.4,
            "count": 0
           },
           {
            "bin_start": 0.4,
            "bin_end": 0.5,
            "count": 0
           },
           {
            "bin_start": 0.5,
            "bin_end": 0.6000000000000001,
            "count": 0
           },
           {
            "bin_start": 0.6000000000000001,
            "bin_end": 0.7000000000000001,
            "count": 0
           },
           {
            "bin_start": 0.7000000000000001,
            "bin_end": 0.8,
            "count": 0
           },
           {
            "bin_start": 0.8,
            "bin_end": 0.9,
            "count": 0
           },
           {
            "bin_start": 0.9,
            "bin_end": 1,
            "count": 93
           }
          ]
         }
        },
        {
         "name": "mois_September",
         "dtype": "uint8",
         "stats": {
          "unique_count": 2,
          "nan_count": 0,
          "min": "0",
          "max": "1",
          "histogram": [
           {
            "bin_start": 0,
            "bin_end": 0.1,
            "count": 2005
           },
           {
            "bin_start": 0.1,
            "bin_end": 0.2,
            "count": 0
           },
           {
            "bin_start": 0.2,
            "bin_end": 0.30000000000000004,
            "count": 0
           },
           {
            "bin_start": 0.30000000000000004,
            "bin_end": 0.4,
            "count": 0
           },
           {
            "bin_start": 0.4,
            "bin_end": 0.5,
            "count": 0
           },
           {
            "bin_start": 0.5,
            "bin_end": 0.6000000000000001,
            "count": 0
           },
           {
            "bin_start": 0.6000000000000001,
            "bin_end": 0.7000000000000001,
            "count": 0
           },
           {
            "bin_start": 0.7000000000000001,
            "bin_end": 0.8,
            "count": 0
           },
           {
            "bin_start": 0.8,
            "bin_end": 0.9,
            "count": 0
           },
           {
            "bin_start": 0.9,
            "bin_end": 1,
            "count": 118
           }
          ]
         }
        },
        {
         "name": "_deepnote_index_column",
         "dtype": "int64"
        }
       ],
       "rows": [
        {
         "promoPosition_Bon Plan-2": 0,
         "promoPosition_Bon Plan-3": 0,
         "promoPosition_Bon Plan-4": 0,
         "promoPosition_Bon Plan-5": 0,
         "promoPosition_Bon Plan-6": 0,
         "promoPosition_Home CM – bonnes affaires grandes-1": 0,
         "promoPosition_Home CM – bonnes affaires grandes-2": 1,
         "promoPosition_Home CM – bonnes affaires petites-2": 0,
         "promoPosition_Home CM – bonnes affaires petites-3": 0,
         "promoPosition_Home CM – bonnes affaires petites-4": 0,
         "promoPosition_Home CM – bonnes affaires petites-5": 0,
         "type_banniere_Bons Plans": 0,
         "type_banniere_Crazy": 0,
         "type_banniere_Foliday": 0,
         "type_banniere_Promotions": 0,
         "type_banniere_Sejour tout compris": 0,
         "jour_Monday": 0,
         "jour_Saturday": 0,
         "jour_Sunday": 0,
         "jour_Thursday": 0,
         "jour_Tuesday": 0,
         "jour_Wednesday": 0,
         "mois_August": 0,
         "mois_December": 0,
         "mois_February": 0,
         "mois_January": 0,
         "mois_July": 1,
         "mois_June": 0,
         "mois_March": 0,
         "mois_May": 0,
         "mois_November": 0,
         "mois_October": 0,
         "mois_September": 0,
         "_deepnote_index_column": 0
        },
        {
         "promoPosition_Bon Plan-2": 0,
         "promoPosition_Bon Plan-3": 0,
         "promoPosition_Bon Plan-4": 0,
         "promoPosition_Bon Plan-5": 0,
         "promoPosition_Bon Plan-6": 1,
         "promoPosition_Home CM – bonnes affaires grandes-1": 0,
         "promoPosition_Home CM – bonnes affaires grandes-2": 0,
         "promoPosition_Home CM – bonnes affaires petites-2": 0,
         "promoPosition_Home CM – bonnes affaires petites-3": 0,
         "promoPosition_Home CM – bonnes affaires petites-4": 0,
         "promoPosition_Home CM – bonnes affaires petites-5": 0,
         "type_banniere_Bons Plans": 1,
         "type_banniere_Crazy": 0,
         "type_banniere_Foliday": 0,
         "type_banniere_Promotions": 0,
         "type_banniere_Sejour tout compris": 0,
         "jour_Monday": 0,
         "jour_Saturday": 0,
         "jour_Sunday": 0,
         "jour_Thursday": 1,
         "jour_Tuesday": 0,
         "jour_Wednesday": 0,
         "mois_August": 0,
         "mois_December": 0,
         "mois_February": 0,
         "mois_January": 0,
         "mois_July": 1,
         "mois_June": 0,
         "mois_March": 0,
         "mois_May": 0,
         "mois_November": 0,
         "mois_October": 0,
         "mois_September": 0,
         "_deepnote_index_column": 1
        },
        {
         "promoPosition_Bon Plan-2": 0,
         "promoPosition_Bon Plan-3": 0,
         "promoPosition_Bon Plan-4": 0,
         "promoPosition_Bon Plan-5": 0,
         "promoPosition_Bon Plan-6": 0,
         "promoPosition_Home CM – bonnes affaires grandes-1": 0,
         "promoPosition_Home CM – bonnes affaires grandes-2": 1,
         "promoPosition_Home CM – bonnes affaires petites-2": 0,
         "promoPosition_Home CM – bonnes affaires petites-3": 0,
         "promoPosition_Home CM – bonnes affaires petites-4": 0,
         "promoPosition_Home CM – bonnes affaires petites-5": 0,
         "type_banniere_Bons Plans": 0,
         "type_banniere_Crazy": 0,
         "type_banniere_Foliday": 0,
         "type_banniere_Promotions": 0,
         "type_banniere_Sejour tout compris": 0,
         "jour_Monday": 0,
         "jour_Saturday": 0,
         "jour_Sunday": 0,
         "jour_Thursday": 1,
         "jour_Tuesday": 0,
         "jour_Wednesday": 0,
         "mois_August": 0,
         "mois_December": 0,
         "mois_February": 0,
         "mois_January": 0,
         "mois_July": 1,
         "mois_June": 0,
         "mois_March": 0,
         "mois_May": 0,
         "mois_November": 0,
         "mois_October": 0,
         "mois_September": 0,
         "_deepnote_index_column": 2
        },
        {
         "promoPosition_Bon Plan-2": 0,
         "promoPosition_Bon Plan-3": 0,
         "promoPosition_Bon Plan-4": 0,
         "promoPosition_Bon Plan-5": 0,
         "promoPosition_Bon Plan-6": 0,
         "promoPosition_Home CM – bonnes affaires grandes-1": 0,
         "promoPosition_Home CM – bonnes affaires grandes-2": 0,
         "promoPosition_Home CM – bonnes affaires petites-2": 0,
         "promoPosition_Home CM – bonnes affaires petites-3": 0,
         "promoPosition_Home CM – bonnes affaires petites-4": 0,
         "promoPosition_Home CM – bonnes affaires petites-5": 0,
         "type_banniere_Bons Plans": 1,
         "type_banniere_Crazy": 0,
         "type_banniere_Foliday": 0,
         "type_banniere_Promotions": 0,
         "type_banniere_Sejour tout compris": 0,
         "jour_Monday": 0,
         "jour_Saturday": 0,
         "jour_Sunday": 0,
         "jour_Thursday": 1,
         "jour_Tuesday": 0,
         "jour_Wednesday": 0,
         "mois_August": 0,
         "mois_December": 0,
         "mois_February": 0,
         "mois_January": 0,
         "mois_July": 1,
         "mois_June": 0,
         "mois_March": 0,
         "mois_May": 0,
         "mois_November": 0,
         "mois_October": 0,
         "mois_September": 0,
         "_deepnote_index_column": 3
        },
        {
         "promoPosition_Bon Plan-2": 0,
         "promoPosition_Bon Plan-3": 0,
         "promoPosition_Bon Plan-4": 0,
         "promoPosition_Bon Plan-5": 0,
         "promoPosition_Bon Plan-6": 0,
         "promoPosition_Home CM – bonnes affaires grandes-1": 0,
         "promoPosition_Home CM – bonnes affaires grandes-2": 0,
         "promoPosition_Home CM – bonnes affaires petites-2": 0,
         "promoPosition_Home CM – bonnes affaires petites-3": 0,
         "promoPosition_Home CM – bonnes affaires petites-4": 0,
         "promoPosition_Home CM – bonnes affaires petites-5": 1,
         "type_banniere_Bons Plans": 0,
         "type_banniere_Crazy": 0,
         "type_banniere_Foliday": 0,
         "type_banniere_Promotions": 0,
         "type_banniere_Sejour tout compris": 0,
         "jour_Monday": 0,
         "jour_Saturday": 0,
         "jour_Sunday": 0,
         "jour_Thursday": 1,
         "jour_Tuesday": 0,
         "jour_Wednesday": 0,
         "mois_August": 0,
         "mois_December": 0,
         "mois_February": 0,
         "mois_January": 0,
         "mois_July": 1,
         "mois_June": 0,
         "mois_March": 0,
         "mois_May": 0,
         "mois_November": 0,
         "mois_October": 0,
         "mois_September": 0,
         "_deepnote_index_column": 4
        },
        {
         "promoPosition_Bon Plan-2": 0,
         "promoPosition_Bon Plan-3": 0,
         "promoPosition_Bon Plan-4": 0,
         "promoPosition_Bon Plan-5": 0,
         "promoPosition_Bon Plan-6": 0,
         "promoPosition_Home CM – bonnes affaires grandes-1": 0,
         "promoPosition_Home CM – bonnes affaires grandes-2": 0,
         "promoPosition_Home CM – bonnes affaires petites-2": 0,
         "promoPosition_Home CM – bonnes affaires petites-3": 1,
         "promoPosition_Home CM – bonnes affaires petites-4": 0,
         "promoPosition_Home CM – bonnes affaires petites-5": 0,
         "type_banniere_Bons Plans": 0,
         "type_banniere_Crazy": 0,
         "type_banniere_Foliday": 0,
         "type_banniere_Promotions": 0,
         "type_banniere_Sejour tout compris": 0,
         "jour_Monday": 0,
         "jour_Saturday": 0,
         "jour_Sunday": 0,
         "jour_Thursday": 1,
         "jour_Tuesday": 0,
         "jour_Wednesday": 0,
         "mois_August": 0,
         "mois_December": 0,
         "mois_February": 0,
         "mois_January": 0,
         "mois_July": 1,
         "mois_June": 0,
         "mois_March": 0,
         "mois_May": 0,
         "mois_November": 0,
         "mois_October": 0,
         "mois_September": 0,
         "_deepnote_index_column": 5
        },
        {
         "promoPosition_Bon Plan-2": 0,
         "promoPosition_Bon Plan-3": 0,
         "promoPosition_Bon Plan-4": 0,
         "promoPosition_Bon Plan-5": 1,
         "promoPosition_Bon Plan-6": 0,
         "promoPosition_Home CM – bonnes affaires grandes-1": 0,
         "promoPosition_Home CM – bonnes affaires grandes-2": 0,
         "promoPosition_Home CM – bonnes affaires petites-2": 0,
         "promoPosition_Home CM – bonnes affaires petites-3": 0,
         "promoPosition_Home CM – bonnes affaires petites-4": 0,
         "promoPosition_Home CM – bonnes affaires petites-5": 0,
         "type_banniere_Bons Plans": 1,
         "type_banniere_Crazy": 0,
         "type_banniere_Foliday": 0,
         "type_banniere_Promotions": 0,
         "type_banniere_Sejour tout compris": 0,
         "jour_Monday": 0,
         "jour_Saturday": 0,
         "jour_Sunday": 0,
         "jour_Thursday": 1,
         "jour_Tuesday": 0,
         "jour_Wednesday": 0,
         "mois_August": 0,
         "mois_December": 0,
         "mois_February": 0,
         "mois_January": 0,
         "mois_July": 1,
         "mois_June": 0,
         "mois_March": 0,
         "mois_May": 0,
         "mois_November": 0,
         "mois_October": 0,
         "mois_September": 0,
         "_deepnote_index_column": 6
        },
        {
         "promoPosition_Bon Plan-2": 0,
         "promoPosition_Bon Plan-3": 0,
         "promoPosition_Bon Plan-4": 0,
         "promoPosition_Bon Plan-5": 0,
         "promoPosition_Bon Plan-6": 0,
         "promoPosition_Home CM – bonnes affaires grandes-1": 1,
         "promoPosition_Home CM – bonnes affaires grandes-2": 0,
         "promoPosition_Home CM – bonnes affaires petites-2": 0,
         "promoPosition_Home CM – bonnes affaires petites-3": 0,
         "promoPosition_Home CM – bonnes affaires petites-4": 0,
         "promoPosition_Home CM – bonnes affaires petites-5": 0,
         "type_banniere_Bons Plans": 0,
         "type_banniere_Crazy": 0,
         "type_banniere_Foliday": 0,
         "type_banniere_Promotions": 1,
         "type_banniere_Sejour tout compris": 0,
         "jour_Monday": 0,
         "jour_Saturday": 0,
         "jour_Sunday": 0,
         "jour_Thursday": 1,
         "jour_Tuesday": 0,
         "jour_Wednesday": 0,
         "mois_August": 0,
         "mois_December": 0,
         "mois_February": 0,
         "mois_January": 0,
         "mois_July": 1,
         "mois_June": 0,
         "mois_March": 0,
         "mois_May": 0,
         "mois_November": 0,
         "mois_October": 0,
         "mois_September": 0,
         "_deepnote_index_column": 7
        },
        {
         "promoPosition_Bon Plan-2": 0,
         "promoPosition_Bon Plan-3": 0,
         "promoPosition_Bon Plan-4": 0,
         "promoPosition_Bon Plan-5": 0,
         "promoPosition_Bon Plan-6": 0,
         "promoPosition_Home CM – bonnes affaires grandes-1": 0,
         "promoPosition_Home CM – bonnes affaires grandes-2": 0,
         "promoPosition_Home CM – bonnes affaires petites-2": 0,
         "promoPosition_Home CM – bonnes affaires petites-3": 0,
         "promoPosition_Home CM – bonnes affaires petites-4": 1,
         "promoPosition_Home CM – bonnes affaires petites-5": 0,
         "type_banniere_Bons Plans": 0,
         "type_banniere_Crazy": 0,
         "type_banniere_Foliday": 0,
         "type_banniere_Promotions": 0,
         "type_banniere_Sejour tout compris": 0,
         "jour_Monday": 0,
         "jour_Saturday": 0,
         "jour_Sunday": 0,
         "jour_Thursday": 1,
         "jour_Tuesday": 0,
         "jour_Wednesday": 0,
         "mois_August": 0,
         "mois_December": 0,
         "mois_February": 0,
         "mois_January": 0,
         "mois_July": 1,
         "mois_June": 0,
         "mois_March": 0,
         "mois_May": 0,
         "mois_November": 0,
         "mois_October": 0,
         "mois_September": 0,
         "_deepnote_index_column": 8
        },
        {
         "promoPosition_Bon Plan-2": 0,
         "promoPosition_Bon Plan-3": 1,
         "promoPosition_Bon Plan-4": 0,
         "promoPosition_Bon Plan-5": 0,
         "promoPosition_Bon Plan-6": 0,
         "promoPosition_Home CM – bonnes affaires grandes-1": 0,
         "promoPosition_Home CM – bonnes affaires grandes-2": 0,
         "promoPosition_Home CM – bonnes affaires petites-2": 0,
         "promoPosition_Home CM – bonnes affaires petites-3": 0,
         "promoPosition_Home CM – bonnes affaires petites-4": 0,
         "promoPosition_Home CM – bonnes affaires petites-5": 0,
         "type_banniere_Bons Plans": 1,
         "type_banniere_Crazy": 0,
         "type_banniere_Foliday": 0,
         "type_banniere_Promotions": 0,
         "type_banniere_Sejour tout compris": 0,
         "jour_Monday": 0,
         "jour_Saturday": 0,
         "jour_Sunday": 0,
         "jour_Thursday": 1,
         "jour_Tuesday": 0,
         "jour_Wednesday": 0,
         "mois_August": 0,
         "mois_December": 0,
         "mois_February": 0,
         "mois_January": 0,
         "mois_July": 1,
         "mois_June": 0,
         "mois_March": 0,
         "mois_May": 0,
         "mois_November": 0,
         "mois_October": 0,
         "mois_September": 0,
         "_deepnote_index_column": 9
        }
       ]
      },
      "text/plain": "      promoPosition_Bon Plan-2  promoPosition_Bon Plan-3  \\\n0                            0                         0   \n1                            0                         0   \n2                            0                         0   \n3                            0                         0   \n4                            0                         0   \n...                        ...                       ...   \n2118                         0                         0   \n2119                         0                         0   \n2120                         0                         0   \n2121                         0                         0   \n2122                         0                         1   \n\n      promoPosition_Bon Plan-4  promoPosition_Bon Plan-5  \\\n0                            0                         0   \n1                            0                         0   \n2                            0                         0   \n3                            0                         0   \n4                            0                         0   \n...                        ...                       ...   \n2118                         0                         0   \n2119                         0                         0   \n2120                         0                         0   \n2121                         0                         0   \n2122                         0                         0   \n\n      promoPosition_Bon Plan-6  \\\n0                            0   \n1                            1   \n2                            0   \n3                            0   \n4                            0   \n...                        ...   \n2118                         0   \n2119                         0   \n2120                         0   \n2121                         0   \n2122                         0   \n\n      promoPosition_Home CM – bonnes affaires grandes-1  \\\n0                                                     0   \n1                                                     0   \n2                                                     0   \n3                                                     0   \n4                                                     0   \n...                                                 ...   \n2118                                                  1   \n2119                                                  0   \n2120                                                  0   \n2121                                                  0   \n2122                                                  0   \n\n      promoPosition_Home CM – bonnes affaires grandes-2  \\\n0                                                     1   \n1                                                     0   \n2                                                     1   \n3                                                     0   \n4                                                     0   \n...                                                 ...   \n2118                                                  0   \n2119                                                  0   \n2120                                                  0   \n2121                                                  1   \n2122                                                  0   \n\n      promoPosition_Home CM – bonnes affaires petites-2  \\\n0                                                     0   \n1                                                     0   \n2                                                     0   \n3                                                     0   \n4                                                     0   \n...                                                 ...   \n2118                                                  0   \n2119                                                  0   \n2120                                                  0   \n2121                                                  0   \n2122                                                  0   \n\n      promoPosition_Home CM – bonnes affaires petites-3  \\\n0                                                     0   \n1                                                     0   \n2                                                     0   \n3                                                     0   \n4                                                     0   \n...                                                 ...   \n2118                                                  0   \n2119                                                  1   \n2120                                                  0   \n2121                                                  0   \n2122                                                  0   \n\n      promoPosition_Home CM – bonnes affaires petites-4  ...  mois_December  \\\n0                                                     0  ...              0   \n1                                                     0  ...              0   \n2                                                     0  ...              0   \n3                                                     0  ...              0   \n4                                                     0  ...              0   \n...                                                 ...  ...            ...   \n2118                                                  0  ...              0   \n2119                                                  0  ...              0   \n2120                                                  0  ...              0   \n2121                                                  0  ...              0   \n2122                                                  0  ...              0   \n\n      mois_February  mois_January  mois_July  mois_June  mois_March  mois_May  \\\n0                 0             0          1          0           0         0   \n1                 0             0          1          0           0         0   \n2                 0             0          1          0           0         0   \n3                 0             0          1          0           0         0   \n4                 0             0          1          0           0         0   \n...             ...           ...        ...        ...         ...       ...   \n2118              0             0          1          0           0         0   \n2119              0             0          1          0           0         0   \n2120              0             0          1          0           0         0   \n2121              0             0          1          0           0         0   \n2122              0             0          1          0           0         0   \n\n      mois_November  mois_October  mois_September  \n0                 0             0               0  \n1                 0             0               0  \n2                 0             0               0  \n3                 0             0               0  \n4                 0             0               0  \n...             ...           ...             ...  \n2118              0             0               0  \n2119              0             0               0  \n2120              0             0               0  \n2121              0             0               0  \n2122              0             0               0  \n\n[2123 rows x 33 columns]",
      "text/html": "<div>\n<style scoped>\n    .dataframe tbody tr th:only-of-type {\n        vertical-align: middle;\n    }\n\n    .dataframe tbody tr th {\n        vertical-align: top;\n    }\n\n    .dataframe thead th {\n        text-align: right;\n    }\n</style>\n<table border=\"1\" class=\"dataframe\">\n  <thead>\n    <tr style=\"text-align: right;\">\n      <th></th>\n      <th>promoPosition_Bon Plan-2</th>\n      <th>promoPosition_Bon Plan-3</th>\n      <th>promoPosition_Bon Plan-4</th>\n      <th>promoPosition_Bon Plan-5</th>\n      <th>promoPosition_Bon Plan-6</th>\n      <th>promoPosition_Home CM – bonnes affaires grandes-1</th>\n      <th>promoPosition_Home CM – bonnes affaires grandes-2</th>\n      <th>promoPosition_Home CM – bonnes affaires petites-2</th>\n      <th>promoPosition_Home CM – bonnes affaires petites-3</th>\n      <th>promoPosition_Home CM – bonnes affaires petites-4</th>\n      <th>...</th>\n      <th>mois_December</th>\n      <th>mois_February</th>\n      <th>mois_January</th>\n      <th>mois_July</th>\n      <th>mois_June</th>\n      <th>mois_March</th>\n      <th>mois_May</th>\n      <th>mois_November</th>\n      <th>mois_October</th>\n      <th>mois_September</th>\n    </tr>\n  </thead>\n  <tbody>\n    <tr>\n      <th>0</th>\n      <td>0</td>\n      <td>0</td>\n      <td>0</td>\n      <td>0</td>\n      <td>0</td>\n      <td>0</td>\n      <td>1</td>\n      <td>0</td>\n      <td>0</td>\n      <td>0</td>\n      <td>...</td>\n      <td>0</td>\n      <td>0</td>\n      <td>0</td>\n      <td>1</td>\n      <td>0</td>\n      <td>0</td>\n      <td>0</td>\n      <td>0</td>\n      <td>0</td>\n      <td>0</td>\n    </tr>\n    <tr>\n      <th>1</th>\n      <td>0</td>\n      <td>0</td>\n      <td>0</td>\n      <td>0</td>\n      <td>1</td>\n      <td>0</td>\n      <td>0</td>\n      <td>0</td>\n      <td>0</td>\n      <td>0</td>\n      <td>...</td>\n      <td>0</td>\n      <td>0</td>\n      <td>0</td>\n      <td>1</td>\n      <td>0</td>\n      <td>0</td>\n      <td>0</td>\n      <td>0</td>\n      <td>0</td>\n      <td>0</td>\n    </tr>\n    <tr>\n      <th>2</th>\n      <td>0</td>\n      <td>0</td>\n      <td>0</td>\n      <td>0</td>\n      <td>0</td>\n      <td>0</td>\n      <td>1</td>\n      <td>0</td>\n      <td>0</td>\n      <td>0</td>\n      <td>...</td>\n      <td>0</td>\n      <td>0</td>\n      <td>0</td>\n      <td>1</td>\n      <td>0</td>\n      <td>0</td>\n      <td>0</td>\n      <td>0</td>\n      <td>0</td>\n      <td>0</td>\n    </tr>\n    <tr>\n      <th>3</th>\n      <td>0</td>\n      <td>0</td>\n      <td>0</td>\n      <td>0</td>\n      <td>0</td>\n      <td>0</td>\n      <td>0</td>\n      <td>0</td>\n      <td>0</td>\n      <td>0</td>\n      <td>...</td>\n      <td>0</td>\n      <td>0</td>\n      <td>0</td>\n      <td>1</td>\n      <td>0</td>\n      <td>0</td>\n      <td>0</td>\n      <td>0</td>\n      <td>0</td>\n      <td>0</td>\n    </tr>\n    <tr>\n      <th>4</th>\n      <td>0</td>\n      <td>0</td>\n      <td>0</td>\n      <td>0</td>\n      <td>0</td>\n      <td>0</td>\n      <td>0</td>\n      <td>0</td>\n      <td>0</td>\n      <td>0</td>\n      <td>...</td>\n      <td>0</td>\n      <td>0</td>\n      <td>0</td>\n      <td>1</td>\n      <td>0</td>\n      <td>0</td>\n      <td>0</td>\n      <td>0</td>\n      <td>0</td>\n      <td>0</td>\n    </tr>\n    <tr>\n      <th>...</th>\n      <td>...</td>\n      <td>...</td>\n      <td>...</td>\n      <td>...</td>\n      <td>...</td>\n      <td>...</td>\n      <td>...</td>\n      <td>...</td>\n      <td>...</td>\n      <td>...</td>\n      <td>...</td>\n      <td>...</td>\n      <td>...</td>\n      <td>...</td>\n      <td>...</td>\n      <td>...</td>\n      <td>...</td>\n      <td>...</td>\n      <td>...</td>\n      <td>...</td>\n      <td>...</td>\n    </tr>\n    <tr>\n      <th>2118</th>\n      <td>0</td>\n      <td>0</td>\n      <td>0</td>\n      <td>0</td>\n      <td>0</td>\n      <td>1</td>\n      <td>0</td>\n      <td>0</td>\n      <td>0</td>\n      <td>0</td>\n      <td>...</td>\n      <td>0</td>\n      <td>0</td>\n      <td>0</td>\n      <td>1</td>\n      <td>0</td>\n      <td>0</td>\n      <td>0</td>\n      <td>0</td>\n      <td>0</td>\n      <td>0</td>\n    </tr>\n    <tr>\n      <th>2119</th>\n      <td>0</td>\n      <td>0</td>\n      <td>0</td>\n      <td>0</td>\n      <td>0</td>\n      <td>0</td>\n      <td>0</td>\n      <td>0</td>\n      <td>1</td>\n      <td>0</td>\n      <td>...</td>\n      <td>0</td>\n      <td>0</td>\n      <td>0</td>\n      <td>1</td>\n      <td>0</td>\n      <td>0</td>\n      <td>0</td>\n      <td>0</td>\n      <td>0</td>\n      <td>0</td>\n    </tr>\n    <tr>\n      <th>2120</th>\n      <td>0</td>\n      <td>0</td>\n      <td>0</td>\n      <td>0</td>\n      <td>0</td>\n      <td>0</td>\n      <td>0</td>\n      <td>0</td>\n      <td>0</td>\n      <td>0</td>\n      <td>...</td>\n      <td>0</td>\n      <td>0</td>\n      <td>0</td>\n      <td>1</td>\n      <td>0</td>\n      <td>0</td>\n      <td>0</td>\n      <td>0</td>\n      <td>0</td>\n      <td>0</td>\n    </tr>\n    <tr>\n      <th>2121</th>\n      <td>0</td>\n      <td>0</td>\n      <td>0</td>\n      <td>0</td>\n      <td>0</td>\n      <td>0</td>\n      <td>1</td>\n      <td>0</td>\n      <td>0</td>\n      <td>0</td>\n      <td>...</td>\n      <td>0</td>\n      <td>0</td>\n      <td>0</td>\n      <td>1</td>\n      <td>0</td>\n      <td>0</td>\n      <td>0</td>\n      <td>0</td>\n      <td>0</td>\n      <td>0</td>\n    </tr>\n    <tr>\n      <th>2122</th>\n      <td>0</td>\n      <td>1</td>\n      <td>0</td>\n      <td>0</td>\n      <td>0</td>\n      <td>0</td>\n      <td>0</td>\n      <td>0</td>\n      <td>0</td>\n      <td>0</td>\n      <td>...</td>\n      <td>0</td>\n      <td>0</td>\n      <td>0</td>\n      <td>1</td>\n      <td>0</td>\n      <td>0</td>\n      <td>0</td>\n      <td>0</td>\n      <td>0</td>\n      <td>0</td>\n    </tr>\n  </tbody>\n</table>\n<p>2123 rows × 33 columns</p>\n</div>"
     },
     "metadata": {}
    }
   ]
  },
  {
   "cell_type": "code",
   "metadata": {
    "tags": [],
    "deepnote_to_be_reexecuted": false,
    "source_hash": "87d8c6ff",
    "execution_start": 1660207988105,
    "execution_millis": 1,
    "cell_id": "00010-2bbc5f78-5d41-41ed-bcb9-5e9d38460c2d",
    "deepnote_cell_type": "code",
    "deepnote_cell_height": 904
   },
   "source": "X_cat=X_cat.rename(columns={\n#'promoPosition_Bon Plan-1':'bon_plan1',\n'promoPosition_Bon Plan-2':'bon_plan2',\n'promoPosition_Bon Plan-3':'bon_plan3',\n'promoPosition_Bon Plan-4':'bon_plan4',\n'promoPosition_Bon Plan-5':'bon_plan5',\n'promoPosition_Bon Plan-6':'bon_plan6',\n\n'promoPosition_Home CM – bonnes affaires grandes-1':'CM–bon_affai_grandes-1',\n'promoPosition_Home CM – bonnes affaires grandes-2':'CM–bon_affai_grandes-2',\n'promoPosition_Home CM – bonnes affaires petites-2':'CM–bon_affai_petites-2',\n'promoPosition_Home CM – bonnes affaires petites-3':'CM–bon_affai_petites-3',\n'promoPosition_Home CM – bonnes affaires petites-4':'CM–bon_affai_petites-4',\n'promoPosition_Home CM – bonnes affaires petites-5':'CM–bon_affai_petites-5',\n#'position_position1':'position1',\n#'position_position2':'position2',\n#'position_position3':'position3',\n#'position_position4':'position4',\n#'position_position5':'position5',\n#'position_position6':'position6',\n\n'type_banniere_Autre':'Autre',\n'type_banniere_Bons Plans':'Bons plan',\n'type_banniere_Crazy':'Crazy',\n'type_banniere_Foliday':'Foliday',\n'type_banniere_Promotions':'Promotions',\n'type_banniere_Sejour tout compris':'Sejour tout compris',\n\n'jour_Friday':'Friday',\n'jour_Monday':'Monday',\n'jour_Saturday':'Saturday',\n'jour_Sunday':'Sunday',\n'jour_Thursday':'Thursday',\n'jour_Tuesday':'Tuesday',\n'jour_Wednesday':'Wednesday',\n'mois_April':'April',\n'mois_August':'August',\n'mois_December':'December',\n'mois_February':'February',\n'mois_January':'January',\n'mois_July':'July',\n'mois_June':'June',\n'mois_March':'March',\n'mois_May':'May',\n'mois_November':'November',\n'mois_October':'October',\n'mois_September':'September'})",
   "execution_count": null,
   "outputs": []
  },
  {
   "cell_type": "code",
   "metadata": {
    "tags": [],
    "deepnote_to_be_reexecuted": false,
    "source_hash": "7ddd465a",
    "execution_start": 1660207991093,
    "execution_millis": 134,
    "cell_id": "00011-b6ff1316-96a7-4e4f-8493-ece2b7da200b",
    "deepnote_cell_type": "code",
    "deepnote_cell_height": 652
   },
   "source": "x=X_cat\nx\n",
   "execution_count": null,
   "outputs": [
    {
     "output_type": "execute_result",
     "execution_count": 36,
     "data": {
      "application/vnd.deepnote.dataframe.v3+json": {
       "column_count": 33,
       "row_count": 2123,
       "columns": [
        {
         "name": "bon_plan2",
         "dtype": "uint8",
         "stats": {
          "unique_count": 2,
          "nan_count": 0,
          "min": "0",
          "max": "1",
          "histogram": [
           {
            "bin_start": 0,
            "bin_end": 0.1,
            "count": 1937
           },
           {
            "bin_start": 0.1,
            "bin_end": 0.2,
            "count": 0
           },
           {
            "bin_start": 0.2,
            "bin_end": 0.30000000000000004,
            "count": 0
           },
           {
            "bin_start": 0.30000000000000004,
            "bin_end": 0.4,
            "count": 0
           },
           {
            "bin_start": 0.4,
            "bin_end": 0.5,
            "count": 0
           },
           {
            "bin_start": 0.5,
            "bin_end": 0.6000000000000001,
            "count": 0
           },
           {
            "bin_start": 0.6000000000000001,
            "bin_end": 0.7000000000000001,
            "count": 0
           },
           {
            "bin_start": 0.7000000000000001,
            "bin_end": 0.8,
            "count": 0
           },
           {
            "bin_start": 0.8,
            "bin_end": 0.9,
            "count": 0
           },
           {
            "bin_start": 0.9,
            "bin_end": 1,
            "count": 186
           }
          ]
         }
        },
        {
         "name": "bon_plan3",
         "dtype": "uint8",
         "stats": {
          "unique_count": 2,
          "nan_count": 0,
          "min": "0",
          "max": "1",
          "histogram": [
           {
            "bin_start": 0,
            "bin_end": 0.1,
            "count": 1972
           },
           {
            "bin_start": 0.1,
            "bin_end": 0.2,
            "count": 0
           },
           {
            "bin_start": 0.2,
            "bin_end": 0.30000000000000004,
            "count": 0
           },
           {
            "bin_start": 0.30000000000000004,
            "bin_end": 0.4,
            "count": 0
           },
           {
            "bin_start": 0.4,
            "bin_end": 0.5,
            "count": 0
           },
           {
            "bin_start": 0.5,
            "bin_end": 0.6000000000000001,
            "count": 0
           },
           {
            "bin_start": 0.6000000000000001,
            "bin_end": 0.7000000000000001,
            "count": 0
           },
           {
            "bin_start": 0.7000000000000001,
            "bin_end": 0.8,
            "count": 0
           },
           {
            "bin_start": 0.8,
            "bin_end": 0.9,
            "count": 0
           },
           {
            "bin_start": 0.9,
            "bin_end": 1,
            "count": 151
           }
          ]
         }
        },
        {
         "name": "bon_plan4",
         "dtype": "uint8",
         "stats": {
          "unique_count": 2,
          "nan_count": 0,
          "min": "0",
          "max": "1",
          "histogram": [
           {
            "bin_start": 0,
            "bin_end": 0.1,
            "count": 2072
           },
           {
            "bin_start": 0.1,
            "bin_end": 0.2,
            "count": 0
           },
           {
            "bin_start": 0.2,
            "bin_end": 0.30000000000000004,
            "count": 0
           },
           {
            "bin_start": 0.30000000000000004,
            "bin_end": 0.4,
            "count": 0
           },
           {
            "bin_start": 0.4,
            "bin_end": 0.5,
            "count": 0
           },
           {
            "bin_start": 0.5,
            "bin_end": 0.6000000000000001,
            "count": 0
           },
           {
            "bin_start": 0.6000000000000001,
            "bin_end": 0.7000000000000001,
            "count": 0
           },
           {
            "bin_start": 0.7000000000000001,
            "bin_end": 0.8,
            "count": 0
           },
           {
            "bin_start": 0.8,
            "bin_end": 0.9,
            "count": 0
           },
           {
            "bin_start": 0.9,
            "bin_end": 1,
            "count": 51
           }
          ]
         }
        },
        {
         "name": "bon_plan5",
         "dtype": "uint8",
         "stats": {
          "unique_count": 2,
          "nan_count": 0,
          "min": "0",
          "max": "1",
          "histogram": [
           {
            "bin_start": 0,
            "bin_end": 0.1,
            "count": 2078
           },
           {
            "bin_start": 0.1,
            "bin_end": 0.2,
            "count": 0
           },
           {
            "bin_start": 0.2,
            "bin_end": 0.30000000000000004,
            "count": 0
           },
           {
            "bin_start": 0.30000000000000004,
            "bin_end": 0.4,
            "count": 0
           },
           {
            "bin_start": 0.4,
            "bin_end": 0.5,
            "count": 0
           },
           {
            "bin_start": 0.5,
            "bin_end": 0.6000000000000001,
            "count": 0
           },
           {
            "bin_start": 0.6000000000000001,
            "bin_end": 0.7000000000000001,
            "count": 0
           },
           {
            "bin_start": 0.7000000000000001,
            "bin_end": 0.8,
            "count": 0
           },
           {
            "bin_start": 0.8,
            "bin_end": 0.9,
            "count": 0
           },
           {
            "bin_start": 0.9,
            "bin_end": 1,
            "count": 45
           }
          ]
         }
        },
        {
         "name": "bon_plan6",
         "dtype": "uint8",
         "stats": {
          "unique_count": 2,
          "nan_count": 0,
          "min": "0",
          "max": "1",
          "histogram": [
           {
            "bin_start": 0,
            "bin_end": 0.1,
            "count": 2065
           },
           {
            "bin_start": 0.1,
            "bin_end": 0.2,
            "count": 0
           },
           {
            "bin_start": 0.2,
            "bin_end": 0.30000000000000004,
            "count": 0
           },
           {
            "bin_start": 0.30000000000000004,
            "bin_end": 0.4,
            "count": 0
           },
           {
            "bin_start": 0.4,
            "bin_end": 0.5,
            "count": 0
           },
           {
            "bin_start": 0.5,
            "bin_end": 0.6000000000000001,
            "count": 0
           },
           {
            "bin_start": 0.6000000000000001,
            "bin_end": 0.7000000000000001,
            "count": 0
           },
           {
            "bin_start": 0.7000000000000001,
            "bin_end": 0.8,
            "count": 0
           },
           {
            "bin_start": 0.8,
            "bin_end": 0.9,
            "count": 0
           },
           {
            "bin_start": 0.9,
            "bin_end": 1,
            "count": 58
           }
          ]
         }
        },
        {
         "name": "CM–bon_affai_grandes-1",
         "dtype": "uint8",
         "stats": {
          "unique_count": 2,
          "nan_count": 0,
          "min": "0",
          "max": "1",
          "histogram": [
           {
            "bin_start": 0,
            "bin_end": 0.1,
            "count": 1701
           },
           {
            "bin_start": 0.1,
            "bin_end": 0.2,
            "count": 0
           },
           {
            "bin_start": 0.2,
            "bin_end": 0.30000000000000004,
            "count": 0
           },
           {
            "bin_start": 0.30000000000000004,
            "bin_end": 0.4,
            "count": 0
           },
           {
            "bin_start": 0.4,
            "bin_end": 0.5,
            "count": 0
           },
           {
            "bin_start": 0.5,
            "bin_end": 0.6000000000000001,
            "count": 0
           },
           {
            "bin_start": 0.6000000000000001,
            "bin_end": 0.7000000000000001,
            "count": 0
           },
           {
            "bin_start": 0.7000000000000001,
            "bin_end": 0.8,
            "count": 0
           },
           {
            "bin_start": 0.8,
            "bin_end": 0.9,
            "count": 0
           },
           {
            "bin_start": 0.9,
            "bin_end": 1,
            "count": 422
           }
          ]
         }
        },
        {
         "name": "CM–bon_affai_grandes-2",
         "dtype": "uint8",
         "stats": {
          "unique_count": 2,
          "nan_count": 0,
          "min": "0",
          "max": "1",
          "histogram": [
           {
            "bin_start": 0,
            "bin_end": 0.1,
            "count": 1710
           },
           {
            "bin_start": 0.1,
            "bin_end": 0.2,
            "count": 0
           },
           {
            "bin_start": 0.2,
            "bin_end": 0.30000000000000004,
            "count": 0
           },
           {
            "bin_start": 0.30000000000000004,
            "bin_end": 0.4,
            "count": 0
           },
           {
            "bin_start": 0.4,
            "bin_end": 0.5,
            "count": 0
           },
           {
            "bin_start": 0.5,
            "bin_end": 0.6000000000000001,
            "count": 0
           },
           {
            "bin_start": 0.6000000000000001,
            "bin_end": 0.7000000000000001,
            "count": 0
           },
           {
            "bin_start": 0.7000000000000001,
            "bin_end": 0.8,
            "count": 0
           },
           {
            "bin_start": 0.8,
            "bin_end": 0.9,
            "count": 0
           },
           {
            "bin_start": 0.9,
            "bin_end": 1,
            "count": 413
           }
          ]
         }
        },
        {
         "name": "CM–bon_affai_petites-2",
         "dtype": "uint8",
         "stats": {
          "unique_count": 2,
          "nan_count": 0,
          "min": "0",
          "max": "1",
          "histogram": [
           {
            "bin_start": 0,
            "bin_end": 0.1,
            "count": 2121
           },
           {
            "bin_start": 0.1,
            "bin_end": 0.2,
            "count": 0
           },
           {
            "bin_start": 0.2,
            "bin_end": 0.30000000000000004,
            "count": 0
           },
           {
            "bin_start": 0.30000000000000004,
            "bin_end": 0.4,
            "count": 0
           },
           {
            "bin_start": 0.4,
            "bin_end": 0.5,
            "count": 0
           },
           {
            "bin_start": 0.5,
            "bin_end": 0.6000000000000001,
            "count": 0
           },
           {
            "bin_start": 0.6000000000000001,
            "bin_end": 0.7000000000000001,
            "count": 0
           },
           {
            "bin_start": 0.7000000000000001,
            "bin_end": 0.8,
            "count": 0
           },
           {
            "bin_start": 0.8,
            "bin_end": 0.9,
            "count": 0
           },
           {
            "bin_start": 0.9,
            "bin_end": 1,
            "count": 2
           }
          ]
         }
        },
        {
         "name": "CM–bon_affai_petites-3",
         "dtype": "uint8",
         "stats": {
          "unique_count": 2,
          "nan_count": 0,
          "min": "0",
          "max": "1",
          "histogram": [
           {
            "bin_start": 0,
            "bin_end": 0.1,
            "count": 1742
           },
           {
            "bin_start": 0.1,
            "bin_end": 0.2,
            "count": 0
           },
           {
            "bin_start": 0.2,
            "bin_end": 0.30000000000000004,
            "count": 0
           },
           {
            "bin_start": 0.30000000000000004,
            "bin_end": 0.4,
            "count": 0
           },
           {
            "bin_start": 0.4,
            "bin_end": 0.5,
            "count": 0
           },
           {
            "bin_start": 0.5,
            "bin_end": 0.6000000000000001,
            "count": 0
           },
           {
            "bin_start": 0.6000000000000001,
            "bin_end": 0.7000000000000001,
            "count": 0
           },
           {
            "bin_start": 0.7000000000000001,
            "bin_end": 0.8,
            "count": 0
           },
           {
            "bin_start": 0.8,
            "bin_end": 0.9,
            "count": 0
           },
           {
            "bin_start": 0.9,
            "bin_end": 1,
            "count": 381
           }
          ]
         }
        },
        {
         "name": "CM–bon_affai_petites-4",
         "dtype": "uint8",
         "stats": {
          "unique_count": 2,
          "nan_count": 0,
          "min": "0",
          "max": "1",
          "histogram": [
           {
            "bin_start": 0,
            "bin_end": 0.1,
            "count": 2000
           },
           {
            "bin_start": 0.1,
            "bin_end": 0.2,
            "count": 0
           },
           {
            "bin_start": 0.2,
            "bin_end": 0.30000000000000004,
            "count": 0
           },
           {
            "bin_start": 0.30000000000000004,
            "bin_end": 0.4,
            "count": 0
           },
           {
            "bin_start": 0.4,
            "bin_end": 0.5,
            "count": 0
           },
           {
            "bin_start": 0.5,
            "bin_end": 0.6000000000000001,
            "count": 0
           },
           {
            "bin_start": 0.6000000000000001,
            "bin_end": 0.7000000000000001,
            "count": 0
           },
           {
            "bin_start": 0.7000000000000001,
            "bin_end": 0.8,
            "count": 0
           },
           {
            "bin_start": 0.8,
            "bin_end": 0.9,
            "count": 0
           },
           {
            "bin_start": 0.9,
            "bin_end": 1,
            "count": 123
           }
          ]
         }
        },
        {
         "name": "CM–bon_affai_petites-5",
         "dtype": "uint8",
         "stats": {
          "unique_count": 2,
          "nan_count": 0,
          "min": "0",
          "max": "1",
          "histogram": [
           {
            "bin_start": 0,
            "bin_end": 0.1,
            "count": 2033
           },
           {
            "bin_start": 0.1,
            "bin_end": 0.2,
            "count": 0
           },
           {
            "bin_start": 0.2,
            "bin_end": 0.30000000000000004,
            "count": 0
           },
           {
            "bin_start": 0.30000000000000004,
            "bin_end": 0.4,
            "count": 0
           },
           {
            "bin_start": 0.4,
            "bin_end": 0.5,
            "count": 0
           },
           {
            "bin_start": 0.5,
            "bin_end": 0.6000000000000001,
            "count": 0
           },
           {
            "bin_start": 0.6000000000000001,
            "bin_end": 0.7000000000000001,
            "count": 0
           },
           {
            "bin_start": 0.7000000000000001,
            "bin_end": 0.8,
            "count": 0
           },
           {
            "bin_start": 0.8,
            "bin_end": 0.9,
            "count": 0
           },
           {
            "bin_start": 0.9,
            "bin_end": 1,
            "count": 90
           }
          ]
         }
        },
        {
         "name": "Bons plan",
         "dtype": "uint8",
         "stats": {
          "unique_count": 2,
          "nan_count": 0,
          "min": "0",
          "max": "1",
          "histogram": [
           {
            "bin_start": 0,
            "bin_end": 0.1,
            "count": 1439
           },
           {
            "bin_start": 0.1,
            "bin_end": 0.2,
            "count": 0
           },
           {
            "bin_start": 0.2,
            "bin_end": 0.30000000000000004,
            "count": 0
           },
           {
            "bin_start": 0.30000000000000004,
            "bin_end": 0.4,
            "count": 0
           },
           {
            "bin_start": 0.4,
            "bin_end": 0.5,
            "count": 0
           },
           {
            "bin_start": 0.5,
            "bin_end": 0.6000000000000001,
            "count": 0
           },
           {
            "bin_start": 0.6000000000000001,
            "bin_end": 0.7000000000000001,
            "count": 0
           },
           {
            "bin_start": 0.7000000000000001,
            "bin_end": 0.8,
            "count": 0
           },
           {
            "bin_start": 0.8,
            "bin_end": 0.9,
            "count": 0
           },
           {
            "bin_start": 0.9,
            "bin_end": 1,
            "count": 684
           }
          ]
         }
        },
        {
         "name": "Crazy",
         "dtype": "uint8",
         "stats": {
          "unique_count": 2,
          "nan_count": 0,
          "min": "0",
          "max": "1",
          "histogram": [
           {
            "bin_start": 0,
            "bin_end": 0.1,
            "count": 2109
           },
           {
            "bin_start": 0.1,
            "bin_end": 0.2,
            "count": 0
           },
           {
            "bin_start": 0.2,
            "bin_end": 0.30000000000000004,
            "count": 0
           },
           {
            "bin_start": 0.30000000000000004,
            "bin_end": 0.4,
            "count": 0
           },
           {
            "bin_start": 0.4,
            "bin_end": 0.5,
            "count": 0
           },
           {
            "bin_start": 0.5,
            "bin_end": 0.6000000000000001,
            "count": 0
           },
           {
            "bin_start": 0.6000000000000001,
            "bin_end": 0.7000000000000001,
            "count": 0
           },
           {
            "bin_start": 0.7000000000000001,
            "bin_end": 0.8,
            "count": 0
           },
           {
            "bin_start": 0.8,
            "bin_end": 0.9,
            "count": 0
           },
           {
            "bin_start": 0.9,
            "bin_end": 1,
            "count": 14
           }
          ]
         }
        },
        {
         "name": "Foliday",
         "dtype": "uint8",
         "stats": {
          "unique_count": 2,
          "nan_count": 0,
          "min": "0",
          "max": "1",
          "histogram": [
           {
            "bin_start": 0,
            "bin_end": 0.1,
            "count": 2102
           },
           {
            "bin_start": 0.1,
            "bin_end": 0.2,
            "count": 0
           },
           {
            "bin_start": 0.2,
            "bin_end": 0.30000000000000004,
            "count": 0
           },
           {
            "bin_start": 0.30000000000000004,
            "bin_end": 0.4,
            "count": 0
           },
           {
            "bin_start": 0.4,
            "bin_end": 0.5,
            "count": 0
           },
           {
            "bin_start": 0.5,
            "bin_end": 0.6000000000000001,
            "count": 0
           },
           {
            "bin_start": 0.6000000000000001,
            "bin_end": 0.7000000000000001,
            "count": 0
           },
           {
            "bin_start": 0.7000000000000001,
            "bin_end": 0.8,
            "count": 0
           },
           {
            "bin_start": 0.8,
            "bin_end": 0.9,
            "count": 0
           },
           {
            "bin_start": 0.9,
            "bin_end": 1,
            "count": 21
           }
          ]
         }
        },
        {
         "name": "Promotions",
         "dtype": "uint8",
         "stats": {
          "unique_count": 2,
          "nan_count": 0,
          "min": "0",
          "max": "1",
          "histogram": [
           {
            "bin_start": 0,
            "bin_end": 0.1,
            "count": 1947
           },
           {
            "bin_start": 0.1,
            "bin_end": 0.2,
            "count": 0
           },
           {
            "bin_start": 0.2,
            "bin_end": 0.30000000000000004,
            "count": 0
           },
           {
            "bin_start": 0.30000000000000004,
            "bin_end": 0.4,
            "count": 0
           },
           {
            "bin_start": 0.4,
            "bin_end": 0.5,
            "count": 0
           },
           {
            "bin_start": 0.5,
            "bin_end": 0.6000000000000001,
            "count": 0
           },
           {
            "bin_start": 0.6000000000000001,
            "bin_end": 0.7000000000000001,
            "count": 0
           },
           {
            "bin_start": 0.7000000000000001,
            "bin_end": 0.8,
            "count": 0
           },
           {
            "bin_start": 0.8,
            "bin_end": 0.9,
            "count": 0
           },
           {
            "bin_start": 0.9,
            "bin_end": 1,
            "count": 176
           }
          ]
         }
        },
        {
         "name": "Sejour tout compris",
         "dtype": "uint8",
         "stats": {
          "unique_count": 2,
          "nan_count": 0,
          "min": "0",
          "max": "1",
          "histogram": [
           {
            "bin_start": 0,
            "bin_end": 0.1,
            "count": 1945
           },
           {
            "bin_start": 0.1,
            "bin_end": 0.2,
            "count": 0
           },
           {
            "bin_start": 0.2,
            "bin_end": 0.30000000000000004,
            "count": 0
           },
           {
            "bin_start": 0.30000000000000004,
            "bin_end": 0.4,
            "count": 0
           },
           {
            "bin_start": 0.4,
            "bin_end": 0.5,
            "count": 0
           },
           {
            "bin_start": 0.5,
            "bin_end": 0.6000000000000001,
            "count": 0
           },
           {
            "bin_start": 0.6000000000000001,
            "bin_end": 0.7000000000000001,
            "count": 0
           },
           {
            "bin_start": 0.7000000000000001,
            "bin_end": 0.8,
            "count": 0
           },
           {
            "bin_start": 0.8,
            "bin_end": 0.9,
            "count": 0
           },
           {
            "bin_start": 0.9,
            "bin_end": 1,
            "count": 178
           }
          ]
         }
        },
        {
         "name": "Monday",
         "dtype": "uint8",
         "stats": {
          "unique_count": 2,
          "nan_count": 0,
          "min": "0",
          "max": "1",
          "histogram": [
           {
            "bin_start": 0,
            "bin_end": 0.1,
            "count": 1800
           },
           {
            "bin_start": 0.1,
            "bin_end": 0.2,
            "count": 0
           },
           {
            "bin_start": 0.2,
            "bin_end": 0.30000000000000004,
            "count": 0
           },
           {
            "bin_start": 0.30000000000000004,
            "bin_end": 0.4,
            "count": 0
           },
           {
            "bin_start": 0.4,
            "bin_end": 0.5,
            "count": 0
           },
           {
            "bin_start": 0.5,
            "bin_end": 0.6000000000000001,
            "count": 0
           },
           {
            "bin_start": 0.6000000000000001,
            "bin_end": 0.7000000000000001,
            "count": 0
           },
           {
            "bin_start": 0.7000000000000001,
            "bin_end": 0.8,
            "count": 0
           },
           {
            "bin_start": 0.8,
            "bin_end": 0.9,
            "count": 0
           },
           {
            "bin_start": 0.9,
            "bin_end": 1,
            "count": 323
           }
          ]
         }
        },
        {
         "name": "Saturday",
         "dtype": "uint8",
         "stats": {
          "unique_count": 2,
          "nan_count": 0,
          "min": "0",
          "max": "1",
          "histogram": [
           {
            "bin_start": 0,
            "bin_end": 0.1,
            "count": 1842
           },
           {
            "bin_start": 0.1,
            "bin_end": 0.2,
            "count": 0
           },
           {
            "bin_start": 0.2,
            "bin_end": 0.30000000000000004,
            "count": 0
           },
           {
            "bin_start": 0.30000000000000004,
            "bin_end": 0.4,
            "count": 0
           },
           {
            "bin_start": 0.4,
            "bin_end": 0.5,
            "count": 0
           },
           {
            "bin_start": 0.5,
            "bin_end": 0.6000000000000001,
            "count": 0
           },
           {
            "bin_start": 0.6000000000000001,
            "bin_end": 0.7000000000000001,
            "count": 0
           },
           {
            "bin_start": 0.7000000000000001,
            "bin_end": 0.8,
            "count": 0
           },
           {
            "bin_start": 0.8,
            "bin_end": 0.9,
            "count": 0
           },
           {
            "bin_start": 0.9,
            "bin_end": 1,
            "count": 281
           }
          ]
         }
        },
        {
         "name": "Sunday",
         "dtype": "uint8",
         "stats": {
          "unique_count": 2,
          "nan_count": 0,
          "min": "0",
          "max": "1",
          "histogram": [
           {
            "bin_start": 0,
            "bin_end": 0.1,
            "count": 1779
           },
           {
            "bin_start": 0.1,
            "bin_end": 0.2,
            "count": 0
           },
           {
            "bin_start": 0.2,
            "bin_end": 0.30000000000000004,
            "count": 0
           },
           {
            "bin_start": 0.30000000000000004,
            "bin_end": 0.4,
            "count": 0
           },
           {
            "bin_start": 0.4,
            "bin_end": 0.5,
            "count": 0
           },
           {
            "bin_start": 0.5,
            "bin_end": 0.6000000000000001,
            "count": 0
           },
           {
            "bin_start": 0.6000000000000001,
            "bin_end": 0.7000000000000001,
            "count": 0
           },
           {
            "bin_start": 0.7000000000000001,
            "bin_end": 0.8,
            "count": 0
           },
           {
            "bin_start": 0.8,
            "bin_end": 0.9,
            "count": 0
           },
           {
            "bin_start": 0.9,
            "bin_end": 1,
            "count": 344
           }
          ]
         }
        },
        {
         "name": "Thursday",
         "dtype": "uint8",
         "stats": {
          "unique_count": 2,
          "nan_count": 0,
          "min": "0",
          "max": "1",
          "histogram": [
           {
            "bin_start": 0,
            "bin_end": 0.1,
            "count": 1825
           },
           {
            "bin_start": 0.1,
            "bin_end": 0.2,
            "count": 0
           },
           {
            "bin_start": 0.2,
            "bin_end": 0.30000000000000004,
            "count": 0
           },
           {
            "bin_start": 0.30000000000000004,
            "bin_end": 0.4,
            "count": 0
           },
           {
            "bin_start": 0.4,
            "bin_end": 0.5,
            "count": 0
           },
           {
            "bin_start": 0.5,
            "bin_end": 0.6000000000000001,
            "count": 0
           },
           {
            "bin_start": 0.6000000000000001,
            "bin_end": 0.7000000000000001,
            "count": 0
           },
           {
            "bin_start": 0.7000000000000001,
            "bin_end": 0.8,
            "count": 0
           },
           {
            "bin_start": 0.8,
            "bin_end": 0.9,
            "count": 0
           },
           {
            "bin_start": 0.9,
            "bin_end": 1,
            "count": 298
           }
          ]
         }
        },
        {
         "name": "Tuesday",
         "dtype": "uint8",
         "stats": {
          "unique_count": 2,
          "nan_count": 0,
          "min": "0",
          "max": "1",
          "histogram": [
           {
            "bin_start": 0,
            "bin_end": 0.1,
            "count": 1824
           },
           {
            "bin_start": 0.1,
            "bin_end": 0.2,
            "count": 0
           },
           {
            "bin_start": 0.2,
            "bin_end": 0.30000000000000004,
            "count": 0
           },
           {
            "bin_start": 0.30000000000000004,
            "bin_end": 0.4,
            "count": 0
           },
           {
            "bin_start": 0.4,
            "bin_end": 0.5,
            "count": 0
           },
           {
            "bin_start": 0.5,
            "bin_end": 0.6000000000000001,
            "count": 0
           },
           {
            "bin_start": 0.6000000000000001,
            "bin_end": 0.7000000000000001,
            "count": 0
           },
           {
            "bin_start": 0.7000000000000001,
            "bin_end": 0.8,
            "count": 0
           },
           {
            "bin_start": 0.8,
            "bin_end": 0.9,
            "count": 0
           },
           {
            "bin_start": 0.9,
            "bin_end": 1,
            "count": 299
           }
          ]
         }
        },
        {
         "name": "Wednesday",
         "dtype": "uint8",
         "stats": {
          "unique_count": 2,
          "nan_count": 0,
          "min": "0",
          "max": "1",
          "histogram": [
           {
            "bin_start": 0,
            "bin_end": 0.1,
            "count": 1823
           },
           {
            "bin_start": 0.1,
            "bin_end": 0.2,
            "count": 0
           },
           {
            "bin_start": 0.2,
            "bin_end": 0.30000000000000004,
            "count": 0
           },
           {
            "bin_start": 0.30000000000000004,
            "bin_end": 0.4,
            "count": 0
           },
           {
            "bin_start": 0.4,
            "bin_end": 0.5,
            "count": 0
           },
           {
            "bin_start": 0.5,
            "bin_end": 0.6000000000000001,
            "count": 0
           },
           {
            "bin_start": 0.6000000000000001,
            "bin_end": 0.7000000000000001,
            "count": 0
           },
           {
            "bin_start": 0.7000000000000001,
            "bin_end": 0.8,
            "count": 0
           },
           {
            "bin_start": 0.8,
            "bin_end": 0.9,
            "count": 0
           },
           {
            "bin_start": 0.9,
            "bin_end": 1,
            "count": 300
           }
          ]
         }
        },
        {
         "name": "August",
         "dtype": "uint8",
         "stats": {
          "unique_count": 2,
          "nan_count": 0,
          "min": "0",
          "max": "1",
          "histogram": [
           {
            "bin_start": 0,
            "bin_end": 0.1,
            "count": 1969
           },
           {
            "bin_start": 0.1,
            "bin_end": 0.2,
            "count": 0
           },
           {
            "bin_start": 0.2,
            "bin_end": 0.30000000000000004,
            "count": 0
           },
           {
            "bin_start": 0.30000000000000004,
            "bin_end": 0.4,
            "count": 0
           },
           {
            "bin_start": 0.4,
            "bin_end": 0.5,
            "count": 0
           },
           {
            "bin_start": 0.5,
            "bin_end": 0.6000000000000001,
            "count": 0
           },
           {
            "bin_start": 0.6000000000000001,
            "bin_end": 0.7000000000000001,
            "count": 0
           },
           {
            "bin_start": 0.7000000000000001,
            "bin_end": 0.8,
            "count": 0
           },
           {
            "bin_start": 0.8,
            "bin_end": 0.9,
            "count": 0
           },
           {
            "bin_start": 0.9,
            "bin_end": 1,
            "count": 154
           }
          ]
         }
        },
        {
         "name": "December",
         "dtype": "uint8",
         "stats": {
          "unique_count": 2,
          "nan_count": 0,
          "min": "0",
          "max": "1",
          "histogram": [
           {
            "bin_start": 0,
            "bin_end": 0.1,
            "count": 2022
           },
           {
            "bin_start": 0.1,
            "bin_end": 0.2,
            "count": 0
           },
           {
            "bin_start": 0.2,
            "bin_end": 0.30000000000000004,
            "count": 0
           },
           {
            "bin_start": 0.30000000000000004,
            "bin_end": 0.4,
            "count": 0
           },
           {
            "bin_start": 0.4,
            "bin_end": 0.5,
            "count": 0
           },
           {
            "bin_start": 0.5,
            "bin_end": 0.6000000000000001,
            "count": 0
           },
           {
            "bin_start": 0.6000000000000001,
            "bin_end": 0.7000000000000001,
            "count": 0
           },
           {
            "bin_start": 0.7000000000000001,
            "bin_end": 0.8,
            "count": 0
           },
           {
            "bin_start": 0.8,
            "bin_end": 0.9,
            "count": 0
           },
           {
            "bin_start": 0.9,
            "bin_end": 1,
            "count": 101
           }
          ]
         }
        },
        {
         "name": "February",
         "dtype": "uint8",
         "stats": {
          "unique_count": 2,
          "nan_count": 0,
          "min": "0",
          "max": "1",
          "histogram": [
           {
            "bin_start": 0,
            "bin_end": 0.1,
            "count": 1934
           },
           {
            "bin_start": 0.1,
            "bin_end": 0.2,
            "count": 0
           },
           {
            "bin_start": 0.2,
            "bin_end": 0.30000000000000004,
            "count": 0
           },
           {
            "bin_start": 0.30000000000000004,
            "bin_end": 0.4,
            "count": 0
           },
           {
            "bin_start": 0.4,
            "bin_end": 0.5,
            "count": 0
           },
           {
            "bin_start": 0.5,
            "bin_end": 0.6000000000000001,
            "count": 0
           },
           {
            "bin_start": 0.6000000000000001,
            "bin_end": 0.7000000000000001,
            "count": 0
           },
           {
            "bin_start": 0.7000000000000001,
            "bin_end": 0.8,
            "count": 0
           },
           {
            "bin_start": 0.8,
            "bin_end": 0.9,
            "count": 0
           },
           {
            "bin_start": 0.9,
            "bin_end": 1,
            "count": 189
           }
          ]
         }
        },
        {
         "name": "January",
         "dtype": "uint8",
         "stats": {
          "unique_count": 2,
          "nan_count": 0,
          "min": "0",
          "max": "1",
          "histogram": [
           {
            "bin_start": 0,
            "bin_end": 0.1,
            "count": 1935
           },
           {
            "bin_start": 0.1,
            "bin_end": 0.2,
            "count": 0
           },
           {
            "bin_start": 0.2,
            "bin_end": 0.30000000000000004,
            "count": 0
           },
           {
            "bin_start": 0.30000000000000004,
            "bin_end": 0.4,
            "count": 0
           },
           {
            "bin_start": 0.4,
            "bin_end": 0.5,
            "count": 0
           },
           {
            "bin_start": 0.5,
            "bin_end": 0.6000000000000001,
            "count": 0
           },
           {
            "bin_start": 0.6000000000000001,
            "bin_end": 0.7000000000000001,
            "count": 0
           },
           {
            "bin_start": 0.7000000000000001,
            "bin_end": 0.8,
            "count": 0
           },
           {
            "bin_start": 0.8,
            "bin_end": 0.9,
            "count": 0
           },
           {
            "bin_start": 0.9,
            "bin_end": 1,
            "count": 188
           }
          ]
         }
        },
        {
         "name": "July",
         "dtype": "uint8",
         "stats": {
          "unique_count": 2,
          "nan_count": 0,
          "min": "0",
          "max": "1",
          "histogram": [
           {
            "bin_start": 0,
            "bin_end": 0.1,
            "count": 1819
           },
           {
            "bin_start": 0.1,
            "bin_end": 0.2,
            "count": 0
           },
           {
            "bin_start": 0.2,
            "bin_end": 0.30000000000000004,
            "count": 0
           },
           {
            "bin_start": 0.30000000000000004,
            "bin_end": 0.4,
            "count": 0
           },
           {
            "bin_start": 0.4,
            "bin_end": 0.5,
            "count": 0
           },
           {
            "bin_start": 0.5,
            "bin_end": 0.6000000000000001,
            "count": 0
           },
           {
            "bin_start": 0.6000000000000001,
            "bin_end": 0.7000000000000001,
            "count": 0
           },
           {
            "bin_start": 0.7000000000000001,
            "bin_end": 0.8,
            "count": 0
           },
           {
            "bin_start": 0.8,
            "bin_end": 0.9,
            "count": 0
           },
           {
            "bin_start": 0.9,
            "bin_end": 1,
            "count": 304
           }
          ]
         }
        },
        {
         "name": "June",
         "dtype": "uint8",
         "stats": {
          "unique_count": 2,
          "nan_count": 0,
          "min": "0",
          "max": "1",
          "histogram": [
           {
            "bin_start": 0,
            "bin_end": 0.1,
            "count": 1869
           },
           {
            "bin_start": 0.1,
            "bin_end": 0.2,
            "count": 0
           },
           {
            "bin_start": 0.2,
            "bin_end": 0.30000000000000004,
            "count": 0
           },
           {
            "bin_start": 0.30000000000000004,
            "bin_end": 0.4,
            "count": 0
           },
           {
            "bin_start": 0.4,
            "bin_end": 0.5,
            "count": 0
           },
           {
            "bin_start": 0.5,
            "bin_end": 0.6000000000000001,
            "count": 0
           },
           {
            "bin_start": 0.6000000000000001,
            "bin_end": 0.7000000000000001,
            "count": 0
           },
           {
            "bin_start": 0.7000000000000001,
            "bin_end": 0.8,
            "count": 0
           },
           {
            "bin_start": 0.8,
            "bin_end": 0.9,
            "count": 0
           },
           {
            "bin_start": 0.9,
            "bin_end": 1,
            "count": 254
           }
          ]
         }
        },
        {
         "name": "March",
         "dtype": "uint8",
         "stats": {
          "unique_count": 2,
          "nan_count": 0,
          "min": "0",
          "max": "1",
          "histogram": [
           {
            "bin_start": 0,
            "bin_end": 0.1,
            "count": 1944
           },
           {
            "bin_start": 0.1,
            "bin_end": 0.2,
            "count": 0
           },
           {
            "bin_start": 0.2,
            "bin_end": 0.30000000000000004,
            "count": 0
           },
           {
            "bin_start": 0.30000000000000004,
            "bin_end": 0.4,
            "count": 0
           },
           {
            "bin_start": 0.4,
            "bin_end": 0.5,
            "count": 0
           },
           {
            "bin_start": 0.5,
            "bin_end": 0.6000000000000001,
            "count": 0
           },
           {
            "bin_start": 0.6000000000000001,
            "bin_end": 0.7000000000000001,
            "count": 0
           },
           {
            "bin_start": 0.7000000000000001,
            "bin_end": 0.8,
            "count": 0
           },
           {
            "bin_start": 0.8,
            "bin_end": 0.9,
            "count": 0
           },
           {
            "bin_start": 0.9,
            "bin_end": 1,
            "count": 179
           }
          ]
         }
        },
        {
         "name": "May",
         "dtype": "uint8",
         "stats": {
          "unique_count": 2,
          "nan_count": 0,
          "min": "0",
          "max": "1",
          "histogram": [
           {
            "bin_start": 0,
            "bin_end": 0.1,
            "count": 1870
           },
           {
            "bin_start": 0.1,
            "bin_end": 0.2,
            "count": 0
           },
           {
            "bin_start": 0.2,
            "bin_end": 0.30000000000000004,
            "count": 0
           },
           {
            "bin_start": 0.30000000000000004,
            "bin_end": 0.4,
            "count": 0
           },
           {
            "bin_start": 0.4,
            "bin_end": 0.5,
            "count": 0
           },
           {
            "bin_start": 0.5,
            "bin_end": 0.6000000000000001,
            "count": 0
           },
           {
            "bin_start": 0.6000000000000001,
            "bin_end": 0.7000000000000001,
            "count": 0
           },
           {
            "bin_start": 0.7000000000000001,
            "bin_end": 0.8,
            "count": 0
           },
           {
            "bin_start": 0.8,
            "bin_end": 0.9,
            "count": 0
           },
           {
            "bin_start": 0.9,
            "bin_end": 1,
            "count": 253
           }
          ]
         }
        },
        {
         "name": "November",
         "dtype": "uint8",
         "stats": {
          "unique_count": 2,
          "nan_count": 0,
          "min": "0",
          "max": "1",
          "histogram": [
           {
            "bin_start": 0,
            "bin_end": 0.1,
            "count": 2025
           },
           {
            "bin_start": 0.1,
            "bin_end": 0.2,
            "count": 0
           },
           {
            "bin_start": 0.2,
            "bin_end": 0.30000000000000004,
            "count": 0
           },
           {
            "bin_start": 0.30000000000000004,
            "bin_end": 0.4,
            "count": 0
           },
           {
            "bin_start": 0.4,
            "bin_end": 0.5,
            "count": 0
           },
           {
            "bin_start": 0.5,
            "bin_end": 0.6000000000000001,
            "count": 0
           },
           {
            "bin_start": 0.6000000000000001,
            "bin_end": 0.7000000000000001,
            "count": 0
           },
           {
            "bin_start": 0.7000000000000001,
            "bin_end": 0.8,
            "count": 0
           },
           {
            "bin_start": 0.8,
            "bin_end": 0.9,
            "count": 0
           },
           {
            "bin_start": 0.9,
            "bin_end": 1,
            "count": 98
           }
          ]
         }
        },
        {
         "name": "October",
         "dtype": "uint8",
         "stats": {
          "unique_count": 2,
          "nan_count": 0,
          "min": "0",
          "max": "1",
          "histogram": [
           {
            "bin_start": 0,
            "bin_end": 0.1,
            "count": 2030
           },
           {
            "bin_start": 0.1,
            "bin_end": 0.2,
            "count": 0
           },
           {
            "bin_start": 0.2,
            "bin_end": 0.30000000000000004,
            "count": 0
           },
           {
            "bin_start": 0.30000000000000004,
            "bin_end": 0.4,
            "count": 0
           },
           {
            "bin_start": 0.4,
            "bin_end": 0.5,
            "count": 0
           },
           {
            "bin_start": 0.5,
            "bin_end": 0.6000000000000001,
            "count": 0
           },
           {
            "bin_start": 0.6000000000000001,
            "bin_end": 0.7000000000000001,
            "count": 0
           },
           {
            "bin_start": 0.7000000000000001,
            "bin_end": 0.8,
            "count": 0
           },
           {
            "bin_start": 0.8,
            "bin_end": 0.9,
            "count": 0
           },
           {
            "bin_start": 0.9,
            "bin_end": 1,
            "count": 93
           }
          ]
         }
        },
        {
         "name": "September",
         "dtype": "uint8",
         "stats": {
          "unique_count": 2,
          "nan_count": 0,
          "min": "0",
          "max": "1",
          "histogram": [
           {
            "bin_start": 0,
            "bin_end": 0.1,
            "count": 2005
           },
           {
            "bin_start": 0.1,
            "bin_end": 0.2,
            "count": 0
           },
           {
            "bin_start": 0.2,
            "bin_end": 0.30000000000000004,
            "count": 0
           },
           {
            "bin_start": 0.30000000000000004,
            "bin_end": 0.4,
            "count": 0
           },
           {
            "bin_start": 0.4,
            "bin_end": 0.5,
            "count": 0
           },
           {
            "bin_start": 0.5,
            "bin_end": 0.6000000000000001,
            "count": 0
           },
           {
            "bin_start": 0.6000000000000001,
            "bin_end": 0.7000000000000001,
            "count": 0
           },
           {
            "bin_start": 0.7000000000000001,
            "bin_end": 0.8,
            "count": 0
           },
           {
            "bin_start": 0.8,
            "bin_end": 0.9,
            "count": 0
           },
           {
            "bin_start": 0.9,
            "bin_end": 1,
            "count": 118
           }
          ]
         }
        },
        {
         "name": "_deepnote_index_column",
         "dtype": "int64"
        }
       ],
       "rows": [
        {
         "bon_plan2": 0,
         "bon_plan3": 0,
         "bon_plan4": 0,
         "bon_plan5": 0,
         "bon_plan6": 0,
         "CM–bon_affai_grandes-1": 0,
         "CM–bon_affai_grandes-2": 1,
         "CM–bon_affai_petites-2": 0,
         "CM–bon_affai_petites-3": 0,
         "CM–bon_affai_petites-4": 0,
         "CM–bon_affai_petites-5": 0,
         "Bons plan": 0,
         "Crazy": 0,
         "Foliday": 0,
         "Promotions": 0,
         "Sejour tout compris": 0,
         "Monday": 0,
         "Saturday": 0,
         "Sunday": 0,
         "Thursday": 0,
         "Tuesday": 0,
         "Wednesday": 0,
         "August": 0,
         "December": 0,
         "February": 0,
         "January": 0,
         "July": 1,
         "June": 0,
         "March": 0,
         "May": 0,
         "November": 0,
         "October": 0,
         "September": 0,
         "_deepnote_index_column": 0
        },
        {
         "bon_plan2": 0,
         "bon_plan3": 0,
         "bon_plan4": 0,
         "bon_plan5": 0,
         "bon_plan6": 1,
         "CM–bon_affai_grandes-1": 0,
         "CM–bon_affai_grandes-2": 0,
         "CM–bon_affai_petites-2": 0,
         "CM–bon_affai_petites-3": 0,
         "CM–bon_affai_petites-4": 0,
         "CM–bon_affai_petites-5": 0,
         "Bons plan": 1,
         "Crazy": 0,
         "Foliday": 0,
         "Promotions": 0,
         "Sejour tout compris": 0,
         "Monday": 0,
         "Saturday": 0,
         "Sunday": 0,
         "Thursday": 1,
         "Tuesday": 0,
         "Wednesday": 0,
         "August": 0,
         "December": 0,
         "February": 0,
         "January": 0,
         "July": 1,
         "June": 0,
         "March": 0,
         "May": 0,
         "November": 0,
         "October": 0,
         "September": 0,
         "_deepnote_index_column": 1
        },
        {
         "bon_plan2": 0,
         "bon_plan3": 0,
         "bon_plan4": 0,
         "bon_plan5": 0,
         "bon_plan6": 0,
         "CM–bon_affai_grandes-1": 0,
         "CM–bon_affai_grandes-2": 1,
         "CM–bon_affai_petites-2": 0,
         "CM–bon_affai_petites-3": 0,
         "CM–bon_affai_petites-4": 0,
         "CM–bon_affai_petites-5": 0,
         "Bons plan": 0,
         "Crazy": 0,
         "Foliday": 0,
         "Promotions": 0,
         "Sejour tout compris": 0,
         "Monday": 0,
         "Saturday": 0,
         "Sunday": 0,
         "Thursday": 1,
         "Tuesday": 0,
         "Wednesday": 0,
         "August": 0,
         "December": 0,
         "February": 0,
         "January": 0,
         "July": 1,
         "June": 0,
         "March": 0,
         "May": 0,
         "November": 0,
         "October": 0,
         "September": 0,
         "_deepnote_index_column": 2
        },
        {
         "bon_plan2": 0,
         "bon_plan3": 0,
         "bon_plan4": 0,
         "bon_plan5": 0,
         "bon_plan6": 0,
         "CM–bon_affai_grandes-1": 0,
         "CM–bon_affai_grandes-2": 0,
         "CM–bon_affai_petites-2": 0,
         "CM–bon_affai_petites-3": 0,
         "CM–bon_affai_petites-4": 0,
         "CM–bon_affai_petites-5": 0,
         "Bons plan": 1,
         "Crazy": 0,
         "Foliday": 0,
         "Promotions": 0,
         "Sejour tout compris": 0,
         "Monday": 0,
         "Saturday": 0,
         "Sunday": 0,
         "Thursday": 1,
         "Tuesday": 0,
         "Wednesday": 0,
         "August": 0,
         "December": 0,
         "February": 0,
         "January": 0,
         "July": 1,
         "June": 0,
         "March": 0,
         "May": 0,
         "November": 0,
         "October": 0,
         "September": 0,
         "_deepnote_index_column": 3
        },
        {
         "bon_plan2": 0,
         "bon_plan3": 0,
         "bon_plan4": 0,
         "bon_plan5": 0,
         "bon_plan6": 0,
         "CM–bon_affai_grandes-1": 0,
         "CM–bon_affai_grandes-2": 0,
         "CM–bon_affai_petites-2": 0,
         "CM–bon_affai_petites-3": 0,
         "CM–bon_affai_petites-4": 0,
         "CM–bon_affai_petites-5": 1,
         "Bons plan": 0,
         "Crazy": 0,
         "Foliday": 0,
         "Promotions": 0,
         "Sejour tout compris": 0,
         "Monday": 0,
         "Saturday": 0,
         "Sunday": 0,
         "Thursday": 1,
         "Tuesday": 0,
         "Wednesday": 0,
         "August": 0,
         "December": 0,
         "February": 0,
         "January": 0,
         "July": 1,
         "June": 0,
         "March": 0,
         "May": 0,
         "November": 0,
         "October": 0,
         "September": 0,
         "_deepnote_index_column": 4
        },
        {
         "bon_plan2": 0,
         "bon_plan3": 0,
         "bon_plan4": 0,
         "bon_plan5": 0,
         "bon_plan6": 0,
         "CM–bon_affai_grandes-1": 0,
         "CM–bon_affai_grandes-2": 0,
         "CM–bon_affai_petites-2": 0,
         "CM–bon_affai_petites-3": 1,
         "CM–bon_affai_petites-4": 0,
         "CM–bon_affai_petites-5": 0,
         "Bons plan": 0,
         "Crazy": 0,
         "Foliday": 0,
         "Promotions": 0,
         "Sejour tout compris": 0,
         "Monday": 0,
         "Saturday": 0,
         "Sunday": 0,
         "Thursday": 1,
         "Tuesday": 0,
         "Wednesday": 0,
         "August": 0,
         "December": 0,
         "February": 0,
         "January": 0,
         "July": 1,
         "June": 0,
         "March": 0,
         "May": 0,
         "November": 0,
         "October": 0,
         "September": 0,
         "_deepnote_index_column": 5
        },
        {
         "bon_plan2": 0,
         "bon_plan3": 0,
         "bon_plan4": 0,
         "bon_plan5": 1,
         "bon_plan6": 0,
         "CM–bon_affai_grandes-1": 0,
         "CM–bon_affai_grandes-2": 0,
         "CM–bon_affai_petites-2": 0,
         "CM–bon_affai_petites-3": 0,
         "CM–bon_affai_petites-4": 0,
         "CM–bon_affai_petites-5": 0,
         "Bons plan": 1,
         "Crazy": 0,
         "Foliday": 0,
         "Promotions": 0,
         "Sejour tout compris": 0,
         "Monday": 0,
         "Saturday": 0,
         "Sunday": 0,
         "Thursday": 1,
         "Tuesday": 0,
         "Wednesday": 0,
         "August": 0,
         "December": 0,
         "February": 0,
         "January": 0,
         "July": 1,
         "June": 0,
         "March": 0,
         "May": 0,
         "November": 0,
         "October": 0,
         "September": 0,
         "_deepnote_index_column": 6
        },
        {
         "bon_plan2": 0,
         "bon_plan3": 0,
         "bon_plan4": 0,
         "bon_plan5": 0,
         "bon_plan6": 0,
         "CM–bon_affai_grandes-1": 1,
         "CM–bon_affai_grandes-2": 0,
         "CM–bon_affai_petites-2": 0,
         "CM–bon_affai_petites-3": 0,
         "CM–bon_affai_petites-4": 0,
         "CM–bon_affai_petites-5": 0,
         "Bons plan": 0,
         "Crazy": 0,
         "Foliday": 0,
         "Promotions": 1,
         "Sejour tout compris": 0,
         "Monday": 0,
         "Saturday": 0,
         "Sunday": 0,
         "Thursday": 1,
         "Tuesday": 0,
         "Wednesday": 0,
         "August": 0,
         "December": 0,
         "February": 0,
         "January": 0,
         "July": 1,
         "June": 0,
         "March": 0,
         "May": 0,
         "November": 0,
         "October": 0,
         "September": 0,
         "_deepnote_index_column": 7
        },
        {
         "bon_plan2": 0,
         "bon_plan3": 0,
         "bon_plan4": 0,
         "bon_plan5": 0,
         "bon_plan6": 0,
         "CM–bon_affai_grandes-1": 0,
         "CM–bon_affai_grandes-2": 0,
         "CM–bon_affai_petites-2": 0,
         "CM–bon_affai_petites-3": 0,
         "CM–bon_affai_petites-4": 1,
         "CM–bon_affai_petites-5": 0,
         "Bons plan": 0,
         "Crazy": 0,
         "Foliday": 0,
         "Promotions": 0,
         "Sejour tout compris": 0,
         "Monday": 0,
         "Saturday": 0,
         "Sunday": 0,
         "Thursday": 1,
         "Tuesday": 0,
         "Wednesday": 0,
         "August": 0,
         "December": 0,
         "February": 0,
         "January": 0,
         "July": 1,
         "June": 0,
         "March": 0,
         "May": 0,
         "November": 0,
         "October": 0,
         "September": 0,
         "_deepnote_index_column": 8
        },
        {
         "bon_plan2": 0,
         "bon_plan3": 1,
         "bon_plan4": 0,
         "bon_plan5": 0,
         "bon_plan6": 0,
         "CM–bon_affai_grandes-1": 0,
         "CM–bon_affai_grandes-2": 0,
         "CM–bon_affai_petites-2": 0,
         "CM–bon_affai_petites-3": 0,
         "CM–bon_affai_petites-4": 0,
         "CM–bon_affai_petites-5": 0,
         "Bons plan": 1,
         "Crazy": 0,
         "Foliday": 0,
         "Promotions": 0,
         "Sejour tout compris": 0,
         "Monday": 0,
         "Saturday": 0,
         "Sunday": 0,
         "Thursday": 1,
         "Tuesday": 0,
         "Wednesday": 0,
         "August": 0,
         "December": 0,
         "February": 0,
         "January": 0,
         "July": 1,
         "June": 0,
         "March": 0,
         "May": 0,
         "November": 0,
         "October": 0,
         "September": 0,
         "_deepnote_index_column": 9
        }
       ]
      },
      "text/plain": "      bon_plan2  bon_plan3  bon_plan4  bon_plan5  bon_plan6  \\\n0             0          0          0          0          0   \n1             0          0          0          0          1   \n2             0          0          0          0          0   \n3             0          0          0          0          0   \n4             0          0          0          0          0   \n...         ...        ...        ...        ...        ...   \n2118          0          0          0          0          0   \n2119          0          0          0          0          0   \n2120          0          0          0          0          0   \n2121          0          0          0          0          0   \n2122          0          1          0          0          0   \n\n      CM–bon_affai_grandes-1  CM–bon_affai_grandes-2  CM–bon_affai_petites-2  \\\n0                          0                       1                       0   \n1                          0                       0                       0   \n2                          0                       1                       0   \n3                          0                       0                       0   \n4                          0                       0                       0   \n...                      ...                     ...                     ...   \n2118                       1                       0                       0   \n2119                       0                       0                       0   \n2120                       0                       0                       0   \n2121                       0                       1                       0   \n2122                       0                       0                       0   \n\n      CM–bon_affai_petites-3  CM–bon_affai_petites-4  ...  December  February  \\\n0                          0                       0  ...         0         0   \n1                          0                       0  ...         0         0   \n2                          0                       0  ...         0         0   \n3                          0                       0  ...         0         0   \n4                          0                       0  ...         0         0   \n...                      ...                     ...  ...       ...       ...   \n2118                       0                       0  ...         0         0   \n2119                       1                       0  ...         0         0   \n2120                       0                       0  ...         0         0   \n2121                       0                       0  ...         0         0   \n2122                       0                       0  ...         0         0   \n\n      January  July  June  March  May  November  October  September  \n0           0     1     0      0    0         0        0          0  \n1           0     1     0      0    0         0        0          0  \n2           0     1     0      0    0         0        0          0  \n3           0     1     0      0    0         0        0          0  \n4           0     1     0      0    0         0        0          0  \n...       ...   ...   ...    ...  ...       ...      ...        ...  \n2118        0     1     0      0    0         0        0          0  \n2119        0     1     0      0    0         0        0          0  \n2120        0     1     0      0    0         0        0          0  \n2121        0     1     0      0    0         0        0          0  \n2122        0     1     0      0    0         0        0          0  \n\n[2123 rows x 33 columns]",
      "text/html": "<div>\n<style scoped>\n    .dataframe tbody tr th:only-of-type {\n        vertical-align: middle;\n    }\n\n    .dataframe tbody tr th {\n        vertical-align: top;\n    }\n\n    .dataframe thead th {\n        text-align: right;\n    }\n</style>\n<table border=\"1\" class=\"dataframe\">\n  <thead>\n    <tr style=\"text-align: right;\">\n      <th></th>\n      <th>bon_plan2</th>\n      <th>bon_plan3</th>\n      <th>bon_plan4</th>\n      <th>bon_plan5</th>\n      <th>bon_plan6</th>\n      <th>CM–bon_affai_grandes-1</th>\n      <th>CM–bon_affai_grandes-2</th>\n      <th>CM–bon_affai_petites-2</th>\n      <th>CM–bon_affai_petites-3</th>\n      <th>CM–bon_affai_petites-4</th>\n      <th>...</th>\n      <th>December</th>\n      <th>February</th>\n      <th>January</th>\n      <th>July</th>\n      <th>June</th>\n      <th>March</th>\n      <th>May</th>\n      <th>November</th>\n      <th>October</th>\n      <th>September</th>\n    </tr>\n  </thead>\n  <tbody>\n    <tr>\n      <th>0</th>\n      <td>0</td>\n      <td>0</td>\n      <td>0</td>\n      <td>0</td>\n      <td>0</td>\n      <td>0</td>\n      <td>1</td>\n      <td>0</td>\n      <td>0</td>\n      <td>0</td>\n      <td>...</td>\n      <td>0</td>\n      <td>0</td>\n      <td>0</td>\n      <td>1</td>\n      <td>0</td>\n      <td>0</td>\n      <td>0</td>\n      <td>0</td>\n      <td>0</td>\n      <td>0</td>\n    </tr>\n    <tr>\n      <th>1</th>\n      <td>0</td>\n      <td>0</td>\n      <td>0</td>\n      <td>0</td>\n      <td>1</td>\n      <td>0</td>\n      <td>0</td>\n      <td>0</td>\n      <td>0</td>\n      <td>0</td>\n      <td>...</td>\n      <td>0</td>\n      <td>0</td>\n      <td>0</td>\n      <td>1</td>\n      <td>0</td>\n      <td>0</td>\n      <td>0</td>\n      <td>0</td>\n      <td>0</td>\n      <td>0</td>\n    </tr>\n    <tr>\n      <th>2</th>\n      <td>0</td>\n      <td>0</td>\n      <td>0</td>\n      <td>0</td>\n      <td>0</td>\n      <td>0</td>\n      <td>1</td>\n      <td>0</td>\n      <td>0</td>\n      <td>0</td>\n      <td>...</td>\n      <td>0</td>\n      <td>0</td>\n      <td>0</td>\n      <td>1</td>\n      <td>0</td>\n      <td>0</td>\n      <td>0</td>\n      <td>0</td>\n      <td>0</td>\n      <td>0</td>\n    </tr>\n    <tr>\n      <th>3</th>\n      <td>0</td>\n      <td>0</td>\n      <td>0</td>\n      <td>0</td>\n      <td>0</td>\n      <td>0</td>\n      <td>0</td>\n      <td>0</td>\n      <td>0</td>\n      <td>0</td>\n      <td>...</td>\n      <td>0</td>\n      <td>0</td>\n      <td>0</td>\n      <td>1</td>\n      <td>0</td>\n      <td>0</td>\n      <td>0</td>\n      <td>0</td>\n      <td>0</td>\n      <td>0</td>\n    </tr>\n    <tr>\n      <th>4</th>\n      <td>0</td>\n      <td>0</td>\n      <td>0</td>\n      <td>0</td>\n      <td>0</td>\n      <td>0</td>\n      <td>0</td>\n      <td>0</td>\n      <td>0</td>\n      <td>0</td>\n      <td>...</td>\n      <td>0</td>\n      <td>0</td>\n      <td>0</td>\n      <td>1</td>\n      <td>0</td>\n      <td>0</td>\n      <td>0</td>\n      <td>0</td>\n      <td>0</td>\n      <td>0</td>\n    </tr>\n    <tr>\n      <th>...</th>\n      <td>...</td>\n      <td>...</td>\n      <td>...</td>\n      <td>...</td>\n      <td>...</td>\n      <td>...</td>\n      <td>...</td>\n      <td>...</td>\n      <td>...</td>\n      <td>...</td>\n      <td>...</td>\n      <td>...</td>\n      <td>...</td>\n      <td>...</td>\n      <td>...</td>\n      <td>...</td>\n      <td>...</td>\n      <td>...</td>\n      <td>...</td>\n      <td>...</td>\n      <td>...</td>\n    </tr>\n    <tr>\n      <th>2118</th>\n      <td>0</td>\n      <td>0</td>\n      <td>0</td>\n      <td>0</td>\n      <td>0</td>\n      <td>1</td>\n      <td>0</td>\n      <td>0</td>\n      <td>0</td>\n      <td>0</td>\n      <td>...</td>\n      <td>0</td>\n      <td>0</td>\n      <td>0</td>\n      <td>1</td>\n      <td>0</td>\n      <td>0</td>\n      <td>0</td>\n      <td>0</td>\n      <td>0</td>\n      <td>0</td>\n    </tr>\n    <tr>\n      <th>2119</th>\n      <td>0</td>\n      <td>0</td>\n      <td>0</td>\n      <td>0</td>\n      <td>0</td>\n      <td>0</td>\n      <td>0</td>\n      <td>0</td>\n      <td>1</td>\n      <td>0</td>\n      <td>...</td>\n      <td>0</td>\n      <td>0</td>\n      <td>0</td>\n      <td>1</td>\n      <td>0</td>\n      <td>0</td>\n      <td>0</td>\n      <td>0</td>\n      <td>0</td>\n      <td>0</td>\n    </tr>\n    <tr>\n      <th>2120</th>\n      <td>0</td>\n      <td>0</td>\n      <td>0</td>\n      <td>0</td>\n      <td>0</td>\n      <td>0</td>\n      <td>0</td>\n      <td>0</td>\n      <td>0</td>\n      <td>0</td>\n      <td>...</td>\n      <td>0</td>\n      <td>0</td>\n      <td>0</td>\n      <td>1</td>\n      <td>0</td>\n      <td>0</td>\n      <td>0</td>\n      <td>0</td>\n      <td>0</td>\n      <td>0</td>\n    </tr>\n    <tr>\n      <th>2121</th>\n      <td>0</td>\n      <td>0</td>\n      <td>0</td>\n      <td>0</td>\n      <td>0</td>\n      <td>0</td>\n      <td>1</td>\n      <td>0</td>\n      <td>0</td>\n      <td>0</td>\n      <td>...</td>\n      <td>0</td>\n      <td>0</td>\n      <td>0</td>\n      <td>1</td>\n      <td>0</td>\n      <td>0</td>\n      <td>0</td>\n      <td>0</td>\n      <td>0</td>\n      <td>0</td>\n    </tr>\n    <tr>\n      <th>2122</th>\n      <td>0</td>\n      <td>1</td>\n      <td>0</td>\n      <td>0</td>\n      <td>0</td>\n      <td>0</td>\n      <td>0</td>\n      <td>0</td>\n      <td>0</td>\n      <td>0</td>\n      <td>...</td>\n      <td>0</td>\n      <td>0</td>\n      <td>0</td>\n      <td>1</td>\n      <td>0</td>\n      <td>0</td>\n      <td>0</td>\n      <td>0</td>\n      <td>0</td>\n      <td>0</td>\n    </tr>\n  </tbody>\n</table>\n<p>2123 rows × 33 columns</p>\n</div>"
     },
     "metadata": {}
    }
   ]
  },
  {
   "cell_type": "code",
   "metadata": {
    "tags": [],
    "deepnote_to_be_reexecuted": false,
    "source_hash": "9b702b8",
    "execution_start": 1660207999846,
    "execution_millis": 52,
    "cell_id": "00012-5516234d-8e66-4124-96f7-f5c5123d5a46",
    "deepnote_cell_type": "code",
    "deepnote_cell_height": 329.75
   },
   "source": "X_train=x.loc[data.date<='2022-07-01']\ny_train=data.loc[data.date<='2022-07-01','log_CTR']\n\nX_test = x.loc[data.date>'2022-07-01']\ny_test = data.loc[data.date>'2022-07-01','log_CTR']\n\nprint(\"X_train shape :\", X_train.shape)\nprint(\"X_test shape :\", X_test.shape)\nprint(\"y_train shape :\", y_train.shape)\nprint(\"y_test shape :\", y_test.shape)",
   "execution_count": null,
   "outputs": [
    {
     "name": "stdout",
     "text": "X_train shape : (1994, 33)\nX_test shape : (121, 33)\ny_train shape : (1994,)\ny_test shape : (121,)\n",
     "output_type": "stream"
    }
   ]
  },
  {
   "cell_type": "code",
   "metadata": {
    "tags": [],
    "deepnote_to_be_reexecuted": false,
    "source_hash": "d5a2ae9d",
    "execution_start": 1660208003958,
    "execution_millis": 7412,
    "cell_id": "00013-8d1459c4-d9e9-48fb-ae20-3df79b2f23a3",
    "deepnote_cell_type": "code",
    "deepnote_cell_height": 499.375
   },
   "source": "!pip install statsmodels==0.13.2",
   "execution_count": null,
   "outputs": [
    {
     "name": "stdout",
     "text": "Collecting statsmodels==0.13.2\n  Downloading statsmodels-0.13.2-cp39-cp39-manylinux_2_17_x86_64.manylinux2014_x86_64.whl (9.9 MB)\n\u001b[2K     \u001b[90m━━━━━━━━━━━━━━━━━━━━━━━━━━━━━━━━━━━━━━━━\u001b[0m \u001b[32m9.9/9.9 MB\u001b[0m \u001b[31m95.0 MB/s\u001b[0m eta \u001b[36m0:00:00\u001b[0m\n\u001b[?25hRequirement already satisfied: scipy>=1.3 in /shared-libs/python3.9/py/lib/python3.9/site-packages (from statsmodels==0.13.2) (1.9.0)\nRequirement already satisfied: pandas>=0.25 in /shared-libs/python3.9/py/lib/python3.9/site-packages (from statsmodels==0.13.2) (1.2.5)\nRequirement already satisfied: numpy>=1.17 in /shared-libs/python3.9/py/lib/python3.9/site-packages (from statsmodels==0.13.2) (1.23.1)\nRequirement already satisfied: packaging>=21.3 in /shared-libs/python3.9/py-core/lib/python3.9/site-packages (from statsmodels==0.13.2) (21.3)\nCollecting patsy>=0.5.2\n  Downloading patsy-0.5.2-py2.py3-none-any.whl (233 kB)\n\u001b[2K     \u001b[90m━━━━━━━━━━━━━━━━━━━━━━━━━━━━━━━━━━━━━━\u001b[0m \u001b[32m233.7/233.7 KB\u001b[0m \u001b[31m49.9 MB/s\u001b[0m eta \u001b[36m0:00:00\u001b[0m\n\u001b[?25hRequirement already satisfied: pyparsing!=3.0.5,>=2.0.2 in /shared-libs/python3.9/py-core/lib/python3.9/site-packages (from packaging>=21.3->statsmodels==0.13.2) (3.0.9)\nRequirement already satisfied: python-dateutil>=2.7.3 in /shared-libs/python3.9/py-core/lib/python3.9/site-packages (from pandas>=0.25->statsmodels==0.13.2) (2.8.2)\nRequirement already satisfied: pytz>=2017.3 in /shared-libs/python3.9/py/lib/python3.9/site-packages (from pandas>=0.25->statsmodels==0.13.2) (2022.1)\nRequirement already satisfied: six in /shared-libs/python3.9/py-core/lib/python3.9/site-packages (from patsy>=0.5.2->statsmodels==0.13.2) (1.16.0)\nInstalling collected packages: patsy, statsmodels\nSuccessfully installed patsy-0.5.2 statsmodels-0.13.2\n\u001b[33mWARNING: You are using pip version 22.0.4; however, version 22.2.2 is available.\nYou should consider upgrading via the '/root/venv/bin/python -m pip install --upgrade pip' command.\u001b[0m\u001b[33m\n\u001b[0m",
     "output_type": "stream"
    }
   ]
  },
  {
   "cell_type": "code",
   "metadata": {
    "tags": [],
    "deepnote_to_be_reexecuted": false,
    "source_hash": "1643ee0b",
    "execution_start": 1660208011374,
    "execution_millis": 729,
    "cell_id": "00014-42c40201-d940-4012-aa52-2af69a77792b",
    "deepnote_cell_type": "code",
    "deepnote_cell_height": 187.34375,
    "deepnote_output_heights": [
     59.34375
    ]
   },
   "source": "from sklearn.linear_model import LinearRegression\nmodel = LinearRegression()\nmodel.fit(X_train,y_train)",
   "execution_count": null,
   "outputs": [
    {
     "output_type": "execute_result",
     "execution_count": 39,
     "data": {
      "text/plain": "LinearRegression()",
      "text/html": "<style>#sk-container-id-1 {color: black;background-color: white;}#sk-container-id-1 pre{padding: 0;}#sk-container-id-1 div.sk-toggleable {background-color: white;}#sk-container-id-1 label.sk-toggleable__label {cursor: pointer;display: block;width: 100%;margin-bottom: 0;padding: 0.3em;box-sizing: border-box;text-align: center;}#sk-container-id-1 label.sk-toggleable__label-arrow:before {content: \"▸\";float: left;margin-right: 0.25em;color: #696969;}#sk-container-id-1 label.sk-toggleable__label-arrow:hover:before {color: black;}#sk-container-id-1 div.sk-estimator:hover label.sk-toggleable__label-arrow:before {color: black;}#sk-container-id-1 div.sk-toggleable__content {max-height: 0;max-width: 0;overflow: hidden;text-align: left;background-color: #f0f8ff;}#sk-container-id-1 div.sk-toggleable__content pre {margin: 0.2em;color: black;border-radius: 0.25em;background-color: #f0f8ff;}#sk-container-id-1 input.sk-toggleable__control:checked~div.sk-toggleable__content {max-height: 200px;max-width: 100%;overflow: auto;}#sk-container-id-1 input.sk-toggleable__control:checked~label.sk-toggleable__label-arrow:before {content: \"▾\";}#sk-container-id-1 div.sk-estimator input.sk-toggleable__control:checked~label.sk-toggleable__label {background-color: #d4ebff;}#sk-container-id-1 div.sk-label input.sk-toggleable__control:checked~label.sk-toggleable__label {background-color: #d4ebff;}#sk-container-id-1 input.sk-hidden--visually {border: 0;clip: rect(1px 1px 1px 1px);clip: rect(1px, 1px, 1px, 1px);height: 1px;margin: -1px;overflow: hidden;padding: 0;position: absolute;width: 1px;}#sk-container-id-1 div.sk-estimator {font-family: monospace;background-color: #f0f8ff;border: 1px dotted black;border-radius: 0.25em;box-sizing: border-box;margin-bottom: 0.5em;}#sk-container-id-1 div.sk-estimator:hover {background-color: #d4ebff;}#sk-container-id-1 div.sk-parallel-item::after {content: \"\";width: 100%;border-bottom: 1px solid gray;flex-grow: 1;}#sk-container-id-1 div.sk-label:hover label.sk-toggleable__label {background-color: #d4ebff;}#sk-container-id-1 div.sk-serial::before {content: \"\";position: absolute;border-left: 1px solid gray;box-sizing: border-box;top: 0;bottom: 0;left: 50%;z-index: 0;}#sk-container-id-1 div.sk-serial {display: flex;flex-direction: column;align-items: center;background-color: white;padding-right: 0.2em;padding-left: 0.2em;position: relative;}#sk-container-id-1 div.sk-item {position: relative;z-index: 1;}#sk-container-id-1 div.sk-parallel {display: flex;align-items: stretch;justify-content: center;background-color: white;position: relative;}#sk-container-id-1 div.sk-item::before, #sk-container-id-1 div.sk-parallel-item::before {content: \"\";position: absolute;border-left: 1px solid gray;box-sizing: border-box;top: 0;bottom: 0;left: 50%;z-index: -1;}#sk-container-id-1 div.sk-parallel-item {display: flex;flex-direction: column;z-index: 1;position: relative;background-color: white;}#sk-container-id-1 div.sk-parallel-item:first-child::after {align-self: flex-end;width: 50%;}#sk-container-id-1 div.sk-parallel-item:last-child::after {align-self: flex-start;width: 50%;}#sk-container-id-1 div.sk-parallel-item:only-child::after {width: 0;}#sk-container-id-1 div.sk-dashed-wrapped {border: 1px dashed gray;margin: 0 0.4em 0.5em 0.4em;box-sizing: border-box;padding-bottom: 0.4em;background-color: white;}#sk-container-id-1 div.sk-label label {font-family: monospace;font-weight: bold;display: inline-block;line-height: 1.2em;}#sk-container-id-1 div.sk-label-container {text-align: center;}#sk-container-id-1 div.sk-container {/* jupyter's `normalize.less` sets `[hidden] { display: none; }` but bootstrap.min.css set `[hidden] { display: none !important; }` so we also need the `!important` here to be able to override the default hidden behavior on the sphinx rendered scikit-learn.org. See: https://github.com/scikit-learn/scikit-learn/issues/21755 */display: inline-block !important;position: relative;}#sk-container-id-1 div.sk-text-repr-fallback {display: none;}</style><div id=\"sk-container-id-1\" class=\"sk-top-container\"><div class=\"sk-text-repr-fallback\"><pre>LinearRegression()</pre><b>In a Jupyter environment, please rerun this cell to show the HTML representation or trust the notebook. <br />On GitHub, the HTML representation is unable to render, please try loading this page with nbviewer.org.</b></div><div class=\"sk-container\" hidden><div class=\"sk-item\"><div class=\"sk-estimator sk-toggleable\"><input class=\"sk-toggleable__control sk-hidden--visually\" id=\"sk-estimator-id-1\" type=\"checkbox\" checked><label for=\"sk-estimator-id-1\" class=\"sk-toggleable__label sk-toggleable__label-arrow\">LinearRegression</label><div class=\"sk-toggleable__content\"><pre>LinearRegression()</pre></div></div></div></div></div>"
     },
     "metadata": {}
    }
   ]
  },
  {
   "cell_type": "code",
   "metadata": {
    "tags": [],
    "deepnote_to_be_reexecuted": false,
    "source_hash": "d38a8d8a",
    "execution_start": 1660208015015,
    "execution_millis": 5,
    "cell_id": "00015-ff3b9836-ec00-44ad-98d6-897ec61c824f",
    "deepnote_cell_type": "code",
    "deepnote_cell_height": 125.1875
   },
   "source": "#print the intercept\nprint(model.intercept_)",
   "execution_count": null,
   "outputs": [
    {
     "name": "stdout",
     "text": "2689979981290.185\n",
     "output_type": "stream"
    }
   ]
  },
  {
   "cell_type": "code",
   "metadata": {
    "tags": [],
    "deepnote_to_be_reexecuted": false,
    "source_hash": "dc49e44c",
    "execution_start": 1660208020202,
    "execution_millis": 16,
    "deepnote_table_state": {
     "pageSize": 10,
     "pageIndex": 3,
     "filters": [],
     "sortBy": []
    },
    "deepnote_table_loading": false,
    "cell_id": "00016-2d113b40-c4be-405e-ad9e-755a88326570",
    "deepnote_cell_type": "code",
    "deepnote_cell_height": 326
   },
   "source": "coeff_parameter = pd.DataFrame(model.coef_,x.columns,columns=['Coefficient'])\ncoeff_parameter",
   "execution_count": null,
   "outputs": [
    {
     "output_type": "execute_result",
     "execution_count": 42,
     "data": {
      "application/vnd.deepnote.dataframe.v3+json": {
       "column_count": 1,
       "row_count": 33,
       "columns": [
        {
         "name": "Coefficient",
         "dtype": "float64",
         "stats": {
          "unique_count": 33,
          "nan_count": 0,
          "min": "-2689979981290.9097",
          "max": "1.2663045068118015",
          "histogram": [
           {
            "bin_start": -2689979981290.9097,
            "bin_end": -2420981983161.692,
            "count": 7
           },
           {
            "bin_start": -2420981983161.692,
            "bin_end": -2151983985032.4746,
            "count": 0
           },
           {
            "bin_start": -2151983985032.4746,
            "bin_end": -1882985986903.2568,
            "count": 0
           },
           {
            "bin_start": -1882985986903.2568,
            "bin_end": -1613987988774.0393,
            "count": 0
           },
           {
            "bin_start": -1613987988774.0393,
            "bin_end": -1344989990644.8218,
            "count": 0
           },
           {
            "bin_start": -1344989990644.8218,
            "bin_end": -1075991992515.604,
            "count": 0
           },
           {
            "bin_start": -1075991992515.604,
            "bin_end": -806993994386.3865,
            "count": 0
           },
           {
            "bin_start": -806993994386.3865,
            "bin_end": -537995996257.16895,
            "count": 0
           },
           {
            "bin_start": -537995996257.16895,
            "bin_end": -268997998127.95117,
            "count": 0
           },
           {
            "bin_start": -268997998127.95117,
            "bin_end": 1.2663045068118015,
            "count": 26
           }
          ]
         }
        },
        {
         "name": "_deepnote_index_column",
         "dtype": "object"
        }
       ],
       "rows": [
        {
         "Coefficient": 0.14430394932580884,
         "_deepnote_index_column": "November"
        },
        {
         "Coefficient": 0.20042703223241612,
         "_deepnote_index_column": "October"
        },
        {
         "Coefficient": 0.3236203389966969,
         "_deepnote_index_column": "September"
        }
       ]
      },
      "text/plain": "                         Coefficient\nbon_plan2              -8.208054e-03\nbon_plan3              -1.668759e-01\nbon_plan4              -2.385591e-01\nbon_plan5              -2.632563e-01\nbon_plan6              -2.344186e-01\nCM–bon_affai_grandes-1 -2.689980e+12\nCM–bon_affai_grandes-2 -2.689980e+12\nCM–bon_affai_petites-2 -2.689980e+12\nCM–bon_affai_petites-3 -2.689980e+12\nCM–bon_affai_petites-4 -2.689980e+12\nCM–bon_affai_petites-5 -2.689980e+12\nBons plan              -2.689980e+12\nCrazy                  -2.832996e-01\nFoliday                -2.102981e-01\nPromotions             -3.917501e-01\nSejour tout compris     1.266305e+00\nMonday                 -5.933380e-04\nSaturday                1.475735e-02\nSunday                 -5.973605e-02\nThursday                3.541437e-02\nTuesday                 6.175388e-02\nWednesday               3.142756e-02\nAugust                  4.497683e-01\nDecember                4.072953e-01\nFebruary               -6.465916e-02\nJanuary                 2.827120e-01\nJuly                    5.064380e-01\nJune                    2.708298e-02\nMarch                  -3.377930e-02\nMay                     7.405857e-02\nNovember                1.443039e-01\nOctober                 2.004270e-01\nSeptember               3.236203e-01",
      "text/html": "<div>\n<style scoped>\n    .dataframe tbody tr th:only-of-type {\n        vertical-align: middle;\n    }\n\n    .dataframe tbody tr th {\n        vertical-align: top;\n    }\n\n    .dataframe thead th {\n        text-align: right;\n    }\n</style>\n<table border=\"1\" class=\"dataframe\">\n  <thead>\n    <tr style=\"text-align: right;\">\n      <th></th>\n      <th>Coefficient</th>\n    </tr>\n  </thead>\n  <tbody>\n    <tr>\n      <th>bon_plan2</th>\n      <td>-8.208054e-03</td>\n    </tr>\n    <tr>\n      <th>bon_plan3</th>\n      <td>-1.668759e-01</td>\n    </tr>\n    <tr>\n      <th>bon_plan4</th>\n      <td>-2.385591e-01</td>\n    </tr>\n    <tr>\n      <th>bon_plan5</th>\n      <td>-2.632563e-01</td>\n    </tr>\n    <tr>\n      <th>bon_plan6</th>\n      <td>-2.344186e-01</td>\n    </tr>\n    <tr>\n      <th>CM–bon_affai_grandes-1</th>\n      <td>-2.689980e+12</td>\n    </tr>\n    <tr>\n      <th>CM–bon_affai_grandes-2</th>\n      <td>-2.689980e+12</td>\n    </tr>\n    <tr>\n      <th>CM–bon_affai_petites-2</th>\n      <td>-2.689980e+12</td>\n    </tr>\n    <tr>\n      <th>CM–bon_affai_petites-3</th>\n      <td>-2.689980e+12</td>\n    </tr>\n    <tr>\n      <th>CM–bon_affai_petites-4</th>\n      <td>-2.689980e+12</td>\n    </tr>\n    <tr>\n      <th>CM–bon_affai_petites-5</th>\n      <td>-2.689980e+12</td>\n    </tr>\n    <tr>\n      <th>Bons plan</th>\n      <td>-2.689980e+12</td>\n    </tr>\n    <tr>\n      <th>Crazy</th>\n      <td>-2.832996e-01</td>\n    </tr>\n    <tr>\n      <th>Foliday</th>\n      <td>-2.102981e-01</td>\n    </tr>\n    <tr>\n      <th>Promotions</th>\n      <td>-3.917501e-01</td>\n    </tr>\n    <tr>\n      <th>Sejour tout compris</th>\n      <td>1.266305e+00</td>\n    </tr>\n    <tr>\n      <th>Monday</th>\n      <td>-5.933380e-04</td>\n    </tr>\n    <tr>\n      <th>Saturday</th>\n      <td>1.475735e-02</td>\n    </tr>\n    <tr>\n      <th>Sunday</th>\n      <td>-5.973605e-02</td>\n    </tr>\n    <tr>\n      <th>Thursday</th>\n      <td>3.541437e-02</td>\n    </tr>\n    <tr>\n      <th>Tuesday</th>\n      <td>6.175388e-02</td>\n    </tr>\n    <tr>\n      <th>Wednesday</th>\n      <td>3.142756e-02</td>\n    </tr>\n    <tr>\n      <th>August</th>\n      <td>4.497683e-01</td>\n    </tr>\n    <tr>\n      <th>December</th>\n      <td>4.072953e-01</td>\n    </tr>\n    <tr>\n      <th>February</th>\n      <td>-6.465916e-02</td>\n    </tr>\n    <tr>\n      <th>January</th>\n      <td>2.827120e-01</td>\n    </tr>\n    <tr>\n      <th>July</th>\n      <td>5.064380e-01</td>\n    </tr>\n    <tr>\n      <th>June</th>\n      <td>2.708298e-02</td>\n    </tr>\n    <tr>\n      <th>March</th>\n      <td>-3.377930e-02</td>\n    </tr>\n    <tr>\n      <th>May</th>\n      <td>7.405857e-02</td>\n    </tr>\n    <tr>\n      <th>November</th>\n      <td>1.443039e-01</td>\n    </tr>\n    <tr>\n      <th>October</th>\n      <td>2.004270e-01</td>\n    </tr>\n    <tr>\n      <th>September</th>\n      <td>3.236203e-01</td>\n    </tr>\n  </tbody>\n</table>\n</div>"
     },
     "metadata": {}
    }
   ]
  },
  {
   "cell_type": "code",
   "metadata": {
    "tags": [],
    "deepnote_to_be_reexecuted": false,
    "source_hash": "c899529d",
    "execution_start": 1660208047549,
    "execution_millis": 22,
    "cell_id": "00017-d502e899-a404-4630-924b-14852153589e",
    "deepnote_cell_type": "code",
    "deepnote_cell_height": 590.6875,
    "deepnote_output_heights": [
     480.6875
    ]
   },
   "source": "predictions = model.predict(X_test)\npredictions",
   "execution_count": null,
   "outputs": [
    {
     "output_type": "execute_result",
     "execution_count": 42,
     "data": {
      "text/plain": "array([ 1.13085938, -0.0625    ,  1.16650391,  0.171875  , -0.18261719,\n        0.92626953, -0.09130859,  1.23388672, -0.13378906,  0.00488281,\n        0.16357422,  0.15917969, -0.09570312,  1.22949219, -0.18701172,\n        0.921875  ,  1.16210938,  0.18994141, -0.15673828,  0.19824219,\n        1.19238281, -0.10742188,  0.95214844,  1.19238281,  1.25976562,\n       -0.10302734, -0.09863281,  1.13037109, -0.21875   ,  0.89013672,\n        1.19775391,  1.13037109, -0.12744141,  0.13574219, -0.03125   ,\n        0.89013672,  0.12744141, -0.18652344, -0.15771484,  0.83105469,\n        0.07666016, -0.09033203,  1.07128906, -0.22900391, -0.27783203,\n        0.06835938,  1.13867188, -0.16210938,  1.14550781,  1.21289062,\n       -0.20361328, -0.01611328, -0.08740234,  0.90527344, -0.08349609,\n        0.15087891,  0.14257812, -0.03076172, -0.09814453,  1.19824219,\n        1.13085938,  0.13623047,  0.12792969, -0.21826172,  0.890625  ,\n       -0.10205078,  0.16357422,  0.171875  , -0.0625    , -0.09130859,\n        1.16650391,  1.23388672,  0.92626953, -0.18261719, -0.18701172,\n        0.16748047,  1.16210938,  1.16210938,  0.921875  ,  1.22949219,\n        0.15917969, -0.07080078, -0.03613281, -0.15673828,  0.18994141,\n       -0.06494141, -0.04052734,  1.19238281,  0.19824219,  0.95214844,\n        1.25976562,  1.19775391,  0.13574219,  0.89013672, -0.03125   ,\n       -0.12744141,  1.13037109,  0.89013672, -0.10302734, -0.21875   ,\n        0.12744141, -0.27783203, -0.16210938,  0.07666016, -0.22900391,\n       -0.09033203,  1.07128906,  0.06835938,  0.83105469, -0.15771484,\n       -0.18652344,  1.13867188, -0.20361328, -0.15478516,  0.15087891,\n       -0.01611328,  1.21289062,  1.14550781, -0.08740234,  0.90527344,\n        0.14257812])"
     },
     "metadata": {}
    }
   ]
  },
  {
   "cell_type": "code",
   "metadata": {
    "tags": [],
    "deepnote_to_be_reexecuted": false,
    "source_hash": "c1d7898a",
    "execution_start": 1660208056068,
    "execution_millis": 1380,
    "cell_id": "00018-9ac08d9b-7880-43ce-9ee1-f427a1a07432",
    "deepnote_cell_type": "code",
    "deepnote_cell_height": 495.5625,
    "deepnote_output_heights": [
     null,
     20.1875,
     264
    ]
   },
   "source": "sns.regplot(y_test,predictions)\n",
   "execution_count": null,
   "outputs": [
    {
     "name": "stderr",
     "text": "/shared-libs/python3.9/py/lib/python3.9/site-packages/seaborn/_decorators.py:36: FutureWarning: Pass the following variables as keyword args: x, y. From version 0.12, the only valid positional argument will be `data`, and passing other arguments without an explicit keyword will result in an error or misinterpretation.\n  warnings.warn(\n",
     "output_type": "stream"
    },
    {
     "output_type": "execute_result",
     "execution_count": 43,
     "data": {
      "text/plain": "<AxesSubplot:xlabel='log_CTR'>"
     },
     "metadata": {}
    },
    {
     "data": {
      "text/plain": "<Figure size 432x288 with 1 Axes>",
      "image/png": "[encoded data removed]"
     },
     "metadata": {
      "needs_background": "light",
      "image/png": {
       "width": 386,
       "height": 263
      }
     },
     "output_type": "display_data"
    }
   ]
  },
  {
   "cell_type": "code",
   "metadata": {
    "tags": [],
    "deepnote_to_be_reexecuted": false,
    "source_hash": "cbee9a94",
    "execution_start": 1660208066211,
    "execution_millis": 1429,
    "cell_id": "00019-552bb383-8340-4c21-a067-459ab422d7f7",
    "deepnote_cell_type": "code",
    "deepnote_cell_height": 768
   },
   "source": "import statsmodels.api as sm\nX_train_Sm= sm.add_constant(X_train)\nX_train_Sm= sm.add_constant(X_train)\nls=sm.OLS(y_train,X_train_Sm).fit()\nprint(ls.summary())",
   "execution_count": null,
   "outputs": [
    {
     "name": "stdout",
     "text": "                            OLS Regression Results                            \n==============================================================================\nDep. Variable:                log_CTR   R-squared:                       0.850\nModel:                            OLS   Adj. R-squared:                  0.847\nMethod:                 Least Squares   F-statistic:                     346.3\nDate:                Thu, 11 Aug 2022   Prob (F-statistic):               0.00\nTime:                        08:54:27   Log-Likelihood:                -753.43\nNo. Observations:                1994   AIC:                             1573.\nDf Residuals:                    1961   BIC:                             1758.\nDf Model:                          32                                         \nCovariance Type:            nonrobust                                         \n==========================================================================================\n                             coef    std err          t      P>|t|      [0.025      0.975]\n------------------------------------------------------------------------------------------\nconst                      0.1279      0.044      2.908      0.004       0.042       0.214\nbon_plan2                 -0.0195      0.038     -0.512      0.609      -0.094       0.055\nbon_plan3                 -0.1776      0.040     -4.431      0.000      -0.256      -0.099\nbon_plan4                 -0.2413      0.063     -3.840      0.000      -0.365      -0.118\nbon_plan5                 -0.2847      0.066     -4.300      0.000      -0.415      -0.155\nbon_plan6                 -0.2490      0.059     -4.210      0.000      -0.365      -0.133\nCM–bon_affai_grandes-1     0.9550      0.038     25.451      0.000       0.881       1.029\nCM–bon_affai_grandes-2     0.5015      0.038     13.324      0.000       0.428       0.575\nCM–bon_affai_petites-2     0.5704      0.221      2.575      0.010       0.136       1.005\nCM–bon_affai_petites-3     0.2639      0.037      7.185      0.000       0.192       0.336\nCM–bon_affai_petites-4    -0.8005      0.044    -18.218      0.000      -0.887      -0.714\nCM–bon_affai_petites-5    -0.8708      0.049    -17.916      0.000      -0.966      -0.775\nBons plan                 -0.4916      0.041    -12.085      0.000      -0.571      -0.412\nCrazy                     -0.2815      0.101     -2.800      0.005      -0.479      -0.084\nFoliday                   -0.2093      0.084     -2.487      0.013      -0.374      -0.044\nPromotions                -0.3936      0.035    -11.392      0.000      -0.461      -0.326\nSejour tout compris        1.2663      0.033     38.383      0.000       1.202       1.331\nMonday                    -0.0027      0.030     -0.090      0.928      -0.062       0.057\nSaturday                   0.0137      0.031      0.438      0.661      -0.048       0.075\nSunday                    -0.0615      0.030     -2.053      0.040      -0.120      -0.003\nThursday                   0.0339      0.031      1.100      0.271      -0.027       0.094\nTuesday                    0.0604      0.031      1.963      0.050    4.59e-05       0.121\nWednesday                  0.0291      0.031      0.950      0.342      -0.031       0.089\nAugust                     0.4498      0.041     11.074      0.000       0.370       0.530\nDecember                   0.4076      0.046      8.945      0.000       0.318       0.497\nFebruary                  -0.0635      0.038     -1.669      0.095      -0.138       0.011\nJanuary                    0.2839      0.039      7.336      0.000       0.208       0.360\nJuly                       0.5082      0.039     13.091      0.000       0.432       0.584\nJune                       0.0284      0.035      0.810      0.418      -0.040       0.097\nMarch                     -0.0339      0.039     -0.879      0.379      -0.109       0.042\nMay                        0.0750      0.036      2.109      0.035       0.005       0.145\nNovember                   0.1445      0.046      3.169      0.002       0.055       0.234\nOctober                    0.2005      0.046      4.349      0.000       0.110       0.291\nSeptember                  0.3235      0.044      7.373      0.000       0.237       0.410\n==============================================================================\nOmnibus:                        9.476   Durbin-Watson:                   2.106\nProb(Omnibus):                  0.009   Jarque-Bera (JB):                9.564\nSkew:                          -0.169   Prob(JB):                      0.00838\nKurtosis:                       2.978   Cond. No.                     2.28e+15\n==============================================================================\n\nNotes:\n[1] Standard Errors assume that the covariance matrix of the errors is correctly specified.\n[2] The smallest eigenvalue is 5.64e-28. This might indicate that there are\nstrong multicollinearity problems or that the design matrix is singular.\n",
     "output_type": "stream"
    }
   ]
  },
  {
   "cell_type": "code",
   "metadata": {
    "tags": [],
    "deepnote_to_be_reexecuted": false,
    "source_hash": "48f0191f",
    "execution_start": 1660208163881,
    "execution_millis": 437,
    "cell_id": "00020-e14e2653-a3f1-48e7-a6d8-9c5870c4b7d3",
    "deepnote_cell_type": "code",
    "deepnote_cell_height": 130
   },
   "source": "from sklearn.metrics import mean_squared_error, mean_absolute_error, mean_absolute_percentage_error\nimport matplotlib.pyplot as plt\nfrom sklearn.ensemble import RandomForestRegressor\n",
   "execution_count": null,
   "outputs": []
  },
  {
   "cell_type": "code",
   "metadata": {
    "tags": [],
    "deepnote_to_be_reexecuted": false,
    "source_hash": "44d5ab39",
    "execution_start": 1660208168303,
    "execution_millis": 542,
    "cell_id": "00021-16e4f6b1-e3e1-4001-8bdb-bf55d0220ae9",
    "deepnote_cell_type": "code",
    "deepnote_cell_height": 819.5625,
    "deepnote_output_heights": [
     353
    ]
   },
   "source": "\n# Get predictions\ny_train_pred = model.predict(X_train)\ny_test_pred = model.predict(X_test)\n\ndf_results_train = pd.DataFrame({'Actual': y_train , 'Predicted': y_train_pred})\ndf_results_test = pd.DataFrame({'Actual': y_test , 'Predicted': y_test_pred})\n# Prediction vs Actual plot\nsns.lmplot(x='Actual', y='Predicted', data=df_results_train, fit_reg=False, markers = \"x\")\nd_line= np.arange(df_results_train.min().min(), df_results_train.max().max())\nplt.plot(d_line, d_line, color='green', linestyle='--')\nplt.show()\n\n# Show Metrics\nprint(f\"MAE {mean_absolute_error(y_train, y_train_pred)}\")\nprint(f\"MAPE {mean_absolute_percentage_error(y_train, y_train_pred)}\")\nprint(f\"MSE :  {mean_squared_error(y_train, y_train_pred)}\")",
   "execution_count": null,
   "outputs": [
    {
     "data": {
      "text/plain": "<Figure size 360x360 with 1 Axes>",
      "image/png": "[encoded data removed]"
     },
     "metadata": {
      "needs_background": "light",
      "image/png": {
       "width": 343,
       "height": 352
      }
     },
     "output_type": "display_data"
    },
    {
     "name": "stdout",
     "text": "MAE 0.28260988452588043\nMAPE 4171968393056.9214\nMSE :  0.12469848866687519\n",
     "output_type": "stream"
    }
   ]
  },
  {
   "cell_type": "code",
   "metadata": {
    "tags": [],
    "deepnote_to_be_reexecuted": false,
    "source_hash": "4678e787",
    "execution_start": 1660208178416,
    "execution_millis": 1121,
    "cell_id": "00022-f6989eaf-4987-4a89-bb95-757327e20b68",
    "deepnote_cell_type": "code",
    "deepnote_cell_height": 873.5625,
    "deepnote_output_heights": [
     353
    ]
   },
   "source": "reg = RandomForestRegressor()\nreg.fit(X_train, y_train)\n\n# Get predictions\ny_train_pred = reg.predict(X_train)\ny_test_pred = reg.predict(X_test)\n\ndf_results_train = pd.DataFrame({'Actual': y_train , 'Predicted': y_train_pred})\ndf_results_test = pd.DataFrame({'Actual': y_test , 'Predicted': y_test_pred})\n# Prediction vs Actual plot\nsns.lmplot(x='Actual', y='Predicted', data=df_results_train, fit_reg=False, markers = \"x\")\nd_line= np.arange(df_results_train.min().min(), df_results_train.max().max())\nplt.plot(d_line, d_line, color='green', linestyle='--')\nplt.show()\n\n# Show Metrics\nprint(f\"MAE {mean_absolute_error(y_train, y_train_pred)}\")\nprint(f\"MAPE {mean_absolute_percentage_error(y_train, y_train_pred)}\")\nprint(f\"MSE :  {mean_squared_error(y_train, y_train_pred)}\")\n",
   "execution_count": null,
   "outputs": [
    {
     "data": {
      "text/plain": "<Figure size 360x360 with 1 Axes>",
      "image/png": "[encoded data removed]"
     },
     "metadata": {
      "needs_background": "light",
      "image/png": {
       "width": 343,
       "height": 352
      }
     },
     "output_type": "display_data"
    },
    {
     "name": "stdout",
     "text": "MAE 0.18168913011524446\nMAPE 4296654242254.8945\nMSE :  0.05794005586577063\n",
     "output_type": "stream"
    }
   ]
  },
  {
   "cell_type": "code",
   "metadata": {
    "tags": [],
    "deepnote_to_be_reexecuted": false,
    "source_hash": "122d3e14",
    "execution_start": 1660143592987,
    "execution_millis": 957,
    "cell_id": "00023-4e2e9439-df76-4f89-8a61-b29ed3115ddc",
    "deepnote_cell_type": "code",
    "deepnote_cell_height": 848.5625,
    "deepnote_output_heights": [
     490
    ]
   },
   "source": "# with position MSE :  0.06\n# Prediction vs Actual plot\nsns.lmplot(x='Actual', y='Predicted', data=df_results_test, fit_reg=False, markers = \"x\")\nd_line= np.arange(df_results_test.min().min(), df_results_test.max().max())\nplt.plot(d_line, d_line, color='green', linestyle='--')\nplt.show()\n\n# Show Metrics\nprint(f\"MAE {mean_absolute_error(y_train, y_train_pred)}\")\nprint(f\"MAPE {mean_absolute_percentage_error(y_train, y_train_pred)}\")\nprint(f\"MSE :  {mean_squared_error(y_train, y_train_pred)}\")",
   "execution_count": null,
   "outputs": [
    {
     "data": {
      "text/plain": "<Figure size 500x500 with 1 Axes>",
      "image/png": "[encoded data removed]"
     },
     "metadata": {
      "image/png": {
       "width": 490,
       "height": 489
      }
     },
     "output_type": "display_data"
    },
    {
     "name": "stdout",
     "text": "MAE 0.18144168020601295\nMAPE 4069423263149.627\nMSE :  0.057948712225658276\n",
     "output_type": "stream"
    }
   ]
  },
  {
   "cell_type": "code",
   "metadata": {
    "tags": [],
    "deepnote_to_be_reexecuted": false,
    "source_hash": "f2663f4d",
    "execution_start": 1660208209930,
    "execution_millis": 532,
    "cell_id": "00024-b704a967-109d-4c22-bd44-460b56650ca7",
    "deepnote_cell_type": "code",
    "deepnote_cell_height": 627.1875,
    "deepnote_output_heights": [
     20.1875,
     412
    ]
   },
   "source": "plt.figure(figsize = (6,7))\nimportances = pd.DataFrame({\"features\" : X_train.columns,\n                            \"importance\" : reg.feature_importances_}).sort_values(\"importance\")\n\nplt.barh(importances.features, importances.importance)",
   "execution_count": null,
   "outputs": [
    {
     "output_type": "execute_result",
     "execution_count": 48,
     "data": {
      "text/plain": "<BarContainer object of 33 artists>"
     },
     "metadata": {}
    },
    {
     "data": {
      "text/plain": "<Figure size 432x504 with 1 Axes>",
      "image/png": "[encoded data removed]"
     },
     "metadata": {
      "needs_background": "light",
      "image/png": {
       "width": 478,
       "height": 411
      }
     },
     "output_type": "display_data"
    }
   ]
  },
  {
   "cell_type": "markdown",
   "source": "<a style='text-decoration:none;line-height:16px;display:flex;color:#5B5B62;padding:10px;justify-content:end;' href='https://deepnote.com?utm_source=created-in-deepnote-cell&projectId=17c78468-df45-44b7-9d10-8043693c30e4' target=\"_blank\">\n<img alt='Created in deepnote.com' style='display:inline;max-height:16px;margin:0px;margin-right:7.5px;' src='data:image/svg+xml;base64,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' > </img>\nCreated in <span style='font-weight:600;margin-left:4px;'>Deepnote</span></a>",
   "metadata": {
    "tags": [],
    "created_in_deepnote_cell": true,
    "deepnote_cell_type": "markdown"
   }
  }
 ],
 "nbformat": 4,
 "nbformat_minor": 2,
 "metadata": {
  "orig_nbformat": 2,
  "deepnote": {},
  "deepnote_notebook_id": "ff03360e-5c10-4d12-b587-a35a01a89174",
  "deepnote_execution_queue": []
 }
}